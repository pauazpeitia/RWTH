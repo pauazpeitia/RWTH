{
 "cells": [
  {
   "attachments": {},
   "cell_type": "markdown",
   "id": "035860f4-4215-4a8d-a704-12201a06b9c3",
   "metadata": {
    "deletable": false,
    "editable": false,
    "nbgrader": {
     "cell_type": "markdown",
     "checksum": "56d9fd52c96e22ef9e19d6ef19e63385",
     "grade": false,
     "grade_id": "cell-50ac215f45528546",
     "locked": true,
     "schema_version": 3,
     "solution": false,
     "task": false
    }
   },
   "source": [
    "# IT Security - Sheet 6 \"Security of Classical Applications\"\n",
    "\n",
    "**Total achievable points: 20**\n",
    "\n",
    "**Released: 09.01.2025**\n",
    "\n",
    "**Submission Deadline: 16.01.2024**"
   ]
  },
  {
   "cell_type": "markdown",
   "id": "6140a22a-807c-402f-9868-0152ceaa6451",
   "metadata": {},
   "source": [
    "---\n",
    "Group: 128\n",
    "\n",
    "Names and matriculation numbers of **ALL** team members: Samuel Rode (445160), Nils Maasch (445796), Pau Azpeita Bergos (443428), Gereon Geuchen (445328), Ben-Jay Huckebrink (445219)\n",
    "\n",
    "---"
   ]
  },
  {
   "cell_type": "markdown",
   "id": "4cf64407-4e14-4f55-ba91-b8bc0b60f455",
   "metadata": {
    "deletable": false,
    "editable": false,
    "nbgrader": {
     "cell_type": "markdown",
     "checksum": "34f2af5d259995af0bcc82b43f154a88",
     "grade": false,
     "grade_id": "cell-dbf7defb1563ea28",
     "locked": true,
     "schema_version": 3,
     "solution": false,
     "task": false
    }
   },
   "source": [
    "**Important Information**\n",
    "\n",
    "The assignments have to be submitted by groups of 5 students. Even if you are registered in RWTHmoodle to a submission group, **please include the group number as well as the name and matriculation number of every group member in this notebook**. In case you are not part of a submission group and want to hand in assignments, please contact `ba-itsec@itsec.rwth-aachen.de`. We will then assign you to a submission group.\n",
    "\n",
    "Enter your solutions for the tasks in the respective cells of this notebook. These cells are either marked by \"YOUR ANSWER HERE\" or `#YOUR CODE HERE`. In code cells, you have to remove `raise NotImplementedError()`. Please do not add any new cells or remove existing ones, especially do not copy cells. Cells marked with `###PLAYGROUND` can be used to test your implementation and generate output (see example for the first tasks). Please do not add any other output or tests in the cell of the task, just implement the function with the header provided. If you want to test your implementation, use the `###PLAYGROUND` cells. They will be ignored during grading. **Do not change any other cells or add new ones.**\n",
    "\n",
    "Please **do not import any further Python packages** except the default Python ones and the ones that are explicitly given by us or listed below.\n",
    "\n",
    "**In this exercise additional packages are needed.** Please make sure that these packages are availabe in the environment the notebook is running in.\n",
    "- You need `scapy` as in the last exercise.\n",
    "- You will need the package `pandas`. This is a common package to work with large structured data like tables. It can be installed using `pip install pandas`.\n",
    "- One package is called `sklearn` / `scikit-learn` ([Documentation](https://scikit-learn.org/stable/install.html)) and provides an easy interface for various ML tasks. The linked page provides information about the installation process.\n",
    "\n",
    "Please make sure to install all the packages in the same environment as your jupyter notebook (`ipykernel`).\n",
    "\n",
    "*Hint: Reading documentation of modules is fun, fun, fun.*"
   ]
  },
  {
   "cell_type": "markdown",
   "id": "d887ec9e-d1ba-41a2-bc53-2e9cd276bfa9",
   "metadata": {
    "deletable": false,
    "editable": false,
    "nbgrader": {
     "cell_type": "markdown",
     "checksum": "702fe45280e89020f6414d6e595ed067",
     "grade": false,
     "grade_id": "cell-7aae2e43358b4722",
     "locked": true,
     "schema_version": 3,
     "solution": false,
     "task": false
    }
   },
   "source": [
    "## Content of this Assignment\n",
    "\n",
    "In the lecture, you learned about a few \"classical applications\" and their security, namely E-Mail, DNS and SSH. In this assignment, we will play around with some of these topics. First, we have a look at DNS and DNSSec and you will pay special attention to the trust of chain there. Afterwards, we will have a look at e-mail security, especially PGP and the Web-of-Trust. The last programming task deals with a spam detector for emails that you will implement. For this, we introduce the functionality of a naive Bayes spam filter."
   ]
  },
  {
   "cell_type": "markdown",
   "id": "e96d5e8c-335c-483f-9389-e3f130335359",
   "metadata": {
    "deletable": false,
    "editable": false,
    "nbgrader": {
     "cell_type": "markdown",
     "checksum": "78f9d6d8856e49d6a6c57fd71538923f",
     "grade": false,
     "grade_id": "cell-f33e7ae61d5340d2",
     "locked": true,
     "schema_version": 3,
     "solution": false,
     "task": false
    }
   },
   "source": [
    "## 1. DNS and DNSSec (6 points)\n",
    "\n",
    "For this task, we provided a pcap file. This file contains a DNS Query and all belonging requests necessary to validate the authenticity of this resource record using DNSSEC. As in the last assignment, it is necessary to read in the pcap file first. This is done in the following cell using the package scapy.\n",
    "\n",
    "**Please make sure that the file `dns.pcap` from moodle is present in the same directory as this notebook.**"
   ]
  },
  {
   "cell_type": "code",
   "execution_count": null,
   "id": "b93ec287-d444-43c3-91d8-143185fb82e2",
   "metadata": {
    "deletable": false,
    "editable": false,
    "nbgrader": {
     "cell_type": "code",
     "checksum": "fc82e103be8d1e0304e389ce10a6b505",
     "grade": false,
     "grade_id": "cell-a5aa5550151892ee",
     "locked": true,
     "schema_version": 3,
     "solution": false,
     "task": false
    }
   },
   "outputs": [],
   "source": [
    "### You don't have to implement something here!\n",
    "\n",
    "from scapy.all import *\n",
    "load_layer(\"tls\")\n",
    "\n",
    "def read_pcap(path_name: str) -> list[Packet]:\n",
    "    return rdpcap(path_name)\n",
    "\n",
    "packets_dns = read_pcap(\"./dnssec-dns.pcap\")"
   ]
  },
  {
   "cell_type": "markdown",
   "id": "6ec64bb5-aadf-4371-b59b-1faf53e96426",
   "metadata": {
    "deletable": false,
    "editable": false,
    "nbgrader": {
     "cell_type": "markdown",
     "checksum": "485cb4b05949a54b65f27bcb8ae361f9",
     "grade": false,
     "grade_id": "cell-834ff3795f2bf5e0",
     "locked": true,
     "schema_version": 3,
     "solution": false,
     "task": false
    }
   },
   "source": [
    "The following tasks will work with this recorded transmission.\n",
    "\n",
    "### Task 1.1 (1.5 points)\n",
    "\n",
    "First, we have to find packets with messages we are interested in. For this, we have to look into the messages recorded.\n",
    "\n",
    "A typical DNS request consists of a packet sent to a DNS server containing the query and the answer message contains the query again and one or more answers to this query. In the following, we will first check if a packet contains just the query or also answers. Afterwards we want to iterate over the answers and want to determine the type of the resource record this answer contains. For this, you have to implement three different functions:\n",
    "\n",
    "- The first one is `contains_answer(packet: scapy.packet.Packet) -> bool` which takes a packet and checks if it contains a DNS message and if the answer section is not empty. The function should return a `bool` which evaluates to `True` if the message contains at least one answer in an DNS message.\n",
    "\n",
    "- The second function `type_of_RR(rr: scapy.packet.Packet) -> str` takes a resource record (don't get confused here, with scapy everything inherits from a `Packet`) and returns a string (`str`) representing the resource record type. For this task, the different strings of types of resource records are: `A`, `AAAA`, `DNSKEY`, `DS`, `RRSIG`. Should be there other resource record types, you can safely ignore them.\n",
    "\n",
    "- The third function `types_of_all_RR(packet: scapy.packet.Packet) -> list[str]` is a helper. It will get a packet with a DNS answer with possibly more than one resource record. This function should use the given `get_all_RR(packet: Packet) -> list[scapy.packet.Packet]` function to extract a list with the different resource records and should use the function `type_of_RR(rr: scapy.packet.Packet) -> str` to determine the type of each. At the end, a list with strings should be returned containing the resource record types in the answer in the correct order.\n",
    "It happens that there are multiple resource records of the same type. In this case, the list should contain multiple times the same entry.\n",
    "\n",
    "*Hint: Have a look at the documentation of scapy of the DNS layer [here](https://scapy.readthedocs.io/en/latest/api/scapy.layers.dns.html). For most of the mentioned RR types, scapy has classes to represent them. If there is no special class, the corresponding types are handled in `DNSRR` and you have to check the `type` which is an int indicating the type. Maybe you want to have a look [here](https://en.wikipedia.org/wiki/List_of_DNS_record_types).*"
   ]
  },
  {
   "cell_type": "code",
   "execution_count": null,
   "id": "1f23d104-5f12-431d-8072-3e33b85d2050",
   "metadata": {
    "deletable": false,
    "editable": false,
    "nbgrader": {
     "cell_type": "code",
     "checksum": "cb0e6fddcb53b153b07fdc53605973ac",
     "grade": false,
     "grade_id": "cell-aae00180dd7c200a",
     "locked": true,
     "schema_version": 3,
     "solution": false,
     "task": false
    }
   },
   "outputs": [],
   "source": [
    "### You don't have to implement something here!\n",
    "\n",
    "# This function gets a DNS message within a packet and returns a list of all resource records contained in the answer section of the message. If there is no DNS message or the answer section is empty, an empty list will be returned.\n",
    "# HINT: in scapy everything inherits from scapy.packet.Packet. Don't get confused here, it is not a whole packet, it is just what every resource record inherits from!\n",
    "def get_all_RR(packet: Packet) -> list[scapy.packet.Packet]:\n",
    "    if packet.haslayer(scapy.layers.dns.DNS):\n",
    "        return packet[scapy.layers.dns.DNS].an\n",
    "    else:\n",
    "        return []"
   ]
  },
  {
   "cell_type": "code",
   "execution_count": null,
   "id": "39bdb5a4-3a45-4083-a330-2cfd03f3a4e0",
   "metadata": {
    "deletable": false,
    "nbgrader": {
     "cell_type": "code",
     "checksum": "7667c226ebf5e6f14111ceef75d3a4ee",
     "grade": false,
     "grade_id": "cell-b432b81caac18449",
     "locked": false,
     "schema_version": 3,
     "solution": true,
     "task": false
    }
   },
   "outputs": [],
   "source": [
    "def contains_answer(packet: scapy.packet.Packet) -> bool:\n",
    "    if not (DNS in packet):\n",
    "        return False\n",
    "    \n",
    "    return packet[DNS].ancount != 0\n",
    "\n",
    "def type_of_RR(rr: scapy.packet.Packet) -> str:\n",
    "    match rr.type:\n",
    "        case 1:\n",
    "            return \"A\"\n",
    "        case 28:\n",
    "            return \"AAAA\"\n",
    "        case 48:\n",
    "            return \"DNSKEY\"\n",
    "        case 43:\n",
    "            return \"DS\"\n",
    "        case 46:\n",
    "            return \"RRSIG\"\n",
    "\n",
    "def types_of_all_RR(packet: scapy.packet.Packet) -> list[str]:\n",
    "    res: list[str] = []\n",
    "    all_answers = get_all_RR(packet)\n",
    "\n",
    "    for ans in all_answers:\n",
    "        if type_of_RR(ans) != \"\":\n",
    "            res.append(type_of_RR(ans))\n",
    "    \n",
    "    return res"
   ]
  },
  {
   "cell_type": "code",
   "execution_count": null,
   "id": "84c06d16-87f7-44ea-bbb7-e527dcee0545",
   "metadata": {
    "deletable": false,
    "editable": true,
    "nbgrader": {
     "cell_type": "code",
     "checksum": "88edc2d6535052341db9060d046119d1",
     "grade": false,
     "grade_id": "cell-8f3fe36021e81813",
     "locked": true,
     "schema_version": 3,
     "solution": false,
     "task": false
    }
   },
   "outputs": [],
   "source": [
    "### PLAYGROUND\n",
    "# You can use this cell to test out your implementation. Everything in this cell will be ignored during grading.\n",
    "\n",
    "for packet in packets_dns:\n",
    "    if packet[DNS].ancount != 0:\n",
    "        for ans in packet[DNS].an:\n",
    "            print(f\"Ans. type: {ans.type}\")\n",
    "        print(\"-\" * 10)\n",
    "    # print(ls(packet[DNS]))\n",
    "    # print(\"-\" * 20)"
   ]
  },
  {
   "cell_type": "markdown",
   "id": "f9b9f1fd-ae75-4b2a-a980-654c8b3f628b",
   "metadata": {
    "deletable": false,
    "editable": false,
    "nbgrader": {
     "cell_type": "markdown",
     "checksum": "1935e5b7283dffda2dbc2ba8704173f1",
     "grade": false,
     "grade_id": "cell-e0e808278f573fd2",
     "locked": true,
     "schema_version": 3,
     "solution": false,
     "task": false
    }
   },
   "source": [
    "You can use the cell provided below to get more insight into the DNS query done in the network trace."
   ]
  },
  {
   "cell_type": "code",
   "execution_count": null,
   "id": "7e29b71c-5a85-4052-92e9-a31bd8fb2c85",
   "metadata": {
    "deletable": false,
    "editable": false,
    "nbgrader": {
     "cell_type": "code",
     "checksum": "d630a40107e6a112a95f2a332648eafd",
     "grade": false,
     "grade_id": "cell-01cae5e36bc04026",
     "locked": true,
     "schema_version": 3,
     "solution": false,
     "task": false
    }
   },
   "outputs": [],
   "source": [
    "### You don't have to implement something here!\n",
    "\n",
    "for i, packet in enumerate(packets_dns):\n",
    "    if contains_answer(packet):\n",
    "        print(f\"Packet: {i+1}: contains answers: {types_of_all_RR(packet)}\")\n",
    "    else:\n",
    "        print(f\"Packet: {i+1} does not contain answer.\")"
   ]
  },
  {
   "cell_type": "code",
   "execution_count": null,
   "id": "fca8b9e9-0c8b-4e90-b831-edcdd82c429d",
   "metadata": {
    "deletable": false,
    "editable": false,
    "nbgrader": {
     "cell_type": "code",
     "checksum": "77cb989e31255d15a2b8af81c0522057",
     "grade": true,
     "grade_id": "cell-7ea039091323aff3",
     "locked": true,
     "points": 0,
     "schema_version": 3,
     "solution": false,
     "task": false
    }
   },
   "outputs": [],
   "source": [
    "# This test just checks the output of your solution\n",
    "\n",
    "packet = packets_dns[1]\n",
    "\n",
    "assert type(contains_answer(packet)) == bool\n",
    "res = types_of_all_RR(packet)\n",
    "assert type(res) == list\n",
    "assert len(res) == 2\n",
    "assert type(res[0]) == str"
   ]
  },
  {
   "cell_type": "code",
   "execution_count": null,
   "id": "3563271d-2aaf-4fb0-9c39-9612e8684007",
   "metadata": {
    "deletable": false,
    "editable": false,
    "nbgrader": {
     "cell_type": "code",
     "checksum": "eeff813eb21e0f965fb285a3f57f5a6b",
     "grade": true,
     "grade_id": "cell-4dcc1a00c3976cff",
     "locked": true,
     "points": 1.5,
     "schema_version": 3,
     "solution": false,
     "task": false
    }
   },
   "outputs": [],
   "source": [
    "# Even this cell seems empty, it contains automatic tests. Please do not remove this cell and just ignore it."
   ]
  },
  {
   "cell_type": "markdown",
   "id": "48aec406-45ee-4692-ab35-14f42ca0ac0c",
   "metadata": {
    "deletable": false,
    "editable": false,
    "nbgrader": {
     "cell_type": "markdown",
     "checksum": "3a2428d5fc0f92b7f62336c13cee6222",
     "grade": false,
     "grade_id": "cell-6dee1932cedf2620",
     "locked": true,
     "schema_version": 3,
     "solution": false,
     "task": false
    }
   },
   "source": [
    "### Task 1.2 (0.5 points)\n",
    "\n",
    "In this task, we want to know something about the request and extract some information to display them. So we need to implement a few functions to extract the wanted information. These functions can be used in task 1.3 if needed.\n",
    "\n",
    "All the functions to be implemented get a resource record (of different types). Don't be confused by the type hint of the first function. Remember, this function fits to different resource record types and everything in scapy inherits from `Packet`.\n",
    "\n",
    "Implement the following functions:\n",
    "\n",
    "- `get_name(rr: scapy.packet.Packet) -> str`: This function gets a resource record and should return the corresponding name for this resource record.\n",
    "- `get_rrsig(rr: scapy.layers.dns.DNSRRRSIG) -> str`: This function gets a RRSIG resource record and should return the signature contained in it **as a hex string**.\n",
    "- `get_dnskey(rr: scapy.layers.dns.DNSRRDNSKEY) -> str`: This function gets a DNSKEY resource record and should return the public key contained in it **as a hex string**.\n",
    "- `get_ds(rr: scapy.layers.dns.DNSRRDS) -> str`:  This function gets a DS resource record and should return the hash / digest contained in it **as a hex string**.\n",
    "\n",
    "*Hint: Have a look at the documentation again to check which parameters are available. Use the provided playground to check if the output is plausible.*"
   ]
  },
  {
   "cell_type": "code",
   "execution_count": null,
   "id": "1a499e88-11a5-495b-a579-e7d23c0f1285",
   "metadata": {
    "deletable": false,
    "nbgrader": {
     "cell_type": "code",
     "checksum": "08fd6d1c7edb8c3353cb291935f73d02",
     "grade": false,
     "grade_id": "cell-23704735465e00e1",
     "locked": false,
     "schema_version": 3,
     "solution": true,
     "task": false
    }
   },
   "outputs": [],
   "source": [
    "def get_name(rr: scapy.packet.Packet) -> str:\n",
    "    return rr.rrname.decode('ascii')\n",
    "    \n",
    "def get_rrsig(rr: scapy.layers.dns.DNSRRRSIG) -> str:\n",
    "    res = \"0x\"\n",
    "    for byte in rr.signature:\n",
    "        res += hex(byte)[2:]\n",
    "    return res\n",
    "    \n",
    "def get_dnskey(rr: scapy.layers.dns.DNSRRDNSKEY) -> str:\n",
    "    res = \"0x\"\n",
    "    for byte in rr.publickey:\n",
    "        res += hex(byte)[2:]\n",
    "    return res\n",
    "    \n",
    "def get_ds(rr: scapy.layers.dns.DNSRRDS) -> str:\n",
    "    res = \"0x\"\n",
    "    for byte in rr.digest:\n",
    "        res += hex(byte)[2:]\n",
    "    return res"
   ]
  },
  {
   "cell_type": "code",
   "execution_count": null,
   "id": "9f9f1ac6-29a0-41e7-82bb-1178a9fbf92d",
   "metadata": {
    "deletable": false,
    "editable": true,
    "nbgrader": {
     "cell_type": "code",
     "checksum": "91fd53f3b170d035b9cbdfa426b763eb",
     "grade": false,
     "grade_id": "cell-62295170d612c7ba",
     "locked": true,
     "schema_version": 3,
     "solution": false,
     "task": false
    }
   },
   "outputs": [],
   "source": [
    "### PLAYGROUND\n",
    "# You can use this cell to test out your implementation. Everything in this cell will be ignored during grading.\n",
    "for packet in packets_dns:\n",
    "    rrs = get_all_RR(packet)\n",
    "    for rr in rrs:\n",
    "        print(get_name(rr))"
   ]
  },
  {
   "cell_type": "markdown",
   "id": "48a27a8a-8652-4517-9b84-22f357a58506",
   "metadata": {
    "deletable": false,
    "editable": false,
    "nbgrader": {
     "cell_type": "markdown",
     "checksum": "ab11f9797e9c1df6c1fb49a62251bfde",
     "grade": false,
     "grade_id": "cell-87caaf254e3e1d5a",
     "locked": true,
     "schema_version": 3,
     "solution": false,
     "task": false
    }
   },
   "source": [
    "The cell below can be used to output all the extracted information using the functions implemented in this task. The output of longer text is truncated."
   ]
  },
  {
   "cell_type": "code",
   "execution_count": null,
   "id": "1419e116-3992-429c-8c97-b39fd1e122c4",
   "metadata": {
    "deletable": false,
    "editable": false,
    "nbgrader": {
     "cell_type": "code",
     "checksum": "8a5d67740f941919d0b96a0735d2da26",
     "grade": false,
     "grade_id": "cell-c59878bfad346f8c",
     "locked": true,
     "schema_version": 3,
     "solution": false,
     "task": false
    }
   },
   "outputs": [],
   "source": [
    "### You don't have to implement something here!\n",
    "\n",
    "for i, packet in enumerate(packets_dns):\n",
    "    print(f\"Packet {i+1}:\")\n",
    "    rrs = get_all_RR(packet)\n",
    "    for rr in rrs:\n",
    "        match type_of_RR(rr):\n",
    "            case \"A\":\n",
    "                print(f\"A: {get_name(rr)}\")\n",
    "            case \"AAAA\":\n",
    "                print(f\"AAAA: {get_name(rr)}\")\n",
    "            case \"DNSKEY\":\n",
    "                print(f\"DNSKEY: {get_dnskey(rr):.50}...\")\n",
    "                print(f\"for zone: {get_name(rr)}\")\n",
    "            case \"DS\":\n",
    "                print(f\"DS: {get_ds(rr):.50}...\")\n",
    "                print(f\"for zone: {get_name(rr)}\")\n",
    "            case \"RRSIG\":\n",
    "                print(f\"RRSIG: {get_rrsig(rr):.50}...\")\n",
    "    print()"
   ]
  },
  {
   "cell_type": "code",
   "execution_count": null,
   "id": "51ec38cb-0653-4bfe-98c6-8fc2cf4a723d",
   "metadata": {
    "deletable": false,
    "editable": false,
    "nbgrader": {
     "cell_type": "code",
     "checksum": "0dff9353cb6a7eecfba84561c809a5ff",
     "grade": true,
     "grade_id": "cell-854bbc1554973219",
     "locked": true,
     "points": 0.5,
     "schema_version": 3,
     "solution": false,
     "task": false
    }
   },
   "outputs": [],
   "source": [
    "# Even this cell seems empty, it contains automatic tests. Please do not remove this cell and just ignore it."
   ]
  },
  {
   "cell_type": "markdown",
   "id": "ef313214-30d7-4895-b35f-e1c72d21a277",
   "metadata": {
    "deletable": false,
    "editable": false,
    "nbgrader": {
     "cell_type": "markdown",
     "checksum": "e8baf79f4954e3ff426760ff5da3ba3b",
     "grade": false,
     "grade_id": "cell-76c9dff84cb72ed6",
     "locked": true,
     "schema_version": 3,
     "solution": false,
     "task": false
    }
   },
   "source": [
    "### Task 1.3 (3 points)\n",
    "\n",
    "We now know roughly the most important content of each of the DNS packets. Now, we want to have a look at the DNSSEC specific chain of trust. In the following task we assume that all RRSIG signatures are valid and we do not validate them. Instead, we will focus on the DNSKEY and DS RRs.\n",
    "\n",
    "As we only have a trusted DNSKEY of the root zone `.` in our local storage, we have to build a chain of trust to verify the DNSKEY that was used to sign our initial request. To do so, we have to use the DS RRs and the DNSKEY RRs in combination to verify they build a chain. As you can see, some of the messages contain multiple DNSKEY RRs, which contain at least the zone signing key and the key signing key. Have a look at the lecture slides again if you can't remember the different the purpose of each of the keys. Also, remember that a signature validation would be of course necessary to really ensure the chain is trusted.\n",
    "\n",
    "- There are two handy functions given in the code block blow. The first function `check_ds_hash(dnskey_rr: scapy.layers.dns.DNSRRDNSKEY, ds_rr: scapy.layers.dns.DNSRRDS) -> bool` validates a given DNSKEY with a given DS RR.\n",
    "\n",
    "- The second function `get_all_keys_and_ds(packets) -> tuple[dict[str, scapy.layers.dns.DNSRRDS], dict[str, list[scapy.layers.dns.DNSRRDNSKEY]]]` extracts from a given packet list all the different DS RRs and DNSKEY RRs into two convenient dicts. This is useful during the validation. The first returned dict contains the DS RR for the zone (zone name is the key). The second one contains a list of all DNSKEY RRs of a zone. You can use the zone name as the key to the dict to get the corresponinding DS RR and all DNSKEY RRs. Don't be confused with the location of a DS RR. It is physically located at the parent zone, but the query asks for the DS RR for the meant zone, so the DS RR that verifies the zone a.com. can be found in the dict using the key `a.com.`. Also make sure to don't forget the last point of the name.\n",
    "\n",
    "Your task is now to implement the function `verify_chain(packets: scapy.plist.PacketList, domain: str) -> bool`. This function takes the list of packets as given at the beginning of the task and a domain. The function needs to check if there is a valid chain of trust from the root zone to the given domain. You don't have to validate RRSIG and you can use the given functions explained above to check if a DS RR contains the hash of a DNSKEY RR. It is okay, if the function just checks if the DS RRs hash fits to any of the DNSKEY RRs. You don't have to compute the key tag / key id! The function should return a `bool` that evaluated to `True` if there is a chain of trust from the root to the given domain. If there is a zone without a fitting DNSKEY to the provided DS RR, then your function should return `False`.\n",
    "\n",
    "*Hint: Try to iterate over all zones of the given domain, search for corresponding DS RR and check if there is a fitting key. If there is a zone without a DS record or if there is no fitting key, the validation failed.*"
   ]
  },
  {
   "cell_type": "code",
   "execution_count": null,
   "id": "4dfc393b-f045-4dc0-9bf6-967bcde28a48",
   "metadata": {
    "deletable": false,
    "editable": false,
    "nbgrader": {
     "cell_type": "code",
     "checksum": "2ba54ec29486a6b13cc8592f553e509f",
     "grade": false,
     "grade_id": "cell-ed385c6692a28196",
     "locked": true,
     "schema_version": 3,
     "solution": false,
     "task": false
    }
   },
   "outputs": [],
   "source": [
    "### You don't have to implement something here!\n",
    "\n",
    "import hashlib\n",
    "\n",
    "# This function validates a given DNSKEY RR with another given DS RR\n",
    "def check_ds_hash(dnskey_rr: scapy.layers.dns.DNSRRDNSKEY, ds_rr: scapy.layers.dns.DNSRRDS) -> bool:\n",
    "    \n",
    "    # Extract fields from the DNSKEY RR\n",
    "    ## Owner name (domain) in wire format\n",
    "    labels = dnskey_rr.rrname.decode().strip('.').split('.')\n",
    "    wire_format = b''.join(len(label).to_bytes(1, 'big') + label.encode() for label in labels)\n",
    "    owner_name = wire_format + b'\\x00'\n",
    "\n",
    "    ## rdata of DNSKEY record\n",
    "    flags = dnskey_rr.flags.value.to_bytes(2, byteorder='big') # First 2 bytes are the flags\n",
    "    protocol = dnskey_rr.protocol.to_bytes(1, byteorder='big')  # Next byte is the protocol\n",
    "    algorithm = dnskey_rr.algorithm.to_bytes(1, byteorder='big')  # Next byte is the algorithm\n",
    "    public_key = dnskey_rr.publickey  # Rest is the public key\n",
    "\n",
    "    # Construct byte string to be hashed\n",
    "    dnskey_data = owner_name + flags + protocol + algorithm + public_key\n",
    "\n",
    "    # Compute hash\n",
    "    hasher = hashlib.sha256()\n",
    "    hasher.update(dnskey_data)\n",
    "    key_hash = hasher.hexdigest()\n",
    "\n",
    "    ds_hash = get_ds(ds_rr)\n",
    "    return key_hash.upper() == ds_hash.upper()\n",
    "\n",
    "# This function extracts all DS RRs and DNSKEY RRs into two convenient dicts sorted by their names. This will be very helpful!\n",
    "def get_all_keys_and_ds(packets) -> tuple[dict[str, scapy.layers.dns.DNSRRDS], dict[str, list[scapy.layers.dns.DNSRRDNSKEY]]]:\n",
    "    dss = {}\n",
    "    keys = {}\n",
    "    for i, packet in enumerate(packets):\n",
    "        if contains_answer(packet):\n",
    "            rrs = get_all_RR(packet)\n",
    "            for rr in rrs:\n",
    "                if type_of_RR(rr) == \"DS\":\n",
    "                    zone_name = get_name(rr)\n",
    "                    if type(zone_name) == bytes:\n",
    "                        zone_name = zone_name.decode()\n",
    "                    if zone_name not in dss:\n",
    "                        dss[zone_name] = rr\n",
    "                elif type_of_RR(rr) == \"DNSKEY\":\n",
    "                    zone_name = get_name(rr)\n",
    "                    if type(zone_name) == bytes:\n",
    "                        zone_name = zone_name.decode()\n",
    "                    if zone_name not in keys:\n",
    "                        keys[zone_name] = []\n",
    "                    keys[zone_name].append(rr)\n",
    "    return (dss, keys)\n",
    "    "
   ]
  },
  {
   "cell_type": "code",
   "execution_count": null,
   "id": "c3924201-100c-4016-8864-9b634be44b36",
   "metadata": {
    "deletable": false,
    "nbgrader": {
     "cell_type": "code",
     "checksum": "ae4b88ea5793eb62239fe4f17f429023",
     "grade": false,
     "grade_id": "cell-d75f70cc34942ca1",
     "locked": false,
     "schema_version": 3,
     "solution": true,
     "task": false
    }
   },
   "outputs": [],
   "source": [
    "def verify_chain(packets: scapy.plist.PacketList, domain: str) -> bool:\n",
    "    zones: list[str] = list(reversed(domain.strip('.').split('.')))\n",
    "    ds_rrs, dnskey_rrs = get_all_keys_and_ds(packets)\n",
    "\n",
    "    print(ds_rrs)\n",
    "    print(dnskey_rrs)\n",
    "\n",
    "    for i in range(len(zones) + 1):\n",
    "        if i == 0:\n",
    "            continue\n",
    "\n",
    "        zone_name = \"\"\n",
    "        for j in range(i):\n",
    "            zone_name += zones[j] + \".\"\n",
    "        if i == 0:\n",
    "            zone_name += \".\"\n",
    "\n",
    "        print(f\"Checking zone {zone_name}\")\n",
    "\n",
    "        ds_key = ds_rrs.get(zone_name, None)\n",
    "        if ds_key is None:\n",
    "            return False\n",
    "\n",
    "        matching_pair_found: bool = False\n",
    "        for dnskey_rr in dnskey_rrs[zone_name]:\n",
    "            matching_pair_found |= check_ds_hash(dnskey_rr, ds_key)\n",
    "\n",
    "        if not matching_pair_found:\n",
    "            return False\n",
    "\n",
    "    return True"
   ]
  },
  {
   "cell_type": "code",
   "execution_count": null,
   "id": "813ace7b-fee1-4aa1-81e8-b2e057723c17",
   "metadata": {
    "deletable": false,
    "editable": true,
    "nbgrader": {
     "cell_type": "code",
     "checksum": "ea0de1bb6b706f9371f041bc633de24f",
     "grade": false,
     "grade_id": "cell-2113f2ad08583c0d",
     "locked": true,
     "schema_version": 3,
     "solution": false,
     "task": false
    }
   },
   "outputs": [],
   "source": [
    "### PLAYGROUND\n",
    "# You can use this cell to test out your implementation. Everything in this cell will be ignored during grading."
   ]
  },
  {
   "cell_type": "markdown",
   "id": "c3df6dba-7346-4b52-92a7-b2079c8c78de",
   "metadata": {
    "deletable": false,
    "editable": false,
    "nbgrader": {
     "cell_type": "markdown",
     "checksum": "4365fc5683cd3c242a83808e11ba1c21",
     "grade": false,
     "grade_id": "cell-2c24a6067cd802ef",
     "locked": true,
     "schema_version": 3,
     "solution": false,
     "task": false
    }
   },
   "source": [
    "You can use the cell below to check the validation result and inspect any additional output."
   ]
  },
  {
   "cell_type": "code",
   "execution_count": null,
   "id": "4af42229-de30-43a0-a2fb-ffe6d73612d0",
   "metadata": {
    "deletable": false,
    "editable": false,
    "nbgrader": {
     "cell_type": "code",
     "checksum": "3cfeb257002eca35ce039387e910e1de",
     "grade": false,
     "grade_id": "cell-5ed604ee5439056f",
     "locked": true,
     "schema_version": 3,
     "solution": false,
     "task": false
    }
   },
   "outputs": [],
   "source": [
    "### You don't have to implement something here!\n",
    "\n",
    "print(verify_chain(packets_dns, 'dnssec.works.'))"
   ]
  },
  {
   "cell_type": "code",
   "execution_count": null,
   "id": "d7e1e85d-8004-4ce5-9236-1f102f162674",
   "metadata": {
    "deletable": false,
    "editable": false,
    "nbgrader": {
     "cell_type": "code",
     "checksum": "0da1f560839ba9ba92886427745d7719",
     "grade": true,
     "grade_id": "cell-ed59fd8ece0aed7e",
     "locked": true,
     "points": 0,
     "schema_version": 3,
     "solution": false,
     "task": false
    }
   },
   "outputs": [],
   "source": [
    "# This test just checks the output of your solution\n",
    "\n",
    "res = verify_chain(packets_dns, 'dnssec.works.')\n",
    "assert type(res) == bool\n",
    "assert res == True"
   ]
  },
  {
   "cell_type": "code",
   "execution_count": null,
   "id": "0c37fa25-5e30-42f1-8e7f-d4dfe7a82323",
   "metadata": {
    "deletable": false,
    "editable": false,
    "nbgrader": {
     "cell_type": "code",
     "checksum": "274ff5d225a634e3ab1f295e1a0953b2",
     "grade": true,
     "grade_id": "cell-b03a165134ae94f9",
     "locked": true,
     "points": 3,
     "schema_version": 3,
     "solution": false,
     "task": false
    }
   },
   "outputs": [],
   "source": [
    "# Even this cell seems empty, it contains automatic tests. Please do not remove this cell and just ignore it."
   ]
  },
  {
   "cell_type": "markdown",
   "id": "df0010b2-b033-4083-ab8f-4baa09c0ca28",
   "metadata": {
    "deletable": false,
    "editable": false,
    "nbgrader": {
     "cell_type": "markdown",
     "checksum": "16ea5380e55567fd7e7775e5fdc56d0c",
     "grade": false,
     "grade_id": "cell-69997b93d005f91f",
     "locked": true,
     "schema_version": 3,
     "solution": false,
     "task": false
    }
   },
   "source": [
    "### Task 1.4 (1 point)\n",
    "\n",
    "**Name or describe** the purpose of each of the resource record types `A`, `RRSig`, `DNSKEY`, `DS`."
   ]
  },
  {
   "cell_type": "markdown",
   "id": "ca7c2c99-e66e-4a3b-9c9c-8b2d3c77b2f2",
   "metadata": {
    "deletable": false,
    "nbgrader": {
     "cell_type": "markdown",
     "checksum": "d326a4fa5909e9855bc85e9daf51a662",
     "grade": true,
     "grade_id": "cell-b3949bbe780e4ef1",
     "locked": false,
     "points": 1,
     "schema_version": 3,
     "solution": true,
     "task": false
    }
   },
   "source": [
    "- `A` is just the regular IPv4 DNS RR (= \"translation\" domain name -> IPv4 address)\n",
    "- `RRSig` is associated with another RR (let's call it 'x') & used to _sign_ 'x' (i.e., the `RRSig` contains the _signature_ created on 'x' using the _zone signing key_ [ZSK] of the corresponding zone)\n",
    "- `DNSKEY` contains either a KSK or a ZSK\n",
    "- `DS` contains the hash of the key signing key [KSK] of a child zone"
   ]
  },
  {
   "attachments": {},
   "cell_type": "markdown",
   "id": "f6f1ccda-87e2-46e1-b3f2-cb4e6391712a",
   "metadata": {
    "deletable": false,
    "editable": false,
    "nbgrader": {
     "cell_type": "markdown",
     "checksum": "30ea6bf8a4d3cb85b49540de91b8d655",
     "grade": false,
     "grade_id": "cell-928f9641dbe1d26d",
     "locked": true,
     "schema_version": 3,
     "solution": false,
     "task": false
    }
   },
   "source": [
    "## 2. PGP and S/MIME (5 points)\n",
    "\n",
    "### Task 2.1: PGP - Web of Trust (2 points)\n",
    "\n",
    "PGP uses a \"web of trust\" instead of certification authority to assess the trust of a key. To do so, the \"key legitimacy\" of a party is calculated as described in the lecture. \n",
    "\n",
    "Your task here is to implement the function `calc_key_legitimacy(trust_levels: list[tuple[str, str]], x: float, y: float) -> int` which receives a list of tuples `trust_levels`. Each tuple of the list contains a `str` with the name of the party and a `str` with the name of the trust levels. \n",
    "\n",
    "Possible trust levels are `\"no\"`, `\"unknown\"`, `\"partial\"`, and `\"full\"`. Hence, a tuple in the list could look like: `(\"NSA\", \"no\")`. The floats `x`/`y` represent the numerical certificate trust value we assign to certificates with the trust level `partial`/`full`.\n",
    "\n",
    "Your function should return the certificate trust value as `int`."
   ]
  },
  {
   "cell_type": "code",
   "execution_count": 14,
   "id": "c1847fee-feb4-4a63-91ee-373fb0a3a25a",
   "metadata": {
    "deletable": false,
    "nbgrader": {
     "cell_type": "code",
     "checksum": "d647d2e863a44fcb60508b71aaead929",
     "grade": false,
     "grade_id": "cell-514e6f4c4c35ed02",
     "locked": false,
     "schema_version": 3,
     "solution": true,
     "task": false
    }
   },
   "outputs": [],
   "source": [
    "def calc_key_legitimacy(trust_levels: list[tuple[str, str]], x: float, y: float) -> int:\n",
    "    N_x: int = 0\n",
    "    N_y: int = 0\n",
    "\n",
    "    for _, trust_lvl in trust_levels:\n",
    "        if trust_lvl == \"partial\":\n",
    "            N_x += 1\n",
    "        elif trust_lvl == \"full\":\n",
    "            N_y += 1\n",
    "\n",
    "    if (x * N_x + y * N_y) >= 1:\n",
    "        return 1\n",
    "    return 0"
   ]
  },
  {
   "cell_type": "code",
   "execution_count": 15,
   "id": "7a50d633-59e3-471d-b440-ac82ba275a96",
   "metadata": {
    "deletable": false,
    "editable": true,
    "nbgrader": {
     "cell_type": "code",
     "checksum": "4d4650a962c9643aad041e1abfc67500",
     "grade": false,
     "grade_id": "cell-d47e2b6ab663cbe5",
     "locked": true,
     "schema_version": 3,
     "solution": false,
     "task": false
    }
   },
   "outputs": [
    {
     "name": "stdout",
     "output_type": "stream",
     "text": [
      "0\n"
     ]
    }
   ],
   "source": [
    "### PLAYGROUND\n",
    "# You can use this cell to test out your implementation. Everything in this cell will be ignored during grading.\n",
    "\n",
    "trust_levels_test1 = [(\"Simon\", \"partial\"), (\"Andrew\", \"no\"), (\"Louis\", \"unknown\"), (\"Casper\", \"full\"), (\"Lilly\", \"no\"), (\"Rebecca\", \"unknown\")]\n",
    "print(calc_key_legitimacy(trust_levels_test1, 0.2, 0.5))"
   ]
  },
  {
   "cell_type": "code",
   "execution_count": 16,
   "id": "1c21fb58-1549-4253-8460-5f8fa1dc8320",
   "metadata": {
    "deletable": false,
    "editable": false,
    "nbgrader": {
     "cell_type": "code",
     "checksum": "100a8598ddb02a3a9d3fc55a5cce996c",
     "grade": true,
     "grade_id": "cell-e0261ee8415c5a27",
     "locked": true,
     "points": 0,
     "schema_version": 3,
     "solution": false,
     "task": false
    }
   },
   "outputs": [],
   "source": [
    "# This test just checks the output of your solution\n",
    "\n",
    "trust_levels_test2 = [(\"Simon\", \"partial\"), (\"Andrew\", \"no\"), (\"Louis\", \"unknown\"), (\"Casper\", \"full\"), (\"Lilly\", \"no\"), (\"Rebecca\", \"partial\")]\n",
    "res = calc_key_legitimacy(trust_levels_test2, 0.3, 0.5)\n",
    "assert type(res) == int\n",
    "assert res == 1\n"
   ]
  },
  {
   "cell_type": "code",
   "execution_count": null,
   "id": "5c19d7eb-7282-4fb3-8ffc-8caf52f10e66",
   "metadata": {
    "deletable": false,
    "editable": false,
    "nbgrader": {
     "cell_type": "code",
     "checksum": "42eac53d12a01358b5108dd502807a50",
     "grade": true,
     "grade_id": "cell-48fc6bb57ae4432a",
     "locked": true,
     "points": 2,
     "schema_version": 3,
     "solution": false,
     "task": false
    }
   },
   "outputs": [],
   "source": [
    "# Even this cell seems empty, it contains automatic tests. Please do not remove this cell and just ignore it."
   ]
  },
  {
   "cell_type": "markdown",
   "id": "f618a65c-c5f5-44b9-b805-55b8385cee5d",
   "metadata": {
    "deletable": false,
    "editable": false,
    "nbgrader": {
     "cell_type": "markdown",
     "checksum": "2fe4ee9f83fc05a0245fcc292f6e0c8c",
     "grade": false,
     "grade_id": "cell-daa8b53eb6300fb9",
     "locked": true,
     "schema_version": 3,
     "solution": false,
     "task": false
    }
   },
   "source": [
    "### Task 2.2: TLS vs. PGP and S/MIME (2 point)\n",
    "\n",
    "**Explain** the fundamental difference between the usage of TLS (e.g. with SMTPs or IMAPs) and the usage of PGP or S/MIME during e-mail transfer. Explicitly name who has access to the messages and who is able to modify them."
   ]
  },
  {
   "cell_type": "markdown",
   "id": "37df6521-ffd9-4979-9aee-2c9b44133d0d",
   "metadata": {
    "deletable": false,
    "nbgrader": {
     "cell_type": "markdown",
     "checksum": "7947aa115600593ddd67b0b731aa14c9",
     "grade": true,
     "grade_id": "cell-4e181ac9b74fe3c1",
     "locked": false,
     "points": 2,
     "schema_version": 3,
     "solution": true,
     "task": false
    }
   },
   "source": [
    "The **fundamental difference** between TLS & (PGP or S/MIME) is that TLS **only provides security _during transportation_** of the emails _between_ MTAs, but **not** when the emails are _stored_ on the MTAs. This means that **anybody with access to an MTA** our email is stored on can read & modify our email (assuming _no_ further protective measures are taken on the MTAs, i.e., mails are stored in _cleartext_ there).\n",
    "Additionally, TLS **does not provide** any non-repudiation, as it only provides \"hop-by-hop\" transport security.\n",
    "\n",
    "On the other hand, PGP and S/MIME **ensure _end-to-end security_** by providing end-to-end encryption & integrity protection (even when the email is just stored on an MTA server) as well as providing non-repudiation; this means that **only the intended receiver** may _read_ our email (since only they have the matching _private key_ necessary to decrypt the symmetric key $K$ the email was encrypted with). However, due to the signature, **even the intended receiver** is **not able to modify** our email (without it getting noticed because of the signature)."
   ]
  },
  {
   "cell_type": "markdown",
   "id": "fb821efd-58e3-4cad-8383-edd677c01959",
   "metadata": {
    "deletable": false,
    "editable": false,
    "nbgrader": {
     "cell_type": "markdown",
     "checksum": "af5cb4c44ccd8a9d67f8edc9a5d3312e",
     "grade": false,
     "grade_id": "cell-276f50128eb59580",
     "locked": true,
     "schema_version": 3,
     "solution": false,
     "task": false
    }
   },
   "source": [
    "### Task 2.3: PGP vs S/MIME (1 points)\n",
    "\n",
    "How can one determine if a S/MIME certificate should be trusted?"
   ]
  },
  {
   "cell_type": "markdown",
   "id": "e5ae46fa-eb93-4b6b-9a9b-0b8c5fcf8be2",
   "metadata": {
    "deletable": false,
    "nbgrader": {
     "cell_type": "markdown",
     "checksum": "f81a9f1f165490cbf01111ec8639cc32",
     "grade": true,
     "grade_id": "cell-86b69746a3b95c52",
     "locked": false,
     "points": 1,
     "schema_version": 3,
     "solution": true,
     "task": false
    }
   },
   "source": [
    "Since S/MIME just uses \"regular certificates\" issued by some **certificate authority**, we can just check the \"chain of trust\" of the certificate like seen in Chapter 5 of the lecture: Check who is the issuer of the certificate, check the signature of the issuer with the public key of the issuer; if that issuer still has a parent certificate, do this check recursively until we reach a root CA. Then, we check whether that root CA is **trusted for providing S/MIME certificates** by checking whether the found root CA belongs to a pre-configured **list of trusted CAs** we configured in the email client (see Chapter 7, slide 10)."
   ]
  },
  {
   "attachments": {},
   "cell_type": "markdown",
   "id": "a253dc6f-3b2c-41e3-80bb-5fd27c420252",
   "metadata": {
    "deletable": false,
    "editable": false,
    "nbgrader": {
     "cell_type": "markdown",
     "checksum": "61bd01891d049a6a738ee16291c6d5de",
     "grade": false,
     "grade_id": "cell-ddf157cceee50a37",
     "locked": true,
     "schema_version": 3,
     "solution": false,
     "task": false
    }
   },
   "source": [
    "## 3. Spam Classifier (Naive Bayes) (8 points)\n",
    "\n",
    "A widely used spam filter is the \"naive Bayes filter\". As the name suggest, it is based on the [Bayes theorem](https://en.wikipedia.org/wiki/Bayes%27_theorem), which states \n",
    "\n",
    "$P(A|B) = \\frac{P(B|A)P(A)}{P(B)}$ for events $A$ and $B$ with $P(B) \\neq 0$.\n",
    "\n",
    "We will use the Bayes theorem to predict the class of an e-mail - either spam or ham.\n",
    "\n",
    "For an e-mail `m = [w_1, w_2, ... w_n]` given a class `C`, we calculate the probability of `m` being of class `C` (e.g. \"ham\" or \"spam\") as follows:\n",
    "\n",
    "$Pr[C|m] = \\frac{Pr[m|C] \\cdot Pr[C]}{Pr[m]}$.\n",
    "\n",
    "In practice, we can further simplify this by dropping the denominator, because for each possible class `C`, $Pr[m]$ is the same, hence we are interested in:\n",
    "\n",
    "$Pr[m|C] \\cdot Pr[C]$\n",
    "\n",
    "In the **naive** Bayes classifier, we have the assumption that all features $w_i$ are mutually independent (hence the name). With that assumption we can calculate the conditional probability of an e-mail `m` given the class `C` by multiplying the conditional probabilities for each individual word `w` given class `C`:\n",
    "\n",
    "$Pr[m|C] \\cdot Pr[C] = Pr[w_1, w_2,..., w_n|C] \\cdot Pr[C] = Pr[w_1|C] \\cdot Pr[w_2|C] \\cdot \\;\\; ... \\;\\; \\cdot Pr[w_n|C] \\cdot Pr[C]$\n",
    "\n",
    "Now, we still need to be able to calculate the conditional probability per word which can be done by using a training dataset, as follows.\n",
    "Given a vocabulary `V` of words from a training dataset: \n",
    "\n",
    "$Pr[w|C] = \\frac{count(w, C)}{\\sum_{w' \\in V}count(w',C)}$\n",
    "\n",
    "However, we may have have zero counts in a class. Hence, we use \"add one smoothing\" (which is just a fancy name for adding one count for each word) to not lose this information. \n",
    "\n",
    "Thus, the conditional probability for one word is calculated as follows:\n",
    "\n",
    "$Pr[w|C] = \\frac{count(w, C) + 1}{\\sum_{w' \\in V}count(w',C) + |V|}$\n",
    "\n",
    "In the algorithm, we use log probabilites to prevent a numerical underflow, because multiplying many probabilities will result in 0.0. Note, that adding in log space is equivalent to multiplying in linear space:\n",
    "\n",
    "$Pr[m|C] = Pr[w_1|C] \\cdot Pr[w_2|C] \\cdot \\;\\; ... \\;\\; \\cdot Pr[w_n|C]$ $= exp( log(Pr[w_1|C]) + log(Pr[w_2|C]) + \\; ... \\;  + log(Pr[w_n|C])$\n",
    "\n",
    "Your task will be to build a spam classifier based on the naive bayes theorem. To do so, we begin with the training of the model by calculating the probability distributions of each class. \n",
    "\n",
    "To start, we load the dataset. You can find the the CSV file containing the dataset in Moodle."
   ]
  },
  {
   "cell_type": "code",
   "execution_count": 1,
   "id": "a5b70783-51fe-4efc-8c82-55bd2d1c86d8",
   "metadata": {
    "deletable": false,
    "editable": false,
    "nbgrader": {
     "cell_type": "code",
     "checksum": "824157f5197cb5fd6712023852aa9d7c",
     "grade": false,
     "grade_id": "cell-a7fea7a487362c17",
     "locked": true,
     "schema_version": 3,
     "solution": false,
     "task": false
    }
   },
   "outputs": [],
   "source": [
    "import pandas as pd\n",
    "\n",
    "orig_df = pd.read_csv(\"./SPAM_dataset.csv\")"
   ]
  },
  {
   "cell_type": "markdown",
   "id": "e956db38-d1ea-4dac-8770-81c632e538d8",
   "metadata": {
    "deletable": false,
    "editable": false,
    "nbgrader": {
     "cell_type": "markdown",
     "checksum": "d905326df00ed89e256564df577ff108",
     "grade": false,
     "grade_id": "cell-f5e624a9a8d89bef",
     "locked": true,
     "schema_version": 3,
     "solution": false,
     "task": false
    }
   },
   "source": [
    "In the next step, we tokenize each mail into a list of words, to ease the handling in the later steps. \n",
    "However, as you can see there are many special characters that we want to remove."
   ]
  },
  {
   "cell_type": "code",
   "execution_count": 2,
   "id": "05861c12-89b9-4e7d-b930-2a729e54959d",
   "metadata": {
    "deletable": false,
    "editable": false,
    "nbgrader": {
     "cell_type": "code",
     "checksum": "f5731ea11e303862b52f358d2dc3ae91",
     "grade": false,
     "grade_id": "cell-321a084c8a76598a",
     "locked": true,
     "schema_version": 3,
     "solution": false,
     "task": false
    }
   },
   "outputs": [
    {
     "data": {
      "text/html": [
       "<div>\n",
       "<style scoped>\n",
       "    .dataframe tbody tr th:only-of-type {\n",
       "        vertical-align: middle;\n",
       "    }\n",
       "\n",
       "    .dataframe tbody tr th {\n",
       "        vertical-align: top;\n",
       "    }\n",
       "\n",
       "    .dataframe thead th {\n",
       "        text-align: right;\n",
       "    }\n",
       "</style>\n",
       "<table border=\"1\" class=\"dataframe\">\n",
       "  <thead>\n",
       "    <tr style=\"text-align: right;\">\n",
       "      <th></th>\n",
       "      <th>mails</th>\n",
       "      <th>labels</th>\n",
       "    </tr>\n",
       "  </thead>\n",
       "  <tbody>\n",
       "    <tr>\n",
       "      <th>0</th>\n",
       "      <td>[subject:, hi, paliourg, all, available, meds,...</td>\n",
       "      <td>SPAM</td>\n",
       "    </tr>\n",
       "    <tr>\n",
       "      <th>1</th>\n",
       "      <td>[subject:, home, loans, &amp;, refinancing, at, ve...</td>\n",
       "      <td>SPAM</td>\n",
       "    </tr>\n",
       "    <tr>\n",
       "      <th>2</th>\n",
       "      <td>[subject:, hpl, nom, for, april, 26, ,, 2001\\n...</td>\n",
       "      <td>HAM</td>\n",
       "    </tr>\n",
       "    <tr>\n",
       "      <th>3</th>\n",
       "      <td>[subject:, re, :, august, 2000, estimated, ava...</td>\n",
       "      <td>HAM</td>\n",
       "    </tr>\n",
       "    <tr>\n",
       "      <th>4</th>\n",
       "      <td>[subject:, hesco, gathering, company, ,, l, .,...</td>\n",
       "      <td>HAM</td>\n",
       "    </tr>\n",
       "  </tbody>\n",
       "</table>\n",
       "</div>"
      ],
      "text/plain": [
       "                                               mails labels\n",
       "0  [subject:, hi, paliourg, all, available, meds,...   SPAM\n",
       "1  [subject:, home, loans, &, refinancing, at, ve...   SPAM\n",
       "2  [subject:, hpl, nom, for, april, 26, ,, 2001\\n...    HAM\n",
       "3  [subject:, re, :, august, 2000, estimated, ava...    HAM\n",
       "4  [subject:, hesco, gathering, company, ,, l, .,...    HAM"
      ]
     },
     "execution_count": 2,
     "metadata": {},
     "output_type": "execute_result"
    }
   ],
   "source": [
    "df = orig_df\n",
    "df['mails'] = orig_df.apply(lambda row: row['mails'].split(\" \"), axis=1)\n",
    "df.head()"
   ]
  },
  {
   "cell_type": "markdown",
   "id": "a7bcf6e8-cdf4-46c8-93b9-6d37f6e4fdae",
   "metadata": {
    "deletable": false,
    "editable": false,
    "nbgrader": {
     "cell_type": "markdown",
     "checksum": "5fcbe7c476573ed2fa65ced5e464f729",
     "grade": false,
     "grade_id": "cell-6453cebe0ed69bed",
     "locked": true,
     "schema_version": 3,
     "solution": false,
     "task": false
    }
   },
   "source": [
    "In the following, we remove the special characters and so-called stop words (e.g. and, or, me, you)."
   ]
  },
  {
   "cell_type": "code",
   "execution_count": 3,
   "id": "395b5b04-e120-4c44-b284-be4b734bb007",
   "metadata": {
    "deletable": false,
    "editable": false,
    "nbgrader": {
     "cell_type": "code",
     "checksum": "ca0f1bc0160bbd33aaa713b889258b1a",
     "grade": false,
     "grade_id": "cell-69fefcfe6619e28b",
     "locked": true,
     "schema_version": 3,
     "solution": false,
     "task": false
    }
   },
   "outputs": [
    {
     "data": {
      "text/html": [
       "<div>\n",
       "<style scoped>\n",
       "    .dataframe tbody tr th:only-of-type {\n",
       "        vertical-align: middle;\n",
       "    }\n",
       "\n",
       "    .dataframe tbody tr th {\n",
       "        vertical-align: top;\n",
       "    }\n",
       "\n",
       "    .dataframe thead th {\n",
       "        text-align: right;\n",
       "    }\n",
       "</style>\n",
       "<table border=\"1\" class=\"dataframe\">\n",
       "  <thead>\n",
       "    <tr style=\"text-align: right;\">\n",
       "      <th></th>\n",
       "      <th>mails</th>\n",
       "      <th>labels</th>\n",
       "    </tr>\n",
       "  </thead>\n",
       "  <tbody>\n",
       "    <tr>\n",
       "      <th>0</th>\n",
       "      <td>[hi, paliourg, available, meds, available, bin...</td>\n",
       "      <td>SPAM</td>\n",
       "    </tr>\n",
       "    <tr>\n",
       "      <th>1</th>\n",
       "      <td>[home, loans, refinancing, low, rates]</td>\n",
       "      <td>SPAM</td>\n",
       "    </tr>\n",
       "    <tr>\n",
       "      <th>2</th>\n",
       "      <td>[hpl, nom, april, see, attached, file, hplno, ...</td>\n",
       "      <td>HAM</td>\n",
       "    </tr>\n",
       "    <tr>\n",
       "      <th>3</th>\n",
       "      <td>[august, estimated, owners, volumes, included,...</td>\n",
       "      <td>HAM</td>\n",
       "    </tr>\n",
       "    <tr>\n",
       "      <th>4</th>\n",
       "      <td>[hesco, gathering, company, l, l, c, meter, du...</td>\n",
       "      <td>HAM</td>\n",
       "    </tr>\n",
       "  </tbody>\n",
       "</table>\n",
       "</div>"
      ],
      "text/plain": [
       "                                               mails labels\n",
       "0  [hi, paliourg, available, meds, available, bin...   SPAM\n",
       "1             [home, loans, refinancing, low, rates]   SPAM\n",
       "2  [hpl, nom, april, see, attached, file, hplno, ...    HAM\n",
       "3  [august, estimated, owners, volumes, included,...    HAM\n",
       "4  [hesco, gathering, company, l, l, c, meter, du...    HAM"
      ]
     },
     "execution_count": 3,
     "metadata": {},
     "output_type": "execute_result"
    }
   ],
   "source": [
    "stopwords = [\n",
    "    'i', 'me', 'my', 'myself', 'we', 'our', 'ours', 'ourselves', 'you', \"you're\", \"you've\",\n",
    "    \"you'll\", \"you'd\", 'your', 'yours', 'yourself', 'yourselves', 'he', 'him', 'his', 'himself',\n",
    "    'she', \"she's\", 'her', 'hers', 'herself', 'it', \"it's\", 'its', 'itself', 'they', 'them',\n",
    "    'their', 'theirs', 'themselves', 'what', 'which', 'who', 'whom', 'this', 'that', \"that'll\",\n",
    "    'these', 'those', 'am', 'is', 'are', 'was', 'were', 'be', 'been', 'being', 'have', 'has',\n",
    "    'had', 'having', 'do', 'does', 'did', 'doing', 'a', 'an', 'the', 'and', 'but', 'if', 'or',\n",
    "    'because', 'as', 'until', 'while', 'of', 'at', 'by', 'for', 'with', 'about', 'against', \n",
    "    'between', 'into', 'through', 'during', 'before', 'after', 'above', 'below', 'to', 'from',\n",
    "    'up', 'down', 'in', 'out', 'on', 'off', 'over', 'under', 'again', 'further', 'then', 'once',\n",
    "    'here', 'there', 'when', 'where', 'why', 'how', 'all', 'any', 'both', 'each', 'few', 'more',\n",
    "    'most', 'other', 'some', 'such', 'no', 'nor', 'not', 'only', 'own', 'same', 'so', 'than',\n",
    "    'too', 'very', 's', 't', 'can', 'will', 'just', 'don', \"don't\", 'should', \"should've\", 'now',\n",
    "    'd', 'll', 'm', 'o', 're', 've', 'y', 'ain', 'aren', \"aren't\", 'couldn', \"couldn't\", 'didn',\n",
    "    \"didn't\", 'doesn', \"doesn't\", 'hadn', \"hadn't\", 'hasn', \"hasn't\", 'haven', \"haven't\", 'isn',\n",
    "    \"isn't\", 'ma', 'mightn', \"mightn't\", 'mustn', \"mustn't\", 'needn', \"needn't\", 'shan', \"shan't\",\n",
    "    'shouldn', \"shouldn't\", 'wasn', \"wasn't\", 'weren', \"weren't\", 'won', \"won't\", 'wouldn', \"wouldn't\"\n",
    "]\n",
    "\n",
    "df['mails'] = df['mails'].apply(lambda x: [word for word in x if word not in stopwords and word.isalpha()])\n",
    "df = df[df['mails'].map(len) > 0]\n",
    "df.head()"
   ]
  },
  {
   "cell_type": "markdown",
   "id": "c50642b9-f477-454f-8e7e-ce0b04d3345f",
   "metadata": {
    "deletable": false,
    "editable": false,
    "nbgrader": {
     "cell_type": "markdown",
     "checksum": "340cedc741ffc5220ef4da6c055c3089",
     "grade": false,
     "grade_id": "cell-c83c438ad1340af8",
     "locked": true,
     "schema_version": 3,
     "solution": false,
     "task": false
    }
   },
   "source": [
    "In order to train and test a model, we also have to **split the data into a training and test set**. We choose 20% of the whole dataset to be our test set, a common split value. Note, that usually we also would need a held-out set to finally asses the quality of the selected model chosen from candidates evaluated on the test set. However, we simplify the process here."
   ]
  },
  {
   "cell_type": "code",
   "execution_count": 4,
   "id": "2c93d10d-4aa8-4b89-9766-d8a1484c5a69",
   "metadata": {
    "deletable": false,
    "editable": false,
    "nbgrader": {
     "cell_type": "code",
     "checksum": "a9caf15143fbaeeb93a0f875ad0b8655",
     "grade": false,
     "grade_id": "cell-693e0fcca7fc14df",
     "locked": true,
     "schema_version": 3,
     "solution": false,
     "task": false
    }
   },
   "outputs": [],
   "source": [
    "from sklearn.model_selection import train_test_split\n",
    "\n",
    "# split into training and test set\n",
    "train, test = train_test_split(df, test_size=0.2, random_state=0)\n",
    "\n",
    "# split into classes AND training and test\n",
    "ham_train = train.loc[df['labels'] == \"HAM\"]\n",
    "spam_train = train.loc[df['labels'] == \"SPAM\"]\n",
    "\n",
    "ham_test = test.loc[df['labels'] == \"HAM\"]\n",
    "spam_test= test.loc[df['labels'] == \"SPAM\"]"
   ]
  },
  {
   "cell_type": "markdown",
   "id": "528f8185-640b-425d-9a0d-7a8f43c0d6f1",
   "metadata": {
    "deletable": false,
    "editable": false,
    "nbgrader": {
     "cell_type": "markdown",
     "checksum": "f7f89ee600c3fe5609773a755a740128",
     "grade": false,
     "grade_id": "cell-d86bd34a3c41a1a8",
     "locked": true,
     "schema_version": 3,
     "solution": false,
     "task": false
    }
   },
   "source": [
    "Furthermore, we will use standard python data structures for this task. We first transform the data sets to lists. Each mail is then represented as a list of words and the datasets are represented as a list of mails. Additionally we store the labels of the test set in order to evaluate our model."
   ]
  },
  {
   "cell_type": "code",
   "execution_count": 5,
   "id": "807dce92-61a4-4d28-9261-5d7a63b9906c",
   "metadata": {
    "deletable": false,
    "editable": false,
    "nbgrader": {
     "cell_type": "code",
     "checksum": "9f5717af37932f6079ca734104459cbd",
     "grade": false,
     "grade_id": "cell-53fe95a301ae7f07",
     "locked": true,
     "schema_version": 3,
     "solution": false,
     "task": false
    }
   },
   "outputs": [],
   "source": [
    "# Lists for training\n",
    "ham_train_list = list(ham_train[\"mails\"])\n",
    "spam_train_list = list(spam_train[\"mails\"])\n",
    "\n",
    "# Lists of the test data sets and the corresponding labels\n",
    "ham_test_list = list(ham_test[\"mails\"])\n",
    "spam_test_list = list(spam_test[\"mails\"])\n",
    "labels = [\"HAM\"] * len(ham_test_list) + [\"SPAM\"] * len(spam_test_list)\n",
    "\n",
    "# the whole training corpus\n",
    "train_texts = ham_train_list + spam_train_list"
   ]
  },
  {
   "attachments": {},
   "cell_type": "markdown",
   "id": "f29cf8ba-a37d-4099-9d59-8979d9bed7a5",
   "metadata": {
    "deletable": false,
    "editable": false,
    "nbgrader": {
     "cell_type": "markdown",
     "checksum": "efca6e59cac523a4d497164e38abb9db",
     "grade": false,
     "grade_id": "cell-4ab7e718929a3aea",
     "locked": true,
     "schema_version": 3,
     "solution": false,
     "task": false
    }
   },
   "source": [
    "### Task 3.1 (1.5 points)\n",
    "\n",
    "Your first actual task is now to compute the **feature set**. To do so, consider all the words in the training set but make sure they only occur only once. Implement the function `create_vocabulary(dataset)` which expects a list `dataset` (e.g. `train_texts`) and returns a `set`."
   ]
  },
  {
   "cell_type": "code",
   "execution_count": 6,
   "id": "3395581c-2321-4e23-9a44-13baa26876d8",
   "metadata": {
    "deletable": false,
    "nbgrader": {
     "cell_type": "code",
     "checksum": "0853abe915059fde32f3d571cdafe118",
     "grade": false,
     "grade_id": "cell-29439cdad601761f",
     "locked": false,
     "schema_version": 3,
     "solution": true,
     "task": false
    }
   },
   "outputs": [],
   "source": [
    "def create_vocabulary(dataset) -> set:\n",
    "    res: set = set()\n",
    "    for text in dataset:\n",
    "        for word in text:\n",
    "            res.add(word)\n",
    "    \n",
    "    return res"
   ]
  },
  {
   "cell_type": "code",
   "execution_count": null,
   "id": "cbb80594-a83d-410e-816d-c2b5001a2dd1",
   "metadata": {
    "deletable": false,
    "editable": true,
    "nbgrader": {
     "cell_type": "code",
     "checksum": "5fb540ef35bced1c7588b69bd247c646",
     "grade": false,
     "grade_id": "cell-dc32e1a4814da898",
     "locked": true,
     "schema_version": 3,
     "solution": false,
     "task": false
    }
   },
   "outputs": [],
   "source": [
    "### PLAYGROUND\n",
    "# You can use this cell to test out your implementation. Everything in this cell will be ignored during grading.\n",
    "print(create_vocabulary(train_texts[:10]))"
   ]
  },
  {
   "cell_type": "code",
   "execution_count": null,
   "id": "a63652d3-bd5f-49ec-9dc7-a4d68d5e9d0c",
   "metadata": {
    "deletable": false,
    "editable": false,
    "nbgrader": {
     "cell_type": "code",
     "checksum": "53140c0523f6305c99d2ddbc3b157451",
     "grade": true,
     "grade_id": "cell-fbdb6d4ede737a6e",
     "locked": true,
     "points": 1.5,
     "schema_version": 3,
     "solution": false,
     "task": false
    }
   },
   "outputs": [],
   "source": [
    "# Even this cell seems empty, it contains automatic tests. Please do not remove this cell and just ignore it."
   ]
  },
  {
   "cell_type": "markdown",
   "id": "e7ea97a4-44f7-43a5-b381-d59d7ec3cb4c",
   "metadata": {
    "deletable": false,
    "editable": false,
    "nbgrader": {
     "cell_type": "markdown",
     "checksum": "df16f09cd8032f17a2cc9058686ff928",
     "grade": false,
     "grade_id": "cell-81044215cb1d6401",
     "locked": true,
     "schema_version": 3,
     "solution": false,
     "task": false
    }
   },
   "source": [
    "We use those words as features. To calculate the probability distributions for both classes (`'HAM'` and `'SPAM'`) now, we first create two large mails, each representing their respective class, by simply concatenating all mails from the respective class. "
   ]
  },
  {
   "cell_type": "code",
   "execution_count": 7,
   "id": "015e24ba-1666-46b9-b823-484a2558b017",
   "metadata": {
    "deletable": false,
    "editable": false,
    "nbgrader": {
     "cell_type": "code",
     "checksum": "49b45382b0cae91da5380511826b6cdb",
     "grade": false,
     "grade_id": "cell-cb505911f0873e2e",
     "locked": true,
     "schema_version": 3,
     "solution": false,
     "task": false
    }
   },
   "outputs": [],
   "source": [
    "def flatten(texts):\n",
    "    return [word for text in texts for word in text]\n",
    "\n",
    "big_ham_mail = flatten(ham_train_list)\n",
    "big_spam_mail = flatten(spam_train_list)"
   ]
  },
  {
   "attachments": {},
   "cell_type": "markdown",
   "id": "bd75c3d3-15b4-4a91-9e26-e5f5de375cde",
   "metadata": {
    "deletable": false,
    "editable": false,
    "nbgrader": {
     "cell_type": "markdown",
     "checksum": "00866329e93512b097e0182106200ff0",
     "grade": false,
     "grade_id": "cell-d3c8b2fda2f00f17",
     "locked": true,
     "schema_version": 3,
     "solution": false,
     "task": false
    }
   },
   "source": [
    "### Task 3.2 (2.5 points)\n",
    "\n",
    "On those two large mails, we want to compute the distribution for their classes, respectively. To do so, implement the function `get_log_distribution(mail, vocabulary)` that calculates the log probability (as described above) of each word in the vocabulary for a mail class (SPAM or HAM) and returns a `dictionary` with the format `{word: log_prob}`, given a vocabulary. \n",
    "\n",
    "The probability distributions, one for each class, then represent our model. \n",
    "\n",
    "Start with an initial count of 1 for each word, to realize add one smoothing."
   ]
  },
  {
   "cell_type": "code",
   "execution_count": 8,
   "id": "60b8b654-3254-41b5-8d07-a06b5c56fccf",
   "metadata": {
    "deletable": false,
    "nbgrader": {
     "cell_type": "code",
     "checksum": "c624fccdb8c02f3bcfc35ef655b5c82f",
     "grade": false,
     "grade_id": "cell-edfd605e368d51ac",
     "locked": false,
     "schema_version": 3,
     "solution": true,
     "task": false
    }
   },
   "outputs": [],
   "source": [
    "from math import log\n",
    "\n",
    "def get_log_distribution(mail: list[str] , vocab: list[str]):\n",
    "    # Initialize every word in 'vocab' with count of one\n",
    "    res: dict[str, float] = dict()\n",
    "    for word in vocab:\n",
    "        res[word] = 1\n",
    "\n",
    "    for word in mail:\n",
    "        res[word] += 1\n",
    "\n",
    "\n",
    "    # Here, 'res' contains the _count_ of each word in the given mail (+ 1)\n",
    "    norm_factor: int = len(mail) + len(vocab) # sum_(w' in V) count(w', C) is just len(mail)\n",
    "    for word in res.keys():\n",
    "        res[word] = log(res[word]/norm_factor)\n",
    "\n",
    "    return res"
   ]
  },
  {
   "cell_type": "code",
   "execution_count": null,
   "id": "ae6592d3-a54a-4314-9153-51b74166f775",
   "metadata": {
    "deletable": false,
    "editable": true,
    "nbgrader": {
     "cell_type": "code",
     "checksum": "2919d081bc4e7e15f7ba87d0dc156cd4",
     "grade": false,
     "grade_id": "cell-cce540b503fdbeda",
     "locked": true,
     "schema_version": 3,
     "solution": false,
     "task": false
    }
   },
   "outputs": [],
   "source": [
    "### PLAYGROUND\n",
    "# You can use this cell to test out your implementation. Everything in this cell will be ignored during grading.\n"
   ]
  },
  {
   "cell_type": "code",
   "execution_count": null,
   "id": "42da21bd-bbac-4e43-9365-099fe4cc47ba",
   "metadata": {
    "deletable": false,
    "editable": false,
    "nbgrader": {
     "cell_type": "code",
     "checksum": "52383e45d280c4a40397dd314e7dac8a",
     "grade": true,
     "grade_id": "cell-e3177a17c0f9dbfd",
     "locked": true,
     "points": 2.5,
     "schema_version": 3,
     "solution": false,
     "task": false
    }
   },
   "outputs": [],
   "source": [
    "# Even this cell seems empty, it contains automatic tests. Please do not remove this cell and just ignore it."
   ]
  },
  {
   "attachments": {},
   "cell_type": "markdown",
   "id": "a77c4779-84bf-43e8-a62d-568a3166a159",
   "metadata": {
    "deletable": false,
    "editable": false,
    "nbgrader": {
     "cell_type": "markdown",
     "checksum": "00a6f40b994e82f5cade153f7fc24daf",
     "grade": false,
     "grade_id": "cell-a47758662324b90d",
     "locked": true,
     "schema_version": 3,
     "solution": false,
     "task": false
    }
   },
   "source": [
    "### Task 3.3 (4 points)\n",
    "\n",
    "Finally, we can implement our Bayes classifier. \n",
    "\n",
    "Implement the function `predict_bayes(mail, log_ham_distribution, log_spam_distribution)` that predicts the label for a given mail `mail_item`. To do so, add up the log probability for each word in the mail and the prior probability of a class:\n",
    "\n",
    "$log(Pr[m|C]) + log(Pr[C])$\n",
    "\n",
    "and return the name of the class (i.e. `\"HAM\"` or `\"SPAM\"`) with the highest sum out of all classes. If a word occurs multiple times, add the corresponding probability multiple times to the overall probability.\n",
    "\n",
    "You see that we also need the priors for each class (`\"HAM\"` and `\"SPAM\"`). This can be done by simply using the share of each class in the whole dataset as follows (You can use the given values in your function).\n",
    "\n",
    "*Hint: The log probability of the prior is only added once.*"
   ]
  },
  {
   "cell_type": "code",
   "execution_count": 9,
   "id": "35f2659e-934f-40a3-b8b4-70635cfeb1a3",
   "metadata": {
    "deletable": false,
    "editable": false,
    "nbgrader": {
     "cell_type": "code",
     "checksum": "16e8f151361622e5c77b63b0215c71e0",
     "grade": false,
     "grade_id": "cell-fd660c28e44065bd",
     "locked": true,
     "schema_version": 3,
     "solution": false,
     "task": false
    }
   },
   "outputs": [],
   "source": [
    "prior_ham = len(ham_train) / len(train_texts)\n",
    "prior_spam = len(spam_train) / len(train_texts)"
   ]
  },
  {
   "cell_type": "code",
   "execution_count": 12,
   "id": "ea7e94d1-ae90-4500-913a-b5d485bc31e4",
   "metadata": {
    "deletable": false,
    "nbgrader": {
     "cell_type": "code",
     "checksum": "f7c784acec6d37ee13bd90c68be766d3",
     "grade": false,
     "grade_id": "cell-5b94918fd7f2b4d4",
     "locked": false,
     "schema_version": 3,
     "solution": true,
     "task": false
    }
   },
   "outputs": [],
   "source": [
    "import math\n",
    "\n",
    "def predict_bayes(mail, log_ham_distribution: dict[str, float], log_spam_distribution: dict[str, float]) -> str:\n",
    "    ham_prob: float = 0.\n",
    "    spam_prob: float = 0.\n",
    "\n",
    "    for word in mail:\n",
    "        # Any word not in the vocabulary gets probability 0\n",
    "        ham_prob += log_ham_distribution.get(word, 0)\n",
    "        spam_prob += log_spam_distribution.get(word, 0)\n",
    "    \n",
    "    ham_prob += log(prior_ham)\n",
    "    spam_prob += log(prior_spam)\n",
    "\n",
    "    if ham_prob > spam_prob: # > or >= is a choice\n",
    "        return \"HAM\"\n",
    "    else:\n",
    "        return \"SPAM\""
   ]
  },
  {
   "cell_type": "code",
   "execution_count": null,
   "id": "9578e618-9ec5-4043-a0e6-54d37ac91a8f",
   "metadata": {
    "deletable": false,
    "editable": true,
    "nbgrader": {
     "cell_type": "code",
     "checksum": "7a28d479e424a1845b2c23119a30b8b5",
     "grade": false,
     "grade_id": "cell-c9650f3518574dd6",
     "locked": true,
     "schema_version": 3,
     "solution": false,
     "task": false
    }
   },
   "outputs": [],
   "source": [
    "### PLAYGROUND\n",
    "# You can use this cell to test out your implementation. Everything in this cell will be ignored during grading.\n"
   ]
  },
  {
   "cell_type": "code",
   "execution_count": null,
   "id": "9be809cf-200e-4226-83b3-ee0928e475f5",
   "metadata": {
    "deletable": false,
    "editable": false,
    "nbgrader": {
     "cell_type": "code",
     "checksum": "358d2278e39c5986c9b876ab204cac6f",
     "grade": true,
     "grade_id": "cell-b84b3b62cb1213f9",
     "locked": true,
     "points": 4,
     "schema_version": 3,
     "solution": false,
     "task": false
    }
   },
   "outputs": [],
   "source": [
    "# Even this cell seems empty, it contains automatic tests. Please do not remove this cell and just ignore it."
   ]
  },
  {
   "attachments": {},
   "cell_type": "markdown",
   "id": "8b4d8994-efeb-4c4e-82ea-03c00583edab",
   "metadata": {
    "deletable": false,
    "editable": false,
    "nbgrader": {
     "cell_type": "markdown",
     "checksum": "9d107ca32f90add819b2d20e0a889624",
     "grade": false,
     "grade_id": "cell-de1c42e2bed11335",
     "locked": true,
     "schema_version": 3,
     "solution": false,
     "task": false
    }
   },
   "source": [
    "### Task 3.4\n",
    "\n",
    "If you have done the earlier tasks correctly, you can use this task to visualize the evaluation results of your classifier on the earlier created test set. You do not have to implement anything yourself, this is only for visualization (and fun)."
   ]
  },
  {
   "cell_type": "code",
   "execution_count": 13,
   "id": "aaf8dd13-56ad-4eca-9562-ec4a29599bc7",
   "metadata": {
    "deletable": false,
    "editable": false,
    "nbgrader": {
     "cell_type": "code",
     "checksum": "371550f8399200c04eaeba63e6adb90b",
     "grade": false,
     "grade_id": "cell-e88bee75dd55dae6",
     "locked": true,
     "schema_version": 3,
     "solution": false,
     "task": false
    }
   },
   "outputs": [
    {
     "name": "stdout",
     "output_type": "stream",
     "text": [
      "              precision    recall  f1-score   support\n",
      "\n",
      "         HAM       0.98      0.99      0.98       726\n",
      "        SPAM       0.97      0.95      0.96       303\n",
      "\n",
      "    accuracy                           0.98      1029\n",
      "   macro avg       0.98      0.97      0.97      1029\n",
      "weighted avg       0.98      0.98      0.98      1029\n",
      "\n"
     ]
    },
    {
     "data": {
      "image/png": "[encoded data removed]",
      "text/plain": [
       "<Figure size 640x480 with 2 Axes>"
      ]
     },
     "metadata": {},
     "output_type": "display_data"
    }
   ],
   "source": [
    "from sklearn.metrics import confusion_matrix, classification_report, ConfusionMatrixDisplay\n",
    "\n",
    "vocab = create_vocabulary(train_texts) # You forgot this one\n",
    "log_distribution_HAM = get_log_distribution(big_ham_mail, vocab)\n",
    "log_distribution_SPAM = get_log_distribution(big_spam_mail, vocab)\n",
    "\n",
    "# Make predictions on the test set\n",
    "predicted = []\n",
    "for mail in ham_test_list+spam_test_list:\n",
    "    if predict_bayes(mail, log_distribution_HAM, log_distribution_SPAM) == \"SPAM\":\n",
    "        predicted.append(\"SPAM\")\n",
    "    else:\n",
    "        predicted.append(\"HAM\")\n",
    "\n",
    "# Visualize metrics\n",
    "cm = confusion_matrix(labels, predicted)\n",
    "disp = ConfusionMatrixDisplay(confusion_matrix=cm, display_labels=[\"HAM\", \"SPAM\"])\n",
    "disp.plot()\n",
    "print(classification_report(labels, predicted))"
   ]
  },
  {
   "cell_type": "markdown",
   "id": "8a3b01fb-82ea-4461-b1bb-cb4b2299b3fe",
   "metadata": {
    "deletable": false,
    "editable": false,
    "nbgrader": {
     "cell_type": "markdown",
     "checksum": "5a89665176f981d1541bdc03a4ab418e",
     "grade": false,
     "grade_id": "cell-9a006cce1ed5c399",
     "locked": true,
     "schema_version": 3,
     "solution": false,
     "task": false
    }
   },
   "source": [
    "## 4. Exam Example Tasks (0.5 points)\n",
    "\n",
    "> Note: This task is awarded with 0.5 points only if it has been seriously addressed, regardless of whether the answer is correct.\n",
    "\n",
    "### Task 4.1 - PGP\n",
    "\n",
    "Alice uses PGP and assigns a weight of $\\frac{1}{2}$ to fully trusted introducers and a weight of $\\frac{1}{3}$ to partially trusted introducers. Alice trusts herself with a weight of 1.\n",
    "\n",
    "The graph below shows a subset of PGP users. The arrows indicate who has singed whose key, e.g., Alfred has signed Daisy's key. Write for each box the key legitimacy (using the letters A - F) that would be assigned by Alice assuming the weights from above.\n",
    "\n",
    "![](./pgp.png)"
   ]
  },
  {
   "cell_type": "markdown",
   "id": "936afbca-5f6c-466c-8641-2b90a778b714",
   "metadata": {
    "deletable": false,
    "nbgrader": {
     "cell_type": "markdown",
     "checksum": "80d8ab4e6432f302b354d0a401fc88d0",
     "grade": true,
     "grade_id": "cell-2e277bfeea76f047",
     "locked": false,
     "points": 0.5,
     "schema_version": 3,
     "solution": true,
     "task": false
    }
   },
   "source": [
    "First, for each key certificate, we calculate the trust value (syntax: 'Issuer' -> 'Owner of PK'):\n",
    "- 'Alice' -> 'A': Trust level 1\n",
    "- 'Alice' -> 'B': Trust level 1\n",
    "- 'Alice' -> 'C': Trust level 1\n",
    "- 'A' -> 'D': Trust level 1/2\n",
    "- 'C' -> 'D': Trust level 1/2 \n",
    "- 'C' -> 'E': Trust level 1/2\n",
    "- 'D' -> 'E': Trust level 0\n",
    "\n",
    "From this, we can calculate the key legitimacy of key\n",
    "- A to be 1 (since 1 * 1 >= 1)\n",
    "- B to be 1 (since 2 * 1/2 >= 1)\n",
    "- C to be 1 (trivially Alice thinks her own key is legitimate)\n",
    "- D to be 1 (since 1 * 1 >= 1)\n",
    "- E to be 1 (since 1 * 1 >= 1)\n",
    "- F to be 0 (since 1/2 * 1 < 1)"
   ]
  },
  {
   "cell_type": "markdown",
   "id": "d7d63d74-b2d0-4652-8206-041db4d46678",
   "metadata": {
    "deletable": false,
    "editable": false,
    "nbgrader": {
     "cell_type": "markdown",
     "checksum": "ade5ab6b7df19e9e77e201919538b27a",
     "grade": false,
     "grade_id": "cell-402add3eca7d6c47",
     "locked": true,
     "schema_version": 3,
     "solution": false,
     "task": false
    }
   },
   "source": [
    "### Task 4.2 - DNSSEC\n",
    "\n",
    "The user uses DNS queries **without** DNSSEC. Name **two** possible attacks for this scenario."
   ]
  },
  {
   "cell_type": "markdown",
   "id": "04c5887e-2fa7-45de-9196-7d6ff634e9a8",
   "metadata": {
    "deletable": false,
    "nbgrader": {
     "cell_type": "markdown",
     "checksum": "d5200d6fbaece73de465a351e7ce23ea",
     "grade": true,
     "grade_id": "cell-f02f61d37d5acd8c",
     "locked": false,
     "points": 0,
     "schema_version": 3,
     "solution": true,
     "task": false
    }
   },
   "source": [
    "- **Cache poisoning attack**: A malicious actor attacks a victim NS & poisons its cache with faked RRs by first _requesting_ an RR from the victim NS & then _immediately sending_ a fake RR for the request _back_ to the victim NS\n",
    "- **Eavesdropping attack**: Since DNS queries are unencrypted, they can be collected by a malicious actor to gain metadata information about us"
   ]
  },
  {
   "cell_type": "markdown",
   "id": "a1a62cea-6cd6-4868-b3d2-7b369cfee42f",
   "metadata": {
    "deletable": false,
    "editable": false,
    "nbgrader": {
     "cell_type": "markdown",
     "checksum": "e3c63af744fa6367087db9edebdebc91",
     "grade": false,
     "grade_id": "cell-edc4f96fa0c024c9",
     "locked": true,
     "schema_version": 3,
     "solution": false,
     "task": false
    }
   },
   "source": [
    "Now, the user uses DNSSEC. Are the two attacks you named above still possible? If no, **explain** what feature of DNSSEC prevents it. If yes, **propose** a solution to prevent the attack."
   ]
  },
  {
   "cell_type": "markdown",
   "id": "77c489c9-6d94-41f8-9d11-cd5d60f442b6",
   "metadata": {
    "deletable": false,
    "nbgrader": {
     "cell_type": "markdown",
     "checksum": "ed761582273a5846a74d759113348788",
     "grade": true,
     "grade_id": "cell-949e8322f0af2526",
     "locked": false,
     "points": 0,
     "schema_version": 3,
     "solution": true,
     "task": false
    }
   },
   "source": [
    "- **Cache poisoning** is made **impossible** (due to RRs now needing to be _signed_ by an RRSIG RR, which entails a _chain of trust_ that can be verified & _not faked_ by the malicious actor)\n",
    "- **Eavesdropping** is **still possible** (integrity protecting DNS RRs != protecting the sender's _queries_ for those RRs; one would need to _use DoT (DNS over TLS)_ to prevent this type of attack)"
   ]
  },
  {
   "attachments": {},
   "cell_type": "markdown",
   "id": "9a0a6ecb-8c4d-4e8d-a3cb-c91a557a1a99",
   "metadata": {
    "deletable": false,
    "editable": false,
    "nbgrader": {
     "cell_type": "markdown",
     "checksum": "2cba95d1f5d0bccf51160f5bce115f3d",
     "grade": false,
     "grade_id": "cell-d66cbc8a7669c4c0",
     "locked": true,
     "schema_version": 3,
     "solution": false,
     "task": false
    }
   },
   "source": [
    "## 5. Feedback (0.5 points)\n",
    "\n",
    "> Note: This task is awarded with 0.5 points only if there is feedback in any form to this exercise. It is also okay to state what was especially nice or rewarding. Literally just writing \"anything\" is not enough. Any feedback will improve the assignments.\n",
    "\n",
    "You aced one more assignment, you are nearly there! Since we want to know how it went and how we might improve the exercises, we include the following task. Here, you can write constructive feedback! You even get 0.5 points for it if you write anything. But don't worry, we do not grade the content itself!"
   ]
  },
  {
   "cell_type": "markdown",
   "id": "84cfc5c2-08c7-402c-a34e-dfd3fb8aa7ad",
   "metadata": {
    "deletable": false,
    "nbgrader": {
     "cell_type": "markdown",
     "checksum": "cabd66279ecbf0f978c67577f6e63e75",
     "grade": true,
     "grade_id": "cell-447a9ed38a3ab2b3",
     "locked": false,
     "points": 0.5,
     "schema_version": 3,
     "solution": true,
     "task": false
    }
   },
   "source": [
    "We have already stated it twice, and we are going to state it a third time: Making us essentially write down documentation of some Python module in Task 1 again is _neither_ fun _nor_ helps create understanding for the lecture's contents. As we already proposed: If the topic does not lend itself well to programming tasks, then _just don't give us programming tasks_ for that topic; rather, just give us _theoretical, written exercises_. You _already did so_ in Task 2, which we find very good: One _small_ programming exercise, accompanied by tasks questioning our understanding, deepening our \"how & why\" understanding of the lecture's topics, and not just the \"what was the algorithm again?\" aspect.\n",
    "\n",
    "Exercise 3 was very fun; also, since we in this group are enrolled in the \"Elements of Machine Learning & Data Science\" lecture this semester, this was (probably unintentionally) a _great repetition_ of _that_ lecture's content on Natural Language Processing."
   ]
  }
 ],
 "metadata": {
  "kernelspec": {
   "display_name": "Python 3",
   "language": "python",
   "name": "python3"
  },
  "language_info": {
   "codemirror_mode": {
    "name": "ipython",
    "version": 3
   },
   "file_extension": ".py",
   "mimetype": "text/x-python",
   "name": "python",
   "nbconvert_exporter": "python",
   "pygments_lexer": "ipython3",
   "version": "3.12.7"
  }
 },
 "nbformat": 4,
 "nbformat_minor": 5
}
