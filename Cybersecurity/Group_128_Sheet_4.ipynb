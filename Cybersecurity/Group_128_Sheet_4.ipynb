{
 "cells": [
  {
   "attachments": {},
   "cell_type": "markdown",
   "id": "ac1dc52e-51c9-413f-80ad-9c4c7fa0e1b3",
   "metadata": {
    "deletable": false,
    "editable": false,
    "nbgrader": {
     "cell_type": "markdown",
     "checksum": "05d4c32ac7dcfe0cc0f72be090ecf59e",
     "grade": false,
     "grade_id": "cell-8f9d282d82872428",
     "locked": true,
     "schema_version": 3,
     "solution": false,
     "task": false
    }
   },
   "source": [
    "# IT Security - Sheet 4 \"Authentication and Key Agreement\"\n",
    "\n",
    "**Total achievable points: 20**\n",
    "\n",
    "**Released: 28.11.2024**\n",
    "\n",
    "**Submission Deadline: 05.12.2024**"
   ]
  },
  {
   "cell_type": "markdown",
   "id": "d98f49f0-191b-418f-b829-12df7dc08bd9",
   "metadata": {},
   "source": [
    "Group: 128\n",
    "\n",
    "Names and matriculation numbers of **ALL** team members: Samuel Rode (445160), Nils Maasch (445796), Pau Azpeita Bergos (443428), Gereon Geuchen (445328), Ben-Jay Huckebrink (445219)\n",
    "\n",
    "Format: John Doe (999999)"
   ]
  },
  {
   "cell_type": "markdown",
   "id": "5eb878fa-b57e-4ceb-813b-20811e8f5664",
   "metadata": {
    "deletable": false,
    "editable": false,
    "nbgrader": {
     "cell_type": "markdown",
     "checksum": "94a75b7c2f4a744f09ccd0a091accb81",
     "grade": false,
     "grade_id": "cell-a3cf8b93729880e9",
     "locked": true,
     "schema_version": 3,
     "solution": false,
     "task": false
    }
   },
   "source": [
    "**Important Information**\n",
    "\n",
    "The assignments have to be submitted by groups of 5 students. Even if you are registered in RWTHmoodle to a submission group, **please include the group number as well as the name and matriculation number of every group member in this notebook**. In case you are not part of a submission group and want to hand in assignments, please contact `ba-itsec@itsec.rwth-aachen.de`. We will then assign you to a submission group.\n",
    "\n",
    "Enter your solutions for the tasks in the respective cells of this notebook. These cells are either marked by \"YOUR ANSWER HERE\" or `#YOUR CODE HERE`. In code cells, you have to remove `raise NotImplementedError()`. Please do not add any new cells or remove existing ones, especially do not copy cells. Cells marked with `###PLAYGROUND` can be used to test your implementation and generate output (see example for the first tasks). Please do not add any other output or tests in the cell of the task, just implement the function with the header provided. If you want to test your implementation, use the `###PLAYGROUND` cells. They will be ignored during grading. **Do not change any other cells or add new ones.**\n",
    "\n",
    "Please **do not import any further Python packages** except the default Python ones and the ones that are explicitly given by us.\n",
    "\n",
    "In this exercise two additional packages are needed. The already known Cryptography package from the second assignment is needed. If not already installed you can install it using `pip install cryptography`. Additionally, another package is needed to interactively display graphs in this assignment. This package is called `plotly` and can be installed using `pip install plotly`. Please make sure to install the packages in the same environment as your jupyter notebook (`ipykernel`)."
   ]
  },
  {
   "cell_type": "markdown",
   "id": "7a4acb24-dc28-46f3-868f-e06ee730bbd5",
   "metadata": {
    "deletable": false,
    "editable": false,
    "nbgrader": {
     "cell_type": "markdown",
     "checksum": "b6dd1d22cbc09823d182150002012a5b",
     "grade": false,
     "grade_id": "cell-138ba3b595f69256",
     "locked": true,
     "schema_version": 3,
     "solution": false,
     "task": false
    }
   },
   "source": [
    "## Content of this Assignment\n",
    "\n",
    "As we have learned a lot about RSA and asymmetric cryptography in the last assignment, we will now deepen our knowledge and implement an improved RSA backdoor in the first task. Afterwards we will deal with some more applications of asymmetric cryptography, especially about the Diffie-Hellman Key Agreement and Certificates. At the end of this exercise, you will again be given sample tasks."
   ]
  },
  {
   "attachments": {},
   "cell_type": "markdown",
   "id": "324db89d-f748-4d7c-a575-2c861cacd778",
   "metadata": {
    "deletable": false,
    "editable": false,
    "nbgrader": {
     "cell_type": "markdown",
     "checksum": "0ef1d3c9da424520b2773075d7bfa188",
     "grade": false,
     "grade_id": "cell-4cef1e4c03e15f39",
     "locked": true,
     "schema_version": 3,
     "solution": false,
     "task": false
    }
   },
   "source": [
    "## 1. Better RSA Backdoor (7 points)\n",
    "\n",
    "In the last assignment you implemented a naive RSA backdoor. However, one drawback of this approach was that anyone who observed two public keys generated with this backdoor could exploit it as we fixed one of the primes."
   ]
  },
  {
   "cell_type": "markdown",
   "id": "64565706-73cb-4f70-814a-4b4ce6095474",
   "metadata": {
    "deletable": false,
    "editable": false,
    "nbgrader": {
     "cell_type": "markdown",
     "checksum": "a68e9e93e9620c8b03390aa88d0ba1c9",
     "grade": false,
     "grade_id": "cell-50e6199dcb616341",
     "locked": true,
     "schema_version": 3,
     "solution": false,
     "task": false
    }
   },
   "source": [
    "### Task 1.1 (4 points)\n",
    "\n",
    "Now, the smart-lock manufacturer BackDoor Locks Inc. wants to include a backdoor in the key generation module in one of their new locks. However, they want to make sure that only them can use the backdoor. Hence, they task you to implement this since they trust you as their local security expert regarding asymmetric cryptography.\n",
    "\n",
    "As a preparation they already generated a key pair they want to use to secure the backdoor. Only someone with access to this key should be able to use this backdoor. This key pair is a RSA key pair given as `(e_man, N_man), d_man`.\n",
    "Furthermore, they already included some primes `p_man` and `q_man` that you should use which were generated [randomly](https://xkcd.com/221/). These are given below as `p_man, q_man`."
   ]
  },
  {
   "cell_type": "code",
   "execution_count": 28,
   "id": "3190a7c2-adef-441e-b6b0-42150072563b",
   "metadata": {
    "deletable": false,
    "editable": false,
    "nbgrader": {
     "cell_type": "code",
     "checksum": "eb1d2ec2215097a094c77808141230bc",
     "grade": false,
     "grade_id": "cell-e9241dca08c338f7",
     "locked": true,
     "schema_version": 3,
     "solution": false,
     "task": false
    }
   },
   "outputs": [],
   "source": [
    "# manufacturer key\n",
    "e_man = 5\n",
    "N_man = 10025419933826261\n",
    "d_man = 2005083946714445\n",
    "\n",
    "# two very random primes\n",
    "p_man = 17\n",
    "q_man = 19\n",
    "\n",
    "from math import gcd"
   ]
  },
  {
   "attachments": {},
   "cell_type": "markdown",
   "id": "d0c363eb-fda4-4ead-9575-a64f4826b103",
   "metadata": {
    "deletable": false,
    "editable": false,
    "nbgrader": {
     "cell_type": "markdown",
     "checksum": "c4df3a0910231d9c97f1c94527766de9",
     "grade": false,
     "grade_id": "cell-798d34c8b73992a1",
     "locked": true,
     "schema_version": 3,
     "solution": false,
     "task": false
    }
   },
   "source": [
    "The first thing to do now is to implement a function which will generate a valid RSA key pair that incorporates this backdoor.\n",
    "\n",
    "You need to implement the function `generate_backdoored_key(e_man: int, N_man: int, d_man: int, p: int, q: int) -> tuple[int, int, int]` which generates a new key pair `(e, N, d)`. This key should be based on the manufacturer's key (as given above) such that the manufacturer can use the \"better backdoor\" as introduced in the lecture on slide 30. Use the primes given, but still make sure that everything you calculate fulfills the needed properties. The function arguments and returns are as follows:\n",
    "- `e_man: int`, `N_man: int`, `d_man: int`: the manufacturer's secret key (given above)\n",
    "- `p`, `q`: the primes used to generate the new key (in this case given above)\n",
    "\n",
    "Your function should return a tuple of the form `(e, N, d)` and `(0, 0, 0)` if e is not invertible mod `phi(n)`.\n",
    "\n",
    "*Hint: This time, you are allowed to use the `gcd` function from the `math` module to calculate the greatest common divisor of two integers and the Python `pow` function to calculate the inverse of a integer modulo another integer (which uses the extended euclidean algorithm to achieve that). This [function](https://docs.python.org/3/library/math.html#math.gcd) is already imported in the cell above.*"
   ]
  },
  {
   "cell_type": "code",
   "execution_count": null,
   "id": "3653a4a1-75d3-4185-bbc2-bb93e60f6be9",
   "metadata": {
    "deletable": false,
    "nbgrader": {
     "cell_type": "code",
     "checksum": "4fd2576afaacc5f4974a3269275cb521",
     "grade": false,
     "grade_id": "cell-a03eb3e122b27966",
     "locked": false,
     "schema_version": 3,
     "solution": true,
     "task": false
    }
   },
   "outputs": [],
   "source": [
    "def generate_backdoored_key(e_man: int, N_man: int, d_man:int, p: int, q: int) -> tuple[int, int, int]:\n",
    "    # YOUR CODE HERE\n",
    "    N = p * q\n",
    "    \n",
    "    e = pow(p, e_man, N_man)\n",
    "    \n",
    "    phi = (p - 1) * (q - 1)\n",
    "    if gcd(e, phi) != 1:\n",
    "        return (0, 0, 0)\n",
    "    \n",
    "    d = pow(e, -1, phi)\n",
    "    return (e, N, d)\n"
   ]
  },
  {
   "cell_type": "code",
   "execution_count": 3,
   "id": "5fab0d95-a8fc-41aa-a6e1-0eaa267cf651",
   "metadata": {
    "deletable": false,
    "editable": true,
    "nbgrader": {
     "cell_type": "code",
     "checksum": "5fedd92f45a1c65cc0905e9e0589c9fc",
     "grade": false,
     "grade_id": "cell-e31b5040e71f60c6",
     "locked": true,
     "schema_version": 3,
     "solution": false,
     "task": false
    }
   },
   "outputs": [
    {
     "name": "stdout",
     "output_type": "stream",
     "text": [
      "(1419857, 323, 17)\n"
     ]
    }
   ],
   "source": [
    "### PLAYGROUND\n",
    "# You can use this cell to test out your implementation. Everything in this cell will be ignored during grading.\n",
    "\n",
    "print(generate_backdoored_key(e_man, N_man, d_man, p_man, q_man))"
   ]
  },
  {
   "cell_type": "code",
   "execution_count": 4,
   "id": "08a536a5-2c51-4e05-85b1-3c5de0b0d6ca",
   "metadata": {
    "deletable": false,
    "editable": false,
    "nbgrader": {
     "cell_type": "code",
     "checksum": "04aac30ebd0571dca7fa8d881cfcc2bb",
     "grade": true,
     "grade_id": "cell-417332d520b127e0",
     "locked": true,
     "points": 0,
     "schema_version": 3,
     "solution": false,
     "task": false
    }
   },
   "outputs": [],
   "source": [
    "# This test just checks your solution\n",
    "\n",
    "res = generate_backdoored_key(e_man, N_man, d_man, p_man, q_man)\n",
    "assert type(res) == tuple\n",
    "assert len(res) == 3\n",
    "assert type(res[0]) == int\n",
    "assert type(res[1]) == int\n",
    "assert type(res[2]) == int\n",
    "\n",
    "assert generate_backdoored_key(e_man, N_man, d_man, p_man, q_man) == (1419857, 323, 17)"
   ]
  },
  {
   "cell_type": "code",
   "execution_count": 5,
   "id": "c491f32e-ce69-4074-b7b6-33d8461b1f57",
   "metadata": {
    "deletable": false,
    "editable": false,
    "nbgrader": {
     "cell_type": "code",
     "checksum": "ca77f3710bc182b6a22db9f8449775a8",
     "grade": true,
     "grade_id": "cell-5ab51bca2c71afdb",
     "locked": true,
     "points": 4,
     "schema_version": 3,
     "solution": false,
     "task": false
    }
   },
   "outputs": [],
   "source": [
    "# Even this cell seems empty, it contains automatic tests. Please do not remove this cell and just ignore it."
   ]
  },
  {
   "attachments": {},
   "cell_type": "markdown",
   "id": "5f049efe-e443-4cdd-b553-212153ad80a3",
   "metadata": {
    "deletable": false,
    "editable": false,
    "nbgrader": {
     "cell_type": "markdown",
     "checksum": "d50e1967a244c31a89d48e2031b0529e",
     "grade": false,
     "grade_id": "cell-6dd3c0e4d25abdea",
     "locked": true,
     "schema_version": 3,
     "solution": false,
     "task": false
    }
   },
   "source": [
    "### Task 1.2 (3 points)\n",
    "\n",
    "All new smart locks of BackDoor Locks Inc. now use the implemented backdoor to generate their keying material.\n",
    "From the service team there comes the request to be able to decrypt the exchanged messages between the lock and the controlling devices (like smartphones). This is especially helpful for customers who accidentally lost all their devices to unlock the smart lock.\n",
    "Now, you are asked to implement this functionality using the backdoor.\n",
    "\n",
    "For testing purposes of this new functionality, you are now given the following message `c` that was encrypted with your backdoored public key `(e, N)` you generated previously with the given primes `p_man, q_man`.\n",
    "\n",
    "You need to implement the function `decrypt_backdoored_message(c: int, e: int, N: int, e_man: int, N_man: int, d_man: int) -> tuple[int, int]` that uses the knowledge of the manufacturer's key with `(e_man, N_man), d_man` to derive the private key `d` without having to generate the key yourself and then decrypt the given message `c`. The arguments and the returns are defined as follows:\n",
    "- `c: int`: the encrypted message that needs to be decrypted\n",
    "- `e: int, N:int`: the public key of the smart lock (generated in the previous task)\n",
    "- `e_man: int, N_man: int, d_man: int`: the manufacturer's secret key\n",
    "\n",
    "The function has to return a tuple consisting of the reconstructed private key `d` and the decrypted message `m` (decrypt the message `c` to `m`) in the form `(d, m)`."
   ]
  },
  {
   "cell_type": "code",
   "execution_count": 6,
   "id": "2d150b87-2643-4257-b7b8-21a888ddcf8e",
   "metadata": {
    "deletable": false,
    "editable": false,
    "nbgrader": {
     "cell_type": "code",
     "checksum": "0c3c3dbc52949add347cbbb5acd94b8b",
     "grade": false,
     "grade_id": "cell-8d43775f49a88162",
     "locked": true,
     "schema_version": 3,
     "solution": false,
     "task": false
    }
   },
   "outputs": [],
   "source": [
    "c = 478"
   ]
  },
  {
   "cell_type": "code",
   "execution_count": 7,
   "id": "a927e3ea-844b-46ea-81dd-741d79e7fb12",
   "metadata": {
    "deletable": false,
    "nbgrader": {
     "cell_type": "code",
     "checksum": "1ae247d4a49fe6860936527cface0bbf",
     "grade": false,
     "grade_id": "cell-39d1081beec22459",
     "locked": false,
     "schema_version": 3,
     "solution": true,
     "task": false
    }
   },
   "outputs": [],
   "source": [
    "def decrypt_backdoored_message(c: int, e: int, N: int, e_man: int, N_man: int, d_man: int) -> tuple[int, int]:\n",
    "    # YOUR CODE HERE\n",
    "    p = pow(e, d_man, N_man)\n",
    "    q = N // p \n",
    "    n = p*q\n",
    "    phi = (p-1)*(q-1)\n",
    "    d = pow(e, -1, phi)\n",
    "    return (d, pow(c, d, n))"
   ]
  },
  {
   "cell_type": "code",
   "execution_count": 8,
   "id": "62e41eac-c81b-4f31-bcf0-ee5ab842e062",
   "metadata": {
    "deletable": false,
    "editable": true,
    "nbgrader": {
     "cell_type": "code",
     "checksum": "e418cf026ac1a3177aacbb02ff203704",
     "grade": false,
     "grade_id": "cell-72fd2f2001ad6d06",
     "locked": true,
     "schema_version": 3,
     "solution": false,
     "task": false
    }
   },
   "outputs": [],
   "source": [
    "### PLAYGROUND\n",
    "# You can use this cell to test out your implementation. Everything in this cell will be ignored during grading."
   ]
  },
  {
   "cell_type": "code",
   "execution_count": 9,
   "id": "f55238a9-4a58-499c-bfdd-ddb62b9199be",
   "metadata": {
    "deletable": false,
    "editable": false,
    "nbgrader": {
     "cell_type": "code",
     "checksum": "6c623d1435a2392d77ea17409aa7f6f3",
     "grade": true,
     "grade_id": "cell-7dc151c3cec08846",
     "locked": true,
     "points": 0,
     "schema_version": 3,
     "solution": false,
     "task": false
    }
   },
   "outputs": [],
   "source": [
    "# This test just checks your solution\n",
    "\n",
    "(e, N, d) = generate_backdoored_key(e_man, N_man, d_man, p_man, q_man)\n",
    "\n",
    "res = decrypt_backdoored_message(c, e, N, e_man, N_man, d_man)\n",
    "\n",
    "assert type(res) == tuple\n",
    "assert len(res) == 2\n",
    "assert type(res[0]) == int\n",
    "assert type(res[1]) == int\n",
    "\n",
    "assert res[0] == d"
   ]
  },
  {
   "cell_type": "code",
   "execution_count": 10,
   "id": "654d9764-72b3-42c6-842f-72695a11db0b",
   "metadata": {
    "deletable": false,
    "editable": false,
    "nbgrader": {
     "cell_type": "code",
     "checksum": "e6383efa41a796b1fb39ead20196dad3",
     "grade": true,
     "grade_id": "cell-22bed5945bfb8986",
     "locked": true,
     "points": 3,
     "schema_version": 3,
     "solution": false,
     "task": false
    }
   },
   "outputs": [],
   "source": [
    "# Even this cell seems empty, it contains automatic tests. Please do not remove this cell and just ignore it."
   ]
  },
  {
   "cell_type": "markdown",
   "id": "e04d6a2c-48c0-46d0-82e9-418774d98d8a",
   "metadata": {
    "deletable": false,
    "editable": false,
    "nbgrader": {
     "cell_type": "markdown",
     "checksum": "26abbedd85f9faee7a4b6112f8108d9c",
     "grade": false,
     "grade_id": "cell-9b498513078ba897",
     "locked": true,
     "schema_version": 3,
     "solution": false,
     "task": false
    }
   },
   "source": [
    "## 2. Diffie-Hellman Key Agreement (6 points)\n",
    "\n",
    "Finally we turn away from RSA backdoors and towards another very important topic: the Diffie-Hellman Key Agreement.\n",
    "In the lecture you heard about a secure and easy way to agree on a common key, this is called the Diffie-Hellman Key Agreement. In the following, we want to try to implement this. \n",
    "\n",
    "The usage of a Diffie-Hellman Key Agreement requires to have a prime `p` and a generator `g` of `Z*_p`. In this task, you can assume`p = 7` and the generator `g = 5` as given (in the cell below)."
   ]
  },
  {
   "cell_type": "code",
   "execution_count": 11,
   "id": "c3efac18-e068-4523-9dc8-e75db0117c2d",
   "metadata": {
    "deletable": false,
    "editable": false,
    "nbgrader": {
     "cell_type": "code",
     "checksum": "8118c3bbd7f533c2b2f616dde74454b6",
     "grade": false,
     "grade_id": "cell-d35428e7f59707df",
     "locked": true,
     "schema_version": 3,
     "solution": false,
     "task": false
    }
   },
   "outputs": [],
   "source": [
    "g = 5\n",
    "p = 7\n",
    "\n",
    "from random import choice"
   ]
  },
  {
   "attachments": {},
   "cell_type": "markdown",
   "id": "9aa4ffd9-876c-40e2-8523-38519ad64958",
   "metadata": {
    "deletable": false,
    "editable": false,
    "nbgrader": {
     "cell_type": "markdown",
     "checksum": "7286fee2e160013b559a1b1f72e4fcec",
     "grade": false,
     "grade_id": "cell-57e82d13c28e3970",
     "locked": true,
     "schema_version": 3,
     "solution": false,
     "task": false
    }
   },
   "source": [
    "### Task 2.1 (1.5 point)\n",
    "\n",
    "With this information, you can now implement the function `gen_dh_value(p: int, g: int) -> tuple[int, int]` which generates the public DH value of a communication party, based on `p` and `g`.\n",
    "\n",
    "The arguments to the function are as follows:\n",
    "- `p: int`: prime used during the dh generation\n",
    "- `g: int`: the generator used for the generation of the public dh value\n",
    "\n",
    "The function has to return a tuple of the form `(public_DH_value, rand)` where `rand` is the random value that you picked to create the public DH value `public_DH_value`.\n",
    "\n",
    "*Use the `choice()` function to pick a random value. This [function](https://docs.python.org/3/library/random.html#random.choice) is already imported from the random package. You can just call `choice(...)` with a list of numbers the function should randomly choose from.*"
   ]
  },
  {
   "cell_type": "code",
   "execution_count": 12,
   "id": "b99baaed-6766-4f56-b0d5-c0838798caa2",
   "metadata": {
    "deletable": false,
    "nbgrader": {
     "cell_type": "code",
     "checksum": "63c0783d2878b18fb55b4e455afb48db",
     "grade": false,
     "grade_id": "cell-83b6d7797a7b22a0",
     "locked": false,
     "schema_version": 3,
     "solution": true,
     "task": false
    }
   },
   "outputs": [],
   "source": [
    "def gen_dh_value(p: int, g: int) -> tuple[int, int]:    \n",
    "    # YOUR CODE HERE\n",
    "    rand = choice([i for i in range(2, p-1)])\n",
    "    return (pow(g, rand, p), rand)"
   ]
  },
  {
   "cell_type": "code",
   "execution_count": 13,
   "id": "87f133f2-0fbf-4fdb-9186-8407c4d34e64",
   "metadata": {
    "deletable": false,
    "editable": true,
    "nbgrader": {
     "cell_type": "code",
     "checksum": "a957710bf06f81a8a2436d94d5e81aed",
     "grade": false,
     "grade_id": "cell-fde60b6351c3c70e",
     "locked": true,
     "schema_version": 3,
     "solution": false,
     "task": false
    }
   },
   "outputs": [],
   "source": [
    "### PLAYGROUND\n",
    "# You can use this cell to test out your implementation. Everything in this cell will be ignored during grading."
   ]
  },
  {
   "cell_type": "code",
   "execution_count": 14,
   "id": "576ffd88-aff9-459b-9ca6-c3960848be55",
   "metadata": {
    "deletable": false,
    "editable": false,
    "nbgrader": {
     "cell_type": "code",
     "checksum": "d99d1c39e0a19d4a557a92058c61bc39",
     "grade": true,
     "grade_id": "cell-fcbe818d7807a276",
     "locked": true,
     "points": 0,
     "schema_version": 3,
     "solution": false,
     "task": false
    }
   },
   "outputs": [],
   "source": [
    "# This test just checks the output format of your solution\n",
    "\n",
    "res = gen_dh_value(p, g)\n",
    "\n",
    "assert type(res) == tuple\n",
    "assert len(res) == 2\n",
    "assert type(res[0]) == int\n",
    "assert type(res[1]) == int"
   ]
  },
  {
   "cell_type": "code",
   "execution_count": 15,
   "id": "3f0f0b31-39b0-4940-a529-695fde9de070",
   "metadata": {
    "deletable": false,
    "editable": false,
    "nbgrader": {
     "cell_type": "code",
     "checksum": "8e1726b58479ff594c2134bb6711536d",
     "grade": true,
     "grade_id": "cell-0abbe2adc951c32a",
     "locked": true,
     "points": 1.5,
     "schema_version": 3,
     "solution": false,
     "task": false
    }
   },
   "outputs": [],
   "source": [
    "# Even this cell seems empty, it contains automatic tests. Please do not remove this cell and just ignore it."
   ]
  },
  {
   "attachments": {},
   "cell_type": "markdown",
   "id": "ca9e2c71-c504-4b49-8197-66f60e1108db",
   "metadata": {
    "deletable": false,
    "editable": false,
    "nbgrader": {
     "cell_type": "markdown",
     "checksum": "ff1a8631a4a927118209c7e2593e58d9",
     "grade": false,
     "grade_id": "cell-03ab08c6f83a7366",
     "locked": true,
     "schema_version": 3,
     "solution": false,
     "task": false
    }
   },
   "source": [
    "### Task 2.2 (1.5 point)\n",
    "\n",
    "With the knowledge of the public DH value of the other communicating party, we can finally calculate the shared key. To do so, implement the function `gen_shared_key(other_pub_value: int, own_priv_value: int, p: int)`.\n",
    "The arguments and returns of the function are as follows:\n",
    "- `other_pub_value: int`: the public value of the other communicating party\n",
    "- `own_priv_value: int`: the private random value of the current party\n",
    "- `p: int`: the prime `p`\n",
    "\n",
    "The function has to return the shared key as `int`."
   ]
  },
  {
   "cell_type": "code",
   "execution_count": 16,
   "id": "c86cf7af-18d1-4f22-979b-8bde315cec42",
   "metadata": {
    "deletable": false,
    "nbgrader": {
     "cell_type": "code",
     "checksum": "5dd90c8d37e4863755c64392d0fd07ee",
     "grade": false,
     "grade_id": "cell-b76f5e31efbc1ea8",
     "locked": false,
     "schema_version": 3,
     "solution": true,
     "task": false
    }
   },
   "outputs": [],
   "source": [
    "def gen_shared_key(other_pub_value: int, own_priv_value: int, p: int) -> int:\n",
    "    # YOUR CODE HERE\n",
    "    return pow(other_pub_value, own_priv_value, p)"
   ]
  },
  {
   "cell_type": "code",
   "execution_count": 17,
   "id": "1a6dbc58-47f4-4605-bf3f-620fcd730888",
   "metadata": {
    "deletable": false,
    "editable": true,
    "nbgrader": {
     "cell_type": "code",
     "checksum": "dde2b6125ef31c0ba495d6c22279a6f4",
     "grade": false,
     "grade_id": "cell-8edeb7501702f53e",
     "locked": true,
     "schema_version": 3,
     "solution": false,
     "task": false
    }
   },
   "outputs": [],
   "source": [
    "### PLAYGROUND\n",
    "# You can use this cell to test out your implementation. Everything in this cell will be ignored during grading."
   ]
  },
  {
   "cell_type": "code",
   "execution_count": 18,
   "id": "3e037881-794a-4723-8c67-20d84ae4b50b",
   "metadata": {
    "deletable": false,
    "editable": false,
    "nbgrader": {
     "cell_type": "code",
     "checksum": "c2b4b4a1c4d6badb280b468ee6de9e1d",
     "grade": true,
     "grade_id": "cell-1bfb1aa58214fbf6",
     "locked": true,
     "points": 0,
     "schema_version": 3,
     "solution": false,
     "task": false
    }
   },
   "outputs": [],
   "source": [
    "# This test just checks your solution\n",
    "\n",
    "(pub_dh1, rand1) = gen_dh_value(p, g)\n",
    "(pub_dh2, rand2) = gen_dh_value(p, g)\n",
    "res2 = gen_shared_key(pub_dh1, rand2, p)\n",
    "res1 = gen_shared_key(pub_dh2, rand1, p)\n",
    "\n",
    "assert type(res1) == int\n",
    "assert type(res2) == int\n",
    "assert res1 == res2"
   ]
  },
  {
   "cell_type": "code",
   "execution_count": 19,
   "id": "dfd2b587-cc09-4056-8651-104dea2de376",
   "metadata": {
    "deletable": false,
    "editable": false,
    "nbgrader": {
     "cell_type": "code",
     "checksum": "62214a66b48d0025f66a02a76851edab",
     "grade": true,
     "grade_id": "cell-ddbeb7804f473adb",
     "locked": true,
     "points": 1.5,
     "schema_version": 3,
     "solution": false,
     "task": false
    }
   },
   "outputs": [],
   "source": [
    "# Even this cell seems empty, it contains automatic tests. Please do not remove this cell and just ignore it."
   ]
  },
  {
   "attachments": {},
   "cell_type": "markdown",
   "id": "8a085bc0-c1de-4a76-942c-88c3a6b22156",
   "metadata": {
    "deletable": false,
    "editable": false,
    "nbgrader": {
     "cell_type": "markdown",
     "checksum": "b75028a9d5cd14277a3bfd1bb9ee2648",
     "grade": false,
     "grade_id": "cell-8195b3e57cebdcd5",
     "locked": true,
     "schema_version": 3,
     "solution": false,
     "task": false
    }
   },
   "source": [
    "### Task 2.3 (3 points)\n",
    "\n",
    "Now, we get to our \"simulation\". If your implemented functions are correct, you should be able to help Alice and Bob in their key agreement!\n",
    "You can test it yourself and play around with the values of `p` and `g`."
   ]
  },
  {
   "cell_type": "code",
   "execution_count": 20,
   "id": "bef8f606-41d7-43ec-a02e-ed2e81efe7d3",
   "metadata": {},
   "outputs": [
    {
     "name": "stdout",
     "output_type": "stream",
     "text": [
      "\u001b[1;31mAlice: My public DH value is A = 2.\u001b[0m\n",
      "🧮 Bob calculates the shared key..\n",
      "🔑 Bob uses the key K = 13 now.\n",
      "\n",
      "\u001b[1;32mBob: My public DH value is B = 6.\u001b[0m\n",
      "🧮 Alice calculates the shared key..\n",
      "🔑 Bob uses the key K = 13 now.\n",
      "\n",
      "If you were successful, it should hold that \u001b[1;31m13\u001b[0m == \u001b[1;32m13\u001b[0m!\n"
     ]
    }
   ],
   "source": [
    "# \"Simulation\" - you do not need to implement something in this cell, but feel free to play around\n",
    "\n",
    "color_code_A = '\\x1b[1;31m'\n",
    "color_code_B = '\\x1b[1;32m'\n",
    "color_end = '\\x1b[0m'\n",
    "\n",
    "p = 23\n",
    "g = 5\n",
    "\n",
    "# Bob and Alice both calculate their public and private values\n",
    "A, a = gen_dh_value(p, g)\n",
    "B, b = gen_dh_value(p, g)\n",
    "\n",
    "# Alice sends their public DH value\n",
    "print(f\"{color_code_A}Alice: My public DH value is A = {A}.{color_end}\")\n",
    "\n",
    "# Bob can now calculate the shared key \n",
    "print(\"🧮 Bob calculates the shared key..\")\n",
    "bob_shared_key = gen_shared_key(A, b, p)\n",
    "print(f\"🔑 Bob uses the key K = {bob_shared_key} now.\\n\")\n",
    "\n",
    "# Bob sends their public DH value \n",
    "print(f\"{color_code_B}Bob: My public DH value is B = {B}.{color_end}\")\n",
    "\n",
    "# Alice can now calculate the shared key too\n",
    "print(\"🧮 Alice calculates the shared key..\")\n",
    "alice_shared_key = gen_shared_key(B, a, p)\n",
    "print(f\"🔑 Bob uses the key K = {bob_shared_key} now.\\n\")\n",
    "\n",
    "print(f\"If you were successful, it should hold that {color_code_A}{alice_shared_key}{color_end} == {color_code_B}{bob_shared_key}{color_end}!\")\n"
   ]
  },
  {
   "cell_type": "markdown",
   "id": "098520c9-1f1d-4d97-a28e-ce9938a024a3",
   "metadata": {
    "deletable": false,
    "editable": false,
    "nbgrader": {
     "cell_type": "markdown",
     "checksum": "1a4022ff6cfaa77974a01cb981cb48a2",
     "grade": false,
     "grade_id": "cell-c2a5d28df023c473",
     "locked": true,
     "schema_version": 3,
     "solution": false,
     "task": false
    }
   },
   "source": [
    "#### a) (0.5 points)\n",
    "\n",
    "**Explain** why does the shared key change on different runs."
   ]
  },
  {
   "cell_type": "markdown",
   "id": "9f6bf735-60bc-4ef5-938d-43984f52a1df",
   "metadata": {
    "deletable": false,
    "nbgrader": {
     "cell_type": "markdown",
     "checksum": "3238390b0c039f97f65c7e33eed9e30a",
     "grade": true,
     "grade_id": "cell-1d96586dd36c45b3",
     "locked": false,
     "points": 0.5,
     "schema_version": 3,
     "solution": true,
     "task": false
    }
   },
   "source": [
    "Because the two parties choose their own private value uniformly at random in the range ${{2,...,p-1}}$"
   ]
  },
  {
   "cell_type": "markdown",
   "id": "c37f4f49-3315-420e-8f00-af880eaf1a83",
   "metadata": {
    "deletable": false,
    "editable": false,
    "nbgrader": {
     "cell_type": "markdown",
     "checksum": "3e347f2b291076b53485b06e32bccddf",
     "grade": false,
     "grade_id": "cell-e6dc26fe38e7d3a0",
     "locked": true,
     "schema_version": 3,
     "solution": false,
     "task": false
    }
   },
   "source": [
    "#### b) (1.5 point)\n",
    "\n",
    "**Name** the kind of attack to which this simple key agreement protocol is vulnerable to and **describe** how this can be done by an attacker."
   ]
  },
  {
   "cell_type": "markdown",
   "id": "86d35561-5f07-4207-ba8c-676cb483e61a",
   "metadata": {
    "deletable": false,
    "nbgrader": {
     "cell_type": "markdown",
     "checksum": "7e666c9d11c233c790ddebdb23891d0c",
     "grade": true,
     "grade_id": "cell-fbe11b7764214a97",
     "locked": false,
     "points": 1.5,
     "schema_version": 3,
     "solution": true,
     "task": false
    }
   },
   "source": [
    "Man-in-the-Middle-Attack. An Attacker can simply pretend that he is the other party and return his own public values to the two parties each. Both parties then assume that they share a key with the correct other party and do not realise that they share their key with the attacker."
   ]
  },
  {
   "cell_type": "markdown",
   "id": "0ee5d2a8-b8ba-45e6-989c-1f9460be6f25",
   "metadata": {
    "deletable": false,
    "editable": false,
    "nbgrader": {
     "cell_type": "markdown",
     "checksum": "a227d7ceea811b7913713bbabb595d81",
     "grade": false,
     "grade_id": "cell-fce2e7c87eae8b1c",
     "locked": true,
     "schema_version": 3,
     "solution": false,
     "task": false
    }
   },
   "source": [
    "#### c) (1 point)\n",
    "\n",
    "How can we fix this vulnerability?"
   ]
  },
  {
   "cell_type": "markdown",
   "id": "f180f73f-4b74-4d91-a65d-7f119c535f78",
   "metadata": {
    "deletable": false,
    "nbgrader": {
     "cell_type": "markdown",
     "checksum": "19443580c34eaadb36299bcadc029ffc",
     "grade": true,
     "grade_id": "cell-c84bd99f4f31be2b",
     "locked": false,
     "points": 1,
     "schema_version": 3,
     "solution": true,
     "task": false
    }
   },
   "source": [
    "The two parties could also attach a digital signature to their messages, assuring that their messages cannot be replicated by the attacker."
   ]
  },
  {
   "attachments": {},
   "cell_type": "markdown",
   "id": "2407749b-9989-4525-bc4a-4b7c3574e6a8",
   "metadata": {
    "deletable": false,
    "editable": false,
    "nbgrader": {
     "cell_type": "markdown",
     "checksum": "fff5653a7902a2aa5a92d5fcbd3a8987",
     "grade": false,
     "grade_id": "cell-bf911d6c09231225",
     "locked": true,
     "schema_version": 3,
     "solution": false,
     "task": false
    }
   },
   "source": [
    "## 3. Certificates (6 points)\n",
    "\n",
    "### Task 3.1 (1 point)\n",
    "\n",
    "As we now learned a lot about symmetric and asymmetric cryptography, we want to have a look at the differences. Especially, the number of necessary keys for different situations is interesting.\n",
    "\n",
    "We now want to compare symmetric and asymmetric crypto in regard of number of keys used to secure communication between different parties.\n",
    "As we want to visualize the differences effectively, we need an automatic way to compute the number of needed keys.\n",
    "\n",
    "For this you have to implement the function `calc_needed_keys(n: int) -> tuple[int, int]` which computes the number keys needed to enable secure pairwise communication between `n` different parties.\n",
    "\n",
    "Your function should return a tuple of the form `(x,y)` where `x` denotes the number of necessary keys in the symmetric case and `y` denotes the number of necessary keys in the asymmetric case. Additionally, you have to raise a `ValueError` if the input `n` is negative."
   ]
  },
  {
   "cell_type": "code",
   "execution_count": null,
   "id": "59f0dad5-af66-4f40-91f6-cc47e3e512b7",
   "metadata": {
    "deletable": false,
    "nbgrader": {
     "cell_type": "code",
     "checksum": "1500a64dc4eb76dc05887abb9e0ba312",
     "grade": false,
     "grade_id": "cell-d1bdc0007ef63d89",
     "locked": false,
     "schema_version": 3,
     "solution": true,
     "task": false
    }
   },
   "outputs": [],
   "source": [
    "def calc_needed_keys(n: int) -> tuple[int, int]:\n",
    "    # YOUR CODE HERE\n",
    "    if n < 0:\n",
    "        raise ValueError\n",
    "    return ((n*(n-1))//2, n)"
   ]
  },
  {
   "cell_type": "code",
   "execution_count": null,
   "id": "307a13ae-a7d4-44cf-9b82-58b9e336c9a7",
   "metadata": {
    "deletable": false,
    "editable": true,
    "nbgrader": {
     "cell_type": "code",
     "checksum": "e29783b43ef4d4b7c1073e206d17033b",
     "grade": false,
     "grade_id": "cell-25c311968b745b9c",
     "locked": true,
     "schema_version": 3,
     "solution": false,
     "task": false
    }
   },
   "outputs": [],
   "source": [
    "### PLAYGROUND\n",
    "# You can use this cell to test out your implementation. Everything in this cell will be ignored during grading."
   ]
  },
  {
   "cell_type": "code",
   "execution_count": 23,
   "id": "8a0b4796-dfac-4992-90e3-ffbf5a81bd8a",
   "metadata": {
    "deletable": false,
    "editable": false,
    "nbgrader": {
     "cell_type": "code",
     "checksum": "6bffcadb06be0a6b7ace1ab991d3492d",
     "grade": true,
     "grade_id": "cell-6a1fea897bf613f7",
     "locked": true,
     "points": 0,
     "schema_version": 3,
     "solution": false,
     "task": false
    }
   },
   "outputs": [],
   "source": [
    "# This test just checks your solution\n",
    "\n",
    "res = calc_needed_keys(2)\n",
    "\n",
    "assert type(res) == tuple\n",
    "assert len(res) == 2\n",
    "assert type(res[0]) == int\n",
    "assert type(res[1]) == int\n",
    "\n",
    "assert res == (1,2)"
   ]
  },
  {
   "cell_type": "code",
   "execution_count": null,
   "id": "d9bd5a8d-a908-4827-890a-b8978843e378",
   "metadata": {
    "deletable": false,
    "editable": false,
    "nbgrader": {
     "cell_type": "code",
     "checksum": "6160819d0927c3cfe57685e0505de875",
     "grade": true,
     "grade_id": "cell-48f70b3d86f9986f",
     "locked": true,
     "points": 1,
     "schema_version": 3,
     "solution": false,
     "task": false
    }
   },
   "outputs": [
    {
     "name": "stdout",
     "output_type": "stream",
     "text": [
      "Collecting ipywidgetsNote: you may need to restart the kernel to use updated packages.\n",
      "\n",
      "  Downloading ipywidgets-8.1.5-py3-none-any.whl (139 kB)\n",
      "     ---------------------------------------- 0.0/139.8 kB ? eta -:--:--\n",
      "     ---------------------------------------- 0.0/139.8 kB ? eta -:--:--\n",
      "     -- ------------------------------------- 10.2/139.8 kB ? eta -:--:--\n",
      "     -------- ---------------------------- 30.7/139.8 kB 435.7 kB/s eta 0:00:01\n",
      "     ---------------- -------------------- 61.4/139.8 kB 469.7 kB/s eta 0:00:01\n",
      "     ------------------------------- ---- 122.9/139.8 kB 722.1 kB/s eta 0:00:01\n",
      "     ------------------------------------ 139.8/139.8 kB 692.7 kB/s eta 0:00:00\n",
      "Collecting jupyterlab-widgets~=3.0.12\n",
      "  Downloading jupyterlab_widgets-3.0.13-py3-none-any.whl (214 kB)\n",
      "     ---------------------------------------- 0.0/214.4 kB ? eta -:--:--\n",
      "     ------------------ ------------------- 102.4/214.4 kB 3.0 MB/s eta 0:00:01\n",
      "     ------------------------------------ - 204.8/214.4 kB 2.1 MB/s eta 0:00:01\n",
      "     -------------------------------------- 214.4/214.4 kB 2.2 MB/s eta 0:00:00\n",
      "Requirement already satisfied: ipython>=6.1.0 in c:\\users\\gereo\\appdata\\local\\packages\\pythonsoftwarefoundation.python.3.10_qbz5n2kfra8p0\\localcache\\local-packages\\python310\\site-packages (from ipywidgets) (8.28.0)\n",
      "Collecting widgetsnbextension~=4.0.12\n",
      "  Downloading widgetsnbextension-4.0.13-py3-none-any.whl (2.3 MB)\n",
      "     ---------------------------------------- 0.0/2.3 MB ? eta -:--:--\n",
      "     ---- ----------------------------------- 0.3/2.3 MB 8.3 MB/s eta 0:00:01\n",
      "     -------- ------------------------------- 0.5/2.3 MB 7.4 MB/s eta 0:00:01\n",
      "     -------------- ------------------------- 0.8/2.3 MB 6.6 MB/s eta 0:00:01\n",
      "     --------------------- ------------------ 1.2/2.3 MB 7.1 MB/s eta 0:00:01\n",
      "     ------------------------------- -------- 1.8/2.3 MB 8.4 MB/s eta 0:00:01\n",
      "     ---------------------------------------- 2.3/2.3 MB 8.7 MB/s eta 0:00:00\n",
      "Requirement already satisfied: traitlets>=4.3.1 in c:\\users\\gereo\\appdata\\local\\packages\\pythonsoftwarefoundation.python.3.10_qbz5n2kfra8p0\\localcache\\local-packages\\python310\\site-packages (from ipywidgets) (5.14.3)\n",
      "Requirement already satisfied: comm>=0.1.3 in c:\\users\\gereo\\appdata\\local\\packages\\pythonsoftwarefoundation.python.3.10_qbz5n2kfra8p0\\localcache\\local-packages\\python310\\site-packages (from ipywidgets) (0.2.2)\n",
      "Requirement already satisfied: pygments>=2.4.0 in c:\\users\\gereo\\appdata\\local\\packages\\pythonsoftwarefoundation.python.3.10_qbz5n2kfra8p0\\localcache\\local-packages\\python310\\site-packages (from ipython>=6.1.0->ipywidgets) (2.18.0)\n",
      "Requirement already satisfied: colorama in c:\\users\\gereo\\appdata\\local\\packages\\pythonsoftwarefoundation.python.3.10_qbz5n2kfra8p0\\localcache\\local-packages\\python310\\site-packages (from ipython>=6.1.0->ipywidgets) (0.4.6)\n",
      "Requirement already satisfied: exceptiongroup in c:\\users\\gereo\\appdata\\local\\packages\\pythonsoftwarefoundation.python.3.10_qbz5n2kfra8p0\\localcache\\local-packages\\python310\\site-packages (from ipython>=6.1.0->ipywidgets) (1.2.2)\n",
      "Requirement already satisfied: matplotlib-inline in c:\\users\\gereo\\appdata\\local\\packages\\pythonsoftwarefoundation.python.3.10_qbz5n2kfra8p0\\localcache\\local-packages\\python310\\site-packages (from ipython>=6.1.0->ipywidgets) (0.1.7)\n",
      "Requirement already satisfied: stack-data in c:\\users\\gereo\\appdata\\local\\packages\\pythonsoftwarefoundation.python.3.10_qbz5n2kfra8p0\\localcache\\local-packages\\python310\\site-packages (from ipython>=6.1.0->ipywidgets) (0.6.3)\n",
      "Requirement already satisfied: typing-extensions>=4.6 in c:\\users\\gereo\\appdata\\local\\packages\\pythonsoftwarefoundation.python.3.10_qbz5n2kfra8p0\\localcache\\local-packages\\python310\\site-packages (from ipython>=6.1.0->ipywidgets) (4.12.2)\n",
      "Requirement already satisfied: prompt-toolkit<3.1.0,>=3.0.41 in c:\\users\\gereo\\appdata\\local\\packages\\pythonsoftwarefoundation.python.3.10_qbz5n2kfra8p0\\localcache\\local-packages\\python310\\site-packages (from ipython>=6.1.0->ipywidgets) (3.0.48)\n",
      "Requirement already satisfied: jedi>=0.16 in c:\\users\\gereo\\appdata\\local\\packages\\pythonsoftwarefoundation.python.3.10_qbz5n2kfra8p0\\localcache\\local-packages\\python310\\site-packages (from ipython>=6.1.0->ipywidgets) (0.19.1)\n",
      "Requirement already satisfied: decorator in c:\\users\\gereo\\appdata\\local\\packages\\pythonsoftwarefoundation.python.3.10_qbz5n2kfra8p0\\localcache\\local-packages\\python310\\site-packages (from ipython>=6.1.0->ipywidgets) (5.1.1)\n",
      "Requirement already satisfied: parso<0.9.0,>=0.8.3 in c:\\users\\gereo\\appdata\\local\\packages\\pythonsoftwarefoundation.python.3.10_qbz5n2kfra8p0\\localcache\\local-packages\\python310\\site-packages (from jedi>=0.16->ipython>=6.1.0->ipywidgets) (0.8.4)\n",
      "Requirement already satisfied: wcwidth in c:\\users\\gereo\\appdata\\local\\packages\\pythonsoftwarefoundation.python.3.10_qbz5n2kfra8p0\\localcache\\local-packages\\python310\\site-packages (from prompt-toolkit<3.1.0,>=3.0.41->ipython>=6.1.0->ipywidgets) (0.2.13)\n",
      "Requirement already satisfied: asttokens>=2.1.0 in c:\\users\\gereo\\appdata\\local\\packages\\pythonsoftwarefoundation.python.3.10_qbz5n2kfra8p0\\localcache\\local-packages\\python310\\site-packages (from stack-data->ipython>=6.1.0->ipywidgets) (2.4.1)\n",
      "Requirement already satisfied: pure-eval in c:\\users\\gereo\\appdata\\local\\packages\\pythonsoftwarefoundation.python.3.10_qbz5n2kfra8p0\\localcache\\local-packages\\python310\\site-packages (from stack-data->ipython>=6.1.0->ipywidgets) (0.2.3)\n",
      "Requirement already satisfied: executing>=1.2.0 in c:\\users\\gereo\\appdata\\local\\packages\\pythonsoftwarefoundation.python.3.10_qbz5n2kfra8p0\\localcache\\local-packages\\python310\\site-packages (from stack-data->ipython>=6.1.0->ipywidgets) (2.1.0)\n",
      "Requirement already satisfied: six>=1.12.0 in c:\\users\\gereo\\appdata\\local\\packages\\pythonsoftwarefoundation.python.3.10_qbz5n2kfra8p0\\localcache\\local-packages\\python310\\site-packages (from asttokens>=2.1.0->stack-data->ipython>=6.1.0->ipywidgets) (1.16.0)\n",
      "Installing collected packages: widgetsnbextension, jupyterlab-widgets, ipywidgets\n",
      "Successfully installed ipywidgets-8.1.5 jupyterlab-widgets-3.0.13 widgetsnbextension-4.0.13\n"
     ]
    },
    {
     "name": "stderr",
     "output_type": "stream",
     "text": [
      "\n",
      "[notice] A new release of pip is available: 23.0.1 -> 24.3.1\n",
      "[notice] To update, run: C:\\Users\\gereo\\AppData\\Local\\Microsoft\\WindowsApps\\PythonSoftwareFoundation.Python.3.10_qbz5n2kfra8p0\\python.exe -m pip install --upgrade pip\n"
     ]
    }
   ],
   "source": [
    "# Even this cell seems empty, it contains automatic tests. Please do not remove this cell and just ignore it"
   ]
  },
  {
   "cell_type": "markdown",
   "id": "cd82c2b4-5f9e-446c-8e54-528276d40818",
   "metadata": {
    "deletable": false,
    "editable": false,
    "nbgrader": {
     "cell_type": "markdown",
     "checksum": "1f50096c1c15b66d44c3fef5940233d3",
     "grade": false,
     "grade_id": "cell-61b3cb1f4489c5eb",
     "locked": true,
     "schema_version": 3,
     "solution": false,
     "task": false
    }
   },
   "source": [
    "Now, you can use your implemented function to compare the amount of needed keys in both the symmetric and asymmetric case depending on the number of parties that want to communicate pairwise. Run the code and play around with the slider!\n",
    "\n",
    "If your code works, you should be able to see and update the plot."
   ]
  },
  {
   "cell_type": "code",
   "execution_count": null,
   "id": "c46f9a5f-cf7c-47ba-9880-f3e35f8a835b",
   "metadata": {
    "deletable": false,
    "editable": false,
    "nbgrader": {
     "cell_type": "code",
     "checksum": "bf937caf9a4b8503b138a0e2fc875419",
     "grade": false,
     "grade_id": "cell-404661184dfb1b03",
     "locked": true,
     "schema_version": 3,
     "solution": false,
     "task": false
    }
   },
   "outputs": [],
   "source": [
    "# Again, you do not need to implement anything in this cell but only play around with it\n",
    "import plotly.graph_objs as go\n",
    "from ipywidgets import interact, widgets        \n",
    "from plotly.subplots import make_subplots\n",
    "\n",
    "def update_plot(num_parties):\n",
    "    key_numbers_as = list()\n",
    "    key_numbers_s = list()\n",
    "    for i in range(2,num_parties+1):\n",
    "        keys = calc_needed_keys(i)\n",
    "        num_s_keys = keys[0]\n",
    "        num_as_keys = keys[1]\n",
    "        key_numbers_s.append(num_s_keys)\n",
    "        key_numbers_as.append(num_as_keys)\n",
    "\n",
    "    fig = make_subplots(rows=1, cols=1, shared_xaxes=True)\n",
    "    fig.add_trace(go.Scatter(x=list(range(2,num_parties+1)), y=key_numbers_as, mode='lines+markers', name='Asymmetric Crypto'))\n",
    "    fig.add_trace(go.Scatter(x=list(range(2,num_parties+1)), y=key_numbers_s, mode='lines+markers', name='Symmetric Crypto'))\n",
    "\n",
    "    fig.update_layout(title='Number of Needed Keys vs. Number of Communicating Parties',\n",
    "                     xaxis_title='Number of Communicating Parties',\n",
    "                     yaxis_title='Number of Needed Keys',\n",
    "    )\n",
    "\n",
    "    fig.show()\n",
    "\n",
    "# Set up slider\n",
    "num_parties_slider = widgets.IntSlider(value=2, min=2, max=1000, step=1, description='Parties')\n",
    "\n",
    "# Create interactive plot\n",
    "interact(update_plot, num_parties=num_parties_slider)\n"
   ]
  },
  {
   "cell_type": "markdown",
   "id": "fd5bf12b-7d75-49d1-81c4-e19930356acb",
   "metadata": {
    "deletable": false,
    "editable": false,
    "nbgrader": {
     "cell_type": "markdown",
     "checksum": "973ce8ae27e19b828d3ec5de7c130d28",
     "grade": false,
     "grade_id": "cell-ea72b88af43c3aff",
     "locked": true,
     "schema_version": 3,
     "solution": false,
     "task": false
    }
   },
   "source": [
    "This awesome visualization shows the benefits of using asymmetric cryptography when communicating with a lot of different parties. You can see that it quickly becomes a lot of keys that are needed for symmetric cryptography as each and every pair of communicating partners need their own key. In the case of asymmetric cryptography, the number of keys is equal to the number of parties and grows linearly. Therefore, an advantage of asymmetric cryptography is obviously that we only need to distribute the public key of a party to be able to securely communicate with that party instead of agreeing or exchanging a new key with each party.\n",
    "\n",
    "One problem that remains is: how do we distribute those public keys in an authentic way? If someone would be able to place distribute his public key instead of the correct one, the attacker would be able to perform a person in the middle/man in the middle attack.\n",
    "Here, certificates come into play! Certificates can help to distribute public keys in an authentic way. A so called certification authority creates a certificate that links the identity and the public key. To accomplish this, a digital signature of the certification authority guarantees the correctness of the certificate.\n",
    "\n",
    "We will take a little peek into what information can be stored in a certificate. In the following, you are given a certificate in the [PEM](https://en.wikipedia.org/wiki/Privacy-Enhanced_Mail) format."
   ]
  },
  {
   "cell_type": "code",
   "execution_count": 2,
   "id": "cd2ce8ba-770a-41dc-b732-938620fc620e",
   "metadata": {
    "deletable": false,
    "editable": false,
    "nbgrader": {
     "cell_type": "code",
     "checksum": "7d619ca2f07840995fc1552f24ac53ce",
     "grade": false,
     "grade_id": "cell-bc646f2b3b1c9a33",
     "locked": true,
     "schema_version": 3,
     "solution": false,
     "task": false
    }
   },
   "outputs": [],
   "source": [
    "cert_str = \"\"\"-----BEGIN CERTIFICATE-----\n",
    "MIIGTzCCBDegAwIBAgIUH9/EC0Vf4GfPhyedTIeYK8P/Fh8wDQYJKoZIhvcNAQEL\n",
    "BQAwgbYxCzAJBgNVBAYTAktZMQ8wDQYDVQQIDAZQZXJsaXMxDjAMBgNVBAcMBUFj\n",
    "Y3JhMRwwGgYDVQQKDBNCYWNrRG9vciBMb2NrcyBJbmMuMR0wGwYDVQQLDBRCcmVh\n",
    "Y2ggUmVzcG9uc2UgVGVhbTEbMBkGA1UEAwwSbG9ja3MuYmFja2Rvb3IuaW5jMSww\n",
    "KgYJKoZIhvcNAQkBFh1yZWN5Y2xlYmluQGxvY2tzLmJhY2tkb29yLmluYzAeFw0y\n",
    "NDExMjIxMzE2NDFaFw0yNTExMjIxMzE2NDFaMIG2MQswCQYDVQQGEwJLWTEPMA0G\n",
    "A1UECAwGUGVybGlzMQ4wDAYDVQQHDAVBY2NyYTEcMBoGA1UECgwTQmFja0Rvb3Ig\n",
    "TG9ja3MgSW5jLjEdMBsGA1UECwwUQnJlYWNoIFJlc3BvbnNlIFRlYW0xGzAZBgNV\n",
    "BAMMEmxvY2tzLmJhY2tkb29yLmluYzEsMCoGCSqGSIb3DQEJARYdcmVjeWNsZWJp\n",
    "bkBsb2Nrcy5iYWNrZG9vci5pbmMwggIiMA0GCSqGSIb3DQEBAQUAA4ICDwAwggIK\n",
    "AoICAQCjrwM5P9YJFh7/Cffp0gdBugv4Il50dXmLGKkOET42GcC1xtAWdz5tG+Ai\n",
    "2oz7Ro6XSBBqvsd7svb1gAFmo61h1atg+27IevBNA5zLP4G3P9tmJlGYUKGpRCDu\n",
    "1FqbTV/ciQycPvys0m+9YQMiNPhvVsMCUrPkTC9b8di5e9OlLND8CkeNPcJASX/1\n",
    "yds3j3SgnxbUTw4ds8lXSXIQOzgyvORpx9ohbb5nl2IwfuSJdcCFUVZ900fvfFP4\n",
    "oAvUKGvQ6c1M0FF4Z3kLPCMZqcvPLHNRHFFBxuXg7gmM+4f2Sd6cJuMTqNW9hnvV\n",
    "X0qcMWjR3R3glein5wthfpDAI0UHo39/OOpJMb5QznH7ju/1t/+iT2ETumtebp/Z\n",
    "uuo4NL3yJ+Aub2Sza5X8A5D+VXFh1fUtQlYLyFnWIAJeRXGpBP+i74Em8PRJRHFw\n",
    "Y9BkK7xye+Hw2TYWY8E7XXLxG51S+G6E4yK4oPGR0KRjMiyI+VH32JP79qp1FGwN\n",
    "vS2NBbbZRNKKjLj5SVMu4r8/mwS/AA3yL48FaXG5kWfkcU7iKNWsKDTI43eHuKyH\n",
    "WdKWTGvclOapnX6MOWX5T3iDDTtfdd8FgMiwt2FOVpms9i8AKYj6ONlvFeUGcowp\n",
    "+MrXBgs5dJwtHsebuoXiqL7esZcUb9cVpRVfNzEAiUENf1LPFQIDAQABo1MwUTAd\n",
    "BgNVHQ4EFgQUe4Buc5ylAwiP1oRJFFW1iJXJ4LYwHwYDVR0jBBgwFoAUe4Buc5yl\n",
    "AwiP1oRJFFW1iJXJ4LYwDwYDVR0TAQH/BAUwAwEB/zANBgkqhkiG9w0BAQsFAAOC\n",
    "AgEAVs0QaeTypyRjp895NfaJkrzNe4OMWysK37GpZozTEz27tN6JGWUafr+DVh06\n",
    "CQ3K+CifuO7ODpKr37jUuTvUNVybkgZP3CSwuUsxvMnEPZggYb7m3CFFPfOBZhBU\n",
    "IP1PC90pKq0xlFx5DCrrsqgPhe4xzFn0yde3o0IF41PRoZmLOEVGAqnem9G3os1i\n",
    "AfPNQQq5/09RteKoSEtalfOa4NIltdWcq44VGJl7rAjbHo31bnaPSq7hGiu6skpE\n",
    "HbfhYoIqVieVtLEk/awuZUI7fW4hfhY4b6KoXCONI2i/KpU7rASB5JtWwm9j/E0L\n",
    "52lXak+3i+yu9bueWXyiaeb0oMrFg+N9pqKYpgtcZzHpgPThb8zHa7QiSTncB463\n",
    "QRGr36p0eoS75DJtn9pMhDGsfMYCB7FoXZg6Vpltpz9GGh6JpZalGc42D0MC0kzT\n",
    "mIuCkWhpLiHS0gXxz2QcGma77SFfNXo24jEx7DJr2sSS6196R9n7hFCGixEWG67N\n",
    "zmNdXPENcDGunw4+O+EAgToOd80rvBDdxUcN4x4yZOLC8IyTSpQO/P1N1EaLGIQm\n",
    "YDWRM7e351uAenx7PDHwCKVwqWIVuZdEkLj95COew57WG4qKBrGHRIRv3+4n4238\n",
    "ndj6JAWxlczXYG7yq65kkhmNXNRAy0gw607Z78vl/jIJbgw=\n",
    "-----END CERTIFICATE-----\"\"\""
   ]
  },
  {
   "attachments": {},
   "cell_type": "markdown",
   "id": "5c09475c-fd59-44c4-b31e-0e9e50c31446",
   "metadata": {
    "deletable": false,
    "editable": false,
    "nbgrader": {
     "cell_type": "markdown",
     "checksum": "95e7921abfbdeb28652c004807f20f68",
     "grade": false,
     "grade_id": "cell-afde6a87c35ce0ab",
     "locked": true,
     "schema_version": 3,
     "solution": false,
     "task": false
    }
   },
   "source": [
    "### Task 3.2 (1 point)\n",
    "\n",
    "For this task, we will be using the [cryptography](https://cryptography.io/en/latest/) module again. In the following cell are some imports, that we think could be part of a solution (you can import others from the module as needed). \n",
    "Also, we think the [datetime](https://docs.python.org/3/library/datetime.html) module might be of use and hence you are allowed to use it. It is also already imported."
   ]
  },
  {
   "cell_type": "code",
   "execution_count": 3,
   "id": "aace5ec1-3247-4213-bc55-6d75e9708c71",
   "metadata": {
    "deletable": false,
    "editable": false,
    "nbgrader": {
     "cell_type": "code",
     "checksum": "7cbb9db542ddbbe903927a9f1f19d65e",
     "grade": false,
     "grade_id": "cell-c1341231b6f78491",
     "locked": true,
     "schema_version": 3,
     "solution": false,
     "task": false
    }
   },
   "outputs": [],
   "source": [
    "# link https://cryptography.io/en/latest/hazmat/primitives/asymmetric/rsa/\n",
    "from cryptography import x509\n",
    "from cryptography.hazmat.primitives import serialization\n",
    "from cryptography.hazmat.backends import default_backend\n",
    "from cryptography.x509.name import Name\n",
    "from datetime import datetime, timezone"
   ]
  },
  {
   "cell_type": "markdown",
   "id": "1e72a13b-7ce7-40b6-a8c8-e53db6452333",
   "metadata": {
    "deletable": false,
    "editable": false,
    "nbgrader": {
     "cell_type": "markdown",
     "checksum": "c05a65621606c41d91fd0ca9e276ef9b",
     "grade": false,
     "grade_id": "cell-5b916ad980cbee53",
     "locked": true,
     "schema_version": 3,
     "solution": false,
     "task": false
    }
   },
   "source": [
    "First, implement the function `read_cert(pem_data: str) -> x509.Certificate` which takes a PEM-formatted string certificate as input (`pem_data`), reads it and returns it as an `x509.Certificate` object. For this you may want to have a look at [the documentation](https://cryptography.io/en/latest/x509/).\n",
    "\n",
    "*Hint: If you need to encode a string as [bytes](https://docs.python.org/3/library/stdtypes.html#bytes), you can use the 'utf-8' encoding.*"
   ]
  },
  {
   "cell_type": "code",
   "execution_count": 4,
   "id": "506c5c8f-07cd-4c4f-af0e-4bed3fd6cd00",
   "metadata": {
    "deletable": false,
    "nbgrader": {
     "cell_type": "code",
     "checksum": "99188f23e1da704ff171c86579a9f021",
     "grade": false,
     "grade_id": "cell-18b652cd36f5b57f",
     "locked": false,
     "schema_version": 3,
     "solution": true,
     "task": false
    }
   },
   "outputs": [],
   "source": [
    "def read_cert(pem_data: str) -> x509.Certificate:\n",
    "    # YOUR CODE HERE\n",
    "    data_bytes: bytes = bytes(pem_data, 'utf-8')\n",
    "    return x509.load_pem_x509_certificate(data_bytes)"
   ]
  },
  {
   "cell_type": "code",
   "execution_count": 5,
   "id": "4ec09c2d-fb7d-4e46-850c-ecd52bde7e68",
   "metadata": {
    "deletable": false,
    "editable": true,
    "nbgrader": {
     "cell_type": "code",
     "checksum": "579c11822da448201f52befee75399e7",
     "grade": false,
     "grade_id": "cell-b3de0e8e9a122f5f",
     "locked": true,
     "schema_version": 3,
     "solution": false,
     "task": false
    }
   },
   "outputs": [
    {
     "name": "stdout",
     "output_type": "stream",
     "text": [
      "<Certificate(subject=<Name(C=KY,ST=Perlis,L=Accra,O=BackDoor Locks Inc.,OU=Breach Response Team,CN=locks.backdoor.inc,1.2.840.113549.1.9.1=recyclebin@locks.backdoor.inc)>, ...)>\n"
     ]
    }
   ],
   "source": [
    "### PLAYGROUND\n",
    "# You can use this cell to test out your implementation. Everything in this cell will be ignored during grading.\n",
    "\n",
    "print(read_cert(cert_str))"
   ]
  },
  {
   "cell_type": "code",
   "execution_count": 6,
   "id": "7576dfa6-f062-4779-a710-c9a28e9dc84d",
   "metadata": {
    "deletable": false,
    "editable": false,
    "nbgrader": {
     "cell_type": "code",
     "checksum": "7b29a397942e20e98e0a8bfb09b436f6",
     "grade": true,
     "grade_id": "cell-9320626e85940223",
     "locked": true,
     "points": 0,
     "schema_version": 3,
     "solution": false,
     "task": false
    }
   },
   "outputs": [],
   "source": [
    "# This test just checks your solution\n",
    "\n",
    "cert = read_cert(cert_str)\n",
    "\n",
    "assert isinstance(cert, x509.Certificate)\n",
    "assert cert.serial_number is not None"
   ]
  },
  {
   "cell_type": "code",
   "execution_count": null,
   "id": "c1eabfcf-cb8f-4c04-966b-9051506183e3",
   "metadata": {
    "deletable": false,
    "editable": false,
    "nbgrader": {
     "cell_type": "code",
     "checksum": "7d177472cfa627f7187c6ce433ed566a",
     "grade": true,
     "grade_id": "cell-b98884341800b5bb",
     "locked": true,
     "points": 1,
     "schema_version": 3,
     "solution": false,
     "task": false
    }
   },
   "outputs": [],
   "source": [
    "# Even this cell seems empty, it contains automatic tests. Please do not remove this cell and just ignore it."
   ]
  },
  {
   "attachments": {},
   "cell_type": "markdown",
   "id": "3fe2859a-70b9-4c6d-bef9-91e72ff80bf9",
   "metadata": {
    "deletable": false,
    "editable": false,
    "nbgrader": {
     "cell_type": "markdown",
     "checksum": "c8538cc6cc9b8301b3d6fcdb695b4bb8",
     "grade": false,
     "grade_id": "cell-c7f3857c2c0bc784",
     "locked": true,
     "schema_version": 3,
     "solution": false,
     "task": false
    }
   },
   "source": [
    "### Task 3.3 (0.5 points)\n",
    "\n",
    "Now, we want to know the issuer of the certificate. Hence, implement a function `get_issuer(cert: x509.Certificate) -> Name` which takes the previously loaded `cert`, an `x509.Certificate`, as input and returns the issuer as `x509.name.Name`. \n",
    "\n",
    "*Hint: Don't be confused by the fact that your return value acts as a list (it is actually one!)*"
   ]
  },
  {
   "cell_type": "code",
   "execution_count": 7,
   "id": "b54530d5-1b1c-4352-9641-e6bd6cc7da49",
   "metadata": {
    "deletable": false,
    "nbgrader": {
     "cell_type": "code",
     "checksum": "afefdcfac28579462ec105caa8847443",
     "grade": false,
     "grade_id": "cell-3dfc735000ccf354",
     "locked": false,
     "schema_version": 3,
     "solution": true,
     "task": false
    }
   },
   "outputs": [],
   "source": [
    "def get_issuer(cert: x509.Certificate) -> Name:\n",
    "    # YOUR CODE HERE\n",
    "    return cert.issuer"
   ]
  },
  {
   "cell_type": "code",
   "execution_count": 8,
   "id": "1bc0ae4c-aedf-4baf-8af3-9e5be75e02c2",
   "metadata": {
    "deletable": false,
    "editable": true,
    "nbgrader": {
     "cell_type": "code",
     "checksum": "48f4293c2c3f2494db54787d68ca36b6",
     "grade": false,
     "grade_id": "cell-feaedd28d16ec7b7",
     "locked": true,
     "schema_version": 3,
     "solution": false,
     "task": false
    }
   },
   "outputs": [
    {
     "name": "stdout",
     "output_type": "stream",
     "text": [
      "<Name(C=KY,ST=Perlis,L=Accra,O=BackDoor Locks Inc.,OU=Breach Response Team,CN=locks.backdoor.inc,1.2.840.113549.1.9.1=recyclebin@locks.backdoor.inc)>\n"
     ]
    }
   ],
   "source": [
    "### PLAYGROUND\n",
    "# You can use this cell to test out your implementation. Everything in this cell will be ignored during grading.\n",
    "\n",
    "print(get_issuer(read_cert(cert_str)))"
   ]
  },
  {
   "cell_type": "code",
   "execution_count": 9,
   "id": "a5bccdf4-aff4-44fc-89d4-4c2da2502cef",
   "metadata": {
    "deletable": false,
    "editable": false,
    "nbgrader": {
     "cell_type": "code",
     "checksum": "bf1beebbeb207f161ff52690e01d84b1",
     "grade": true,
     "grade_id": "cell-8eab145c5e5f96b6",
     "locked": true,
     "points": 0,
     "schema_version": 3,
     "solution": false,
     "task": false
    }
   },
   "outputs": [],
   "source": [
    "# This test just checks your solution\n",
    "\n",
    "cert = read_cert(cert_str)\n",
    "name = get_issuer(cert)\n",
    "\n",
    "assert isinstance(name, x509.name.Name)\n",
    "assert len(name) == 7"
   ]
  },
  {
   "cell_type": "code",
   "execution_count": null,
   "id": "3c80e317-a35f-4db7-8492-92c54c491b8a",
   "metadata": {
    "deletable": false,
    "editable": false,
    "nbgrader": {
     "cell_type": "code",
     "checksum": "7ca449da13cfc4b66b27f807b7f6ba6a",
     "grade": true,
     "grade_id": "cell-efe66b1260015106",
     "locked": true,
     "points": 0.5,
     "schema_version": 3,
     "solution": false,
     "task": false
    }
   },
   "outputs": [],
   "source": [
    "# Even this cell seems empty, it contains automatic tests. Please do not remove this cell and just ignore it."
   ]
  },
  {
   "attachments": {},
   "cell_type": "markdown",
   "id": "5632fda9-2eb9-44df-9010-ce157e266586",
   "metadata": {
    "deletable": false,
    "editable": false,
    "nbgrader": {
     "cell_type": "markdown",
     "checksum": "6b669a460f7ffd05c4a25081abc0b9b7",
     "grade": false,
     "grade_id": "cell-b9c81f0c025a3635",
     "locked": true,
     "schema_version": 3,
     "solution": false,
     "task": false
    }
   },
   "source": [
    "### Task 3.4 (0.5 points)\n",
    "\n",
    "We also want to inspect the public key that this certificate informs us about. Implement the function `get_exponent(cert: x509.Certificate) -> int` which takes `cert`, an `x509.Certificate`, as input and returns the public exponent `e` of the public key in the certificate `cert` as `int`. "
   ]
  },
  {
   "cell_type": "code",
   "execution_count": 10,
   "id": "5b2048f1-1f51-4024-ab89-451322389bba",
   "metadata": {
    "deletable": false,
    "nbgrader": {
     "cell_type": "code",
     "checksum": "f68c633513202ae903b7c881dc0df4fc",
     "grade": false,
     "grade_id": "cell-3d764d34ea046c81",
     "locked": false,
     "schema_version": 3,
     "solution": true,
     "task": false
    }
   },
   "outputs": [],
   "source": [
    "def get_exponent(cert: x509.Certificate) -> int:\n",
    "    # YOUR CODE HERE\n",
    "    public_key = cert.public_key()\n",
    "    return public_key.public_numbers().e"
   ]
  },
  {
   "cell_type": "code",
   "execution_count": 11,
   "id": "f75f8fab-dd1c-4163-b1cc-b2b43c7ad086",
   "metadata": {
    "deletable": false,
    "editable": true,
    "nbgrader": {
     "cell_type": "code",
     "checksum": "fa64ac6dd2c61439bcf7a6d93ca6f39f",
     "grade": false,
     "grade_id": "cell-ba77152319c15671",
     "locked": true,
     "schema_version": 3,
     "solution": false,
     "task": false
    }
   },
   "outputs": [
    {
     "name": "stdout",
     "output_type": "stream",
     "text": [
      "65537\n"
     ]
    }
   ],
   "source": [
    "### PLAYGROUND\n",
    "# You can use this cell to test out your implementation. Everything in this cell will be ignored during grading.\n",
    "\n",
    "print(get_exponent(read_cert(cert_str)))"
   ]
  },
  {
   "cell_type": "code",
   "execution_count": 12,
   "id": "d12a5bb2-2a5c-4459-bfff-64504cbb33e6",
   "metadata": {
    "deletable": false,
    "editable": false,
    "nbgrader": {
     "cell_type": "code",
     "checksum": "f46d981bbbd125bca367c79cab263217",
     "grade": true,
     "grade_id": "cell-541b9cc5d5f4b786",
     "locked": true,
     "points": 0,
     "schema_version": 3,
     "solution": false,
     "task": false
    }
   },
   "outputs": [],
   "source": [
    "# This test just checks your solution\n",
    "\n",
    "cert = read_cert(cert_str)\n",
    "exp = get_exponent(cert)\n",
    "\n",
    "assert type(exp) == int"
   ]
  },
  {
   "cell_type": "code",
   "execution_count": null,
   "id": "5d7666b8-4dca-49e9-9758-dbb81a16b6ed",
   "metadata": {
    "deletable": false,
    "editable": false,
    "nbgrader": {
     "cell_type": "code",
     "checksum": "f371cd0c3fa0df981c0f646ddbb65e8a",
     "grade": true,
     "grade_id": "cell-41fccf9b8afb23ce",
     "locked": true,
     "points": 0.5,
     "schema_version": 3,
     "solution": false,
     "task": false
    }
   },
   "outputs": [],
   "source": [
    "# Even this cell seems empty, it contains automatic tests. Please do not remove this cell and just ignore it."
   ]
  },
  {
   "attachments": {},
   "cell_type": "markdown",
   "id": "8495ad8d-5055-45ae-b0ea-c08eb2d52a83",
   "metadata": {
    "deletable": false,
    "editable": false,
    "nbgrader": {
     "cell_type": "markdown",
     "checksum": "028730512380463dbd798ab1c2d7b345",
     "grade": false,
     "grade_id": "cell-a68b35b2bd83e67f",
     "locked": true,
     "schema_version": 3,
     "solution": false,
     "task": false
    }
   },
   "source": [
    "### Task 3.5 (1 point)\n",
    "\n",
    "Of course, we also want to know about the length of the key. Implement the function `get_key_length(cert: x509.Certificate) -> int` which takes `cert`, an `x509.Certificate`, as input and returns the bit length of the key as `int`."
   ]
  },
  {
   "cell_type": "code",
   "execution_count": 13,
   "id": "cb7ee2b0-61c2-4b2c-92dd-9326da07e6d8",
   "metadata": {
    "deletable": false,
    "nbgrader": {
     "cell_type": "code",
     "checksum": "449a0eafe1d61567b28c82d86312cdc7",
     "grade": false,
     "grade_id": "cell-7b8fe0d7e4ec7ff5",
     "locked": false,
     "schema_version": 3,
     "solution": true,
     "task": false
    }
   },
   "outputs": [],
   "source": [
    "def get_key_length(cert: x509.Certificate) -> int:\n",
    "    # YOUR CODE HERE\n",
    "    key = cert.public_key()\n",
    "    return key.key_size"
   ]
  },
  {
   "cell_type": "code",
   "execution_count": 14,
   "id": "b93a3d8e-15f9-4292-8ece-914f80c52fb8",
   "metadata": {
    "deletable": false,
    "editable": true,
    "nbgrader": {
     "cell_type": "code",
     "checksum": "017ff335d9738219d5df30c1006b297a",
     "grade": false,
     "grade_id": "cell-88775b2747b3da92",
     "locked": true,
     "schema_version": 3,
     "solution": false,
     "task": false
    }
   },
   "outputs": [
    {
     "name": "stdout",
     "output_type": "stream",
     "text": [
      "4096\n"
     ]
    }
   ],
   "source": [
    "### PLAYGROUND\n",
    "# You can use this cell to test out your implementation. Everything in this cell will be ignored during grading.\n",
    "\n",
    "print(get_key_length(read_cert(cert_str)))"
   ]
  },
  {
   "cell_type": "code",
   "execution_count": 15,
   "id": "ac9bb8c5-6a31-4295-b216-d503b964a119",
   "metadata": {
    "deletable": false,
    "editable": false,
    "nbgrader": {
     "cell_type": "code",
     "checksum": "e447aef59285d5bebecab8bf33dbc96a",
     "grade": true,
     "grade_id": "cell-0e38ce0d9709bf9b",
     "locked": true,
     "points": 0,
     "schema_version": 3,
     "solution": false,
     "task": false
    }
   },
   "outputs": [],
   "source": [
    "# This test just checks your solution\n",
    "\n",
    "cert = read_cert(cert_str)\n",
    "length = get_key_length(cert)\n",
    "\n",
    "assert type(length) == int"
   ]
  },
  {
   "cell_type": "code",
   "execution_count": null,
   "id": "0635ff69-d133-40cf-a2f6-3eb989a3651c",
   "metadata": {
    "deletable": false,
    "editable": false,
    "nbgrader": {
     "cell_type": "code",
     "checksum": "427c402aaa419fd0b9d3a7e20c6c00e4",
     "grade": true,
     "grade_id": "cell-624894f7179d276a",
     "locked": true,
     "points": 1,
     "schema_version": 3,
     "solution": false,
     "task": false
    }
   },
   "outputs": [],
   "source": [
    "# Even this cell seems empty, it contains automatic tests. Please do not remove this cell and just ignore it."
   ]
  },
  {
   "attachments": {},
   "cell_type": "markdown",
   "id": "8d14bed2-b0cd-4232-8c88-0fab226a6081",
   "metadata": {
    "deletable": false,
    "editable": false,
    "nbgrader": {
     "cell_type": "markdown",
     "checksum": "3b801a5e4da46b7686f4d859f37fa5f6",
     "grade": false,
     "grade_id": "cell-bc7ab068e63a01e9",
     "locked": true,
     "schema_version": 3,
     "solution": false,
     "task": false
    }
   },
   "source": [
    "### Task 3.6 (1 point)\n",
    "\n",
    "Furthermore, we want to check whether the certificate is even valid for the current date (today). Hence, implement the function `check_validity(cert: x509.Certificate) -> bool` which takes `cert`, an `x509.Certificate`, as input and returns `True` if it is valid today (`datetime.today()`) and `False` otherwise.\n",
    "\n",
    "*Hint: Have a look at all provided dates!*"
   ]
  },
  {
   "cell_type": "code",
   "execution_count": null,
   "id": "930ef907-a6bf-4261-b384-a4b0cc9f3989",
   "metadata": {
    "deletable": false,
    "nbgrader": {
     "cell_type": "code",
     "checksum": "b6c63011a1c5f301af3b2a803b52ab0f",
     "grade": false,
     "grade_id": "cell-a02e0a6642c5f36c",
     "locked": false,
     "schema_version": 3,
     "solution": true,
     "task": false
    }
   },
   "outputs": [],
   "source": [
    "def check_validity(cert: x509.Certificate) -> bool:\n",
    "    # YOUR CODE HERE\n",
    "    # Yes, .now() instead of .today() _with timezone information_ because\n",
    "    # otherwise, Python throws an error in the below comparison of dates\n",
    "    cur_date = datetime.now(timezone.utc)\n",
    "\n",
    "    if cur_date < cert.not_valid_before_utc:\n",
    "        return False\n",
    "    if cur_date > cert.not_valid_after_utc:\n",
    "        return False\n",
    "    return True"
   ]
  },
  {
   "cell_type": "code",
   "execution_count": null,
   "id": "89ef8004-1286-413c-a666-0b9b2a252b00",
   "metadata": {
    "deletable": false,
    "editable": true,
    "nbgrader": {
     "cell_type": "code",
     "checksum": "0ea6a06be9eb7d4a6297ad9c396f013d",
     "grade": false,
     "grade_id": "cell-571f4996bb251d44",
     "locked": true,
     "schema_version": 3,
     "solution": false,
     "task": false
    }
   },
   "outputs": [],
   "source": [
    "### PLAYGROUND\n",
    "# You can use this cell to test out your implementation. Everything in this cell will be ignored during grading."
   ]
  },
  {
   "cell_type": "code",
   "execution_count": 17,
   "id": "2283c34b-0f84-4724-96bb-edb93a7fd9af",
   "metadata": {
    "deletable": false,
    "editable": false,
    "nbgrader": {
     "cell_type": "code",
     "checksum": "a110ecc0d7f0cc12509c43e1923f5a1d",
     "grade": true,
     "grade_id": "cell-06714ff26aeaa71a",
     "locked": true,
     "points": 0,
     "schema_version": 3,
     "solution": false,
     "task": false
    }
   },
   "outputs": [],
   "source": [
    "# This test just checks your solution\n",
    "\n",
    "cert = read_cert(cert_str)\n",
    "valid = check_validity(cert)\n",
    "\n",
    "assert type(valid) == bool\n",
    "assert valid"
   ]
  },
  {
   "cell_type": "code",
   "execution_count": null,
   "id": "183e65fd-ceb8-4168-a1cd-c37d255416a8",
   "metadata": {
    "deletable": false,
    "editable": false,
    "nbgrader": {
     "cell_type": "code",
     "checksum": "b4d3b5afa6ec134a777a327dc2c6b3fe",
     "grade": true,
     "grade_id": "cell-ce33f315c15238da",
     "locked": true,
     "points": 1,
     "schema_version": 3,
     "solution": false,
     "task": false
    }
   },
   "outputs": [],
   "source": [
    "# Even this cell seems empty, it contains automatic tests. Please do not remove this cell and just ignore it."
   ]
  },
  {
   "cell_type": "markdown",
   "id": "82e1ccbf-5c5c-4d5d-bb0f-23b7333374a8",
   "metadata": {
    "deletable": false,
    "editable": false,
    "nbgrader": {
     "cell_type": "markdown",
     "checksum": "82ab6e8baaa1daadb2cc96a4bec26bfb",
     "grade": false,
     "grade_id": "cell-64e0ee1a848a9e8a",
     "locked": true,
     "schema_version": 3,
     "solution": false,
     "task": false
    }
   },
   "source": [
    "## Task 3.7 (1 point)\n",
    "\n",
    "**Explain** what is difference between the above presented certificate and certificates used on most websites. Why is this certificate considered insecure?"
   ]
  },
  {
   "cell_type": "markdown",
   "id": "9620449f-2b81-458b-b961-24c893d4459c",
   "metadata": {
    "deletable": false,
    "nbgrader": {
     "cell_type": "markdown",
     "checksum": "e73463c050006818d8724e869fbb5fec",
     "grade": true,
     "grade_id": "cell-880e12b8fc0b72d0",
     "locked": false,
     "points": 1,
     "schema_version": 3,
     "solution": true,
     "task": false
    }
   },
   "source": [
    "The _difference_ to \"normal\" certificates & thus the _insecurity_ of the above certificate is due to it being a **self-signed certificate** (i.e. _issuer_ and \"recipient\" are the _same_, with the issuer _not being_ a certificate authority); in this case, both issuer & recipient are the \"BackDoor Locks Inc.\" from Task 2.\n",
    "\n",
    "This is considered insecure (and hence _not done_ on most websites) as when e.g. connecting to a website with a self-signed certificate, we **cannot check the legitimacy** of the certificate, as for all we know, some attacker could have just substituted this certificate _for their own self-signed_ certificate, thus making us believe we are connected to the \"intended\" communication partner when we are not."
   ]
  },
  {
   "cell_type": "markdown",
   "id": "666b8fa8-1f2b-4237-8706-5ec3b0d70df2",
   "metadata": {
    "deletable": false,
    "editable": false,
    "nbgrader": {
     "cell_type": "markdown",
     "checksum": "219db070fb5204e488445718311c7beb",
     "grade": false,
     "grade_id": "cell-5bebd650b9401b8c",
     "locked": true,
     "schema_version": 3,
     "solution": false,
     "task": false
    }
   },
   "source": [
    "## 4. Exam Example Tasks (0.5 points)\n",
    "\n",
    "> Note: This task is awarded with 0.5 points only if it has been seriously addressed, regardless of whether the answer is correct.\n",
    "\n",
    "In the following, multiple two party key establishment protocol will be introduced.\n",
    "\n",
    "The key establishment protocola are based on the Diffie-Hellman Key Agreement. We assume the following for all of the following protocols:\n",
    "\n",
    "- Alice (A), Bob (B), and Eve (E) each have a public/private key pair they can use to encrypt and (securely) sign messages.\n",
    "- Alice, Bob, and Eve know each others public key\n",
    "- We use $sig_X(m)$ to indicate that the message $m$ is signed (securely) using the private key of entity $X$\n",
    "- The same holds for $enc_X(m)$ to indicate the encryption of message $m$ using the public key of $X$\n",
    "- The signed messages are always verified by any receiving party, any invalid signature would lead to termination of the protocol\n",
    "- The prime number $p$ and the generator $g \\in \\mathbb{Z}^*_g$ are public and known to all parties\n",
    "\n",
    "### Task 4.1\n",
    "\n",
    "The exchanged messages and actions of the first protocol are depicted in the following diagram:\n",
    "\n",
    "![](./dh_sig.png)\n",
    "\n",
    "**Answer** the questions below and **justify** your answer.\n",
    "\n",
    "#### a)\n",
    "\n",
    "Does an attacker (Eve), that is able to eavesdrop on every exchanged message, gets in possession of the key $K$ at the end?"
   ]
  },
  {
   "cell_type": "markdown",
   "id": "25b42845-8211-4962-947d-51535fb7877c",
   "metadata": {
    "deletable": false,
    "nbgrader": {
     "cell_type": "markdown",
     "checksum": "67de85c48d584f8d10bce7444cfa6211",
     "grade": true,
     "grade_id": "cell-c156582bc0104606",
     "locked": false,
     "points": 0.5,
     "schema_version": 3,
     "solution": true,
     "task": false
    }
   },
   "source": [
    "No, she is not due to the hardness of the discrete logarithm problem. Although she knows A and g, she is not able to find a, same with b. Finding a or b is required to compute the key."
   ]
  },
  {
   "cell_type": "markdown",
   "id": "203c06c3-4cac-46da-b121-81dfb148821d",
   "metadata": {
    "deletable": false,
    "editable": false,
    "nbgrader": {
     "cell_type": "markdown",
     "checksum": "2510756d27f3de2dc3b084c7b26d8a9c",
     "grade": false,
     "grade_id": "cell-8a848c229bf88fd5",
     "locked": true,
     "schema_version": 3,
     "solution": false,
     "task": false
    }
   },
   "source": [
    "#### b)\n",
    "\n",
    "Is a Person-in-the-middle-attack / Man-in-the-middle-addtack possible using this setting?"
   ]
  },
  {
   "cell_type": "markdown",
   "id": "b6ec0c7f-7b89-46ad-9b8b-96ec8c761040",
   "metadata": {
    "deletable": false,
    "nbgrader": {
     "cell_type": "markdown",
     "checksum": "be3f83b3cbc8ccac781c0d46bbe4622e",
     "grade": true,
     "grade_id": "cell-9b2c1620c5863f49",
     "locked": false,
     "points": 0,
     "schema_version": 3,
     "solution": true,
     "task": false
    }
   },
   "source": [
    "No, because the man-in-the-middle cannot sign messages correctly, thus Alice and Bob would know that there is an attacker who is trying to impersonate the other."
   ]
  },
  {
   "cell_type": "markdown",
   "id": "86fd8d70-734e-4dad-b095-dca9260aa896",
   "metadata": {
    "deletable": false,
    "editable": false,
    "nbgrader": {
     "cell_type": "markdown",
     "checksum": "2492122d505c48189231209f92a4947d",
     "grade": false,
     "grade_id": "cell-af259661f4617e51",
     "locked": true,
     "schema_version": 3,
     "solution": false,
     "task": false
    }
   },
   "source": [
    "#### c)\n",
    "\n",
    "From the lecture you know five properties for key establishment protocols: Entity Authentication, Implicit key authentication, Key freshness, Perfect forward secrecy, Protection against known keys.\n",
    "\n",
    "State for each one, if this property holds or not. (No justification necessary)"
   ]
  },
  {
   "cell_type": "markdown",
   "id": "4e6bedaa-b534-4898-ad0f-befbac9e9afe",
   "metadata": {
    "deletable": false,
    "nbgrader": {
     "cell_type": "markdown",
     "checksum": "a34089a0e1b1bcb3a48aa840bf1b83fe",
     "grade": true,
     "grade_id": "cell-fe4ad78dd64e7ebe",
     "locked": false,
     "points": 0,
     "schema_version": 3,
     "solution": true,
     "task": false
    }
   },
   "source": [
    "Entity Authentication: No\n",
    "Implicit key authentication: Yes\n",
    "Key freshness: Yes\n",
    "Perfect forward secrecy: No\n",
    "Protection against known keys: No"
   ]
  },
  {
   "cell_type": "markdown",
   "id": "f9184484-e13f-46bd-9060-2d5eaf5b70c4",
   "metadata": {
    "deletable": false,
    "editable": false,
    "nbgrader": {
     "cell_type": "markdown",
     "checksum": "3581ce352689c7a887cb90a1321c8a56",
     "grade": false,
     "grade_id": "cell-16e0d283d89c75ff",
     "locked": true,
     "schema_version": 3,
     "solution": false,
     "task": false
    }
   },
   "source": [
    "#### d)\n",
    "\n",
    "Could this key agreement be improved in any way to make it even more secure?"
   ]
  },
  {
   "cell_type": "markdown",
   "id": "e0db6924-b26a-464f-af1d-2997672002e6",
   "metadata": {
    "deletable": false,
    "nbgrader": {
     "cell_type": "markdown",
     "checksum": "115409bf55df529d224399df197330c0",
     "grade": true,
     "grade_id": "cell-2c60cdb319e862eb",
     "locked": false,
     "points": 0,
     "schema_version": 3,
     "solution": true,
     "task": false
    }
   },
   "source": [
    "So far, there are no session keys. The key is established in the beginning and then used for the whole communication. The use of session keys would be an improvement: After a certain amount of messages, there has to be a new key agreement process, establishing a new key between the two parties. This would lead to an improvement and Perfect Forward Secrey as well as Protection Against Known Keys. Sending a certificate alongside the messages would also provide authentication."
   ]
  },
  {
   "cell_type": "markdown",
   "id": "016280c1-1b3b-45a1-93a6-7994ed2aedeb",
   "metadata": {
    "deletable": false,
    "editable": false,
    "nbgrader": {
     "cell_type": "markdown",
     "checksum": "d9a4417d948048f4318e37b37b7815d7",
     "grade": false,
     "grade_id": "cell-d360b26e2bbad494",
     "locked": true,
     "schema_version": 3,
     "solution": false,
     "task": false
    }
   },
   "source": [
    "### Task 4.2\n",
    "\n",
    "In this task we have a look at another Diffie-Hellman Key Agreement protocol.\n",
    "\n",
    "The exchanged messages and actions of the first protocol are depicted in the following diagram:\n",
    "\n",
    "![](./dh_auth.png)\n",
    "\n",
    "#### a)\n",
    "\n",
    "For each of the message components (e.g. $\\text{sig}_A(A)$, $A$, ...) **explain** what they are used for."
   ]
  },
  {
   "cell_type": "markdown",
   "id": "30a06092-da03-4747-9931-d66b7135daf5",
   "metadata": {
    "deletable": false,
    "nbgrader": {
     "cell_type": "markdown",
     "checksum": "82b817555668b63cdc40f4751b90765f",
     "grade": true,
     "grade_id": "cell-84074db4ec8f0d47",
     "locked": false,
     "points": 0,
     "schema_version": 3,
     "solution": true,
     "task": false
    }
   },
   "source": [
    "A: Public DH-Value of A, cert_A: Certificate, stating that A truly belongs to Alice, sig_A(A): Alice's signature, so B knows that the message has indeed been send by Alice\n",
    "For Bob's message, it's completely the same, just the other way around."
   ]
  },
  {
   "cell_type": "markdown",
   "id": "ff2c407b-2796-480a-983b-e1bdd2a669d3",
   "metadata": {
    "deletable": false,
    "editable": false,
    "nbgrader": {
     "cell_type": "markdown",
     "checksum": "48322279b104223323faa84508e5e5ba",
     "grade": false,
     "grade_id": "cell-1fe69f4287a3f69d",
     "locked": true,
     "schema_version": 3,
     "solution": false,
     "task": false
    }
   },
   "source": [
    "#### b)\n",
    "\n",
    "From the lecture you know five properties for key establishment protocols: Entity Authentication, Implicit key authentication, Key freshness, Perfect forward secrecy, Protection against known keys.\n",
    "\n",
    "State for each one, if this property holds or not. (No justification necessary)"
   ]
  },
  {
   "cell_type": "markdown",
   "id": "10cf9b22-1114-43e0-aa11-15fa9703fcfd",
   "metadata": {
    "deletable": false,
    "nbgrader": {
     "cell_type": "markdown",
     "checksum": "5ea09cfbb1d8c70a22038ba5c04aa8a8",
     "grade": true,
     "grade_id": "cell-4ea32aff6c5d6f6e",
     "locked": false,
     "points": 0,
     "schema_version": 3,
     "solution": true,
     "task": false
    }
   },
   "source": [
    "Entity Authentication: No\n",
    "Implicit key authentication: Yes\n",
    "Key freshness: Yes\n",
    "Perfect forward secrecy: No\n",
    "Protection against known keys: No"
   ]
  },
  {
   "cell_type": "markdown",
   "id": "56b3b266-c602-432e-a798-4606ea68739a",
   "metadata": {
    "deletable": false,
    "editable": false,
    "nbgrader": {
     "cell_type": "markdown",
     "checksum": "906f059b1fe9c2acaf0ec364e86529dc",
     "grade": false,
     "grade_id": "cell-397ff6e5b8d26310",
     "locked": true,
     "schema_version": 3,
     "solution": false,
     "task": false
    }
   },
   "source": [
    "#### c)\n",
    "\n",
    "Is this approach more secure than the previous one? Is an attack still possible? **Justify** your answer."
   ]
  },
  {
   "cell_type": "markdown",
   "id": "94ceea08-22f7-422a-825f-d0302c979246",
   "metadata": {
    "deletable": false,
    "nbgrader": {
     "cell_type": "markdown",
     "checksum": "b8cbb809340f703fc343064d6575161a",
     "grade": true,
     "grade_id": "cell-dc9bc6171d961089",
     "locked": false,
     "points": 0,
     "schema_version": 3,
     "solution": true,
     "task": false
    }
   },
   "source": [
    "Yes, it is better, because there is now authentication due to the use of the certificates. An attack is still possible because a man-in-the-middle could intercept the messages, once again establish two seperate key exchanges with Alice and Bob and now send cert_A and cert_B."
   ]
  },
  {
   "attachments": {},
   "cell_type": "markdown",
   "id": "e6c3eb15-1230-49be-a095-34d8953169b5",
   "metadata": {
    "deletable": false,
    "editable": false,
    "nbgrader": {
     "cell_type": "markdown",
     "checksum": "05700e41d8cb11088fc1bfa28b598f6c",
     "grade": false,
     "grade_id": "cell-9ddf7a69705e7674",
     "locked": true,
     "schema_version": 3,
     "solution": false,
     "task": false
    }
   },
   "source": [
    "## 5. Feedback (0.5 points)\n",
    "\n",
    "> Note: This task is awarded with 0.5 points only if there is feedback in any form to this exercise. It is also okay to state what was especially nice or rewarding. Literally just writing \"anything\" is not enough. Any feedback will improve the assignments.\n",
    "\n",
    "You can not be stopped - you finished one assignment more! Since we want to know how it went and how we might improve the exercises, we include the following task. Here, you can write constructive feedback! You even get 0.5 points for it if you write some feedback."
   ]
  },
  {
   "cell_type": "markdown",
   "id": "f7998dad-7abf-4b22-9a25-c3748b9f8b29",
   "metadata": {
    "deletable": false,
    "nbgrader": {
     "cell_type": "markdown",
     "checksum": "5bbb7e4b586895be25f34aa2853993a8",
     "grade": true,
     "grade_id": "cell-4710adec87462861",
     "locked": false,
     "points": 0.5,
     "schema_version": 3,
     "solution": true,
     "task": false
    }
   },
   "source": [
    "This exercise was, in our opinion, a bit stale: We get that depending on the contents of the lecture, some topics are more suited to providing \"good material\" for coding exercises than others (e.g. two sheets with RSA backdoors on them shows that RSA is more well suited to this exercise system than other topics), but having one entire exercise (exercise 3) just dedicated to basically scrolling through the documentation of the `cryptography` module & implementing that is not really our favourite type of work. Instead, we would have liked exercise 3 being more like exercise 2, with maybe some coding tasks, but then more text-based/written tasks to compensate for the lesser amount of coding tasks."
   ]
  },
  {
   "cell_type": "markdown",
   "id": "f6b2cdde-0209-4c8b-82c5-1c6f842eaf01",
   "metadata": {
    "deletable": false,
    "editable": false,
    "nbgrader": {
     "cell_type": "markdown",
     "checksum": "bf294f1f651aa677d13bc5d66f952740",
     "grade": false,
     "grade_id": "cell-81ba95b19acd56f1",
     "locked": true,
     "schema_version": 3,
     "solution": false,
     "task": false
    }
   },
   "source": [
    "**This assignment was brought to you by**\n",
    "\n",
    "![](./logo.png)\n",
    "\n",
    "BackDoor Locks Inc. *Innovation Meets... Convenient Entry.*\n",
    "\n",
    "*Logo generated with the help of AI*"
   ]
  }
 ],
 "metadata": {
  "kernelspec": {
   "display_name": "Python 3",
   "language": "python",
   "name": "python3"
  },
  "language_info": {
   "codemirror_mode": {
    "name": "ipython",
    "version": 3
   },
   "file_extension": ".py",
   "mimetype": "text/x-python",
   "name": "python",
   "nbconvert_exporter": "python",
   "pygments_lexer": "ipython3",
   "version": "3.12.7"
  }
 },
 "nbformat": 4,
 "nbformat_minor": 5
}
