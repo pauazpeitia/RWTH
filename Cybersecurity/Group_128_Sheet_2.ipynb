{
 "cells": [
  {
   "attachments": {},
   "cell_type": "markdown",
   "id": "256497e3-bd1d-40a4-88bf-0d106f707246",
   "metadata": {
    "deletable": false,
    "editable": false,
    "nbgrader": {
     "cell_type": "markdown",
     "checksum": "569d4608c0daf7cb93c5bd3403f0c54b",
     "grade": false,
     "grade_id": "cell-738b7c02e643dafb",
     "locked": true,
     "schema_version": 3,
     "solution": false,
     "task": false
    },
    "pycharm": {
     "name": "#%% md\n"
    }
   },
   "source": [
    "# IT Security - Sheet 2 \"Symmetric Encryption\"\n",
    "\n",
    "**Total achievable points: 20**\n",
    "\n",
    "**Released: 31.10.2023**\n",
    "\n",
    "**Submission Deadline: 07.11.2023 23:59**"
   ]
  },
  {
   "cell_type": "markdown",
   "id": "d428170b",
   "metadata": {
    "pycharm": {
     "name": "#%% md\n"
    }
   },
   "source": [
    "---\n",
    "Groupnumber: 128\n",
    "\n",
    "Names and matriculation numbers of **ALL** team members: Samuel Rode (445160), Nils Maasch (445796), Pau Azpeita Bergos (443428), Gereon Geuchen (445328), Ben-Jay Huckebrink (445219) \n",
    "\n",
    "\n",
    "Format: John Doe (999999)\n",
    "\n",
    "---"
   ]
  },
  {
   "cell_type": "markdown",
   "id": "fe75eb28-90ed-4114-9b3a-af361ffc27a7",
   "metadata": {
    "deletable": false,
    "editable": false,
    "nbgrader": {
     "cell_type": "markdown",
     "checksum": "9bd3ed8acdcd3bbe51c33b909f35bd61",
     "grade": false,
     "grade_id": "cell-971e6e31a86c9656",
     "locked": true,
     "schema_version": 3,
     "solution": false,
     "task": false
    }
   },
   "source": [
    "**Important Information**\n",
    "\n",
    "The assignments have to be submitted by groups of 5 students. Even if you are registered in RWTHmoodle to a submission group, **please include the group number as well as the name and matriculation number of every group member in this notebook**. In case you are not part of a submission group and want to hand in assignments, please contact `ba-itsec@itsec.rwth-aachen.de`. We will then assign you to a submission group.\n",
    "\n",
    "Enter your solutions for the tasks in the respective cells of this notebook. These cells are either marked by \"YOUR ANSWER HERE\" or `#YOUR CODE HERE`. Please do not add any new cells or remove existing ones, especially do not copy cells. Cells marked with `###PLAYGROUND` can be used to test your implementation and generate output (see example for the first tasks). Please do not add any other output or tests in the cell of the task, just implement the function with the header provided. If you want to test your implementation, use the `###PLAYGROUND` cells. They will be ignored during grading. **Do not change any other cells or add new ones.**\n",
    "\n",
    "Please **do not import any further Python packages** except the default Python ones and the ones that are explicitly given by us."
   ]
  },
  {
   "cell_type": "markdown",
   "id": "2d231b0a-f9b3-4f59-bf4a-ed7224301a58",
   "metadata": {
    "deletable": false,
    "editable": false,
    "nbgrader": {
     "cell_type": "markdown",
     "checksum": "9ab022fbc29dc91b658f28672e3a0e9e",
     "grade": false,
     "grade_id": "cell-13e42b86efa876e6",
     "locked": true,
     "schema_version": 3,
     "solution": false,
     "task": false
    }
   },
   "source": [
    "## Content of this Assignment\n",
    "\n",
    "In the lecture, you learned about symmetric cipher standards such as DES and AES. It was shown, how to deal with the block ciphers in different modes of encryption. Also, you learned about hash functions, MDCs, and MACs. \n",
    "In this exercise, you'll take a deeper look into one of the modes presented in the lecture and be introduced to a new mode, the Output-Feedback-Mode. Also, you can again try to break some stuff (not the autograding of the assignments :D) by exploiting a bad MAC construction! But before, let's take a little detour to *One Time Pad* (OTP)."
   ]
  },
  {
   "cell_type": "markdown",
   "id": "c3acf899-7185-4b23-ae50-7c2399272034",
   "metadata": {
    "deletable": false,
    "editable": false,
    "nbgrader": {
     "cell_type": "markdown",
     "checksum": "37bf91200c549c928e92a387318f9362",
     "grade": false,
     "grade_id": "cell-9f01c598976f8f04",
     "locked": true,
     "schema_version": 3,
     "solution": false,
     "task": false
    }
   },
   "source": [
    "## 1. One-Time Pad (4 Points)\n",
    "\n",
    "In the lecture, the concept of the One-Time-Pad Cipher was introduced. This cipher is also called *Vernam Cipher* or *Vernam's One-Time-Pad*. This cipher has a few advantages and disadvantages that make using this cipher a bit cumbersome.\n",
    "\n",
    "The following tasks will provide some useful thoughts about the properties of One-Time-Pad. This task is a bit different from the other programming tasks, as it should make you practically think about the properties of OTP. So sometimes, in this task the answer to a programming question can be very simple. \n",
    "\n",
    "We will implement the functions necessary to encrypt and decrypt using OTP. The given functions `to_binary(message: str) -> str` and `from_binary(binray_message) -> str` will translate a given string into or from its binary representation. This representation is also a string, containing just `0` and `1`."
   ]
  },
  {
   "cell_type": "code",
   "execution_count": 1,
   "id": "8f6a0c5a-3d32-4699-a9a4-6db29855344e",
   "metadata": {
    "deletable": false,
    "editable": false,
    "nbgrader": {
     "cell_type": "code",
     "checksum": "acf1e3060bc46078010a68bed5c44059",
     "grade": false,
     "grade_id": "cell-c3e99b92284ec31b",
     "locked": true,
     "schema_version": 3,
     "solution": false,
     "task": false
    }
   },
   "outputs": [],
   "source": [
    "def to_binary(message: str) -> str:\n",
    "    binary_message = ''.join(format(ord(char), '08b') for char in message)\n",
    "    return binary_message\n",
    "\n",
    "def from_binary(binary_message: str) -> str:\n",
    "    message = ''.join(chr(int(binary_message[i:i+8], 2)) for i in range(0, len(binary_message), 8))\n",
    "    return message"
   ]
  },
  {
   "cell_type": "markdown",
   "id": "ea8fdc4f-b08c-43d1-ba5c-3135fc74b90d",
   "metadata": {
    "deletable": false,
    "editable": false,
    "nbgrader": {
     "cell_type": "markdown",
     "checksum": "5a588817fdd96197d4ab5895dde0ef99",
     "grade": false,
     "grade_id": "cell-69ea195ecec23080",
     "locked": true,
     "schema_version": 3,
     "solution": false,
     "task": false
    }
   },
   "source": [
    "### Task 1.1 (0.5 Point)\n",
    "\n",
    "Implement the function `xor_binary_messages(first_message: str, second_message: str) -> str`. This function will get two strings of just `0` and `1` and will produce the xor of them. The output should also be a string, just containing `0` and `1`."
   ]
  },
  {
   "cell_type": "code",
   "execution_count": 2,
   "id": "a3c9c3aa-9d9b-4139-9089-2acdd9b04a8b",
   "metadata": {
    "deletable": false,
    "nbgrader": {
     "cell_type": "code",
     "checksum": "74b69559f786a4add3dca9072d604250",
     "grade": false,
     "grade_id": "cell-f6ef223324a0d70f",
     "locked": false,
     "schema_version": 3,
     "solution": true,
     "task": false
    }
   },
   "outputs": [],
   "source": [
    "def xor_binary_messages(first_message: str, second_message: str) -> str:\n",
    "    # YOUR CODE HERE\n",
    "    xor_binary_message = ''.join('0' if tup[0] == tup[1] else '1' for tup in zip(first_message, second_message))\n",
    "    xor_binary_message += \"1\"*abs(len(first_message)-len(second_message))\n",
    "    return xor_binary_message"
   ]
  },
  {
   "cell_type": "code",
   "execution_count": 3,
   "id": "5822374b-40f3-4afc-af99-2e944d05b271",
   "metadata": {},
   "outputs": [
    {
     "name": "stdout",
     "output_type": "stream",
     "text": [
      "10011001\n"
     ]
    }
   ],
   "source": [
    "### PLAYGROUND\n",
    "# You can use this cell to test out your implementation. Everything in this cell will be ignored during grading.\n",
    "\n",
    "test1_string = '00001111'\n",
    "test2_string = '10010110'\n",
    "\n",
    "print(xor_binary_messages(test1_string, test2_string))"
   ]
  },
  {
   "cell_type": "code",
   "execution_count": 4,
   "id": "317a797c-fd6c-4945-960e-72dc389f019e",
   "metadata": {
    "deletable": false,
    "editable": false,
    "nbgrader": {
     "cell_type": "code",
     "checksum": "456433878cb4790db482c1dceec9996e",
     "grade": true,
     "grade_id": "cell-c219a456f2571cc3",
     "locked": true,
     "points": 0,
     "schema_version": 3,
     "solution": false,
     "task": false
    }
   },
   "outputs": [],
   "source": [
    "# This test just checks the output format of your solution\n",
    "\n",
    "test1_string = '00001111'\n",
    "test2_string = '10010110'\n",
    "\n",
    "result = xor_binary_messages(test1_string, test2_string)\n",
    "\n",
    "assert all(char in '01' for char in result)"
   ]
  },
  {
   "cell_type": "code",
   "execution_count": null,
   "id": "cee236af-7f38-45ca-b7b7-c600894ef60d",
   "metadata": {
    "deletable": false,
    "editable": false,
    "nbgrader": {
     "cell_type": "code",
     "checksum": "556150482bb04b84fc29007b349863c7",
     "grade": true,
     "grade_id": "cell-13de2ad694b6f061",
     "locked": true,
     "points": 0.5,
     "schema_version": 3,
     "solution": false,
     "task": false
    }
   },
   "outputs": [],
   "source": [
    "# Even this cell seems empty, it contains automatic tests. Please do not remove this cell and just ignore it."
   ]
  },
  {
   "cell_type": "markdown",
   "id": "89d786eb-fbd2-4eb7-a40f-5d4535fb752a",
   "metadata": {
    "deletable": false,
    "editable": false,
    "nbgrader": {
     "cell_type": "markdown",
     "checksum": "afa623372bf8747bfea138d65790c542",
     "grade": false,
     "grade_id": "cell-49a105479481086c",
     "locked": true,
     "schema_version": 3,
     "solution": false,
     "task": false
    }
   },
   "source": [
    "### Task 1.2 (0.5 Points)\n",
    "\n",
    "Now, as we have everything we need, implement the following two functions. `encrypt(message: str, key: str) -> str` takes a message and a key. The key is given in a binary string, so a string with just `0` and `1`. The function returns the binary representation of the encryption, also a binary string. The function `decrypt(cipher: str, key: str) -> str` reverses this process and takes a cipher in the form of a binary string, as well as the key again. This function will return a string containing the original message. This string has to be human-readable, so not just the binary representation."
   ]
  },
  {
   "cell_type": "code",
   "execution_count": 5,
   "id": "de22c3f0-dc1c-47cf-a381-d03427c9689f",
   "metadata": {
    "deletable": false,
    "nbgrader": {
     "cell_type": "code",
     "checksum": "7e756305b42b2c1a7806d51b09d0d31b",
     "grade": false,
     "grade_id": "cell-8cb4fcabcb9461ae",
     "locked": false,
     "schema_version": 3,
     "solution": true,
     "task": false
    }
   },
   "outputs": [],
   "source": [
    "def encrypt(message: str, key: str) -> str:\n",
    "    # YOUR CODE HERE\n",
    "    return xor_binary_messages(to_binary(message), key)\n",
    "\n",
    "def decrypt(cipher: str, key: str) -> str:\n",
    "    # YOUR CODE HERE\n",
    "    return from_binary(xor_binary_messages(cipher, key))"
   ]
  },
  {
   "cell_type": "code",
   "execution_count": 6,
   "id": "e6c5044d-5462-440b-bd98-6697440213a6",
   "metadata": {},
   "outputs": [
    {
     "name": "stdout",
     "output_type": "stream",
     "text": [
      "000000001000001000001111110100110101101001000000111101100011000101111001110010011001110100011000\n",
      "Hello World!\n",
      "Hello World!\n"
     ]
    }
   ],
   "source": [
    "### PLAYGROUND\n",
    "# You can use this cell to test out your implementation. Everything in this cell will be ignored during grading.\n",
    "plain = 'Hello World!'\n",
    "key = '010010001110011101100011101111110011010101100000101000010101111000001011101001011111100100111001'\n",
    "cipher = '000000001000001000001111110100110101101001000000111101100011000101111001110010011001110100011000'\n",
    "\n",
    "encr = encrypt(plain, key)\n",
    "decr = decrypt(cipher, key)\n",
    "\n",
    "print(encr)\n",
    "print(decr)\n",
    "print(decrypt(encr, key))"
   ]
  },
  {
   "cell_type": "code",
   "execution_count": 7,
   "id": "6d9ade5c-9b37-49e4-9ef3-a30e8168f6d3",
   "metadata": {
    "deletable": false,
    "editable": false,
    "nbgrader": {
     "cell_type": "code",
     "checksum": "353757f6283bd3a2f79128fb024c0de0",
     "grade": true,
     "grade_id": "cell-9e611ed75c04b1a9",
     "locked": true,
     "points": 0,
     "schema_version": 3,
     "solution": false,
     "task": false
    }
   },
   "outputs": [],
   "source": [
    "# This test just checks the output format of your solution\n",
    "\n",
    "plain = 'Hello World!'\n",
    "key = '010010001110011101100011101111110011010101100000101000010101111000001011101001011111100100111001'\n",
    "cipher = '000000001000001000001111110100110101101001000000111101100011000101111001110010011001110100011000'\n",
    "\n",
    "encr = encrypt(plain, key)\n",
    "decr = decrypt(cipher, key)\n",
    "\n",
    "assert all(char in '01' for char in encr)\n",
    "assert not all(char in '01' for char in decr)"
   ]
  },
  {
   "cell_type": "code",
   "execution_count": null,
   "id": "7ee09be4-cfd8-48ed-a6c8-007b32b373b6",
   "metadata": {
    "deletable": false,
    "editable": false,
    "nbgrader": {
     "cell_type": "code",
     "checksum": "43cdef380510023f0c73d0558bc037f4",
     "grade": true,
     "grade_id": "cell-a52c65d232795118",
     "locked": true,
     "points": 0.5,
     "schema_version": 3,
     "solution": false,
     "task": false
    }
   },
   "outputs": [],
   "source": [
    "# Even this cell seems empty, it contains automatic tests. Please do not remove this cell and just ignore it."
   ]
  },
  {
   "cell_type": "markdown",
   "id": "2e954cbc-d26f-4d2a-8485-e43aea8b49dd",
   "metadata": {
    "deletable": false,
    "editable": false,
    "nbgrader": {
     "cell_type": "markdown",
     "checksum": "144c8cfa48ef5535d425b84ff0574a62",
     "grade": false,
     "grade_id": "cell-bf627b2c4750401f",
     "locked": true,
     "schema_version": 3,
     "solution": false,
     "task": false
    }
   },
   "source": [
    "### Task 1.3 - The Espionage Thriller (3 Points)\n",
    "\n",
    "Alice is a spy on a mission. At the beginning of her mission, she got a random bit string. She can use this to encrypt messages using OTP to send them to Bob in the operations central. Eve is a spy from a counterintelligence agency and tries to intercept messages and to mess around as much as possible.\n",
    "\n",
    "Now, Alice wants to send a very important message to Bob and uses OTP for that. This important message just contains a date, which is stored in `true_date_plain`. Alice used the provided key to encrypt the message.\n",
    "\n",
    "Implement the function `return_encrypted_date() -> str` that just returns the given `true_date_plain` OTP encrypted using the key `secret_key`."
   ]
  },
  {
   "cell_type": "code",
   "execution_count": 8,
   "id": "7e91107c-c17f-4bfb-a354-dfa703ce06de",
   "metadata": {
    "deletable": false,
    "nbgrader": {
     "cell_type": "code",
     "checksum": "51f6c7ff897a63dbf0931fba12b12b63",
     "grade": false,
     "grade_id": "cell-51a6a7a5868c569a",
     "locked": false,
     "schema_version": 3,
     "solution": true,
     "task": false
    }
   },
   "outputs": [],
   "source": [
    "secret_key = '00000001101100110110101110010000101001011000000100101100100010000101111011011100'\n",
    "true_date_plain = '24.12.2024'\n",
    "\n",
    "def return_encrypted_date() -> str:\n",
    "    # YOUR CODE HERE\n",
    "    return encrypt(true_date_plain, secret_key)"
   ]
  },
  {
   "cell_type": "markdown",
   "id": "5ada2d4d-0bb6-4158-bb1c-aedba348113f",
   "metadata": {
    "deletable": false,
    "editable": false,
    "nbgrader": {
     "cell_type": "markdown",
     "checksum": "88eb27c05fdd6bc6271d3507f233bbda",
     "grade": false,
     "grade_id": "cell-da92f44f87da14a0",
     "locked": true,
     "schema_version": 3,
     "solution": false,
     "task": false
    }
   },
   "source": [
    "Bob received the encrypted message from Alice and he has access to the same key that Alice used. Bob decrypts the message.\n",
    "\n",
    "Implement the function `return_decrypted_date() -> str` to check if Bob is able to see the correct date. The function should just return the decrypted message. The received message is given in `received_message` and the same key `secret_key` is used."
   ]
  },
  {
   "cell_type": "code",
   "execution_count": 9,
   "id": "c05f0086-098a-4c58-b68e-c096331b2335",
   "metadata": {
    "deletable": false,
    "nbgrader": {
     "cell_type": "code",
     "checksum": "93ebf23ee406d62bf499654d2bd7f38f",
     "grade": false,
     "grade_id": "cell-ce02dfef5fbb26ad",
     "locked": false,
     "schema_version": 3,
     "solution": true,
     "task": false
    }
   },
   "outputs": [],
   "source": [
    "received_message = return_encrypted_date()\n",
    "\n",
    "def return_decrypted_date() -> str:\n",
    "    # YOUR CODE HERE\n",
    "    return decrypt(received_message, secret_key)"
   ]
  },
  {
   "cell_type": "code",
   "execution_count": 10,
   "id": "6832013a-0592-4a1a-b7fc-202c6d3f81c5",
   "metadata": {},
   "outputs": [
    {
     "name": "stdout",
     "output_type": "stream",
     "text": [
      "00110011100001110100010110100001100101111010111100011110101110000110110011101000\n",
      "24.12.2024\n"
     ]
    }
   ],
   "source": [
    "### PLAYGROUND\n",
    "# You can use this cell to test out your implementation. Everything in this cell will be ignored during grading.\n",
    "\n",
    "print(return_encrypted_date())\n",
    "print(return_decrypted_date())"
   ]
  },
  {
   "cell_type": "code",
   "execution_count": null,
   "id": "0c3d53b8-d37a-4f96-939e-02960948ac0c",
   "metadata": {
    "deletable": false,
    "editable": false,
    "nbgrader": {
     "cell_type": "code",
     "checksum": "a21b1c126cbc4d6f2c32439aea5e35ea",
     "grade": true,
     "grade_id": "cell-924b5d186fd63d9d",
     "locked": true,
     "points": 0.5,
     "schema_version": 3,
     "solution": false,
     "task": false
    }
   },
   "outputs": [],
   "source": [
    "# Even this cell seems empty, it contains automatic tests. Please do not remove this cell and just ignore it."
   ]
  },
  {
   "cell_type": "markdown",
   "id": "0a0354eb-5feb-46e6-8d73-baed39149fed",
   "metadata": {
    "deletable": false,
    "editable": false,
    "nbgrader": {
     "cell_type": "markdown",
     "checksum": "a085488b17b3668356651a2e4c3b2171",
     "grade": false,
     "grade_id": "cell-3e8a9ca61ab7eb6d",
     "locked": true,
     "schema_version": 3,
     "solution": false,
     "task": false
    }
   },
   "source": [
    "Eve was able to intercept the message to Bob. She knew it was a date and she is very confident that the message was `12.12.2024` as this marks the final date of Eve's mission. She then tries to compute the key. \n",
    "\n",
    "Use your knowledge from the lecture about OTP. Think about how Eve can reconstruct a key using the given information. Provide the key Eve reconstructed as the return of the function `return_reconstructed_key() -> str`. **You can either write code that computes it or just return the answer.**"
   ]
  },
  {
   "cell_type": "code",
   "execution_count": 11,
   "id": "0027c863-1afa-408b-a7bf-bc4bf0d1e791",
   "metadata": {
    "deletable": false,
    "nbgrader": {
     "cell_type": "code",
     "checksum": "5e9f16c4a8df5d1164b19ea2ad5893d9",
     "grade": false,
     "grade_id": "cell-da8b36b6ac0e2229",
     "locked": false,
     "schema_version": 3,
     "solution": true,
     "task": false
    }
   },
   "outputs": [],
   "source": [
    "def return_reconstructed_key() -> str:\n",
    "    # YOUR CODE HERE\n",
    "    return xor_binary_messages(to_binary('12.12.2024'), received_message)"
   ]
  },
  {
   "cell_type": "code",
   "execution_count": 12,
   "id": "e755d551-d7f9-4da7-80ce-0b774a5bf86f",
   "metadata": {},
   "outputs": [
    {
     "name": "stdout",
     "output_type": "stream",
     "text": [
      "00000010101101010110101110010000101001011000000100101100100010000101111011011100\n"
     ]
    }
   ],
   "source": [
    "### PLAYGROUND\n",
    "# You can use this cell to test out your implementation. Everything in this cell will be ignored during grading.\n",
    "\n",
    "print(return_reconstructed_key())"
   ]
  },
  {
   "cell_type": "code",
   "execution_count": null,
   "id": "d375ea4c-c87b-4f11-aafa-6a048e488284",
   "metadata": {
    "deletable": false,
    "editable": false,
    "nbgrader": {
     "cell_type": "code",
     "checksum": "6f2b7958a1ff2371c0ae0ed7661da2aa",
     "grade": true,
     "grade_id": "cell-34d004a3c706bd20",
     "locked": true,
     "points": 1,
     "schema_version": 3,
     "solution": false,
     "task": false
    }
   },
   "outputs": [],
   "source": [
    "# Even this cell seems empty, it contains automatic tests. Please do not remove this cell and just ignore it."
   ]
  },
  {
   "cell_type": "markdown",
   "id": "6c902a47-bd0d-47f4-8d47-b7d474322cb5",
   "metadata": {
    "deletable": false,
    "editable": false,
    "nbgrader": {
     "cell_type": "markdown",
     "checksum": "8184c20ae935baecd3db2a544cf9fbc4",
     "grade": false,
     "grade_id": "cell-8fbc7d8dc773270a",
     "locked": true,
     "schema_version": 3,
     "solution": false,
     "task": false
    }
   },
   "source": [
    "Eve is not sure if the reconstructed key is correct and she was unable to decrypt any other messages from Alice to Bob in a way they would make any sense. However, she wants to make sure that Bob does not get correct dates from Alice anymore. She knows that Alice is just sending dates and these dates are not the first or last day of a month, because all spies wolrdwide are off on these days. Eve wants to modify the messages so that the date is moved by one day in any direction. Eve is able to intercept and modify the messages before they will arrive at Bob.\n",
    "\n",
    "Implement a function that modifies an encrypted date in the explained way and returns the modified message as return to the function `modify(message:str) -> str`. The argument `message` will be an encrypted date."
   ]
  },
  {
   "cell_type": "code",
   "execution_count": 13,
   "id": "d92399fe-c814-4430-9239-79d99868cdc6",
   "metadata": {
    "deletable": false,
    "nbgrader": {
     "cell_type": "code",
     "checksum": "e3c1be845e49f57c3c96d942c31cde35",
     "grade": false,
     "grade_id": "cell-72987bd9f1361769",
     "locked": false,
     "schema_version": 3,
     "solution": true,
     "task": false
    }
   },
   "outputs": [],
   "source": [
    "def modify(message: str) -> str:\n",
    "    # YOUR CODE HERE\n",
    "    replacement = \"1\" if message[15] == '0' else \"0\"\n",
    "    return message[:15] + replacement + message[16:]"
   ]
  },
  {
   "cell_type": "code",
   "execution_count": 14,
   "id": "565e3fb8-b328-4bdc-ab0b-9dd81b3fa32e",
   "metadata": {},
   "outputs": [
    {
     "name": "stdout",
     "output_type": "stream",
     "text": [
      "00000010101101000110101110010000101001011000000100101100100010000101111011011100\n",
      "00000010101101010110101110010000101001011000000100101100100010000101111011011100\n",
      "Orig. date: 19.12.2024\n",
      "Mod. date:  18.12.2024\n"
     ]
    }
   ],
   "source": [
    "### PLAYGROUND\n",
    "# You can use this cell to test out your implementation. Everything in this cell will be ignored during grading.\n",
    "message = \"00000010101101000110101110010000101001011000000100101100100010000101111011011100\"\n",
    "print(message)\n",
    "test = modify(message)\n",
    "print(test)\n",
    "\n",
    "date = \"19.12.2024\"\n",
    "encrypted_date = encrypt(date, secret_key)\n",
    "\n",
    "print(f\"Orig. date: {decrypt(encrypted_date, secret_key)}\") # For sanity checking\n",
    "print(f\"Mod. date:  {decrypt(modify(encrypted_date), secret_key)}\")"
   ]
  },
  {
   "cell_type": "code",
   "execution_count": null,
   "id": "7a132a71-8d0a-4be4-be50-7b87d771f48e",
   "metadata": {
    "deletable": false,
    "editable": false,
    "nbgrader": {
     "cell_type": "code",
     "checksum": "84db9e1e1a18fbc49e8fafd1698a1852",
     "grade": true,
     "grade_id": "cell-fc2e274beaed9e89",
     "locked": true,
     "points": 0.5,
     "schema_version": 3,
     "solution": false,
     "task": false
    }
   },
   "outputs": [],
   "source": [
    "# Even this cell seems empty, it contains automatic tests. Please do not remove this cell and just ignore it."
   ]
  },
  {
   "cell_type": "markdown",
   "id": "d211a930-b35b-4bf5-ac75-d868b92b75b5",
   "metadata": {
    "deletable": false,
    "editable": false,
    "nbgrader": {
     "cell_type": "markdown",
     "checksum": "a40930224aa9d70b8faf15549389e293",
     "grade": false,
     "grade_id": "cell-3d64328d9d8cdbed",
     "locked": true,
     "schema_version": 3,
     "solution": false,
     "task": false
    }
   },
   "source": [
    "Eve was able to intercept even more messages from Alice. She successfully modified them and forwarded them to Bob. However, Eve is confident that Alice has a limited OTP key only, so she suspects that Alice is reusing it for every new message. Eve also knows that the communicated dates are in December 2024 and one of the intercepted dates is either the 18.12.2024 or the 04.12.2024. Eve knows how OTP works and also knows the weakness of using the same key again. In the following we want to decrypt the messages even without knowledge of the key.\n",
    "\n",
    "Implement a function to reconstruct the messages Alice sent. There are two messages given and both contain a date. The dates are both in December 2024. Under the assumption that for the encryption the same key was used, exploit the XOR construction of OTP to reconstruct the messages.\n",
    "\n",
    "Implement the function `get_both_dates(date1: str, date2) -> (str, str)` that returns both dates. The arguments and variables `date1` and `date2` are the encrypted dates. The order of them is not important. Use the given function `check_for_date(date: str) -> bool` to check for a valid date automatically."
   ]
  },
  {
   "cell_type": "code",
   "execution_count": 15,
   "id": "3e42623e-53bd-4ddd-9868-5f6f797df8ea",
   "metadata": {
    "deletable": false,
    "editable": false,
    "nbgrader": {
     "cell_type": "code",
     "checksum": "42204d6ef80feeb357efd178880ad358",
     "grade": false,
     "grade_id": "cell-c08386c00395a392",
     "locked": true,
     "schema_version": 3,
     "solution": false,
     "task": false
    }
   },
   "outputs": [],
   "source": [
    "date1 = '10100111100011100010000101110010010000100001110001101000010010010110111011110000'\n",
    "date2 = '10100100100000000010000101110010010000100001110001101000010010010110111011110000'\n",
    "\n",
    "import re\n",
    "\n",
    "def check_for_date(date: str) -> bool:\n",
    "    return all(char in '0123456789.' for char in date) and re.match(r\"^(0[1-9]|[12][0-9]|3[01])\\.(0[1-9]|1[0-2])\\.(\\d{4})$\", date)"
   ]
  },
  {
   "cell_type": "code",
   "execution_count": 16,
   "id": "88c3bed3-551f-42ab-a48e-26bc1af24383",
   "metadata": {
    "deletable": false,
    "nbgrader": {
     "cell_type": "code",
     "checksum": "a386b5d5b90a0236277d4f3ed123dd6e",
     "grade": false,
     "grade_id": "cell-30a28a8a953b40c2",
     "locked": false,
     "schema_version": 3,
     "solution": true,
     "task": false
    }
   },
   "outputs": [],
   "source": [
    "def get_both_dates(date1: str, date2: str) -> (str, str):\n",
    "    # YOUR CODE HERE\n",
    "    known_dates = [\"04.12.2024\", \"18.12.2024\"]\n",
    "    for known_date in known_dates:\n",
    "        \n",
    "        known_date_binary = to_binary(known_date)\n",
    "        \n",
    "        possible_key1 = xor_binary_messages(known_date_binary, date1)\n",
    "        possible_key2 = xor_binary_messages(known_date_binary, date2)\n",
    "        \n",
    "        decrypted_date2 = decrypt(date2, possible_key1)\n",
    "        if check_for_date(decrypted_date2):\n",
    "            decrypted_date1 = decrypt(date1, possible_key1)\n",
    "            if check_for_date(decrypted_date1):\n",
    "                return (decrypted_date1, decrypted_date2)\n",
    "        \n",
    "        decrypted_date1 = decrypt(date1, possible_key2)\n",
    "        if check_for_date(decrypted_date1):\n",
    "            decrypted_date2 = decrypt(date2, possible_key2)\n",
    "            if check_for_date(decrypted_date2):\n",
    "                return (decrypted_date1, decrypted_date2)\n",
    "    \n",
    "    return None, None\n"
   ]
  },
  {
   "cell_type": "code",
   "execution_count": 17,
   "id": "c59d2507-c638-4bee-a7b7-230d30eb45ac",
   "metadata": {},
   "outputs": [
    {
     "name": "stdout",
     "output_type": "stream",
     "text": [
      "('18.12.2024', '26.12.2024')\n"
     ]
    }
   ],
   "source": [
    "### PLAYGROUND\n",
    "# You can use this cell to test out your implementation. Everything in this cell will be ignored during grading.\n",
    "print(get_both_dates(date1, date2))"
   ]
  },
  {
   "cell_type": "code",
   "execution_count": null,
   "id": "250be783-d7b8-41bc-a9a7-9bfd22b4474e",
   "metadata": {
    "deletable": false,
    "editable": false,
    "nbgrader": {
     "cell_type": "code",
     "checksum": "6e255a86c83e6f737d926150ca06db08",
     "grade": true,
     "grade_id": "cell-62bc835032433dfe",
     "locked": true,
     "points": 0.5,
     "schema_version": 3,
     "solution": false,
     "task": false
    }
   },
   "outputs": [],
   "source": [
    "# Even this cell seems empty, it contains automatic tests. Please do not remove this cell and just ignore it."
   ]
  },
  {
   "cell_type": "markdown",
   "id": "2463767a-5ee2-4947-99c1-93f9b3377d63",
   "metadata": {
    "deletable": false,
    "editable": false,
    "nbgrader": {
     "cell_type": "markdown",
     "checksum": "57001fd147b52918dc5a3ad0d68645bc",
     "grade": false,
     "grade_id": "cell-1cfc3a4c25b04475",
     "locked": true,
     "schema_version": 3,
     "solution": false,
     "task": false
    }
   },
   "source": [
    "Alice already supected that someone was intercepting their messages and used two different keys to encrypt message `date1` and `date2`. The keys are given below as `key1` and `key2`. Bob was able to decrypt the messages using these two keys. What was in there?\n",
    "\n",
    "Implement the function `bob_decrypt(message1: str, message2: str, key1: str, key2: str) -> str` to print and return a string containing both messages concatenated (order: `date1|date2`, decrypt `date1` with `key1` and `date2` with `key2`)."
   ]
  },
  {
   "cell_type": "code",
   "execution_count": 18,
   "id": "7fc4b92e-760e-4ffe-8e15-238bee6bd2aa",
   "metadata": {
    "deletable": false,
    "nbgrader": {
     "cell_type": "code",
     "checksum": "0e3a33971c8a48d0e92ea827da0f9de4",
     "grade": false,
     "grade_id": "cell-2daa9d94dc20aed4",
     "locked": false,
     "schema_version": 3,
     "solution": true,
     "task": false
    }
   },
   "outputs": [],
   "source": [
    "key1 = '11101110110110100111001000010111001000010011110000000001001110100100111010000110'\n",
    "key2 = '11000001111100100101100001010010001000010111001100000111001001010100111111010001'\n",
    "\n",
    "def bob_decrypt(message1: str, message2: str, key1: str, key2: str) -> str:\n",
    "    # YOUR CODE HERE\n",
    "    return decrypt(message1, key1) + decrypt(message2,key2)"
   ]
  },
  {
   "cell_type": "code",
   "execution_count": null,
   "id": "09042348-bc95-479d-90f7-6ec536ddeefb",
   "metadata": {
    "deletable": false,
    "editable": false,
    "nbgrader": {
     "cell_type": "code",
     "checksum": "33a31107adcd7e129d20f58d2fe08cd1",
     "grade": true,
     "grade_id": "cell-b0b699c5b5baecb3",
     "locked": true,
     "points": 0.5,
     "schema_version": 3,
     "solution": false,
     "task": false
    }
   },
   "outputs": [
    {
     "name": "stdout",
     "output_type": "stream",
     "text": [
      "04.12.202418.12.2024\n"
     ]
    }
   ],
   "source": [
    "# Even this cell seems empty, it contains automatic tests. Please do not remove this cell and just ignore it."
   ]
  },
  {
   "attachments": {},
   "cell_type": "markdown",
   "id": "110bf4a2-5e89-4301-98db-6642354a0a2f",
   "metadata": {
    "deletable": false,
    "editable": false,
    "nbgrader": {
     "cell_type": "markdown",
     "checksum": "2c1eb60a533be02df1fabec6b25729b9",
     "grade": false,
     "grade_id": "cell-a01b553572ce7ec9",
     "locked": true,
     "schema_version": 3,
     "solution": false,
     "task": false
    }
   },
   "source": [
    "## 2. Modes of Encryption (9.5 Points)\n",
    "\n",
    "We know from the lecture that we use modes of encryption to encrypt messages that are longer than a singular block (e.g. 128 bit). We will now explore a few properties of these modes."
   ]
  },
  {
   "cell_type": "markdown",
   "id": "1961de64-f8e6-4014-a006-b8e96ef73823",
   "metadata": {
    "deletable": false,
    "editable": false,
    "nbgrader": {
     "cell_type": "markdown",
     "checksum": "a6d41b93815a91bfaac1e35a89d8880a",
     "grade": false,
     "grade_id": "cell-433f6614071b5515",
     "locked": true,
     "schema_version": 3,
     "solution": false,
     "task": false
    }
   },
   "source": [
    "### Task 2.1 (1.5 Points)\n",
    "\n",
    "From the lecture you already know the three modes of encryption *Electronic Codebook Mode* (ECB), *Cipher Block Chaining Mode* (CBC), and *Counter Mode* (CTR). **Describe** the main problem of the *Electronic Codebook Mode*, what an attacker can learn about an ECB-encrypted message, and how this is compensated using *Cipher Block Chaining Mode* or *Counter Mode*."
   ]
  },
  {
   "cell_type": "markdown",
   "id": "7e260ba5-6a58-45bc-84a6-7544a878b642",
   "metadata": {
    "deletable": false,
    "nbgrader": {
     "cell_type": "markdown",
     "checksum": "12211678e1b865772190d158a49ce7ba",
     "grade": true,
     "grade_id": "cell-1522496165ff806b",
     "locked": false,
     "points": 1.5,
     "schema_version": 3,
     "solution": true,
     "task": false
    }
   },
   "source": [
    "The main problem is that the same blocks of plaintext are encrypted as the same blocks of ciphertext. Thus, patterns are still recognizable, as patterns in the plaintext directly translate to patterns in the cipher text.\\\n",
    "Cipher Block Chaining uses the ciphertext of the last block to encrypt the next block, thus, repetitions are avoided."
   ]
  },
  {
   "cell_type": "markdown",
   "id": "edd9fb08-9e09-4e54-a09e-7b24aad8e162",
   "metadata": {
    "deletable": false,
    "editable": false,
    "nbgrader": {
     "cell_type": "markdown",
     "checksum": "db934b3d03149038d8644598b4a79c2f",
     "grade": false,
     "grade_id": "cell-2305549fe84d7c8f",
     "locked": true,
     "schema_version": 3,
     "solution": false,
     "task": false
    }
   },
   "source": [
    "### Task 2.2 (1 Points)\n",
    "\n",
    "**Explain** why the *Cipher Block Chaining Mode* and the *Counter Mode* need an *Initialization Vector* (IV). Additionally, **name and describe** problems that can occur by selecting the IV."
   ]
  },
  {
   "cell_type": "markdown",
   "id": "b1453efa-18dc-4770-a664-47e7f192d51a",
   "metadata": {
    "deletable": false,
    "nbgrader": {
     "cell_type": "markdown",
     "checksum": "d81225330784881670c675ec3d4f3205",
     "grade": true,
     "grade_id": "cell-4f163661c94040ac",
     "locked": false,
     "points": 1,
     "schema_version": 3,
     "solution": true,
     "task": false
    }
   },
   "source": [
    "An IV is needed in order to be able to encrypt the very first block, since every encryption depends on the encryption of the block's predecessor and the first block does not have a predecessor. When reusing the IV, the same starting blocks will always be encrpyted in the same way, thus revealing whether they are the same. Such modes are vulnerable to padding oracle attacks."
   ]
  },
  {
   "cell_type": "markdown",
   "id": "9335e1d3",
   "metadata": {
    "deletable": false,
    "editable": false,
    "nbgrader": {
     "cell_type": "markdown",
     "checksum": "f18ed57d8db3ac4cc3ac2e3eacb4cc99",
     "grade": false,
     "grade_id": "cell-77e8bf812a2b66de",
     "locked": true,
     "schema_version": 3,
     "solution": false,
     "task": false
    },
    "pycharm": {
     "name": "#%% md\n"
    }
   },
   "source": [
    "### Task 2.3 (3 Points)\n",
    "\n",
    "One mode of encryption you should already know about from the lecture is *Cipher Block Chaining* (CBC). In CBC, we use the encrypted output of the cipher from the previous block to chain it into the encryption of the next plaintext block. In the following, you can show that you are an expert in encryption modes by implementing a (simplified) CBC mechanism.\n",
    "\n",
    "Implement the functions `CBC_encrypt(message, iv, k)` and `CBC_decrypt(ciphertext, iv, k)` which encrypt/decrypt a given text according to an initialization vector `iv` and a key `k` in CBC mode. They should both return a string with the encryption/decryption result. Ensure that your functions only accept texts that are a multiple of 8 and throw a `ValueError` otherwise (we disregard anything about padding here).\n",
    "\n",
    "Use the following encryption/decryption functions to encrypt/decrypt a single block of length `l=8`.\n",
    "\n",
    "Hint: your `iv` and `k` need to have the same length as a singular encrypted block."
   ]
  },
  {
   "cell_type": "code",
   "execution_count": 19,
   "id": "aedde16a-51ad-4ceb-8a0b-633d77b06ccc",
   "metadata": {
    "deletable": false,
    "editable": false,
    "nbgrader": {
     "cell_type": "code",
     "checksum": "792a930c800cc69d23e0de28077e5682",
     "grade": false,
     "grade_id": "cell-cf736bc34239e676",
     "locked": true,
     "schema_version": 3,
     "solution": false,
     "task": false
    }
   },
   "outputs": [],
   "source": [
    "def encrypt_block(message: str, key: str) -> str:\n",
    "    if len(message) != 8:\n",
    "        raise ValueError(\"Message length must be 8!\")\n",
    "    if len(key) != 8:\n",
    "        raise ValueError(\"Key length must be 8!\")\n",
    "    \n",
    "    encrypted_message = []\n",
    "    for i in range(len(message)):\n",
    "        encrypted_char = chr(ord(message[i]) ^ ord(key[i % len(key)]))\n",
    "        encrypted_message.append(encrypted_char)\n",
    "    return ''.join(encrypted_message)"
   ]
  },
  {
   "cell_type": "code",
   "execution_count": 20,
   "id": "f02a421b-fcca-4f79-9d4c-eb57c54300ce",
   "metadata": {
    "deletable": false,
    "editable": false,
    "nbgrader": {
     "cell_type": "code",
     "checksum": "77671758a34510c667c21b7d86698188",
     "grade": false,
     "grade_id": "cell-2ff57d677e20b758",
     "locked": true,
     "schema_version": 3,
     "solution": false,
     "task": false
    }
   },
   "outputs": [],
   "source": [
    "def decrypt_block(ciphertext: str, key: str) -> str:\n",
    "    if len(ciphertext) != 8:\n",
    "        raise ValueError(\"Ciphertext length must be 8!\")\n",
    "    if len(key) != 8:\n",
    "        raise ValueError(\"Key length must be 8!\")\n",
    "    \n",
    "    decrypted_message = []\n",
    "    for i in range(len(ciphertext)):\n",
    "        decrypted_char = chr(ord(ciphertext[i]) ^ ord(key[i % len(key)]))\n",
    "        decrypted_message.append(decrypted_char)\n",
    "    return ''.join(decrypted_message)"
   ]
  },
  {
   "cell_type": "code",
   "execution_count": null,
   "id": "e3116d92",
   "metadata": {
    "deletable": false,
    "nbgrader": {
     "cell_type": "code",
     "checksum": "ebbd431bfbf4fee627a26e84185d3af2",
     "grade": false,
     "grade_id": "cell-b9e6193d3e8c1a77",
     "locked": false,
     "schema_version": 3,
     "solution": true,
     "task": false
    },
    "pycharm": {
     "name": "#%%\n"
    },
    "tags": []
   },
   "outputs": [],
   "source": [
    "def CBC_encrypt(message: str, iv: str, k: str) -> str:\n",
    "    # YOUR CODE HERE\n",
    "    if (len(message) % 8) != 0:\n",
    "        raise ValueError(\"Plaintext length must be a multiple of 8!\") \n",
    "    if len(message) == 0:\n",
    "        return \"\"\n",
    "\n",
    "    plaintext_blocks: list[str] = [message[i:i+8] for i in range(0, len(message), 8)]\n",
    "    ciphertext_blocks: list[str] = []\n",
    "\n",
    "    for (idx, block) in enumerate(plaintext_blocks):\n",
    "        if idx == 0:\n",
    "            xor_res = \"\".join(chr(ord(block[i]) ^ ord(iv[i])) for i in range(0, 8))\n",
    "            ciphertext_blocks.append(encrypt_block(xor_res, k))\n",
    "        else:\n",
    "            xor_res = \"\".join(chr(ord(block[i]) ^ ord(ciphertext_blocks[idx - 1][i]))\\\n",
    "                              for i in range(0, 8))\n",
    "            ciphertext_blocks.append(encrypt_block(xor_res, k))\n",
    "\n",
    "    return \"\".join(ciphertext_blocks)"
   ]
  },
  {
   "cell_type": "code",
   "execution_count": null,
   "id": "8b8c226e-2617-4210-9e6c-390f6c6d6669",
   "metadata": {
    "deletable": false,
    "nbgrader": {
     "cell_type": "code",
     "checksum": "294f0abfa872966cd0b7fe747d941af8",
     "grade": false,
     "grade_id": "cell-cf1e69733b5efe40",
     "locked": false,
     "schema_version": 3,
     "solution": true,
     "task": false
    }
   },
   "outputs": [],
   "source": [
    "def CBC_decrypt(ciphertext: str, iv: str, k: str):\n",
    "    # YOUR CODE HERE\n",
    "    if (len(ciphertext) % 8) != 0:\n",
    "        raise ValueError(\"Ciphertext length must be a multiple of 8!\")\n",
    "    if len(ciphertext) == 0:\n",
    "        return \"\"\n",
    "\n",
    "    ciphertext_blocks: list[str] = [ciphertext[i:i+8] for i in range(0, len(ciphertext), 8)]\n",
    "    plaintext_blocks: list[str] = []\n",
    "\n",
    "    for (idx, block) in enumerate(ciphertext_blocks):\n",
    "        if idx == 0:\n",
    "            decrypt_res = decrypt_block(block, k)\n",
    "            plaintext_blocks.append(\"\".join(chr(ord(decrypt_res[i]) ^ ord(iv[i])) for i in range(0, 8)))\n",
    "        else:\n",
    "            decrypt_res = decrypt_block(block, k)\n",
    "            plaintext_blocks.append(\"\".join(chr(ord(decrypt_res[i]) ^ ord(ciphertext_blocks[idx - 1][i]))\\\n",
    "                                            for i in range(0, 8)))\n",
    "    \n",
    "    return \"\".join(plaintext_blocks)"
   ]
  },
  {
   "cell_type": "code",
   "execution_count": null,
   "id": "18abe108",
   "metadata": {
    "deletable": false,
    "editable": false,
    "nbgrader": {
     "cell_type": "code",
     "checksum": "b9b2a189de3fcd23f67d0a84809b4a1e",
     "grade": true,
     "grade_id": "cell-188a72370691723a",
     "locked": true,
     "points": 3,
     "schema_version": 3,
     "solution": false,
     "task": false
    },
    "pycharm": {
     "name": "#%%\n"
    },
    "tags": []
   },
   "outputs": [],
   "source": [
    "# Even this cell seems empty, it contains automatic tests. Please do not remove this cell and just ignore it."
   ]
  },
  {
   "attachments": {},
   "cell_type": "markdown",
   "id": "a5b01caa-6291-43d0-b291-aa2b65e32eb9",
   "metadata": {
    "deletable": false,
    "editable": false,
    "nbgrader": {
     "cell_type": "markdown",
     "checksum": "9e05d91b7e727f3e8c655c3ab2028f0f",
     "grade": false,
     "grade_id": "cell-6f75e9cc8673b9d6",
     "locked": true,
     "schema_version": 3,
     "solution": false,
     "task": false
    }
   },
   "source": [
    "### Task 2.4 (4 points)\n",
    "\n",
    "We now turn to another mode that you should know about: *Output Feedback Mode* (OFB). The main idea here is that we can generate a keystream through encrypting the initialization vector again and again. Then, we only need to XOR the plaintext with the keystream. This means, we can even pre-generate such a keystream!\n",
    "\n",
    "For this task, you can again use the functions `encrypt_block` and `decrypt_block` as given above.\n",
    "\n",
    "However, this time, you have to implement the functions `OFB_encrypt(message, iv, k)` and `OFB_decrypt(message, iv, k)` which encrypt/decrypt a given text according to an initialization vector `iv` and a key `k` in the simplified Output Feedback (OFB) mode. \n",
    "\n",
    "They should both again return a string with the encryption/decryption result. Also, ensure that your functions only accept texts that are a multiple of 8 and throw a `ValueError` otherwise (we disregard anything about padding again).\n",
    "\n",
    "Encryption and decryption in OFB work as follows:\n",
    "\n",
    "$C_i = E^i(IV, k) \\oplus P_i$\n",
    "\n",
    "$P_i = C_i \\oplus E^i(IV, k)$\n",
    "\n",
    "where $E^i(IV, k)$ means that the $IV$ is encrypted $i$ times with the key $k$.\n",
    "\n",
    "as also shown in the image below. "
   ]
  },
  {
   "cell_type": "markdown",
   "id": "901a52f3-c398-4379-b894-e8461f7d68da",
   "metadata": {
    "deletable": false,
    "editable": false,
    "nbgrader": {
     "cell_type": "markdown",
     "checksum": "ede9b3d65cf42d9ae0c9e8c52f31fcc3",
     "grade": false,
     "grade_id": "cell-f9e2f90e46c5105a",
     "locked": true,
     "schema_version": 3,
     "solution": false,
     "task": false
    }
   },
   "source": [
    "![](./ofb.png)"
   ]
  },
  {
   "cell_type": "code",
   "execution_count": 30,
   "id": "b8ed3fae-407d-4088-92cf-b5c488a690f7",
   "metadata": {
    "deletable": false,
    "nbgrader": {
     "cell_type": "code",
     "checksum": "c70fb3b0d545c8c3301d5eba8b0e7bf1",
     "grade": false,
     "grade_id": "cell-e74c899a949a5d1c",
     "locked": false,
     "schema_version": 3,
     "solution": true,
     "task": false
    }
   },
   "outputs": [],
   "source": [
    "def OFB_encrypt(message: str, iv: str, k: str) -> str:\n",
    "    # YOUR CODE HERE\n",
    "    if (len(message) % 8) != 0:\n",
    "        raise ValueError(\"Plaintext length must be a multiple of 8!\")\n",
    "    if len(message) == 0:\n",
    "        return \"\"\n",
    "\n",
    "    plaintext_blocks: list[str] = [message[i:i+8] for i in range(0, len(message), 8)]\n",
    "    ciphertext_blocks: list[str] = []\n",
    "\n",
    "    iv_encrypted = encrypt_block(iv, k)\n",
    "    for block in plaintext_blocks:\n",
    "        xor_res = \"\".join(chr(ord(block[i]) ^ ord(iv_encrypted[i]))\\\n",
    "                          for i in range(0, 8))     \n",
    "        ciphertext_blocks.append(xor_res)\n",
    "        iv_encrypted = encrypt_block(iv_encrypted, k)\n",
    "\n",
    "    return \"\".join(ciphertext_blocks)"
   ]
  },
  {
   "cell_type": "code",
   "execution_count": 32,
   "id": "bbfc66b5-e7a7-4dbd-9f3c-65d885e6c40b",
   "metadata": {
    "deletable": false,
    "nbgrader": {
     "cell_type": "code",
     "checksum": "ecd1c06f2344dcb4350025a0cc541dc1",
     "grade": false,
     "grade_id": "cell-3f3dfe5f606c1055",
     "locked": false,
     "schema_version": 3,
     "solution": true,
     "task": false
    }
   },
   "outputs": [],
   "source": [
    "def OFB_decrypt(ciphertext: str, iv: str, k: str) -> str:\n",
    "    # YOUR CODE HERE\n",
    "    # Use self-inverse nature of OFB\n",
    "    return OFB_encrypt(ciphertext, iv, k)"
   ]
  },
  {
   "cell_type": "code",
   "execution_count": null,
   "id": "e63c126b-27c3-45cf-9638-a4e0146722c9",
   "metadata": {
    "deletable": false,
    "editable": false,
    "nbgrader": {
     "cell_type": "code",
     "checksum": "f9d05539682111dbb149317ee0486753",
     "grade": true,
     "grade_id": "cell-f6ff1cd72f808334",
     "locked": true,
     "points": 4,
     "schema_version": 3,
     "solution": false,
     "task": false
    }
   },
   "outputs": [],
   "source": [
    "# Even this cell seems empty, it contains automatic tests. Please do not remove this cell and just ignore it."
   ]
  },
  {
   "attachments": {},
   "cell_type": "markdown",
   "id": "35392d57-4ae1-4de1-9dda-7cee998b4c35",
   "metadata": {
    "deletable": false,
    "editable": false,
    "nbgrader": {
     "cell_type": "markdown",
     "checksum": "2d5d0d05706e57bdd17147e357726088",
     "grade": false,
     "grade_id": "cell-9ffd2d0aaf8addae",
     "locked": true,
     "schema_version": 3,
     "solution": false,
     "task": false
    }
   },
   "source": [
    "## 3. Length Extension Attack (5.5 Points)\n",
    "\n",
    "Now, we turn to the topic of integrity protection. You learned about Message Authentication Codes (MACs) that can be constructed from cryptographic hash functions or block ciphers. We do exactly that and use a secure block cipher in CBC mode in the following.\n",
    "\n",
    "For this task, we assume a secure block cipher in CBC mode is used to calculate a MAC for a message `m`. The last cipher text block denotes the corresponding MAC here. \n",
    "\n",
    "For example, consider a message with four 128-bit blocks. The last cipher text block ```c4``` of `c=c1||c2||c3||c4` is the MAC for the message, ```m = m1||m2||m3||m4``` where `c` is the corresponding ciphertext to `m`. The initialization vector ```iv``` only consists of zero bits.\n",
    "\n",
    "However, this simple construction is vulnerable to a so-called length extension attack. You are given two message and MAC pairs ```(m1, t1), (m2, t2)```, and your task is to forge a valid message-MAC pair without knowing the secret key. \n",
    "\n",
    "One secret key for the exercise is given, so that you can test your attack string. Note, that another key and different message-MAC pairs are used in the grading cells.\n",
    "\n",
    "For this exercise, we use the library [Cryptography](https://cryptography.io/en/latest/) that provides many cryptographic algorithms. You have to use AES128 as the block cipher here. To work with the algorithms, you need to use byte-encoded strings, as shown below."
   ]
  },
  {
   "cell_type": "code",
   "execution_count": 26,
   "id": "b74e8bc5-b43d-42cd-a520-c4dd4e927415",
   "metadata": {
    "deletable": false,
    "editable": false,
    "nbgrader": {
     "cell_type": "code",
     "checksum": "18722de1113abc189517214ac4c54f86",
     "grade": false,
     "grade_id": "cell-01fd294f9a31b6bb",
     "locked": true,
     "schema_version": 3,
     "solution": false,
     "task": false
    }
   },
   "outputs": [],
   "source": [
    "from cryptography.hazmat.primitives.ciphers import Cipher, algorithms, modes\n",
    "\n",
    "message_1 = b\"This is my message string and needs to be MACed.\"\n",
    "mac_1 = b'&\\x92\\x07x_Z\\xa9.\\xff?\\xd8\\xc5\\xbbM\\xc9\\xaa'\n",
    "\n",
    "message_2 = b\"This is another message and also needs a MAC!!!!\"\n",
    "mac_2 = b'\\x9c5\\x93\\x9b\\xfe\\xd0\\x87\\x86\\xeb\\x80b\\xfa\\x16`\\xaad'\n",
    "\n",
    "secret_key = b'\\tmc\\xfc\\x89\\xc8\\x05\\x03k\\xf81\\x93\\xa3]\\x021'"
   ]
  },
  {
   "attachments": {},
   "cell_type": "markdown",
   "id": "40a26f20-eba7-4ba3-8b50-6778396cf6ea",
   "metadata": {
    "deletable": false,
    "editable": false,
    "nbgrader": {
     "cell_type": "markdown",
     "checksum": "35fdadf05ef000bfa67e679c0073caad",
     "grade": false,
     "grade_id": "cell-4896114a14eea021",
     "locked": true,
     "schema_version": 3,
     "solution": false,
     "task": false
    }
   },
   "source": [
    "### Task 3.1 (1.5 points)\n",
    "\n",
    "Implement a function ```create_MAC(text, key)``` which returns the computed CBC-MAC of the `message` with AES128 as the used block cipher.\n",
    "\n",
    "Hint: CBC-MAC works by setting the `IV` to all zeros."
   ]
  },
  {
   "cell_type": "code",
   "execution_count": 27,
   "id": "1663f69d-584d-4a7b-b91f-a6d0f2138d24",
   "metadata": {
    "deletable": false,
    "nbgrader": {
     "cell_type": "code",
     "checksum": "7a1d2e2c831dca1f71268140ffdd6193",
     "grade": false,
     "grade_id": "cell-01c2dccf5652cf20",
     "locked": false,
     "schema_version": 3,
     "solution": true,
     "task": false
    }
   },
   "outputs": [],
   "source": [
    "def create_MAC(message, key) -> str:\n",
    "    iv = bytes(16)\n",
    "    cipher = Cipher(algorithms.AES128(key), modes.CBC(iv))\n",
    "    encryptor = cipher.encryptor()\n",
    "\n",
    "    encrypted_msg = encryptor.update(message) + encryptor.finalize()\n",
    "    return encrypted_msg[-16:]"
   ]
  },
  {
   "cell_type": "code",
   "execution_count": null,
   "id": "34dfe194-477b-4736-82a7-0fb193cafa8b",
   "metadata": {
    "deletable": false,
    "editable": false,
    "nbgrader": {
     "cell_type": "code",
     "checksum": "9a07f880f542f0c9cdac7f874d28b849",
     "grade": true,
     "grade_id": "cell-55c20522cc8208cd",
     "locked": true,
     "points": 1.5,
     "schema_version": 3,
     "solution": false,
     "task": false
    }
   },
   "outputs": [],
   "source": [
    "# Even this cell seems empty, it contains automatic tests. Please do not remove this cell and just ignore it."
   ]
  },
  {
   "attachments": {},
   "cell_type": "markdown",
   "id": "0749ace0-0bbf-4ae0-a807-aba01943f47b",
   "metadata": {
    "deletable": false,
    "editable": false,
    "nbgrader": {
     "cell_type": "markdown",
     "checksum": "d760cc60e7e65eb0fced803f542d1bf7",
     "grade": false,
     "grade_id": "cell-1c7a9112e55fb365",
     "locked": true,
     "schema_version": 3,
     "solution": false,
     "task": false
    }
   },
   "source": [
    "### Task 3.2 (2 points)\n",
    "\n",
    "You now need to send an authenticated message `forge_message` to a server, such that the MAC of `forge_message` is equal to the MAC of `m2`. \n",
    "\n",
    "Take a closer look at the CBC-mode to construct such a message. Ensure that `forge_message` is different to `m2`.\n",
    "\n",
    "Implement a function `construct_forge(m1, mac1, m2, mac2)` that returns such a message together with the corresponding MAC as a tuple `(forge_message, mac)`."
   ]
  },
  {
   "cell_type": "code",
   "execution_count": 28,
   "id": "736719ff-1834-41f4-bef1-c3605afb1ced",
   "metadata": {
    "deletable": false,
    "nbgrader": {
     "cell_type": "code",
     "checksum": "29376ff3a812d4dc43ee241bff00921c",
     "grade": false,
     "grade_id": "cell-7ddda8c2d6e04e3f",
     "locked": false,
     "schema_version": 3,
     "solution": true,
     "task": false
    }
   },
   "outputs": [],
   "source": [
    "def construct_forge(m1, mac1, m2, mac2):\n",
    "    # As per slide 28 of ch. 3, we have that if we have (m1, mac1) & (m2, mac2), we can construct\n",
    "    # the _valid_ pair m1 || (m2 XOR mac1) (with the MAC being mac2)\n",
    "    # However, as m1 & m2 are not guaranteed to be _one-block_ messages, we do not _fully_ XOR m2 & mac1,\n",
    "    # but rather _only the first block_ as to \"eradicate\" the MAC of m1 in the following XOR calculations,\n",
    "    # meaning we still end up with the MAC being mac2, as desired\n",
    "    m1_array = list(m1)\n",
    "\n",
    "    # Why does the `bytes` class not have an overloaded XOR operator?\n",
    "    m2_first_block = list(m2)[:16]\n",
    "    m2_first_xored = [a ^ b for (a, b) in zip(m2_first_block, mac1)]\n",
    "    m2_suffix = list(m2)[16:]\n",
    "\n",
    "    m1_array.extend(m2_first_xored)\n",
    "    m1_array.extend(m2_suffix)\n",
    "\n",
    "    return (bytes(m1_array), mac2)"
   ]
  },
  {
   "cell_type": "code",
   "execution_count": null,
   "id": "1a042cbf-f3bc-4402-9834-0b07c656608f",
   "metadata": {
    "deletable": false,
    "editable": false,
    "nbgrader": {
     "cell_type": "code",
     "checksum": "3668461a8add2cc3403cd9a4dad3e67e",
     "grade": true,
     "grade_id": "cell-31845af8eeb08c52",
     "locked": true,
     "points": 2,
     "schema_version": 3,
     "solution": false,
     "task": false
    }
   },
   "outputs": [],
   "source": [
    "# Even this cell seems empty, it contains automatic tests. Please do not remove this cell and just ignore it."
   ]
  },
  {
   "attachments": {},
   "cell_type": "markdown",
   "id": "30e9d216-e06d-4e27-ac12-feb194396867",
   "metadata": {
    "deletable": false,
    "editable": false,
    "nbgrader": {
     "cell_type": "markdown",
     "checksum": "994dd9b2ee80c1d2749331150401e70e",
     "grade": false,
     "grade_id": "cell-7f6c9ed367d381fe",
     "locked": true,
     "schema_version": 3,
     "solution": false,
     "task": false
    }
   },
   "source": [
    "### Task 3.3 (2 points)\n",
    "\n",
    "Now you have to implement a test function for the 'server side'. The server should accept a `message` if the provided `mac` is correct with a given secret `key`. Implement a function `server_auth(message, t, key)` which returns `True` or `False` depending on the check."
   ]
  },
  {
   "cell_type": "code",
   "execution_count": 29,
   "id": "82446f9e-1e94-4f20-8cf7-fc46e89a560f",
   "metadata": {
    "deletable": false,
    "nbgrader": {
     "cell_type": "code",
     "checksum": "9e257380d149c819b510bb78a01e1ea4",
     "grade": false,
     "grade_id": "cell-070f67db74261fa7",
     "locked": false,
     "schema_version": 3,
     "solution": true,
     "task": false
    }
   },
   "outputs": [],
   "source": [
    "def server_test_MAC(message, mac, k):\n",
    "    calculated_mac = create_MAC(message, k)\n",
    "    return (mac == calculated_mac)"
   ]
  },
  {
   "cell_type": "code",
   "execution_count": null,
   "id": "5114a79e-3ec4-41b6-ab9b-693bed66b523",
   "metadata": {
    "deletable": false,
    "editable": false,
    "nbgrader": {
     "cell_type": "code",
     "checksum": "7a03675385cc5405b051713f494dbdb3",
     "grade": true,
     "grade_id": "cell-df3734b5d57d3d6c",
     "locked": true,
     "points": 2,
     "schema_version": 3,
     "solution": false,
     "task": false
    }
   },
   "outputs": [],
   "source": [
    "# Even this cell seems empty, it contains automatic tests. Please do not remove this cell and just ignore it."
   ]
  },
  {
   "cell_type": "markdown",
   "id": "5a541148-24cc-4865-9b35-a4aafeadc7ae",
   "metadata": {
    "deletable": false,
    "editable": false,
    "nbgrader": {
     "cell_type": "markdown",
     "checksum": "b0cbf6f214d3b151837afe744bcd9a5a",
     "grade": false,
     "grade_id": "cell-f607ae7c4c804b61",
     "locked": true,
     "schema_version": 3,
     "solution": false,
     "task": false
    }
   },
   "source": [
    "## 4. Example Exam Task (0.5 Points)\n",
    "\n",
    "### Task 4.1 - Symmetric Encryption\n",
    "\n",
    "**Name** one advantage of the *Counter Mode* (CTR) over the *Cipher Block Chaining Mode* (CBC) or *Output Feedback Mode* (OFB)."
   ]
  },
  {
   "cell_type": "markdown",
   "id": "ad5f3fc4-84da-4c80-a222-8eb8762d0e36",
   "metadata": {
    "deletable": false,
    "nbgrader": {
     "cell_type": "markdown",
     "checksum": "e5d2f26a650ed80a1e5cec328e3da40a",
     "grade": true,
     "grade_id": "cell-e3dab034516ee464",
     "locked": false,
     "points": 0.5,
     "schema_version": 3,
     "solution": true,
     "task": false
    }
   },
   "source": [
    "CTR mode encryption and decription can be parallelized"
   ]
  },
  {
   "cell_type": "markdown",
   "id": "6b1c3eea-3b69-484e-b6f8-5cff25a84a85",
   "metadata": {
    "deletable": false,
    "editable": false,
    "nbgrader": {
     "cell_type": "markdown",
     "checksum": "7cfa103d8efab38fb3f4f179a45966ac",
     "grade": false,
     "grade_id": "cell-e7ef8cd5bd2da205",
     "locked": true,
     "schema_version": 3,
     "solution": false,
     "task": false
    }
   },
   "source": [
    "### Task 4.2 - OTP\n",
    "\n",
    "**Prove** that One Time Pad is perfectly secure."
   ]
  },
  {
   "cell_type": "markdown",
   "id": "b6174d02-d0f0-4dce-a71c-aeaff486a4ee",
   "metadata": {
    "deletable": false,
    "nbgrader": {
     "cell_type": "markdown",
     "checksum": "153c2786ab956b4198c5c9a8b4b71f6c",
     "grade": true,
     "grade_id": "cell-c769a8f08a2818b8",
     "locked": false,
     "points": 0,
     "schema_version": 3,
     "solution": true,
     "task": false
    }
   },
   "source": [
    "Since |P| = |C| = |K|, we can use Shannon's Therem. Let P, C be a pair of plain- and ciphertext, chosen uniformly at random. Then K := C xor P is the key such that E_K(P) = C. Since K is chosen uniformly at random, OTP provides perfect secrecy according to Shannon's Theorem."
   ]
  },
  {
   "cell_type": "markdown",
   "id": "2154394b-f4c1-4b72-9134-9aaeaf5ece70",
   "metadata": {
    "deletable": false,
    "editable": false,
    "nbgrader": {
     "cell_type": "markdown",
     "checksum": "6b3a80d7ecb703787e0b97e4c67608af",
     "grade": false,
     "grade_id": "cell-0bdd7e37c3693446",
     "locked": true,
     "schema_version": 3,
     "solution": false,
     "task": false
    }
   },
   "source": [
    "### Task 4.3 - Integrity Protection\n",
    "\n",
    "**Name** the differences and similarities of a *Modification Detection Code* (MDC) and a *Message Authentication Code* (MAC)."
   ]
  },
  {
   "cell_type": "markdown",
   "id": "06b59460-9e4c-44e9-86c0-e010080949d7",
   "metadata": {
    "deletable": false,
    "nbgrader": {
     "cell_type": "markdown",
     "checksum": "2def620c923ab3e4ea7072012781d72a",
     "grade": true,
     "grade_id": "cell-636f2465b3723238",
     "locked": false,
     "points": 0,
     "schema_version": 3,
     "solution": true,
     "task": false
    }
   },
   "source": [
    "Similarities: Both try to detect Data Modification but unauthorized entities. Both might use hash functions to compute a Tag/Fingerprint.\n",
    "Differences: MDC requires a secure channel, while in MAC, the tag is part of the message send through the insecure channel."
   ]
  },
  {
   "cell_type": "markdown",
   "id": "605210a4-ed7c-4e9f-bbfa-20636b4aa100",
   "metadata": {
    "deletable": false,
    "editable": false,
    "nbgrader": {
     "cell_type": "markdown",
     "checksum": "787be334ddcc19e73bea5ca87c89e059",
     "grade": false,
     "grade_id": "cell-aece7596f59aa4c7",
     "locked": true,
     "schema_version": 3,
     "solution": false,
     "task": false
    }
   },
   "source": [
    "## 5. Feedback (0.5 points)"
   ]
  },
  {
   "cell_type": "markdown",
   "id": "20766587-1073-45c7-87fe-35d92ac72796",
   "metadata": {
    "deletable": false,
    "editable": false,
    "nbgrader": {
     "cell_type": "markdown",
     "checksum": "3c8f3cd9fd53af9190e92846c5b29749",
     "grade": false,
     "grade_id": "cell-8c37b5f9238becb1",
     "locked": true,
     "schema_version": 3,
     "solution": false,
     "task": false
    }
   },
   "source": [
    "You made it through another assignment! Since we want to know how it went and how we might improve the exercises, we include the following task. Here, you can write constructive feedback! You even get 0.5 points for it if you write anything. But don't worry, we do not grade the content itself!"
   ]
  },
  {
   "cell_type": "markdown",
   "id": "7b495399-7d4b-497c-a12c-26fb60e05490",
   "metadata": {
    "deletable": false,
    "editable": false,
    "nbgrader": {
     "cell_type": "markdown",
     "checksum": "0e6049c92cdae633ddc734888303b807",
     "grade": false,
     "grade_id": "cell-51d3dbcacf9764c6",
     "locked": true,
     "points": 0.5,
     "schema_version": 3,
     "solution": false,
     "task": true
    }
   },
   "source": [
    "Grading hint: it is enough if there is just anything\n",
    "\n",
    "anything :D\\\n",
    "On a more serious note: \n",
    "The \"more theoretical\" approach of exercise 1 was a nice change of pace (in comparison to the other coding exercises).\n",
    "\n",
    "For exercises 2.3 & 2.4 -- as seen with the questions in RWTHmoodle -- it was a bit confusing that the messages, keys etc. given here are _not_ these \"binary strings\" from exercise 1, but rather are to be treated \"properly\" like in the functions `encrypt_block`/`decrypt_block` (with ASCII code conversion, etc.); we would ask for such things to be made clear explicitly in the future.\n",
    "\n",
    "For exercise 3, whilst it is good that a link to the documentation of the cryptography library was provided, it was a bit of a hassle to work with/find out how to work with the `bytes` type in Python; therefore, in the future, it would be appreciated if you could either provide a good documentation for that type (& _no_, the official Python documentation on data types is _not_ good in that regard, as it is just a mere wall of text with all possible functions listed & no real context given) or give examples of the necessary functions in regards to that `bytes` type in the exercise notebook itself."
   ]
  }
 ],
 "metadata": {
  "kernelspec": {
   "display_name": "Python 3",
   "language": "python",
   "name": "python3"
  },
  "language_info": {
   "codemirror_mode": {
    "name": "ipython",
    "version": 3
   },
   "file_extension": ".py",
   "mimetype": "text/x-python",
   "name": "python",
   "nbconvert_exporter": "python",
   "pygments_lexer": "ipython3",
   "version": "3.12.6"
  }
 },
 "nbformat": 4,
 "nbformat_minor": 5
}
