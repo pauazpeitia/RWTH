{
 "cells": [
  {
   "cell_type": "markdown",
   "id": "6c1da5e8",
   "metadata": {
    "deletable": false,
    "editable": false,
    "nbgrader": {
     "cell_type": "markdown",
     "checksum": "3b9fc074823077b8933e27e11ab3fed9",
     "grade": false,
     "grade_id": "cell-c3910a0e2954e294",
     "locked": true,
     "schema_version": 3,
     "solution": false,
     "task": false
    }
   },
   "source": [
    "# IT Security - Sheet 1 \"Historic Ciphers\"\n",
    "\n",
    "**Total achievable points: 20**\n",
    "\n",
    "**Released: 17.10.2024**\n",
    "\n",
    "**Submission Deadline: 24.10.2024 23:59**"
   ]
  },
  {
   "cell_type": "markdown",
   "id": "71abded2",
   "metadata": {},
   "source": [
    "---\n",
    "Groupnumber: 128\n",
    "\n",
    "Names and matriculation numbers of **ALL** team members: Samuel Rode (445160), Nils Maasch (445796), Pau Azpeita Bergos (443428), Gereon Geuchen (445328), Ben-Jay Huckebrink (445219) \n",
    "\n",
    "Format: John Doe (999999)\n",
    "\n",
    "---"
   ]
  },
  {
   "cell_type": "markdown",
   "id": "ea16634b-825f-4e42-9ce9-f77969e68b9a",
   "metadata": {
    "deletable": false,
    "editable": false,
    "nbgrader": {
     "cell_type": "markdown",
     "checksum": "d839b80f16a548138ac1f2a6e43bfb6e",
     "grade": false,
     "grade_id": "cell-201349d6fb252d99",
     "locked": true,
     "schema_version": 3,
     "solution": false,
     "task": false
    }
   },
   "source": [
    "**Important Information**\n",
    "\n",
    "The assignments must be submitted by groups of 5 students. Please use the RWTHmoodle exercise room to register for a submission group using the [Submission Groups Section](https://moodle.rwth-aachen.de/course/view.php?id=44012#section-1). Even if you are registered in RWTHmoodle to a submission group, **please include the groupnumber as well as the name and matriculation number of every group member in this notebook**. Register in RWTHmoodle the submission group before you hand in the assignment. The registration of submission groups is available until the first assignment is due (24.10.2024 23:59). Please do not change or leave the submission group after the solution for this group was handed in.\n",
    "\n",
    "Enter your solutions for the tasks in the respective cells of this notebook. These cells are either marked by \"YOUR ANSWER HERE\" or `#YOUR CODE HERE`. Cells marked with `###PLAYGROUND` can be used to test your implementation and generate output (see example for the first tasks). They will be ignored during grading. **Do not change any other cells or add new ones.**\n",
    "\n",
    "Please **do not import any further Python packages** except the default Python ones and the ones that are explicitly given by us."
   ]
  },
  {
   "cell_type": "markdown",
   "id": "891bb4e7",
   "metadata": {
    "deletable": false,
    "editable": false,
    "nbgrader": {
     "cell_type": "markdown",
     "checksum": "cf2eb3a406b1af7eb2abf45668560ed4",
     "grade": false,
     "grade_id": "cell-46c3f410c9b69a27",
     "locked": true,
     "schema_version": 3,
     "solution": false,
     "task": false
    }
   },
   "source": [
    "## Content of this Assignment\n",
    "\n",
    "In the lecture, you learned about security goals and attacks threatening one or more of those security goals.\n",
    "Likewise, you learned about vulnerabilities that may arise at different layers and about various possible attackers.\n",
    "Furthermore, you were introduced to some examples of symmetric ciphers (including historic ones).\n",
    "\n",
    "In this exercise, you'll build upon this knowledge and try to break some historic ciphers on your own!"
   ]
  },
  {
   "cell_type": "markdown",
   "id": "cb88d513",
   "metadata": {
    "deletable": false,
    "editable": false,
    "nbgrader": {
     "cell_type": "markdown",
     "checksum": "6a039a0120b0dae1e3e6978714c4f203",
     "grade": false,
     "grade_id": "cell-57a3a0421c6c8755",
     "locked": true,
     "schema_version": 3,
     "solution": false,
     "task": false
    }
   },
   "source": [
    "## 1. Basics (6 points)\n",
    "\n",
    "We will start with a little bit of important basic knowledge. Note that these are only some of the basics you need to know to excel in the exciting field of IT-security. For each question, try to answer the tasks **as precisely as possible** but still include all the **necessary** reasoning to support your claims."
   ]
  },
  {
   "cell_type": "markdown",
   "id": "dca0f18a",
   "metadata": {
    "deletable": false,
    "editable": false,
    "nbgrader": {
     "cell_type": "markdown",
     "checksum": "1c2ee923fd8fd3c3a359ee8611ff4f01",
     "grade": false,
     "grade_id": "cell-70546f4a4a5ac41a",
     "locked": true,
     "schema_version": 3,
     "solution": false,
     "task": false
    }
   },
   "source": [
    "### Task 1.1 (3 points)\n",
    "\n",
    "**Explain** what CIA stands for, **give examples** of attacks against each of the security goals and **reason** why each of those attacks breaches the respective security goal."
   ]
  },
  {
   "cell_type": "markdown",
   "id": "47fe3fe0-cc4f-421e-9f1f-9052831ff049",
   "metadata": {
    "deletable": false,
    "nbgrader": {
     "cell_type": "markdown",
     "checksum": "a22bc66b564d847aff3fbc8f8ac52635",
     "grade": true,
     "grade_id": "manual_cia",
     "locked": false,
     "points": 3,
     "schema_version": 3,
     "solution": true,
     "task": false
    }
   },
   "source": [
    "CIA stands for confidentiality, integrity, and availability. Where confidentiality ensures that only authorized users can access the data, integrity ensures that the data is not altered by unauthorized users, and availability ensures that the data is available when needed. \n",
    "Example for confidentiality: Eavesdropping, i.e., an attacker intercepts the communication between two parties. This breaches confidentiality as the attacker can read the data that was supposed to be confidential.\n",
    "Example for integrity: Modification, i.e., an attacker alters the data during transmission. This breaches integrity, as the attacker is obviously not authorized to change the data.\n",
    "Example for availability: Denial of Service, i.e., an attacker floods the server with (fake) requests. This leads to the server being (temporarily) unavailable such that legitimate users also can not access the service."
   ]
  },
  {
   "cell_type": "markdown",
   "id": "548f3164",
   "metadata": {
    "deletable": false,
    "editable": false,
    "nbgrader": {
     "cell_type": "markdown",
     "checksum": "33498a13e3bffbfab5113523553d5430",
     "grade": false,
     "grade_id": "cell-27261b70e93a6d91",
     "locked": true,
     "schema_version": 3,
     "solution": false,
     "task": false
    }
   },
   "source": [
    "### Task 1.2 (2 points)\n",
    "\n",
    "**Explain** why cipher negotiation exists and **name one additional problem** which can be introduced by it."
   ]
  },
  {
   "cell_type": "markdown",
   "id": "8ac68d1c-9ac3-42e8-8e35-d41c5be2dc71",
   "metadata": {
    "deletable": false,
    "nbgrader": {
     "cell_type": "markdown",
     "checksum": "26aefc9ff16f22fa545df55428914712",
     "grade": true,
     "grade_id": "manual_negotiation",
     "locked": false,
     "points": 2,
     "schema_version": 3,
     "solution": true,
     "task": false
    }
   },
   "source": [
    "New attacks on ciphers cannot be prevented and some defense mechanisms break. Therefore the typical solution is to integrate multiple algorithms (as mandatory) to choose from. In case of an algorithm breaking, we can configure our system to use the other supported algorithms. \n",
    "The integrity of the algorithm negotiation messages has to be protected. If the negotiation is insecure, it's possible that attackers intercept the negotiation messages and act like the requesting system only supports a (broken) algorithm."
   ]
  },
  {
   "cell_type": "markdown",
   "id": "17d180f0",
   "metadata": {
    "deletable": false,
    "editable": false,
    "nbgrader": {
     "cell_type": "markdown",
     "checksum": "91907802f82e3b795cc3785d8cf97b6e",
     "grade": false,
     "grade_id": "cell-463693654f676037",
     "locked": true,
     "schema_version": 3,
     "solution": false,
     "task": false
    }
   },
   "source": [
    "### Task 1.3 (1 point)\n",
    "\n",
    "Assume a system that has no vulnerabilities regarding the cryptographic primitives and the protocols used. The implementations of all components are bug-free, and there are no vulnerabilities. Also, assume there is no vulnerability in the interplay between those components.\n",
    "\n",
    "**Explain** whether there is still a potential vulnerability that might break the security of the system when used."
   ]
  },
  {
   "cell_type": "markdown",
   "id": "d8b79d4f-5237-407b-8660-f1f9002e24b3",
   "metadata": {
    "deletable": false,
    "nbgrader": {
     "cell_type": "markdown",
     "checksum": "7c7292a64c7db3b3e90d7b7e7ec10244",
     "grade": true,
     "grade_id": "manual_ideal",
     "locked": false,
     "points": 1,
     "schema_version": 3,
     "solution": true,
     "task": false
    }
   },
   "source": [
    "If the system is used by humans, there is always a potential vulnerability. Humans can be tricked into revealing their passwords, which is a common social engineering attack. "
   ]
  },
  {
   "cell_type": "markdown",
   "id": "40ad2399-e85e-4799-b2ed-900a5306f21e",
   "metadata": {
    "deletable": false,
    "editable": false,
    "nbgrader": {
     "cell_type": "markdown",
     "checksum": "acb80a2426a38c9605dd8801d2389de5",
     "grade": false,
     "grade_id": "cell-fe2227415ca04567",
     "locked": true,
     "schema_version": 3,
     "solution": false,
     "task": false
    }
   },
   "source": [
    "## 2. Monoalphabetic Cipher (5 points)\n",
    "\n",
    "Now, we will play around with some ciphers and see that, often, it is not that hard to break them. We already know that the key space of the Caesar cipher is too small to be considered sufficiently secure nowadays. One can easily bruteforce the key - with **recognizable** plaintext at least.\n",
    "\n",
    "Another approach was introduced in the lecture, namely a monoalphabetic substitution cipher. Here, we use a substitution table and replace each letter in the plaintext with the corresponding letter in the table. This effectively increases the key space, but there remains a problem. We can still make use of another property of languages: letters have a common frequency in their natural language. Hence, we can map back the ciphertext letters to the plaintext letters if we have plaintext that \"makes sense\". \n",
    "\n",
    "In the following, you will use that knowledge to break such a monoalphabetic substitution cipher.\n",
    "\n",
    "With a monoalphabetic cipher, a letter in the plaintext is mapped to another letter in the alphabet.\n",
    "You can think of it as a permutation of letters, where the key describes the permutation. Thus, the\n",
    "key space has a size of k!. \n",
    "\n",
    "We use Python's dictionary datatype to store such a key. One example of a given key in the format would be: ```key = {'a': 'x', 'b': 'd', 'c': 't', 'd': 'f', ... , 'z': 'm'} ```\n",
    "\n",
    "You can now assume the following counts of each letter were computed on the plaintext for the given ciphertext:"
   ]
  },
  {
   "cell_type": "code",
   "execution_count": 2,
   "id": "616a3cac",
   "metadata": {
    "deletable": false,
    "editable": false,
    "nbgrader": {
     "cell_type": "code",
     "checksum": "fc57d1ff741250b2b5d8172bdbe32b71",
     "grade": false,
     "grade_id": "cell-4a126f31895ebdd1",
     "locked": true,
     "schema_version": 3,
     "solution": false,
     "task": false
    }
   },
   "outputs": [],
   "source": [
    "mono_counts = {\n",
    "    'a': 27, 'b': 5, 'c': 25, 'd': 23, 'e': 63, 'f': 9, 'g': 13, \n",
    "    'h': 24, 'i': 34, 'k': 1, 'l': 15, 'm': 16, 'n': 38,\n",
    "    'o': 49, 'p': 17, 'r': 36, 's': 32, 't': 53, 'u': 18,\n",
    "    'v': 6, 'w': 7, 'y': 8\n",
    "}"
   ]
  },
  {
   "cell_type": "code",
   "execution_count": 3,
   "id": "9f644466",
   "metadata": {
    "deletable": false,
    "editable": false,
    "nbgrader": {
     "cell_type": "code",
     "checksum": "de44b7bdeaa36530c247e160dfad0fec",
     "grade": false,
     "grade_id": "cell-d04442e3ef1def54",
     "locked": true,
     "schema_version": 3,
     "solution": false,
     "task": false
    }
   },
   "outputs": [],
   "source": [
    "cipher_1 = (\n",
    "    'royiy liy ln ynqlcsgwlrbnm syqgibru cluwale ysc ciaraqaw eaqgjynr lne ln lgroynrbqlrban oyleyi lo ' +\n",
    "    'ciaraqaw eaqgjynr rolr qakyi roy clqdyr paijlr lne mynyilw bssgys iymliebnm roy iyscyqrbky ciaraqaws ' +\n",
    "    'roy ynqiucrban lwmaibroj eaqgjynr syr soavn an roy wypr bs roy syr ap eaqgjynrs eysqibxbnm oav klibags ' +\n",
    "    'ynqiucrban lwmaibrojs liy gsye pai ysc roy qajxbnye lwmaibroj eaqgjynr syr soavn bn roy jbeewy bs roy syr ap ' +\n",
    "    'eaqgjynrs eysqibxbnm oav klibags qajxbnye jaey lwmaibrojs liy gsye ra ciakbey xaro ynqiucrban lne bnrymibru ' +\n",
    "    'ciaryqrban pai ysc  roy pawwavbnm sribnm bs ra ynsgiy ebppyiynr qagnrs cyi wyrryi kvvuujcggoq'\n",
    ")"
   ]
  },
  {
   "cell_type": "markdown",
   "id": "be205360",
   "metadata": {
    "deletable": false,
    "editable": false,
    "nbgrader": {
     "cell_type": "markdown",
     "checksum": "a60c95614a0e6d7e2e51fec62c7bd021",
     "grade": false,
     "grade_id": "cell-c5606ed99c0b5adc",
     "locked": true,
     "schema_version": 3,
     "solution": false,
     "task": false
    }
   },
   "source": [
    "### Task 2.1 (2 point)\n",
    "\n",
    "Implement the function ```get_counts(text)``` that counts, how often each letter occurs in a text. \n",
    "\n",
    "Your function should return a dictionary of the format ```{letter: count}```, i.e, the keys are the letters and the values are the corresponding counts."
   ]
  },
  {
   "cell_type": "code",
   "execution_count": 36,
   "id": "37041cef",
   "metadata": {
    "deletable": false,
    "nbgrader": {
     "cell_type": "code",
     "checksum": "fd4404900a740f7c14caf513f4140b05",
     "grade": false,
     "grade_id": "frequencies",
     "locked": false,
     "schema_version": 3,
     "solution": true
    }
   },
   "outputs": [],
   "source": [
    "def get_counts(text: str) -> dict:\n",
    "    # YOUR CODE HERE\n",
    "    text = text.lower()\n",
    "    dict = {}\n",
    "    for i in text:\n",
    "        if i in dict:\n",
    "            dict[i] += 1\n",
    "        else:\n",
    "            dict[i] = 1\n",
    "    # remove whitespace\n",
    "    dict.pop(' ', None)\n",
    "\n",
    "    # also add the counts (0) for all the letters that are not in the text\n",
    "    letters = ['a', 'b', 'c', 'd', 'e', 'f', 'g', 'h', 'i', 'j', 'k', 'l', 'm', 'n', 'o', 'p', 'q', 'r', 's', 't', 'u', 'v', 'w', 'x', 'y', 'z']\n",
    "    for i in letters:\n",
    "        if i not in dict:\n",
    "            dict[i] = 0\n",
    "\n",
    "    return dict"
   ]
  },
  {
   "cell_type": "code",
   "execution_count": 5,
   "id": "1b567ab7-0009-4e40-aaa8-7aedb2599b09",
   "metadata": {},
   "outputs": [
    {
     "name": "stdout",
     "output_type": "stream",
     "text": [
      "{'r': 53, 'o': 24, 'y': 63, 'i': 36, 'l': 27, 'n': 38, 'q': 25, 'c': 17, 's': 32, 'g': 18, 'w': 15, 'b': 34, 'm': 13, 'u': 8, 'a': 49, 'e': 23, 'j': 16, 'k': 6, 'd': 1, 'p': 9, 'v': 7, 'x': 5}\n"
     ]
    }
   ],
   "source": [
    "### PLAYGROUND\n",
    "# You can use this cell to test out your implementation. Everything in this cell will be ignoored during grading.\n",
    "#print(get_counts('hello world  sssssss'))\n",
    "print(get_counts(cipher_1))"
   ]
  },
  {
   "cell_type": "code",
   "execution_count": 6,
   "id": "fcb57db8-5df4-4eff-bbb6-47f491c41981",
   "metadata": {
    "deletable": false,
    "editable": false,
    "nbgrader": {
     "cell_type": "code",
     "checksum": "45e39e37ac8f7a1fb5321a1b765dfb3c",
     "grade": true,
     "grade_id": "cell-9cf2634295bce866",
     "locked": true,
     "points": 0,
     "schema_version": 3,
     "solution": false,
     "task": false
    }
   },
   "outputs": [],
   "source": [
    "# This test just checks the output format of your solution\n",
    "\n",
    "oft_result = get_counts(cipher_1)\n",
    "assert len(oft_result) >= 22\n",
    "for letter in cipher_1:\n",
    "    assert (letter in oft_result or letter == ' ')"
   ]
  },
  {
   "cell_type": "code",
   "execution_count": 7,
   "id": "bed969c7",
   "metadata": {
    "deletable": false,
    "editable": false,
    "nbgrader": {
     "cell_type": "code",
     "checksum": "d88687efecf17c2f84bc302e2d39f332",
     "grade": true,
     "grade_id": "frequencies_tests",
     "locked": true,
     "points": 2,
     "schema_version": 3,
     "solution": false,
     "task": false
    }
   },
   "outputs": [],
   "source": [
    "# Even this cell seems empty, it contains automatic tests. Please do not remove this cell and just ignore it."
   ]
  },
  {
   "cell_type": "markdown",
   "id": "10a0f9be",
   "metadata": {
    "deletable": false,
    "editable": false,
    "nbgrader": {
     "cell_type": "markdown",
     "checksum": "3a81af257a3427c4c2e6357a0069d664",
     "grade": false,
     "grade_id": "cell-35941c0ef7d97372",
     "locked": true,
     "schema_version": 3,
     "solution": false,
     "task": false
    }
   },
   "source": [
    "### Task 2.2 (3 points)\n",
    "\n",
    "Implement the function ```mono_decrypt(cipher_text, counts_english)``` that decrypts a ciphertext with the help of a given dictionary of letter counts. \n",
    "\n",
    "In addition to the decrypted plaintext, the decryption key should be returned. For your key, only consider letters that appear in the ciphertext. In this example, your key will have fewer entries than 26. \n",
    "\n",
    "The key has to be a dictionary with the format ```{cipher_letter: plain_letter}``` as described above. Your function should return a tuple of the form ```(plaintext, recovered_key)```."
   ]
  },
  {
   "cell_type": "code",
   "execution_count": 31,
   "id": "b1566287",
   "metadata": {
    "deletable": false,
    "nbgrader": {
     "cell_type": "code",
     "checksum": "4108331f3c7e27b6e448fcebea0df56a",
     "grade": false,
     "grade_id": "mono_decrypt",
     "locked": false,
     "schema_version": 3,
     "solution": true
    }
   },
   "outputs": [],
   "source": [
    "def mono_decrypt(cipher_text: str, counts: dict) -> tuple:\n",
    "    # YOUR CODE HERE\n",
    "    key = {}\n",
    "    # get counts of cipher text\n",
    "    counts = get_counts(cipher_text)\n",
    "    sorted_counts = sorted(counts.items(), key=lambda item: item[1], reverse=True)\n",
    "    # remove letters that are not in the text\n",
    "    sorted_counts = [i for i in sorted_counts if i[1] != 0]\n",
    "    # sort the dictionary by value\n",
    "    sorted_mono_counts = sorted(mono_counts.items(), key=lambda item: item[1], reverse=True)\n",
    "    # create a key\n",
    "    for i in sorted_counts:\n",
    "        key[i[0]] = sorted_mono_counts.pop(0)[0]\n",
    "    # decrypt the text\n",
    "    plain_text = ''\n",
    "    for i in cipher_text:\n",
    "        if i in key:\n",
    "            plain_text += key[i]\n",
    "        else:\n",
    "            plain_text += i\n",
    "    return plain_text, key\n",
    "  \n",
    "    "
   ]
  },
  {
   "cell_type": "code",
   "execution_count": 32,
   "id": "ad87e99d-00e4-42e3-abe2-d94653227c31",
   "metadata": {},
   "outputs": [
    {
     "name": "stdout",
     "output_type": "stream",
     "text": [
      "('there are an encapsulating security payload esp protocol document and an authentication header ah protocol document that cover the packet format and general issues regarding the respective protocols the encryption algorithm document set shown on the left is the set of documents describing how various encryption algorithms are used for esp the combined algorithm document set shown in the middle is the set of documents describing how various combined mode algorithms are used to provide both encryption and integrity protection for esp  the following string is to ensure different counts per letter vwwyympuuhc', {'y': 'e', 'r': 't', 'a': 'o', 'n': 'n', 'i': 'r', 'b': 'i', 's': 's', 'l': 'a', 'q': 'c', 'o': 'h', 'e': 'd', 'g': 'u', 'c': 'p', 'j': 'm', 'w': 'l', 'm': 'g', 'p': 'f', 'u': 'y', 'v': 'w', 'k': 'v', 'x': 'b', 'd': 'k'})\n"
     ]
    }
   ],
   "source": [
    "### PLAYGROUND\n",
    "# You can use this cell to test out your implementation. Everything in this cell will be ignoored during grading.\n",
    "\n",
    "print(mono_decrypt(cipher_1, mono_counts))"
   ]
  },
  {
   "cell_type": "code",
   "execution_count": 10,
   "id": "957e7d23-31c4-49f2-9e52-a112ae5919f0",
   "metadata": {
    "deletable": false,
    "editable": false,
    "nbgrader": {
     "cell_type": "code",
     "checksum": "8c7c0578d6377e6aea996bd980e3427c",
     "grade": true,
     "grade_id": "cell-f94991992ad6bb63",
     "locked": true,
     "points": 0,
     "schema_version": 3,
     "solution": false,
     "task": false
    }
   },
   "outputs": [],
   "source": [
    "# This test just checks the output format of your solution\n",
    "\n",
    "oft_result = mono_decrypt(cipher_1, mono_counts)\n",
    "\n",
    "# Check tuple\n",
    "assert type(oft_result) == tuple\n",
    "assert len(oft_result) == 2\n",
    "\n",
    "# Check plaintext\n",
    "assert type(oft_result[0]) == str\n",
    "\n",
    "# Check key\n",
    "for letter in cipher_1:\n",
    "    assert (letter in oft_result[1] or letter == ' ')"
   ]
  },
  {
   "cell_type": "code",
   "execution_count": 11,
   "id": "fdf54556",
   "metadata": {
    "deletable": false,
    "editable": false,
    "nbgrader": {
     "cell_type": "code",
     "checksum": "66eb1e7763e67d7107519852f170ee79",
     "grade": true,
     "grade_id": "mono_decrypt_tests_1",
     "locked": true,
     "points": 3,
     "schema_version": 3,
     "solution": false,
     "task": false
    }
   },
   "outputs": [],
   "source": [
    "# Even this cell seems empty, it contains automatic tests. Please do not remove this cell and just ignore it."
   ]
  },
  {
   "cell_type": "markdown",
   "id": "afe33f27-2aea-4448-b09b-360bba2b59f0",
   "metadata": {
    "deletable": false,
    "editable": false,
    "nbgrader": {
     "cell_type": "markdown",
     "checksum": "bd11296b6446fd43e0b1a612565a6289",
     "grade": false,
     "grade_id": "cell-70c7d774d2d397bb",
     "locked": true,
     "schema_version": 3,
     "solution": false,
     "task": false
    }
   },
   "source": [
    "## Task 3: Vigenère Cipher (8 Points)\n",
    "\n",
    "We saw during the last task that monoalphabetic substitution is also not yet a really secure cipher. Let's try another approach: polyalphabetic substitution ciphers! Here, we replace each letter in the plaintext with a different letter again but this time, this depends, e.g., on the position of the letter in the plaintext. Through this, we change the one-to-one substitution approach to a one-to-many substitution. \n",
    "\n",
    "You probably already guessed: in the next task, you are going to break an example of a polyalphabetic substitution cipher.\n",
    "\n",
    "The Vigenère cipher is an example of a polyalphabetic substitution cipher. Each letter in the plaintext will be substituted depending on the key letter it is paired with. For your implementation, interpret the letters 'a' to 'z' as the numbers 0 to 25, such that you can calculate in a finite group Z mod 26.\n",
    "\n",
    "For example, the letter `d` = 3 encrypted with the key `y` = 24 is equal to 3 + 24 = 27 = 1 mod 26 = `b`."
   ]
  },
  {
   "cell_type": "markdown",
   "id": "7bad36a2",
   "metadata": {
    "deletable": false,
    "editable": false,
    "nbgrader": {
     "cell_type": "markdown",
     "checksum": "084d36abeddc689373c3b115925db53c",
     "grade": false,
     "grade_id": "cell-892064b6670a18f5",
     "locked": true,
     "schema_version": 3,
     "solution": false,
     "task": false
    }
   },
   "source": [
    "### Task 3.1 (3 Points)\n",
    "\n",
    "Implement the function ```vigenere_decrypt(key, text)``` that decrypts a text with a given key according to the Vigenère cipher. First, you need to expand the key to the length of the text, such that you can pairwise subtract the cipher and key letters to obtain the decryption. Do **not** decrypt white spaces. Your function should return the decrypted text as a string.\n",
    "\n",
    "Hint: You can use the built-in functions ```ord()``` *and* ```chr()``` to convert a character to its ASCII code and an integer to its character representation, respectively.\n",
    "\n",
    "**Make sure that your function can decrypt arbitrary text. If you want to test your function, you can use [CyberChef](https://cyberchef.org/#recipe=Vigen%C3%A8re_Decode('')) to generate ciphertext-plaintext-pairs."
   ]
  },
  {
   "cell_type": "code",
   "execution_count": 37,
   "id": "0e363de6",
   "metadata": {
    "deletable": false,
    "nbgrader": {
     "cell_type": "code",
     "checksum": "de033542f6196536bd72bb408b08088a",
     "grade": false,
     "grade_id": "vigenere",
     "locked": false,
     "schema_version": 3,
     "solution": true
    }
   },
   "outputs": [],
   "source": [
    "def vigenere_decrypt(key: str, text: str) -> str:\n",
    "    # expand key\n",
    "    key = key.lower()\n",
    "    text = text.lower()\n",
    "    decrypted = ''\n",
    "    # remove whitespaces and remember their position\n",
    "    spaces = []\n",
    "    newtext = ''\n",
    "    for i in range(len(text)):\n",
    "        if text[i] == ' ':\n",
    "            spaces.append(i)\n",
    "        else:\n",
    "            newtext += text[i]\n",
    "    text = newtext\n",
    "    key = key * (len(text) // len(key)) + key[:len(text) % len(key)]\n",
    "\n",
    "    # ASCII A starts at 65 and Z is at 90\n",
    "    for (i, k) in zip(text,key):\n",
    "        decrypted += chr(((ord(i) - ord(k)) % 26) + 65)\n",
    "        # debug print\n",
    "        #print(f'{i} - {k} = {chr(((ord(i) - ord(k)) % 26) + 65)}')\n",
    "\n",
    "    # insert whitespaces\n",
    "    for i in spaces:\n",
    "        decrypted = decrypted[:i] + ' ' + decrypted[i:]\n",
    "    return decrypted\n",
    "\n",
    "            "
   ]
  },
  {
   "cell_type": "code",
   "execution_count": 38,
   "id": "77e72b0c-313b-4a89-b800-e7b226e3a4c0",
   "metadata": {},
   "outputs": [
    {
     "name": "stdout",
     "output_type": "stream",
     "text": [
      "ATTACKING TONIGHT\n",
      "ATTACKATDAWN\n"
     ]
    }
   ],
   "source": [
    "### PLAYGROUND\n",
    "# You can use this cell to test out your implementation. Everything in this cell will be ignoored during grading.\n",
    "plain = \"attacking tonight\"\n",
    "cipher = \"ovnlqbpvt hznzouz\"\n",
    "key = \"oculorhinolaringology\"\n",
    "print(vigenere_decrypt(key,cipher))\n",
    "print(vigenere_decrypt(\"lemon\", \"LXFOPVEFRNHR\"))"
   ]
  },
  {
   "cell_type": "code",
   "execution_count": 14,
   "id": "4e286e18",
   "metadata": {
    "deletable": false,
    "editable": false,
    "nbgrader": {
     "cell_type": "code",
     "checksum": "e328e73ef89b6846c13bdb3772eeaabf",
     "grade": true,
     "grade_id": "viginere_tests",
     "locked": true,
     "points": 3,
     "schema_version": 3,
     "solution": false,
     "task": false
    }
   },
   "outputs": [],
   "source": [
    "# Even this cell seems empty, it contains automatic tests. Please do not remove this cell and just ignore it."
   ]
  },
  {
   "cell_type": "markdown",
   "id": "0682453d",
   "metadata": {
    "deletable": false,
    "editable": false,
    "nbgrader": {
     "cell_type": "markdown",
     "checksum": "27dd6d0c617324b9ecb8071a20abb661",
     "grade": false,
     "grade_id": "cell-ea1b93e3470851b4",
     "locked": true,
     "schema_version": 3,
     "solution": false,
     "task": false
    }
   },
   "source": [
    "### Task 3.2 (2 Point)\n",
    "\n",
    "Implement the function ```recognizable(text, counts_english)```. \n",
    "\n",
    "It should recognize a potential plaintext as an English text if the below-given letter counts match the letter counts in the computed plaintext. \n",
    "\n",
    "Return ```True``` or ```False``` depending on whether the text was a recognizable text or not. You can use the function ```get_counts()``` of task 2.1 (with the new counts!)."
   ]
  },
  {
   "cell_type": "code",
   "execution_count": 25,
   "id": "673461d5",
   "metadata": {
    "deletable": false,
    "editable": false,
    "nbgrader": {
     "cell_type": "code",
     "checksum": "aa7a7f8b0aa6838594c4615ff50474c6",
     "grade": false,
     "grade_id": "cell-93ed9f4966c534bf",
     "locked": true,
     "schema_version": 3,
     "solution": false,
     "task": false
    }
   },
   "outputs": [],
   "source": [
    "vigenere_ciphertext = \"ty uxmxbx zmis qbj pnffl bb mulej lz bxm fkx beys xfyeizdb n tuxkn yeywb bj puna c bxm mfm kocjkx beche wfjy fp mtjy xrluocxb c xmipb csqi mfm jvyx\"\n",
    "vigenere_counts = {'a': 10, 'b': 0, 'c': 2, 'd': 4, 'e': 16, 'f': 2, 'g': 1, 'h': 10, 'i': 11, 'j': 0, 'k': 2, 'l': 1, 'm': 2, 'n': 6, 'o': 7, 'p': 5, 'q': 0, 'r': 5, 's': 16, 't': 6, 'u': 3, 'v': 0, 'w': 7, 'x': 0, 'y': 1, 'z': 0}"
   ]
  },
  {
   "cell_type": "code",
   "execution_count": 39,
   "id": "a4f5249e",
   "metadata": {
    "deletable": false,
    "nbgrader": {
     "cell_type": "code",
     "checksum": "b101bdf3f68d29dc74e0d5596ca5f1e5",
     "grade": false,
     "grade_id": "recognizable",
     "locked": false,
     "schema_version": 3,
     "solution": true
    }
   },
   "outputs": [],
   "source": [
    "def recognizable(text: str, counts_english: dict) -> bool:\n",
    "    # get counts of text\n",
    "    counts = get_counts(text)\n",
    "    \n",
    "    # check if the counts are the same\n",
    "    for i in counts:\n",
    "        if i in counts_english:\n",
    "            if counts[i] != counts_english[i]:\n",
    "                return False\n",
    "        else:\n",
    "            return False\n",
    "    return True"
   ]
  },
  {
   "cell_type": "code",
   "execution_count": 40,
   "id": "15680257-8958-4c59-b05a-53d60908252e",
   "metadata": {},
   "outputs": [
    {
     "name": "stdout",
     "output_type": "stream",
     "text": [
      "True\n",
      "False\n"
     ]
    }
   ],
   "source": [
    "### PLAYGROUND\n",
    "# You can use this cell to test out your implementation. Everything in this cell will be ignoored during grading.\n",
    "# Test for the recognizable function\n",
    "test_text = \"this is a test text to check if the function works correctly\"\n",
    "test_counts = get_counts(test_text)\n",
    "print(recognizable(test_text, test_counts))  # Expected output: True\n",
    "\n",
    "# Test with non-matching counts\n",
    "non_matching_counts = {'a': 1, 'b': 1, 'c': 1, 'd': 1, 'e': 1, 'f': 1, 'g': 1, 'h': 1, 'i': 1, 'j': 1, 'k': 1, 'l': 1, 'm': 1, 'n': 1, 'o': 1, 'p': 1, 'q': 1, 'r': 1, 's': 1, 't': 1, 'u': 1, 'v': 1, 'w': 1, 'x': 1, 'y': 1, 'z': 1}\n",
    "print(recognizable(test_text, non_matching_counts))  # Expected output: False"
   ]
  },
  {
   "cell_type": "code",
   "execution_count": 18,
   "id": "9b7fb853",
   "metadata": {
    "deletable": false,
    "editable": false,
    "nbgrader": {
     "cell_type": "code",
     "checksum": "5f2964a844ee685b194ac24e8a9a300e",
     "grade": true,
     "grade_id": "recognizable_tests",
     "locked": true,
     "points": 2,
     "schema_version": 3,
     "solution": false,
     "task": false
    }
   },
   "outputs": [],
   "source": [
    "# Even this cell seems empty, it contains automatic tests. Please do not remove this cell and just ignore it."
   ]
  },
  {
   "cell_type": "markdown",
   "id": "e8c612b8",
   "metadata": {
    "deletable": false,
    "editable": false,
    "nbgrader": {
     "cell_type": "markdown",
     "checksum": "43496757bb6d9aeb6eda9586256c5528",
     "grade": false,
     "grade_id": "cell-e02255d0cb6cfd6c",
     "locked": true,
     "schema_version": 3,
     "solution": false,
     "task": false
    }
   },
   "source": [
    "### Task 3.3 (3 Points)\n",
    "\n",
    "Implement the function ```brute_force_vigenere(text, counts_english, max_key_length)```. It should find the plaintext by trying every possible key up to a specified length. You can use the below function `get_all_keys` to iterate over all possible keys of a given length. The given counts help you recognize a decryption result as an English text. \n",
    "\n",
    "In addition, you have to retrieve the encryption key that was used to encrypt the plaintext. Hence, your function should return a tuple of the form ```(plaintext, encryption_key)```. The returned encryption key can either be a string or a tuple consisting of the individual chars of the key."
   ]
  },
  {
   "cell_type": "code",
   "execution_count": 19,
   "id": "0cb86d0b",
   "metadata": {
    "deletable": false,
    "editable": false,
    "nbgrader": {
     "cell_type": "code",
     "checksum": "ad61f6e6618a314900c5c404e208b914",
     "grade": false,
     "grade_id": "cell-02e369613f88ee7e",
     "locked": true,
     "schema_version": 3,
     "solution": false,
     "task": false
    }
   },
   "outputs": [],
   "source": [
    "import itertools\n",
    "def get_all_keys(key_length: int):\n",
    "    letters = [chr(ascii_index) for ascii_index in range(ord(\"a\"), ord(\"z\") + 1)]\n",
    "    return itertools.product(letters, repeat=key_length)"
   ]
  },
  {
   "cell_type": "code",
   "execution_count": 41,
   "id": "ee20afbf",
   "metadata": {
    "deletable": false,
    "nbgrader": {
     "cell_type": "code",
     "checksum": "5826d0326f2d430db0628ef9f54cc680",
     "grade": false,
     "grade_id": "bruteforce",
     "locked": false,
     "schema_version": 3,
     "solution": true
    }
   },
   "outputs": [],
   "source": [
    "def brute_force_vigenere(text: str, counts: dict, max_key_length: int) -> tuple:\n",
    "    # YOUR CODE HERE\n",
    "    for i in range(1, max_key_length + 1):\n",
    "        for key in get_all_keys(i):\n",
    "            key = ''.join(key)\n",
    "            decrypted = vigenere_decrypt(key, text)\n",
    "            if recognizable(decrypted, counts):\n",
    "                return decrypted, key\n",
    "    return '', ''"
   ]
  },
  {
   "cell_type": "code",
   "execution_count": 42,
   "id": "a8811481-a9e6-4c3b-829a-aef460ffbe15",
   "metadata": {},
   "outputs": [
    {
     "name": "stdout",
     "output_type": "stream",
     "text": [
      "('ATTACKATDAWN', 'lemon')\n"
     ]
    }
   ],
   "source": [
    "### PLAYGROUND\n",
    "# You can use this cell to test out your implementation. Everything in this cell will be ignoored during grading.\n",
    "\"\"\"\n",
    "cipher = \"RIJVS\"\n",
    "plain = \"HELLO\"\n",
    "key = \"KEY\"\n",
    "print(brute_force_vigenere(cipher, get_counts(plain), 3))\n",
    "print(vigenere_decrypt(\"eys\", cipher))\n",
    "\"\"\"\n",
    "plain = \"ATTACKATDAWN\"\n",
    "cipher = \"LXFOPVEFRNHR\"\n",
    "key = \"LEMON\"\n",
    "#print(recognizable(\"ATAACKAADAWN\", get_counts(plain)))\n",
    "print(brute_force_vigenere(cipher, get_counts(plain), 6))\n",
    "#print(vigenere_decrypt(\"lemon\", cipher))\n",
    "#print(vigenere_decrypt(\"fygih\", cipher))\n",
    "\n"
   ]
  },
  {
   "cell_type": "code",
   "execution_count": 44,
   "id": "64fbe318-d089-4d75-b87d-a490318d1f5a",
   "metadata": {
    "deletable": false,
    "editable": false,
    "nbgrader": {
     "cell_type": "code",
     "checksum": "382b2e64ad61b1252f03ae00457927c0",
     "grade": true,
     "grade_id": "cell-4b6d8849b529af9f",
     "locked": true,
     "points": 0,
     "schema_version": 3,
     "solution": false,
     "task": false
    }
   },
   "outputs": [
    {
     "name": "stdout",
     "output_type": "stream",
     "text": [
      "('WE PASSED UPON THE STAIR WE SPOKE OF WAS AND WHEN ALTHOUGH I WASNT THERE HE SAID I WAS HIS FRIEND WHICH CAME AS SOME SURPRISE I SPOKE INTO HIS EYES', 'xuf')\n"
     ]
    }
   ],
   "source": [
    "# This test just checks the output format of your solution\n",
    "\n",
    "oft_result = brute_force_vigenere(vigenere_ciphertext, vigenere_counts, 5)\n",
    "print(oft_result)\n",
    "\n",
    "# Check tuple\n",
    "assert type(oft_result) == tuple\n",
    "assert len(oft_result) == 2\n",
    "\n",
    "# Check plaintext\n",
    "assert type(oft_result[0]) == str\n",
    "\n",
    "# Check key\n",
    "if type(oft_result[1]) == tuple:\n",
    "    for c in oft_result[1]:\n",
    "        assert type(c) == str\n",
    "        assert len(c) == 1\n",
    "else:\n",
    "    assert type(oft_result[1]) == str"
   ]
  },
  {
   "cell_type": "code",
   "execution_count": null,
   "id": "7ea917ee",
   "metadata": {
    "deletable": false,
    "editable": false,
    "nbgrader": {
     "cell_type": "code",
     "checksum": "b2dfcb1c3386fa16a90d0a4a3feb5f76",
     "grade": true,
     "grade_id": "bruteforce_tests",
     "locked": true,
     "points": 2,
     "schema_version": 3,
     "solution": false
    }
   },
   "outputs": [],
   "source": [
    "# Even this cell seems empty, it contains automatic tests. Please do not remove this cell and just ignore it."
   ]
  },
  {
   "cell_type": "code",
   "execution_count": null,
   "id": "e3c76f09",
   "metadata": {
    "deletable": false,
    "editable": false,
    "nbgrader": {
     "cell_type": "code",
     "checksum": "a83eb66404a41f87ad0a922aab61be74",
     "grade": true,
     "grade_id": "bruteforce_tests_1",
     "locked": true,
     "points": 1,
     "schema_version": 3,
     "solution": false,
     "task": false
    }
   },
   "outputs": [],
   "source": [
    "# Even this cell seems empty, it contains automatic tests. Please do not remove this cell and just ignore it."
   ]
  },
  {
   "cell_type": "markdown",
   "id": "735f51d1-80c1-4551-8c48-25a749afbfd5",
   "metadata": {
    "deletable": false,
    "editable": false,
    "nbgrader": {
     "cell_type": "markdown",
     "checksum": "fc471e1025ba87e8b7de9809ca392961",
     "grade": false,
     "grade_id": "cell-f44ff7fb6cc4833e",
     "locked": true,
     "schema_version": 3,
     "solution": false,
     "task": false
    }
   },
   "source": [
    "## 5. Example Exam Questions (0.5 points)\n",
    "\n",
    "This task contains questions you could find during an exam. We will not grade the correctness of this task, but we will discuss it during the exercise session. You will be awarded 0.5 points, if you work on this task and every subtask has some written answer. Please be aware that also task 1 can occur during an exam, but task 1 will be graded for correctness."
   ]
  },
  {
   "cell_type": "markdown",
   "id": "f9f440ed-c43e-4bd7-adfa-1b649f1df381",
   "metadata": {
    "deletable": false,
    "editable": false,
    "nbgrader": {
     "cell_type": "markdown",
     "checksum": "f6c0a93809dce036b9d2d258fe79ffc7",
     "grade": false,
     "grade_id": "cell-4c12f74d5e9190a3",
     "locked": true,
     "schema_version": 3,
     "solution": false,
     "task": false
    }
   },
   "source": [
    "### 5.1\n",
    "\n",
    "Briefly **describe or define** what a **chosen-ciphertext attack** on an encryption scheme is and **list** what the attacker knows and can obtain."
   ]
  },
  {
   "cell_type": "markdown",
   "id": "632da390-0bbc-433f-8fcf-eb0b3d5471af",
   "metadata": {
    "deletable": false,
    "nbgrader": {
     "cell_type": "markdown",
     "checksum": "c722e951e5faf91b9372338e633eaa4b",
     "grade": true,
     "grade_id": "exam-example",
     "locked": false,
     "points": 0.5,
     "schema_version": 3,
     "solution": true,
     "task": false
    }
   },
   "source": [
    "A chosen-ciphertext attack (CCA) is an attack model for cryptanalysis in which the attacker can choose arbitrary ciphertexts to be decrypted and has access to the corresponding plaintexts. The goal of the attacker is to gather information that reduces the security of the encryption scheme.\n",
    "\n",
    "In a chosen-ciphertext attack, the attacker knows:\n",
    "- The encryption algorithm.\n",
    "- The ciphertexts they have chosen.\n",
    "- The corresponding plaintexts obtained from the decryption of the chosen ciphertexts.\n",
    "\n",
    "The attacker can obtain:\n",
    "- Information about the secret key.\n",
    "- Insights into the structure and weaknesses of the encryption algorithm.\n",
    "- Potentially the ability to decrypt other ciphertexts without knowing the secret key."
   ]
  },
  {
   "cell_type": "markdown",
   "id": "34e1e5df-b5b5-47d7-bbc7-bf4009bfad28",
   "metadata": {
    "deletable": false,
    "editable": false,
    "nbgrader": {
     "cell_type": "markdown",
     "checksum": "d4f8c028c30215a1229684596d1d6323",
     "grade": false,
     "grade_id": "cell-cb7291c15853c4b8",
     "locked": true,
     "schema_version": 3,
     "solution": false,
     "task": false
    }
   },
   "source": [
    "### 5.2\n",
    "\n",
    "**Explain** the difference between a **block cipher** and a **stream cipher**."
   ]
  },
  {
   "cell_type": "markdown",
   "id": "01c3c6ff-60cc-4d5d-92e5-595e5a854c0b",
   "metadata": {
    "deletable": false,
    "nbgrader": {
     "cell_type": "markdown",
     "checksum": "4d983a8a2cc215f065a507e2948c20be",
     "grade": true,
     "grade_id": "cell-dad88460a727be60",
     "locked": false,
     "points": 0,
     "schema_version": 3,
     "solution": true,
     "task": false
    }
   },
   "source": [
    "One of the core differences of block & stream ciphers is that stream ciphers can be used to encrypt **arbitary length messages** while _block ciphers_ can (per se) only deal with **messages that _exactly_ match the required block length** of the cipher\\\n",
    "-> this means that _block ciphers_ **require** the use of a _mode of encryption_, while _stream ciphers_ **do not!**"
   ]
  },
  {
   "cell_type": "markdown",
   "id": "dfe9f6f7-7699-43a5-b435-827b56e5a539",
   "metadata": {
    "deletable": false,
    "editable": false,
    "nbgrader": {
     "cell_type": "markdown",
     "checksum": "adaf9878f9c833c4f64887481d8ba008",
     "grade": false,
     "grade_id": "cell-6de0505f5c6aaad0",
     "locked": true,
     "schema_version": 3,
     "solution": false,
     "task": false
    }
   },
   "source": [
    "### 5.3\n",
    "\n",
    "Briefly **explain two different motives** of cyber attackers."
   ]
  },
  {
   "cell_type": "markdown",
   "id": "d9f2a4f4-cf07-4910-a0b8-d1f1f54b043f",
   "metadata": {
    "deletable": false,
    "nbgrader": {
     "cell_type": "markdown",
     "checksum": "b307156f36bb55043f3754a7aaf947cf",
     "grade": true,
     "grade_id": "cell-39cb90b79c7609ae",
     "locked": false,
     "points": 0,
     "schema_version": 3,
     "solution": true,
     "task": false
    }
   },
   "source": [
    "Two possible motives for attackers are:\n",
    "1. **Monetary gain**: The attacker/_hacker-for-hire_ wants to make money from the attack, e.g. by stealing confidential information like credit card info to then make fraudulent transactions with them\n",
    "2. **Pentesting**: _Not all attacks are bad_; some companies hire _pentesters_ that are _asked_ (& explicitly _allowed_) to attack a companies IT system to help reveal potential vulnerabilites _before any bad actor_ can exploit them"
   ]
  },
  {
   "attachments": {},
   "cell_type": "markdown",
   "id": "89daf1e5-2730-4b0c-85c9-5ac699414131",
   "metadata": {
    "deletable": false,
    "editable": false,
    "nbgrader": {
     "cell_type": "markdown",
     "checksum": "ee32e9170433f65add112ca56599fd07",
     "grade": false,
     "grade_id": "cell-ff50e570f40ade4a",
     "locked": true,
     "schema_version": 3,
     "solution": false,
     "task": false
    }
   },
   "source": [
    "## 4. Feedback (0.5 points)\n",
    "\n",
    "You made it through. Since we want to know how it went and how we might improve the exercises, we include the following task. Here, you can write constructive feedback! You even get 0.5 points for it if you write anything. But don't worry, we do not grade the content itself!"
   ]
  },
  {
   "cell_type": "markdown",
   "id": "c43022fd-ddfa-45d8-8d5b-7cf5b1f78985",
   "metadata": {
    "deletable": false,
    "nbgrader": {
     "cell_type": "markdown",
     "checksum": "6d8e1faf056d675677053e3bafbff170",
     "grade": true,
     "grade_id": "feedback",
     "locked": false,
     "points": 0.5,
     "schema_version": 3,
     "solution": true,
     "task": false
    }
   },
   "source": [
    "In our view, the exercise gave a very good recap of the first two chapters & touched upon every bigger aspect within those chapters.\n",
    "\n",
    "However, in the coding exercises of task 2 & 3, it was a tad annoying that we (in task 2.2) were tasked with implementing the key return so that _only those_ entries that _were actually present_, leading to us initially implementing the `get_count` method _like this as well_, where we only returned letters _actually present_ in the text in the dictionary. This then lead to problems in task 3.2 when iterating over the dictionaries (as the dictionary _you provided_ also lists letters _not present_ in the text with a count of 0) & a bit of confusion in our debugging to fix this issue.\\\n",
    "To fix this, a hint in task 2.1 like \"Implement this function so that even non-present letters appear in the returned dictionary (with a count of 0)\" would work & have avoided the complications mentioned above."
   ]
  }
 ],
 "metadata": {
  "kernelspec": {
   "display_name": "Python 3",
   "language": "python",
   "name": "python3"
  },
  "language_info": {
   "codemirror_mode": {
    "name": "ipython",
    "version": 3
   },
   "file_extension": ".py",
   "mimetype": "text/x-python",
   "name": "python",
   "nbconvert_exporter": "python",
   "pygments_lexer": "ipython3",
   "version": "3.10.0"
  }
 },
 "nbformat": 4,
 "nbformat_minor": 5
}
