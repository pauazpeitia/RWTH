{
 "cells": [
  {
   "attachments": {},
   "cell_type": "markdown",
   "id": "91447569-2d0f-4e82-bd9b-89fc3876a4df",
   "metadata": {
    "deletable": false,
    "editable": false,
    "nbgrader": {
     "cell_type": "markdown",
     "checksum": "ed01a8298cf1fc04dd15dd3860d07826",
     "grade": false,
     "grade_id": "cell-82941c4f817f04ed",
     "locked": true,
     "schema_version": 3,
     "solution": false,
     "task": false
    }
   },
   "source": [
    "# IT Security - Sheet 5 \"Network Security\"\n",
    "\n",
    "**Total achievable points: 20**\n",
    "\n",
    "**Released: 12.12.2024**\n",
    "\n",
    "**Submission Deadline: 09.01.2025**"
   ]
  },
  {
   "cell_type": "markdown",
   "id": "4eaf12e4-0e6a-4c98-a617-bbdd66753294",
   "metadata": {},
   "source": [
    "---\n",
    "Group: 128\n",
    "\n",
    "Names and matriculation numbers of **ALL** team members: Samuel Rode (445160), Nils Maasch (445796), Pau Azpeita Bergos (443428), Gereon Geuchen (445328), Ben-Jay Huckebrink (445219)\n",
    "\n",
    "---"
   ]
  },
  {
   "cell_type": "markdown",
   "id": "c547e317-a013-4843-929f-1779e2b86c3e",
   "metadata": {
    "deletable": false,
    "editable": false,
    "nbgrader": {
     "cell_type": "markdown",
     "checksum": "835c8ff6aa59294eb76d5c1c7949c535",
     "grade": false,
     "grade_id": "cell-891185a23e3ac984",
     "locked": true,
     "schema_version": 3,
     "solution": false,
     "task": false
    }
   },
   "source": [
    "**Important Information**\n",
    "\n",
    "**Please note: This assignment is due after the Christmas holidays.**\n",
    "\n",
    "The assignments have to be submitted by groups of 5 students. Even if you are registered in RWTHmoodle to a submission group, **please include the group number as well as the name and matriculation number of every group member in this notebook**. In case you are not part of a submission group and want to hand in assignments, please contact `ba-itsec@itsec.rwth-aachen.de`. We will then assign you to a submission group.\n",
    "\n",
    "Enter your solutions for the tasks in the respective cells of this notebook. These cells are either marked by \"YOUR ANSWER HERE\" or `#YOUR CODE HERE`. In code cells, you have to remove `raise NotImplementedError()`. Please do not add any new cells or remove existing ones, especially do not copy cells. Cells marked with `###PLAYGROUND` can be used to test your implementation and generate output (see example for the first tasks). Please do not add any other output or tests in the cell of the task, just implement the function with the header provided. If you want to test your implementation, use the `###PLAYGROUND` cells. They will be ignored during grading. **Do not change any other cells or add new ones.**\n",
    "\n",
    "Please **do not import any further Python packages** except the default Python ones and the ones that are explicitly given by us.\n",
    "\n",
    "**In this exercise an additional packages is needed.** This package is called [scapy](https://scapy.readthedocs.io/en/latest/) and is needed to investigate IPSec and TLS packets. It can be installed using `pip install scapy`. Please make sure to install the packages in the same environment as your jupyter notebook (`ipykernel`).\n",
    "\n",
    "Bundled with this exercise, there are two different `.pcap` files. These contain a IPSec transmission and a TLS transmission respectively. Place them in the same folder as this notebook. However, you only have to submit the notebook in moodle.\n",
    "\n",
    "*Hint: Reading documentation of modules is fun, fun, fun.*\n",
    "\n",
    "**To access packets from a .pcap file with scapy you can use the function `rdpcap('<packet_file.pcap>')`, which returns a packet list.**\n",
    "\n",
    "*Hint: If you want to take a look at the packets interactively, you can try out [Wireshark](https://www.wireshark.org/)!*"
   ]
  },
  {
   "cell_type": "markdown",
   "id": "af61030b-e89c-4a1f-ab3e-952ae837c9e7",
   "metadata": {
    "deletable": false,
    "editable": false,
    "nbgrader": {
     "cell_type": "markdown",
     "checksum": "d720966b8bd103daefc7fc950ee6a2a7",
     "grade": false,
     "grade_id": "cell-e83647ff70d0208b",
     "locked": true,
     "schema_version": 3,
     "solution": false,
     "task": false
    }
   },
   "source": [
    "## Content of this Assignment\n",
    "\n",
    "You now have a pretty good understanding of asymmetric cryptography and key establishment. We will now have a look at practical implementations and uses of these. For this purpose we will have a look at two different protocols resp. protocol families commonly used to protect data transmissions. The protocols or protocol families are named IPSec and TLS. About both you should know something from the lecture. If you can't recall these, have a look at the slides of Chapter 6 again."
   ]
  },
  {
   "attachments": {},
   "cell_type": "markdown",
   "id": "a4c45822-bd3b-4f3a-ad2b-3c3385df2b09",
   "metadata": {
    "deletable": false,
    "editable": false,
    "nbgrader": {
     "cell_type": "markdown",
     "checksum": "8fffb6c53895fd8e00d41173acb3aeae",
     "grade": false,
     "grade_id": "cell-ed1b5cd2b87740c2",
     "locked": true,
     "schema_version": 3,
     "solution": false,
     "task": false
    }
   },
   "source": [
    "## 1. IPSec Analysis (10.5 points)\n",
    "\n",
    "For the first task of the IPSec adventures, you are already given a function that makes use of `rdpcap` to read the packets from a file specified with `path_name`. \n",
    "\n",
    "The function `read_pcap(path_name: str) -> list[Packet]` takes a string as the path to a `.pcap` file and returns a list of all packets that are contained in this recording of network traffic. Here, we already loaded the file `ipsec.pcap` and have a list of packets named `packets_ips`. You can use it in the subsequent tasks."
   ]
  },
  {
   "cell_type": "code",
   "execution_count": 3,
   "id": "172f102b-8a6b-4e3a-ac6e-35479bf08c6e",
   "metadata": {
    "deletable": false,
    "editable": false,
    "nbgrader": {
     "cell_type": "code",
     "checksum": "e384e8c95f541b2231d29f3c8adf219f",
     "grade": false,
     "grade_id": "cell-138e754991a765f5",
     "locked": true,
     "schema_version": 3,
     "solution": false,
     "task": false
    }
   },
   "outputs": [],
   "source": [
    "### You don't have to implement something here!\n",
    "\n",
    "from scapy.all import *\n",
    "load_layer(\"tls\")\n",
    "\n",
    "def read_pcap(path_name: str) -> list[Packet]:\n",
    "    return rdpcap(path_name)\n",
    "\n",
    "packets_ips = read_pcap(\"./ipsec.pcap\")\n",
    "packets_tls = read_pcap(\"./tls.pcap\")"
   ]
  },
  {
   "attachments": {},
   "cell_type": "markdown",
   "id": "80c49794-1a4a-4617-a656-03145278f436",
   "metadata": {
    "deletable": false,
    "editable": false,
    "nbgrader": {
     "cell_type": "markdown",
     "checksum": "844504a92324fcf81c39576274e583b8",
     "grade": false,
     "grade_id": "cell-aa67e32a27853a64",
     "locked": true,
     "schema_version": 3,
     "solution": false,
     "task": false
    }
   },
   "source": [
    "### Task 1.1 (1 point)\n",
    "\n",
    "Write a function `test_AH(p: Packet) -> bool`, that tests, whether a packet is authenticated through the authentication header (AH) protocol.\n",
    "\n",
    "The argument of the function is:\n",
    "- `p` of type `Packet`from the `scapy` module.\n",
    "\n",
    "The function should return a `bool` that is `True` if the packet is authenticated through an authentication header and `False` otherwise."
   ]
  },
  {
   "cell_type": "code",
   "execution_count": 4,
   "id": "3905f322-2d58-4dd8-aa62-6aaa72b88a08",
   "metadata": {
    "deletable": false,
    "nbgrader": {
     "cell_type": "code",
     "checksum": "d69749ec8f411098d7970ef9414a807c",
     "grade": false,
     "grade_id": "cell-46a41ca9fdf3c629",
     "locked": false,
     "schema_version": 3,
     "solution": true,
     "task": false
    }
   },
   "outputs": [],
   "source": [
    "def test_AH(p: Packet) -> bool:\n",
    "    # test whether a packet is using AH\n",
    "    if not p.haslayer(IP):\n",
    "        return False\n",
    "    return p.haslayer(AH) "
   ]
  },
  {
   "cell_type": "code",
   "execution_count": 20,
   "id": "c2f1a7f4-362c-4793-b404-4d4108083766",
   "metadata": {
    "deletable": false,
    "editable": true,
    "nbgrader": {
     "cell_type": "code",
     "checksum": "d2a354c398fe1475e89964b0c8b57e82",
     "grade": false,
     "grade_id": "cell-1dd29275ec160333",
     "locked": true,
     "schema_version": 3,
     "solution": false,
     "task": false
    }
   },
   "outputs": [
    {
     "name": "stdout",
     "output_type": "stream",
     "text": [
      "0: True\n",
      "1: True\n",
      "2: True\n",
      "3: True\n",
      "4: True\n",
      "5: True\n",
      "6: True\n",
      "7: True\n",
      "8: True\n",
      "9: True\n",
      "10: True\n",
      "11: True\n",
      "12: True\n",
      "13: True\n",
      "14: True\n",
      "15: True\n",
      "16: True\n",
      "17: True\n",
      "18: True\n",
      "19: True\n",
      "20: True\n",
      "21: True\n",
      "22: True\n",
      "23: True\n",
      "24: True\n",
      "25: True\n",
      "26: True\n",
      "27: True\n",
      "28: True\n",
      "29: True\n"
     ]
    }
   ],
   "source": [
    "### PLAYGROUND\n",
    "# You can use this cell to test out your implementation. Everything in this cell will be ignored during grading.\n",
    "\n",
    "# Output only for the first 10 packets.\n",
    "for i, packet in enumerate(packets_ips):\n",
    "    print(f'{i}: {test_AH(packet)}')"
   ]
  },
  {
   "cell_type": "code",
   "execution_count": 21,
   "id": "0265e488-37ad-4586-92b8-2b15b9ecc2d8",
   "metadata": {
    "deletable": false,
    "editable": false,
    "nbgrader": {
     "cell_type": "code",
     "checksum": "72f227d8de36d7d1e6c239632e9510c4",
     "grade": true,
     "grade_id": "cell-7412c433240925fb",
     "locked": true,
     "points": 0,
     "schema_version": 3,
     "solution": false,
     "task": false
    }
   },
   "outputs": [],
   "source": [
    "# This test just checks the output of your solution\n",
    "\n",
    "for packet in packets_ips:\n",
    "    assert type(test_AH(packet)) == bool"
   ]
  },
  {
   "cell_type": "code",
   "execution_count": null,
   "id": "98aab149-8123-4c0d-8144-0c659ca09ee4",
   "metadata": {
    "deletable": false,
    "editable": false,
    "nbgrader": {
     "cell_type": "code",
     "checksum": "0c68385243b9ee95d49332b68f450888",
     "grade": true,
     "grade_id": "cell-0b8398ee7680f4c7",
     "locked": true,
     "points": 1,
     "schema_version": 3,
     "solution": false,
     "task": false
    }
   },
   "outputs": [],
   "source": [
    "# Even this cell seems empty, it contains automatic tests. Please do not remove this cell and just ignore it."
   ]
  },
  {
   "attachments": {},
   "cell_type": "markdown",
   "id": "0b7e022a-82ff-4083-8e54-ca4b88d0cb3a",
   "metadata": {
    "deletable": false,
    "editable": false,
    "nbgrader": {
     "cell_type": "markdown",
     "checksum": "28bfc99f208e70850091c9bd38a6814c",
     "grade": false,
     "grade_id": "cell-c7e37d6e60c8e1c5",
     "locked": true,
     "schema_version": 3,
     "solution": false,
     "task": false
    }
   },
   "source": [
    "### Task 1.2 (1.5 points)\n",
    "\n",
    "Now, we know which packets use the AH protocol. However, we also want to find out if it is in tunnel mode. \n",
    "Implement the function `test_AH_tunnel(p: Packet) -> bool`.\n",
    "This function gets the argument:\n",
    "- `p: Packet`: the packet to be investigated\n",
    "\n",
    "The function should return a `bool` that represents wheather the packet `p` uses AH in tunnel mode. It should return `True` if it is the case and `False` otherwise.\n",
    "\n",
    "*Hint: Have a look at the **next header** field. [There](https://en.wikipedia.org/wiki/List_of_IP_protocol_numbers) is also a handy list available. Have a look in there and look out for **IP-in-IP**.*"
   ]
  },
  {
   "cell_type": "code",
   "execution_count": 22,
   "id": "f711763f-c303-424d-a5a8-73fa3f484bb8",
   "metadata": {
    "deletable": false,
    "nbgrader": {
     "cell_type": "code",
     "checksum": "452aa45bcfd8d0dd3df21acc1f794589",
     "grade": false,
     "grade_id": "cell-e7acd6d6e85d9e65",
     "locked": false,
     "schema_version": 3,
     "solution": true,
     "task": false
    }
   },
   "outputs": [],
   "source": [
    "def test_AH_tunnel(p: Packet) -> bool:\n",
    "    # test whether a packet is using AH tunnel using the IP-in-IP field\n",
    "    if not p.haslayer(AH) or not p.haslayer(IP):\n",
    "        return False\n",
    "    # if proto is 4, then the outer IP packet contains another IP-Packet inside.\n",
    "    return p[AH].nh == 4 \n",
    "    \n"
   ]
  },
  {
   "cell_type": "code",
   "execution_count": 23,
   "id": "ffa80d17-0618-45c4-915b-0991628a6224",
   "metadata": {
    "deletable": false,
    "editable": true,
    "nbgrader": {
     "cell_type": "code",
     "checksum": "306a6987ef947c6a33b3660e636917c7",
     "grade": false,
     "grade_id": "cell-9668f4161fb93fd5",
     "locked": true,
     "schema_version": 3,
     "solution": false,
     "task": false
    }
   },
   "outputs": [
    {
     "name": "stdout",
     "output_type": "stream",
     "text": [
      "0: False\n",
      "1: False\n",
      "2: False\n",
      "3: False\n",
      "4: False\n",
      "5: False\n",
      "6: False\n",
      "7: False\n",
      "8: False\n",
      "9: False\n",
      "10: True\n",
      "11: True\n",
      "12: True\n",
      "13: True\n",
      "14: True\n",
      "15: True\n",
      "16: True\n",
      "17: True\n",
      "18: True\n",
      "19: True\n",
      "20: False\n",
      "21: False\n",
      "22: False\n",
      "23: False\n",
      "24: False\n",
      "25: False\n",
      "26: False\n",
      "27: False\n",
      "28: False\n",
      "29: False\n"
     ]
    }
   ],
   "source": [
    "### PLAYGROUND\n",
    "# You can use this cell to test out your implementation. Everything in this cell will be ignored during grading.\n",
    "\n",
    "# Output only for the first 10 packets.\n",
    "for i, packet in enumerate(packets_ips):\n",
    "    print(f'{i}: {test_AH_tunnel(packet)}')"
   ]
  },
  {
   "cell_type": "code",
   "execution_count": 24,
   "id": "a5e7f133-2554-4fa3-b1a5-e90231079d67",
   "metadata": {
    "deletable": false,
    "editable": false,
    "nbgrader": {
     "cell_type": "code",
     "checksum": "71e362c1caf1415cc295d83664001d29",
     "grade": true,
     "grade_id": "cell-828be855f68b3cd5",
     "locked": true,
     "points": 0,
     "schema_version": 3,
     "solution": false,
     "task": false
    }
   },
   "outputs": [],
   "source": [
    "# This test just checks the output of your solution\n",
    "\n",
    "for packet in packets_ips:\n",
    "    assert type(test_AH_tunnel(packet)) == bool"
   ]
  },
  {
   "cell_type": "code",
   "execution_count": null,
   "id": "04ec693a-dc62-4e9a-8170-6c6c9149478d",
   "metadata": {
    "deletable": false,
    "editable": false,
    "nbgrader": {
     "cell_type": "code",
     "checksum": "f8ef58374a0dce0b9a4136b0f42dfc65",
     "grade": true,
     "grade_id": "cell-5bb8eeb316b36a8f",
     "locked": true,
     "points": 1.5,
     "schema_version": 3,
     "solution": false,
     "task": false
    }
   },
   "outputs": [],
   "source": [
    "# Even this cell seems empty, it contains automatic tests. Please do not remove this cell and just ignore it."
   ]
  },
  {
   "attachments": {},
   "cell_type": "markdown",
   "id": "afe5e76b-abae-4f1d-9475-0374d2d6dbb5",
   "metadata": {
    "deletable": false,
    "editable": false,
    "nbgrader": {
     "cell_type": "markdown",
     "checksum": "4a65e10cba8d705b9eb769d81468fb4f",
     "grade": false,
     "grade_id": "cell-dded5af5b8ebd482",
     "locked": true,
     "schema_version": 3,
     "solution": false,
     "task": false
    }
   },
   "source": [
    "### Task 1.3 (1.5 points)\n",
    "\n",
    "Now, we also want to check if transport mode is used.\n",
    "Implement the function `test_AH_transport(p: Packet) -> bool`. Again the arguments of the function are:\n",
    "- `p: Packet`: the packet to be investigated\n",
    "\n",
    "The function should return a `bool` that is `True` if AH in transport mode is used and `False` otherwise.\n",
    "\n",
    "*Hint: Again, have a look at the **next header** field.*"
   ]
  },
  {
   "cell_type": "code",
   "execution_count": 25,
   "id": "1137312e-0f98-4eaf-9c7f-fec916085ff0",
   "metadata": {
    "deletable": false,
    "nbgrader": {
     "cell_type": "code",
     "checksum": "245540795b3a5b155e1a280e9a79ec16",
     "grade": false,
     "grade_id": "cell-84caa796dccaca95",
     "locked": false,
     "schema_version": 3,
     "solution": true,
     "task": false
    }
   },
   "outputs": [],
   "source": [
    "def test_AH_transport(p: Packet) -> bool:\n",
    "    if not p.haslayer(AH) or not p.haslayer(IP):\n",
    "        return False\n",
    "    # opposite... no IP-in-IP encapsulation and no second IP packet\n",
    "    return p[AH].nh != 4 #and not p.haslayer(IP2)"
   ]
  },
  {
   "cell_type": "code",
   "execution_count": 26,
   "id": "2499b6e2-f4e6-47c3-aeb8-6d61c935ebaf",
   "metadata": {
    "deletable": false,
    "editable": true,
    "nbgrader": {
     "cell_type": "code",
     "checksum": "8d5e7b5b69cb1476b40afa3965fd80ef",
     "grade": false,
     "grade_id": "cell-0d487206d8423bd7",
     "locked": true,
     "schema_version": 3,
     "solution": false,
     "task": false
    }
   },
   "outputs": [
    {
     "name": "stdout",
     "output_type": "stream",
     "text": [
      "0: True\n",
      "1: True\n",
      "2: True\n",
      "3: True\n",
      "4: True\n",
      "5: True\n",
      "6: True\n",
      "7: True\n",
      "8: True\n",
      "9: True\n",
      "10: False\n",
      "11: False\n",
      "12: False\n",
      "13: False\n",
      "14: False\n",
      "15: False\n",
      "16: False\n",
      "17: False\n",
      "18: False\n",
      "19: False\n",
      "20: True\n",
      "21: True\n",
      "22: True\n",
      "23: True\n",
      "24: True\n",
      "25: True\n",
      "26: True\n",
      "27: True\n",
      "28: True\n",
      "29: True\n"
     ]
    }
   ],
   "source": [
    "### PLAYGROUND\n",
    "# You can use this cell to test out your implementation. Everything in this cell will be ignored during grading.\n",
    "\n",
    "# Output only for the first 10 packets.\n",
    "for i, packet in enumerate(packets_ips):\n",
    "    print(f'{i}: {test_AH_transport(packet)}')"
   ]
  },
  {
   "cell_type": "code",
   "execution_count": 27,
   "id": "b1792c6b-3a2f-44d0-8a2c-f3aa192b0631",
   "metadata": {
    "deletable": false,
    "editable": false,
    "nbgrader": {
     "cell_type": "code",
     "checksum": "f6639299c2b518feccd085902e8d2d37",
     "grade": true,
     "grade_id": "cell-e0a66adeece118c3",
     "locked": true,
     "points": 0,
     "schema_version": 3,
     "solution": false,
     "task": false
    }
   },
   "outputs": [],
   "source": [
    "# This test just checks the output of your solution\n",
    "\n",
    "for packet in packets_ips:\n",
    "    assert type(test_AH_transport(packet)) == bool"
   ]
  },
  {
   "cell_type": "code",
   "execution_count": null,
   "id": "58818614-4c64-467f-92ba-c2f6ebdf1e67",
   "metadata": {
    "deletable": false,
    "editable": false,
    "nbgrader": {
     "cell_type": "code",
     "checksum": "95b32bf359716e0d29bb20ffb6d31b55",
     "grade": true,
     "grade_id": "cell-1c744a22ec5177e1",
     "locked": true,
     "points": 1.5,
     "schema_version": 3,
     "solution": false,
     "task": false
    }
   },
   "outputs": [],
   "source": [
    "# Even this cell seems empty, it contains automatic tests. Please do not remove this cell and just ignore it."
   ]
  },
  {
   "attachments": {},
   "cell_type": "markdown",
   "id": "438872ff-6c3b-408c-be0b-a7eb801aa294",
   "metadata": {
    "deletable": false,
    "editable": false,
    "nbgrader": {
     "cell_type": "markdown",
     "checksum": "48eecb50ffb80158d0ada31c7ad13208",
     "grade": false,
     "grade_id": "cell-834935780752a54b",
     "locked": true,
     "schema_version": 3,
     "solution": false,
     "task": false
    }
   },
   "source": [
    "### Task 1.4 (2 points)\n",
    "\n",
    "Apart from the above tasks where IPSec is used to protect the integrity of the packets, there is also the option to use encryption using the Encapsulating Security Payload (ESP) protocol. In the following we want to determine of ESP was used or not.\n",
    "\n",
    "Write a function `test_ESP(p: Packet) -> bool`. Again, the arguments to this function are:\n",
    "- `p: Packet`: the packet to be investigated\n",
    "\n",
    "The function should return a `bool` that is `True` if the packet `p` is protected with the encapsulation security protocol (ESP) and `False` otherwise. Note, that the packet may also use the AH protocol."
   ]
  },
  {
   "cell_type": "code",
   "execution_count": 28,
   "id": "54d94ef2-85a3-4baf-b0a0-8766ad436f2e",
   "metadata": {
    "deletable": false,
    "nbgrader": {
     "cell_type": "code",
     "checksum": "d42f5389045e633b48c1632903a54392",
     "grade": false,
     "grade_id": "cell-c7113f5653ce8ac6",
     "locked": false,
     "schema_version": 3,
     "solution": true,
     "task": false
    }
   },
   "outputs": [],
   "source": [
    "def test_ESP(packet) -> bool:\n",
    "   if not packet.haslayer(IP):\n",
    "       return False\n",
    "\n",
    "   # Yes, ESP is in the innermost `Raw` packet and not an extra\n",
    "   # layer by itself, so `ESP in packet` does _not work_\n",
    "   # (even though it really should...)\n",
    "   return packet[IP].proto == 50 or packet[AH].nh == 50"
   ]
  },
  {
   "cell_type": "code",
   "execution_count": 29,
   "id": "dcea3346-2d34-4c50-9ef2-5829afe19d12",
   "metadata": {
    "deletable": false,
    "editable": true,
    "nbgrader": {
     "cell_type": "code",
     "checksum": "47cfe639adf129c81833b9af3caa9df7",
     "grade": false,
     "grade_id": "cell-64e826adc5fda3ad",
     "locked": true,
     "schema_version": 3,
     "solution": false,
     "task": false
    }
   },
   "outputs": [
    {
     "name": "stdout",
     "output_type": "stream",
     "text": [
      "0: False\n",
      "1: False\n",
      "2: False\n",
      "3: False\n",
      "4: False\n",
      "5: False\n",
      "6: False\n",
      "7: False\n",
      "8: False\n",
      "9: False\n",
      "10: False\n",
      "11: False\n",
      "12: False\n",
      "13: False\n",
      "14: False\n",
      "15: False\n",
      "16: False\n",
      "17: False\n",
      "18: False\n",
      "19: False\n",
      "20: True\n",
      "21: True\n",
      "22: True\n",
      "23: True\n",
      "24: True\n",
      "25: True\n",
      "26: True\n",
      "27: True\n",
      "28: True\n",
      "29: True\n"
     ]
    }
   ],
   "source": [
    "### PLAYGROUND\n",
    "# You can use this cell to test out your implementation. Everything in this cell will be ignored during grading.\n",
    "\n",
    "# Output only for the first 10 packets.\n",
    "for i, packet in enumerate(packets_ips):\n",
    "    print(f'{i}: {test_ESP(packet)}')"
   ]
  },
  {
   "cell_type": "code",
   "execution_count": 30,
   "id": "a929b432-2686-4be9-92a9-671414b8d074",
   "metadata": {
    "deletable": false,
    "editable": false,
    "nbgrader": {
     "cell_type": "code",
     "checksum": "2fa83ede26b1a463620b05f5b142166c",
     "grade": true,
     "grade_id": "cell-96da5aa6c9af012d",
     "locked": true,
     "points": 0,
     "schema_version": 3,
     "solution": false,
     "task": false
    }
   },
   "outputs": [],
   "source": [
    "# This test just checks the output of your solution\n",
    "\n",
    "for packet in packets_ips:\n",
    "    assert type(test_ESP(packet)) == bool"
   ]
  },
  {
   "cell_type": "code",
   "execution_count": null,
   "id": "6fe275f1-b3c3-4ff1-bbf4-3518224f5086",
   "metadata": {
    "deletable": false,
    "editable": false,
    "nbgrader": {
     "cell_type": "code",
     "checksum": "093af309b5bb162016996507d6b153ff",
     "grade": true,
     "grade_id": "cell-86f87219a639483b",
     "locked": true,
     "points": 2,
     "schema_version": 3,
     "solution": false,
     "task": false
    }
   },
   "outputs": [],
   "source": [
    "# Even this cell seems empty, it contains automatic tests. Please do not remove this cell and just ignore it."
   ]
  },
  {
   "attachments": {},
   "cell_type": "markdown",
   "id": "cdfc287f-ea72-4243-8d76-c05b9ae6fe5d",
   "metadata": {
    "deletable": false,
    "editable": false,
    "nbgrader": {
     "cell_type": "markdown",
     "checksum": "269e904aff797c7ae367020fa5fd229f",
     "grade": false,
     "grade_id": "cell-962849436680167d",
     "locked": true,
     "schema_version": 3,
     "solution": false,
     "task": false
    }
   },
   "source": [
    "### Task 1.5 (2 point)\n",
    "\n",
    "Can you detect, whether ESP is used in tunnel or transport mode? Explain your answer for both cases."
   ]
  },
  {
   "cell_type": "markdown",
   "id": "44003f69-0b42-40a4-b1e2-afbb263c22ab",
   "metadata": {
    "deletable": false,
    "nbgrader": {
     "cell_type": "markdown",
     "checksum": "082553ad366b0e5cf51a8574e0942b85",
     "grade": true,
     "grade_id": "cell-1cd3d5ce2b3e266a",
     "locked": false,
     "points": 2,
     "schema_version": 3,
     "solution": true,
     "task": false
    }
   },
   "source": [
    "In tunnelmode, the entire IP-Packet gets encrypted and encapsulated in a new IP-Packet. Also the nextHeader field is, unlike for AH, considered confidential. So the nextHeader field is in the ESP-Trailer, which gets encrypted and is not visible from the outside. Since the payload is encrypted, there's no way to determine if it contains another IP-Packet or not. So you can't tell for tunnelmode.\n",
    "Its similar for transport mode. The payload is encrypted, so you can't tell if it contains another IP-Packet or not."
   ]
  },
  {
   "attachments": {},
   "cell_type": "markdown",
   "id": "98c11520-eef7-4804-953e-a8993a1d0806",
   "metadata": {
    "deletable": false,
    "editable": false,
    "nbgrader": {
     "cell_type": "markdown",
     "checksum": "4cd32e5dc3d453b06d831ee9528653c2",
     "grade": false,
     "grade_id": "cell-6ff8ec6b377e9e87",
     "locked": true,
     "schema_version": 3,
     "solution": false,
     "task": false
    }
   },
   "source": [
    "### Task 1.6 (1 point)\n",
    "\n",
    "ESP does provide authentication. Why does AH even exist?"
   ]
  },
  {
   "cell_type": "markdown",
   "id": "9ff0a5f2-e132-411c-9c4c-f13e5f1d4b50",
   "metadata": {
    "deletable": false,
    "nbgrader": {
     "cell_type": "markdown",
     "checksum": "c725d7fe04927c478c17b57d37182253",
     "grade": true,
     "grade_id": "cell-eecbb58219c71d1f",
     "locked": false,
     "points": 1,
     "schema_version": 3,
     "solution": true,
     "task": false
    }
   },
   "source": [
    "There might be some use cases where you don't want to encrypt the payload, but still want to authenticate it. E.g. if you want to check incoming packets for potentially malicious content, but don't want to decrypt the payload. This saves the _overhead_ associated with en-/decryption, making AH \"more lightweight\" than ESP."
   ]
  },
  {
   "attachments": {},
   "cell_type": "markdown",
   "id": "a0821aca-087e-4077-8791-97abd0adc0ff",
   "metadata": {
    "deletable": false,
    "editable": false,
    "nbgrader": {
     "cell_type": "markdown",
     "checksum": "a68a93be7b76c8922d7e7825a109de8b",
     "grade": false,
     "grade_id": "cell-9f6de72980047077",
     "locked": true,
     "schema_version": 3,
     "solution": false,
     "task": false
    }
   },
   "source": [
    "### Task 1.7 (1.5 points)\n",
    "\n",
    "From the lecture, you know that AH and ESP can be used together. Your task is now to create a `scapy`packet that makes use of this construction.\n",
    "\n",
    "Implement the function `create_AH_ESP_tunnel() -> Packet`. This function takes no arguments and returns a IPv4 packet with all the correct headers in the correct order that are needed to use ESP and AH in conjunction. Do not forget the actual payload. In this task, the actual packet should not contain any data, just create the header structure. So, you don't have to provide any values here. You can use `scapy` to construct such a packet in the following way: `packet = IP()/TCP()`. If you arfe unsure what to include here, have a look in the `.pcap` file using wireshark."
   ]
  },
  {
   "cell_type": "code",
   "execution_count": 31,
   "id": "664d88d5-58a0-4516-a5c8-833e45a27ee3",
   "metadata": {
    "deletable": false,
    "nbgrader": {
     "cell_type": "code",
     "checksum": "3d9efcf87561a84b039da698583aa70d",
     "grade": false,
     "grade_id": "cell-031e3f02f6d2b5e5",
     "locked": false,
     "schema_version": 3,
     "solution": true,
     "task": false
    }
   },
   "outputs": [],
   "source": [
    "def create_AH_ESP_tunnel() -> Packet:\n",
    "    # create a packet with AH and ESP and IP-in-IP encapsulation\n",
    "    ip_header = IP()\n",
    "    ah_header = AH()\n",
    "    esp_header = ESP()\n",
    "    payload = TCP()/Raw(b'') # empty payload\n",
    "    return ip_header/ah_header/esp_header/payload"
   ]
  },
  {
   "cell_type": "code",
   "execution_count": 32,
   "id": "08ae52c6-679f-4c00-9531-9492f296e98d",
   "metadata": {
    "deletable": false,
    "editable": true,
    "nbgrader": {
     "cell_type": "code",
     "checksum": "4d68ac0b712b8d68f0ce3b7fb59ef14e",
     "grade": false,
     "grade_id": "cell-38f1d49bf5a494c0",
     "locked": true,
     "schema_version": 3,
     "solution": false,
     "task": false
    }
   },
   "outputs": [
    {
     "name": "stdout",
     "output_type": "stream",
     "text": [
      "IP / AH / ESP / TCP ftp_data > www_http S / Raw\n"
     ]
    },
    {
     "data": {
      "text/plain": [
       "<IP  proto=ah |<AH  |<ESP  |<TCP  |<Raw  |>>>>>"
      ]
     },
     "execution_count": 32,
     "metadata": {},
     "output_type": "execute_result"
    }
   ],
   "source": [
    "### PLAYGROUND\n",
    "# You can use this cell to test out your implementation. Everything in this cell will be ignored during grading.\n",
    "\n",
    "print(create_AH_ESP_tunnel())\n",
    "create_AH_ESP_tunnel()"
   ]
  },
  {
   "cell_type": "code",
   "execution_count": null,
   "id": "c863c32f-9e8b-4c71-879f-a0929dbcf4fe",
   "metadata": {
    "deletable": false,
    "editable": false,
    "nbgrader": {
     "cell_type": "code",
     "checksum": "659104b707c5f09c22fd67b48dfd074f",
     "grade": true,
     "grade_id": "cell-b1582cdc79d41cf1",
     "locked": true,
     "points": 1.5,
     "schema_version": 3,
     "solution": false,
     "task": false
    }
   },
   "outputs": [],
   "source": [
    "# Even this cell seems empty, it contains automatic tests. Please do not remove this cell and just ignore it."
   ]
  },
  {
   "attachments": {},
   "cell_type": "markdown",
   "id": "32640802-ae6f-4804-8bf0-e5ae46617e4a",
   "metadata": {
    "deletable": false,
    "editable": false,
    "nbgrader": {
     "cell_type": "markdown",
     "checksum": "c97a4df95cc8004e68d56d30613f9675",
     "grade": false,
     "grade_id": "cell-bc71ccbd462dc388",
     "locked": true,
     "schema_version": 3,
     "solution": false,
     "task": false
    }
   },
   "source": [
    "## 2. TLS Analysis (4.5 points)\n",
    "\n",
    "Now, we looked at some IPSec packets, but you also learned about TLS. Hence, we want to take a look at some TLS packets too.\n",
    "You will now need the other pcap file named `tls.pcap` from Moodle. You can still reuse the `read_pcap` function from above though! We already read in the file, which is available as a packet list in `packets_tls`.\n",
    "\n",
    "### Task 2.1 (1.5 point)\n",
    "We are now especially interested in the TLS handshake. Hence, your first task is to write a function which determines for a given packet whether it belongs to a TLS handshake or not.\n",
    "\n",
    "Implement the function `check_TLS_handshake(p: Packet) -> bool` with the arguments:\n",
    "- `p: Packet`: the packet to be investigated\n",
    "\n",
    "The function should return `True` if the packet belongs to a TLS handshake and `False` otherwise. \n",
    "\n",
    "*Hint: The TLS record type might be of interest. Have a look [here](https://en.wikipedia.org/wiki/Transport_Layer_Security#TLS_record).*"
   ]
  },
  {
   "cell_type": "code",
   "execution_count": 33,
   "id": "0d1224d4-645d-4191-af28-f81f4ccbef80",
   "metadata": {
    "deletable": false,
    "nbgrader": {
     "cell_type": "code",
     "checksum": "9b58e63ce2aac1ce42fb27b9f743cd49",
     "grade": false,
     "grade_id": "cell-0d4b1a876dda1c3e",
     "locked": false,
     "schema_version": 3,
     "solution": true,
     "task": false
    }
   },
   "outputs": [],
   "source": [
    "def check_TLS_handshake(p: Packet) -> bool:\n",
    "    # check if the packet is a TLS handshake packet\n",
    "    if not p.haslayer(TLS):\n",
    "        return False\n",
    "    return p[TLS].type == 22 # 22 is the type for handshake according to the link."
   ]
  },
  {
   "cell_type": "code",
   "execution_count": 34,
   "id": "f9688185-6738-4d1b-977a-ae452beafbe2",
   "metadata": {
    "deletable": false,
    "editable": true,
    "nbgrader": {
     "cell_type": "code",
     "checksum": "11fcf694af2f28887d0c54354dead744",
     "grade": false,
     "grade_id": "cell-e1b40bae1f9902bd",
     "locked": true,
     "schema_version": 3,
     "solution": false,
     "task": false
    }
   },
   "outputs": [
    {
     "name": "stdout",
     "output_type": "stream",
     "text": [
      "0: False\n",
      "1: False\n",
      "2: False\n",
      "3: True\n",
      "4: False\n",
      "5: True\n",
      "6: False\n",
      "7: True\n",
      "8: False\n",
      "9: False\n"
     ]
    }
   ],
   "source": [
    "### PLAYGROUND\n",
    "# You can use this cell to test out your implementation. Everything in this cell will be ignored during grading.\n",
    "\n",
    "# Output only for the first 10 packets.\n",
    "for i, packet in enumerate(packets_tls[:10]):\n",
    "    print(f'{i}: {check_TLS_handshake(packet)}')"
   ]
  },
  {
   "cell_type": "code",
   "execution_count": 35,
   "id": "0e1449d7-58a9-4877-8438-b5aefe27444c",
   "metadata": {
    "deletable": false,
    "editable": false,
    "nbgrader": {
     "cell_type": "code",
     "checksum": "5c8b507efdc404054e8172dbb68051a9",
     "grade": true,
     "grade_id": "cell-1af919e3dd605f15",
     "locked": true,
     "points": 0,
     "schema_version": 3,
     "solution": false,
     "task": false
    }
   },
   "outputs": [],
   "source": [
    "# This test just checks the output of your solution\n",
    "\n",
    "for packet in packets_tls:\n",
    "    assert type(check_TLS_handshake(packet)) == bool"
   ]
  },
  {
   "cell_type": "code",
   "execution_count": null,
   "id": "27d1327c-d2af-474b-b12b-dd33bcf27ce8",
   "metadata": {
    "deletable": false,
    "editable": false,
    "nbgrader": {
     "cell_type": "code",
     "checksum": "72ca12d5604d4c769808ad5abd29d9a4",
     "grade": true,
     "grade_id": "cell-78653c529f8cb468",
     "locked": true,
     "points": 1.5,
     "schema_version": 3,
     "solution": false,
     "task": false
    }
   },
   "outputs": [],
   "source": [
    "# Even this cell seems empty, it contains automatic tests. Please do not remove this cell and just ignore it."
   ]
  },
  {
   "attachments": {},
   "cell_type": "markdown",
   "id": "f1b34943-755e-40fc-944b-81d0225cc915",
   "metadata": {
    "deletable": false,
    "editable": false,
    "nbgrader": {
     "cell_type": "markdown",
     "checksum": "5c19508b46ec880df4c49834643e3ea3",
     "grade": false,
     "grade_id": "cell-ece4bc2c9fa1a2c5",
     "locked": true,
     "schema_version": 3,
     "solution": false,
     "task": false
    }
   },
   "source": [
    "### Task 2.2 (3 points)\n",
    "\n",
    "You learned that both the client and the server exchange random values during the handshake. We want to know how many bytes these take.\n",
    "\n",
    "Implement the function `get_random_length(path: str) -> int` with the arguments:\n",
    "- `path: str`: path to the `.pcap`file of interest (in our case `tls.pcap`)\n",
    "\n",
    "The function should return an `int` that represents the total number of all random **bytes** that are exchanged in the TLS exchange given in the file at the path.\n",
    "\n",
    "*Hint: The random value each party sends consists of a timestamp and some random bytes. We want to know the number of bytes including the timestamp since this is the random that is sent to the other party!*\n",
    "\n",
    "*Hint: You can also verify this random by looking at the handshake with Wireshark.*"
   ]
  },
  {
   "cell_type": "code",
   "execution_count": 36,
   "id": "540609fe-1e33-4ad1-bdb8-21366a208911",
   "metadata": {
    "deletable": false,
    "nbgrader": {
     "cell_type": "code",
     "checksum": "7dd504fbb8046b0a8be30112d745c350",
     "grade": false,
     "grade_id": "cell-af2092762655f33b",
     "locked": false,
     "schema_version": 3,
     "solution": true,
     "task": false
    }
   },
   "outputs": [],
   "source": [
    "from datetime import datetime\n",
    "from math import ceil\n",
    "\n",
    "def get_random_length(path: str) -> int:\n",
    "    # total number of all random bytes exchanged in the file including the timestamp\n",
    "    packets = read_pcap(path)\n",
    "    random_bytes = 0\n",
    "    for packet in packets:\n",
    "        # Only `ClientHello` and `ServerHello` contain the asked for\n",
    "        # random bytes in the specified formats\n",
    "        # As per RFCs 5246 (TLS 1.2) and 8446 (TLS 1.3), these fields are\n",
    "        # exactly 32 bytes long\n",
    "        #\n",
    "        # Thus, per Hello message, we just count up 32\n",
    "\n",
    "        if packet.haslayer(TLS):\n",
    "            # Check for ClientHello\n",
    "            if packet.haslayer(TLSClientHello):\n",
    "                random_bytes += 32\n",
    "            # Check for ServerHello    \n",
    "            elif packet.haslayer(TLSServerHello):\n",
    "                random_bytes += 32\n",
    "    \n",
    "    return random_bytes\n",
    "\n"
   ]
  },
  {
   "cell_type": "code",
   "execution_count": 37,
   "id": "5813a8a5-881e-4a92-a6c3-945e402fc97c",
   "metadata": {
    "deletable": false,
    "editable": true,
    "nbgrader": {
     "cell_type": "code",
     "checksum": "bad9bc0e928a619ba369e064d73169c9",
     "grade": false,
     "grade_id": "cell-f8a30503a89b7fad",
     "locked": true,
     "schema_version": 3,
     "solution": false,
     "task": false
    }
   },
   "outputs": [
    {
     "name": "stdout",
     "output_type": "stream",
     "text": [
      "64\n"
     ]
    }
   ],
   "source": [
    "### PLAYGROUND\n",
    "# You can use this cell to test out your implementation. Everything in this cell will be ignored during grading.\n",
    "\n",
    "print(get_random_length(\"tls.pcap\"))"
   ]
  },
  {
   "cell_type": "code",
   "execution_count": 38,
   "id": "ad67801f-7be9-43b4-8162-a6cf740555c3",
   "metadata": {
    "deletable": false,
    "editable": false,
    "nbgrader": {
     "cell_type": "code",
     "checksum": "3b28ed51cdd1cbbc1e64d7bc32b096cc",
     "grade": true,
     "grade_id": "cell-37c6e679e256cefd",
     "locked": true,
     "points": 0,
     "schema_version": 3,
     "solution": false,
     "task": false
    }
   },
   "outputs": [],
   "source": [
    "# This test just checks the output of your solution\n",
    "\n",
    "assert type(get_random_length(\"tls.pcap\")) == int"
   ]
  },
  {
   "cell_type": "code",
   "execution_count": null,
   "id": "44a5a213-93a8-4732-8c3a-f318e082d416",
   "metadata": {
    "deletable": false,
    "editable": false,
    "nbgrader": {
     "cell_type": "code",
     "checksum": "e918e9b0679a2b9e0f9f72cd91df81d5",
     "grade": true,
     "grade_id": "cell-a558748325750795",
     "locked": true,
     "points": 3,
     "schema_version": 3,
     "solution": false,
     "task": false
    }
   },
   "outputs": [],
   "source": [
    "# Even this cell seems empty, it contains automatic tests. Please do not remove this cell and just ignore it."
   ]
  },
  {
   "attachments": {},
   "cell_type": "markdown",
   "id": "63434eb1-5f7d-4500-b2d8-a15c3aa954d7",
   "metadata": {
    "deletable": false,
    "editable": false,
    "nbgrader": {
     "cell_type": "markdown",
     "checksum": "324a984ec687f1526b94b753d04ffaea",
     "grade": false,
     "grade_id": "cell-1f3c75f8b76b9a67",
     "locked": true,
     "schema_version": 3,
     "solution": false,
     "task": false
    }
   },
   "source": [
    "## 3. IPSec vs. TLS (4 points)\n",
    "\n",
    "We learned about two network security protocols. But why are there two? What are the differences? With the following tasks, you should convince me that there is a need for both of them! \n",
    "\n",
    "### Task 3.1 (2 point)\n",
    "\n",
    "Compare the typical use cases of both TLS and IPSec."
   ]
  },
  {
   "cell_type": "markdown",
   "id": "60103084-3698-4447-acff-a6227f4f06a5",
   "metadata": {
    "deletable": false,
    "nbgrader": {
     "cell_type": "markdown",
     "checksum": "56e965a952c8292e76eccc96eff1d485",
     "grade": true,
     "grade_id": "cell-e64dff051309df1d",
     "locked": false,
     "points": 2,
     "schema_version": 3,
     "solution": true,
     "task": false
    }
   },
   "source": [
    "First of all, IPSec operates on IP-Packet level, so it really protects IP-Packets. TLS on the other hand operates over the transport layer so it protects TCP Segments. A typical use case of IP-Sec is to secure the communication between two networks or routers; it can also be used for VPNs. This means that IPSec is typically used where securing **all traffic sent** between two computers - _regardless of application_ - is desired.\n",
    "\n",
    "\n",
    "TLS is for transport layer protection of a specific application, e.g. a browser and a webserver. In the lecture, we also saw that it can be used for mail. This means that TLS is typically used where one wants to choose security on a **per-application basis**."
   ]
  },
  {
   "attachments": {},
   "cell_type": "markdown",
   "id": "c666d8ec-7af1-45a8-a78f-c5f4d910021b",
   "metadata": {
    "deletable": false,
    "editable": false,
    "nbgrader": {
     "cell_type": "markdown",
     "checksum": "febcf222874a40779a9400313eeac581",
     "grade": false,
     "grade_id": "cell-5745c771caa7a3a4",
     "locked": true,
     "schema_version": 3,
     "solution": false,
     "task": false
    }
   },
   "source": [
    "### Task 3.2 (2 points)\n",
    "\n",
    "For both IPSec and TLS, name advantages and disadvantages compared to each other."
   ]
  },
  {
   "cell_type": "markdown",
   "id": "4228adda-195a-4a6c-a56f-f92a46312bd1",
   "metadata": {
    "deletable": false,
    "nbgrader": {
     "cell_type": "markdown",
     "checksum": "e7997fd283b11df043d223630ab0b614",
     "grade": true,
     "grade_id": "cell-745a99477468d345",
     "locked": false,
     "points": 2,
     "schema_version": 3,
     "solution": true,
     "task": false
    }
   },
   "source": [
    "TLS is ideal for securing individual sessions, e.g. between a browser and a webserver. IPSec is better suited for securing entire network segments. Its ideal for connecting branches or securing all traffic between networks. \n",
    "Since IPSec operates on the network layer, IPSec provides its services to all protocols and applications above. This means that applications dont need to be modified to use IPSec. With Traffic Selectors, you can also specify which traffic should be protected.\n",
    "TLS operates on the transport layer, so it only protects the application that use it explicitly. \n",
    "IPSec might also be more efficient, since it operates on a lower level. TLS might have more overhead because of its session establishment etc.. \n"
   ]
  },
  {
   "cell_type": "markdown",
   "id": "09bef569-03fd-4410-a7de-53125feda171",
   "metadata": {
    "deletable": false,
    "editable": false,
    "nbgrader": {
     "cell_type": "markdown",
     "checksum": "edc608f4771bf792b8d7da403a5c7168",
     "grade": false,
     "grade_id": "cell-b44340208f9bc8a1",
     "locked": true,
     "schema_version": 3,
     "solution": false,
     "task": false
    }
   },
   "source": [
    "## 4. Exam Example Tasks (0.5 points)\n",
    "\n",
    "> Note: This task is awarded with 0.5 points only if it has been seriously addressed, regardless of whether the answer is correct.\n",
    "\n",
    "### Task 4.1 - IPSec\n",
    "\n",
    "Assume the following IP packet given:\n",
    "\n",
    "```\n",
    "+--------------------+---------+\n",
    "| Original IP Header | Payload |\n",
    "+--------------------+---------+\n",
    "```\n",
    "\n",
    "*Hint: You can copy the notation above and adapt it in the tasks.*\n",
    "\n",
    "#### a)\n",
    "\n",
    "**Draw/List** all contents of the packet (including all headers and trailers) if it would be sent with AH in tunnel mode. Additionally, **mark** which parts are encrypted and which parts are integrity protected."
   ]
  },
  {
   "cell_type": "markdown",
   "id": "98fbd51a-ca4b-4010-b28e-996ada3f3160",
   "metadata": {
    "deletable": false,
    "nbgrader": {
     "cell_type": "markdown",
     "checksum": "d2aac5b630837a42f9cd6d552e60475e",
     "grade": true,
     "grade_id": "cell-a18895e436ff245e",
     "locked": false,
     "points": 0.5,
     "schema_version": 3,
     "solution": true,
     "task": false
    }
   },
   "source": [
    "I = Integrity Protected \n",
    "E = Encrypted\n",
    "```\n",
    "+--------------------+---------------------+--------------------+---------+\n",
    "| New IP Header (I)  | AH Header (I)       | Original IP Header(I)| Payload (I) |\n",
    "+--------------------+---------------------+--------------------+---------+\n",
    "```"
   ]
  },
  {
   "cell_type": "markdown",
   "id": "c657415b-037f-4953-baab-ccfe85807827",
   "metadata": {
    "deletable": false,
    "editable": false,
    "nbgrader": {
     "cell_type": "markdown",
     "checksum": "15c90492e46bef289a3698bef905c5ed",
     "grade": false,
     "grade_id": "cell-df1ee9a42f81a760",
     "locked": true,
     "schema_version": 3,
     "solution": false,
     "task": false
    }
   },
   "source": [
    "#### b)\n",
    "\n",
    "Now, the packet is protected with ESP in transport mode. **Mark/List** which parts are encrypted and which ones are integrity protected.\n",
    "\n",
    "```\n",
    "+--------------------+-----+---------+-------------+-----+\n",
    "| Original IP Header | ESP | Payload | ESP Trailer | MAC |\n",
    "+--------------------+-----+---------+-------------+-----+\n",
    "```"
   ]
  },
  {
   "cell_type": "markdown",
   "id": "9c1937b3-8343-40ce-b31d-daecc745c3db",
   "metadata": {
    "deletable": false,
    "nbgrader": {
     "cell_type": "markdown",
     "checksum": "e61cd2cfde02db5d64758b71919e246c",
     "grade": true,
     "grade_id": "cell-52df3745465951a5",
     "locked": false,
     "points": 0,
     "schema_version": 3,
     "solution": true,
     "task": false
    }
   },
   "source": [
    "I = Integrity Protected \n",
    "E = Encrypted\n",
    "```\n",
    "+--------------------+-----  +---------     +-------------     +-----+\n",
    "| Original IP Header | ESP(I)| Payload(I,E) | ESP Trailer(I,E) | MAC |\n",
    "+--------------------+-----  +---------     +-------------     +-----+\n",
    "```"
   ]
  },
  {
   "cell_type": "markdown",
   "id": "d2cf1a24-601a-48cb-ac04-5aad234d6e32",
   "metadata": {
    "deletable": false,
    "editable": false,
    "nbgrader": {
     "cell_type": "markdown",
     "checksum": "3ac2026a2fa84c772f01060d92fec291",
     "grade": false,
     "grade_id": "cell-16fb3f4b7c4b4298",
     "locked": true,
     "schema_version": 3,
     "solution": false,
     "task": false
    }
   },
   "source": [
    "### Task 4.2 - TLS\n",
    "\n",
    "In the figure below, a TLS 1.3 handshake in a simplified form is illustrated.\n",
    "\n",
    "![](./tls.png)\n",
    "\n",
    "**Answer** the following questions. **Justify** your answer.\n",
    "\n",
    "#### a)\n",
    "\n",
    "Does the depicted TLS 1.3 handshake use key transport or key agreement?"
   ]
  },
  {
   "cell_type": "markdown",
   "id": "af898457-bae8-4367-bc78-0dcf7690d393",
   "metadata": {
    "deletable": false,
    "nbgrader": {
     "cell_type": "markdown",
     "checksum": "ffcbedd2647f2a6a1ff90644e037585e",
     "grade": true,
     "grade_id": "cell-b1b64be8eac57f18",
     "locked": false,
     "points": 0,
     "schema_version": 3,
     "solution": true,
     "task": false
    }
   },
   "source": [
    "Key Agreement, since the client and the server both send their DH-Values to each other, which are then used to calculate the shared secret."
   ]
  },
  {
   "cell_type": "markdown",
   "id": "0fc9b3c3-9b4c-40de-b224-786dc066e8c8",
   "metadata": {
    "deletable": false,
    "editable": false,
    "nbgrader": {
     "cell_type": "markdown",
     "checksum": "dca4d5169d30100553eba2bf4ce5095e",
     "grade": false,
     "grade_id": "cell-b34912503c1f6b89",
     "locked": true,
     "schema_version": 3,
     "solution": false,
     "task": false
    }
   },
   "source": [
    "#### b)\n",
    "\n",
    "From which perspective is key freshness guaranteed?"
   ]
  },
  {
   "cell_type": "markdown",
   "id": "48a12bf4-0819-4138-9a6b-370bf7de7c81",
   "metadata": {
    "deletable": false,
    "nbgrader": {
     "cell_type": "markdown",
     "checksum": "3aba50ab1c38fbd9958d748abe29e824",
     "grade": true,
     "grade_id": "cell-4e76c8c4bf550fee",
     "locked": false,
     "points": 0,
     "schema_version": 3,
     "solution": true,
     "task": false
    }
   },
   "source": [
    "From both perspectives. When one of them knows they chose their DH-Value random, they can be sure that the key is fresh since its computed on both values. So even if you might think the other party didnt choose a random value, you can be sure that the key is fresh."
   ]
  },
  {
   "cell_type": "markdown",
   "id": "819c18ec-2432-49aa-afa9-a7dbc32233f8",
   "metadata": {
    "deletable": false,
    "editable": false,
    "nbgrader": {
     "cell_type": "markdown",
     "checksum": "64c0c1a0ba87df648d834d062c0e1597",
     "grade": false,
     "grade_id": "cell-2e5610e82649655e",
     "locked": true,
     "schema_version": 3,
     "solution": false,
     "task": false
    }
   },
   "source": [
    "#### c)\n",
    "\n",
    "What has to be added in which message(s) so that the server is authenticated through a certificate."
   ]
  },
  {
   "cell_type": "markdown",
   "id": "4a30d539-eaa8-4417-986e-d1199ee604d2",
   "metadata": {
    "deletable": false,
    "nbgrader": {
     "cell_type": "markdown",
     "checksum": "c33a78049b6636fa6e9bf4c702e62a7e",
     "grade": true,
     "grade_id": "cell-c6bd69d8bdf1a1bd",
     "locked": false,
     "points": 0,
     "schema_version": 3,
     "solution": true,
     "task": false
    }
   },
   "source": [
    "In the server's first message, it should sign the DH-Value it sends out with its private key. But it should also sign the DH-Value it already received because this value acts as a challenge and the server is responding that way. This way, the user knows that its not just someone replaying the servers message, but the actual server. In addition to that, it should also send its certificate.\n",
    "Assuming the client has the pk of the certificate authority, it can verify the certificate of the server and verify the signature it received."
   ]
  },
  {
   "cell_type": "markdown",
   "id": "ca426446-2f21-4120-aef0-0e883dfee959",
   "metadata": {
    "deletable": false,
    "editable": false,
    "nbgrader": {
     "cell_type": "markdown",
     "checksum": "09a65711566d887f6d46cace436184c7",
     "grade": false,
     "grade_id": "cell-80da1b8ae0bd381f",
     "locked": true,
     "schema_version": 3,
     "solution": false,
     "task": false
    }
   },
   "source": [
    "#### d)\n",
    "\n",
    "What happens if an attacker would change the SupportedAlgos parameter in the first message?"
   ]
  },
  {
   "cell_type": "markdown",
   "id": "b2a7c6aa-0e1e-41f3-8e87-da23201045e7",
   "metadata": {
    "deletable": false,
    "nbgrader": {
     "cell_type": "markdown",
     "checksum": "dd4413b3b695ea450d17e19b35c4dadb",
     "grade": true,
     "grade_id": "cell-424d202b8789991e",
     "locked": false,
     "points": 0,
     "schema_version": 3,
     "solution": true,
     "task": false
    }
   },
   "source": [
    "It would be noticed since the 'finished' part of the servers message includes the MAC on everything that was sent before. So the client would notice that the server received something different than what it sent."
   ]
  },
  {
   "cell_type": "markdown",
   "id": "9288e82e-c8be-499d-a96c-2f878c4a7ad7",
   "metadata": {
    "deletable": false,
    "editable": false,
    "nbgrader": {
     "cell_type": "markdown",
     "checksum": "f8c917ca0240b6625f0c637ce266e815",
     "grade": false,
     "grade_id": "cell-9dee7ad757b4ddcf",
     "locked": true,
     "schema_version": 3,
     "solution": false,
     "task": false
    }
   },
   "source": [
    "## 5. Feedback (0.5 points)\n",
    "\n",
    "> Note: This task is awarded with 0.5 points only if there is feedback in any form to this exercise. It is also okay to state what was especially nice or rewarding. Literally just writing \"anything\" is not enough. Any feedback will improve the assignments.\n",
    "\n",
    "Nicely done, another successful assignment by you! Since we want to know how it went and how we might improve the exercises, we include the following task. Here, you can write constructive feedback! You even get 0.5 points for it if you write some feedback. But don't worry, we do not grade the content itself!"
   ]
  },
  {
   "cell_type": "markdown",
   "id": "de44486c-557e-45f6-867e-93b36cf9969f",
   "metadata": {
    "deletable": false,
    "nbgrader": {
     "cell_type": "markdown",
     "checksum": "ad0619c2e1c53d85b3b1cbc367584e66",
     "grade": true,
     "grade_id": "cell-aa178dab22e75e86",
     "locked": false,
     "points": 0.5,
     "schema_version": 3,
     "solution": true,
     "task": false
    }
   },
   "source": [
    "I liked the coding part of the last exercises, but for this one, I didnt like that it depended on the pcap files and the library. I dont really see the point in learning specific libraries for these kind of tasks. IMO, it would be better to have more theoretical tasks, which dont depend on specific libraries."
   ]
  }
 ],
 "metadata": {
  "kernelspec": {
   "display_name": "Python 3",
   "language": "python",
   "name": "python3"
  },
  "language_info": {
   "codemirror_mode": {
    "name": "ipython",
    "version": 3
   },
   "file_extension": ".py",
   "mimetype": "text/x-python",
   "name": "python",
   "nbconvert_exporter": "python",
   "pygments_lexer": "ipython3",
   "version": "3.12.7"
  }
 },
 "nbformat": 4,
 "nbformat_minor": 5
}
