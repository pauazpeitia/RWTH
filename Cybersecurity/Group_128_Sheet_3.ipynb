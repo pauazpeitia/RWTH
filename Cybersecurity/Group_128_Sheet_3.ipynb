{
 "cells": [
  {
   "attachments": {},
   "cell_type": "markdown",
   "metadata": {
    "deletable": false,
    "editable": false,
    "nbgrader": {
     "cell_type": "markdown",
     "checksum": "0bacc7c82546e965c219bdca837d121d",
     "grade": false,
     "grade_id": "cell-5f98661fac12ecda",
     "locked": true,
     "schema_version": 3,
     "solution": false,
     "task": false
    },
    "pycharm": {
     "name": "#%%\n"
    }
   },
   "source": [
    "# IT Security - Sheet 3 \"Asymmetric Crypography\"\n",
    "\n",
    "**Total achievable points: 20**\n",
    "\n",
    "**Released: 14.11.2024**\n",
    "\n",
    "**Submission Deadline: 21.11.2023**"
   ]
  },
  {
   "cell_type": "markdown",
   "metadata": {},
   "source": [
    "---\n",
    "Group: 128\n",
    "\n",
    "Names and matriculation numbers of **ALL** team members: Samuel Rode (445160), Nils Maasch (445796), Pau Azpeita Bergos (443428), Gereon Geuchen (445328), Ben-Jay Huckebrink (445219)\n",
    "\n",
    "Format: John Doe (999999)\n",
    "\n",
    "---"
   ]
  },
  {
   "cell_type": "markdown",
   "metadata": {
    "deletable": false,
    "editable": false,
    "nbgrader": {
     "cell_type": "markdown",
     "checksum": "397c1655e9d97d55ea3bcc4719747048",
     "grade": false,
     "grade_id": "cell-34959b407488ec1e",
     "locked": true,
     "schema_version": 3,
     "solution": false,
     "task": false
    }
   },
   "source": [
    "**Important Information**\n",
    "\n",
    "The assignments have to be submitted by groups of 5 students. Even if you are registered in RWTHmoodle to a submission group, **please include the group number as well as the name and matriculation number of every group member in this notebook**. In case you are not part of a submission group and want to hand in assignments, please contact `ba-itsec@itsec.rwth-aachen.de`. We will then assign you to a submission group.\n",
    "\n",
    "Enter your solutions for the tasks in the respective cells of this notebook. These cells are either marked by \"YOUR ANSWER HERE\" or `#YOUR CODE HERE`. In code cells, you have to remove `raise NotImplementedError()`. Please do not add any new cells or remove existing ones, especially do not copy cells. Cells marked with `###PLAYGROUND` can be used to test your implementation and generate output (see example for the first tasks). Please do not add any other output or tests in the cell of the task, just implement the function with the header provided. If you want to test your implementation, use the `###PLAYGROUND` cells. They will be ignored during grading. **Do not change any other cells or add new ones.**\n",
    "\n",
    "Please **do not import any further Python packages** except the default Python ones and the ones that are explicitly given by us."
   ]
  },
  {
   "cell_type": "markdown",
   "metadata": {
    "deletable": false,
    "editable": false,
    "nbgrader": {
     "cell_type": "markdown",
     "checksum": "cea16d90cce3347ceb99f428a76ce516",
     "grade": false,
     "grade_id": "cell-742733820cb26b85",
     "locked": true,
     "schema_version": 3,
     "solution": false,
     "task": false
    }
   },
   "source": [
    "## Content of this Assignment\n",
    "\n",
    "This week, everything is about RSA. You learned in the lecture about asymmetric ciphers and now it's your turn to show what you learned."
   ]
  },
  {
   "attachments": {},
   "cell_type": "markdown",
   "metadata": {
    "collapsed": false,
    "deletable": false,
    "editable": false,
    "jupyter": {
     "outputs_hidden": false
    },
    "nbgrader": {
     "cell_type": "markdown",
     "checksum": "5c6878650ad99b20fa979345f96b83e2",
     "grade": false,
     "grade_id": "cell-f36ecc3a2b71ec95",
     "locked": true,
     "schema_version": 3,
     "solution": false,
     "task": false
    },
    "pycharm": {
     "name": "#%% md\n"
    }
   },
   "source": [
    "## 1. RSA (8.5 points)\n",
    "\n",
    "Before we can use any asymmetric ciphers, we need to generate keying material. As you learned from the lecture, for asymmetric ciphers you need two different keys. In this task, you create functions to generate valid RSA key pairs.\n",
    "A valid RSA key pair consists of the private key $d$ and the public key $(N,e)$ where $N$ is called the RSA-modulus. The process of key generation also involves the usage of two prime numbers called $p$ and $q$.\n",
    "The RSA-modulus can be computed using $N = pq$. In a later step, we will also need Eurler's phi function of the RSA-modulus $\\phi(N)$ which can be computed using $\\phi(N) = (p-1)(q-1)$.\n",
    "In the following, you will use all of these components to build the RSA key generation on your own.\n",
    "\n",
    "### Task 1.1 (1 point)\n",
    "\n",
    "The first step is to find a public key $e$. A valid $e$ fulfills a specific property: $gcd(\\phi(N), e) = 1$.\n",
    "\n",
    "Your first task is to implement the function `gcd(x: int, y: int) -> int`. The arguments of this function (`x` and `y`) are both integers and the output is an integer as well. The function has to return the greatest common divisor of `x` and `y`. An example of this could be `gcd(6,9) = 3`."
   ]
  },
  {
   "cell_type": "code",
   "execution_count": 1,
   "metadata": {
    "deletable": false,
    "jupyter": {
     "outputs_hidden": false
    },
    "nbgrader": {
     "cell_type": "code",
     "checksum": "ea2f1de48c97da364488ec2b605e124f",
     "grade": false,
     "grade_id": "cell-551b240c6481eac0",
     "locked": false,
     "schema_version": 3,
     "solution": true,
     "task": false
    },
    "pycharm": {
     "name": "#%%\n"
    }
   },
   "outputs": [],
   "source": [
    "def gcd(x: int, y: int) -> int:\n",
    "    # YOUR CODE HERE\n",
    "    if x == 0:\n",
    "        return y\n",
    "    if y == 0:\n",
    "        return x\n",
    "    if y > x:\n",
    "        return gcd(y, x)\n",
    "    return gcd(y, x % y)"
   ]
  },
  {
   "cell_type": "code",
   "execution_count": 2,
   "metadata": {
    "deletable": false,
    "editable": false,
    "nbgrader": {
     "cell_type": "code",
     "checksum": "22ef56f0a54d2d058de2f150e213bbce",
     "grade": false,
     "grade_id": "cell-9ce2a40cdb64ea6d",
     "locked": true,
     "schema_version": 3,
     "solution": false,
     "task": false
    }
   },
   "outputs": [
    {
     "name": "stdout",
     "output_type": "stream",
     "text": [
      "3\n"
     ]
    }
   ],
   "source": [
    "### PLAYGROUND\n",
    "# You can use this cell to test out your implementation. Everything in this cell will be ignored during grading.\n",
    "\n",
    "print(gcd(6,9))"
   ]
  },
  {
   "cell_type": "code",
   "execution_count": 3,
   "metadata": {
    "deletable": false,
    "editable": false,
    "nbgrader": {
     "cell_type": "code",
     "checksum": "c18dbc752c31ebdb99aeafd10cdc42aa",
     "grade": true,
     "grade_id": "cell-b51519124229e17e",
     "locked": true,
     "points": 0,
     "schema_version": 3,
     "solution": false,
     "task": false
    }
   },
   "outputs": [],
   "source": [
    "# This test just checks the output format of your solution\n",
    "\n",
    "div = gcd(6,9)\n",
    "assert type(div) == int\n",
    "assert div == 3"
   ]
  },
  {
   "cell_type": "code",
   "execution_count": 4,
   "metadata": {
    "deletable": false,
    "editable": false,
    "jupyter": {
     "outputs_hidden": false
    },
    "nbgrader": {
     "cell_type": "code",
     "checksum": "fe48b5e14849dad3fdbee39533fd1972",
     "grade": true,
     "grade_id": "cell-0b5709001373e5f8",
     "locked": true,
     "points": 1,
     "schema_version": 3,
     "solution": false,
     "task": false
    },
    "pycharm": {
     "name": "#%%\n"
    }
   },
   "outputs": [],
   "source": [
    "# Even this cell seems empty, it contains automatic tests. Please do not remove this cell and just ignore it."
   ]
  },
  {
   "cell_type": "markdown",
   "metadata": {
    "collapsed": false,
    "deletable": false,
    "editable": false,
    "jupyter": {
     "outputs_hidden": false
    },
    "nbgrader": {
     "cell_type": "markdown",
     "checksum": "ad9109f8ef43fb565e804980eb0360cc",
     "grade": false,
     "grade_id": "cell-c1aa2447df801b5d",
     "locked": true,
     "schema_version": 3,
     "solution": false,
     "task": false
    },
    "pycharm": {
     "name": "#%% md\n"
    }
   },
   "source": [
    "### Task 1.2  (2 point)\n",
    "\n",
    "Now, we turn to the actual key generation. We want to find an $e$ that fulfills the property $gcd(\\phi(N),e) = 1$.\n",
    "\n",
    "Implement the function `get_e(phi_N: int) -> int`. This function gets $\\phi(N)$ as `phi_N` as an argument and returns the first valid value for $e$ as an integer. Please make sure that $e$ is the smallest possible value with $1 < e < \\phi(N)$ (this is a strict relation). Note that it still needs to hold that $gcd(e, \\phi(N) = 1$. "
   ]
  },
  {
   "cell_type": "code",
   "execution_count": 5,
   "metadata": {
    "deletable": false,
    "jupyter": {
     "outputs_hidden": false
    },
    "nbgrader": {
     "cell_type": "code",
     "checksum": "b361e8c2e8e351a139aba289704b85be",
     "grade": false,
     "grade_id": "cell-73b2d20373ebdfa7",
     "locked": false,
     "schema_version": 3,
     "solution": true,
     "task": false
    },
    "pycharm": {
     "name": "#%%\n"
    }
   },
   "outputs": [],
   "source": [
    "def get_e(phi_N: int) -> int:\n",
    "    # YOUR CODE HERE\n",
    "    e = 2\n",
    "    while gcd(e, phi_N) != 1:\n",
    "        e += 1\n",
    "        if e == phi_N:\n",
    "            print(\"No e found between 2 and phi_N\")\n",
    "            return None\n",
    "    if (gcd(phi_N, e) != 1):\n",
    "        print(\"gcd(phi_N, e) != 1\")\n",
    "        return None\n",
    "    return e"
   ]
  },
  {
   "cell_type": "code",
   "execution_count": 6,
   "metadata": {
    "deletable": false,
    "editable": false,
    "nbgrader": {
     "cell_type": "code",
     "checksum": "1d3343b68108420aab5ea9929f165c58",
     "grade": false,
     "grade_id": "cell-92f0bf90f2d1638f",
     "locked": true,
     "schema_version": 3,
     "solution": false,
     "task": false
    }
   },
   "outputs": [
    {
     "name": "stdout",
     "output_type": "stream",
     "text": [
      "5\n"
     ]
    }
   ],
   "source": [
    "### PLAYGROUND\n",
    "# You can use this cell to test out your implementation. Everything in this cell will be ignored during grading.\n",
    "\n",
    "print(get_e(24))"
   ]
  },
  {
   "cell_type": "code",
   "execution_count": 7,
   "metadata": {
    "deletable": false,
    "editable": false,
    "nbgrader": {
     "cell_type": "code",
     "checksum": "78c1ee2326f339cc15cc1bb620acda43",
     "grade": true,
     "grade_id": "cell-e8aece5d6b20de6b",
     "locked": true,
     "points": 0,
     "schema_version": 3,
     "solution": false,
     "task": false
    }
   },
   "outputs": [],
   "source": [
    "# This test just checks the output format of your solution\n",
    "\n",
    "e = get_e(24)\n",
    "assert type(e) == int"
   ]
  },
  {
   "cell_type": "code",
   "execution_count": 8,
   "metadata": {
    "deletable": false,
    "editable": false,
    "jupyter": {
     "outputs_hidden": false
    },
    "nbgrader": {
     "cell_type": "code",
     "checksum": "35af90f020ec70bd2808e5309e0e0ad4",
     "grade": true,
     "grade_id": "cell-5e265827340848b8",
     "locked": true,
     "points": 2,
     "schema_version": 3,
     "solution": false,
     "task": false
    },
    "pycharm": {
     "name": "#%%\n"
    }
   },
   "outputs": [],
   "source": [
    "# Even this cell seems empty, it contains automatic tests. Please do not remove this cell and just ignore it."
   ]
  },
  {
   "attachments": {},
   "cell_type": "markdown",
   "metadata": {
    "collapsed": false,
    "deletable": false,
    "editable": false,
    "jupyter": {
     "outputs_hidden": false
    },
    "nbgrader": {
     "cell_type": "markdown",
     "checksum": "e3a35fbd77c77d03cbd54534a1bb7d2d",
     "grade": false,
     "grade_id": "cell-9e5e63665765b3e9",
     "locked": true,
     "schema_version": 3,
     "solution": false,
     "task": false
    },
    "pycharm": {
     "name": "#%% md\n"
    }
   },
   "source": [
    "### Task 1.3  (2 points)\n",
    "\n",
    "As we have the public key $(N,e)$ now, we need to find the corresponding private key $d$. In general, $d$ has to be the multiplicative inverse of $e mod \\phi(N)$.\n",
    "\n",
    "Implement the function `extended_gcd(a: int, b: int) -> tuple[int, int]`. This function should implement the extended Euclidean algorithm. The given arguments `a` and `b` represent the integer inputs $a$ and $b$ of the algorithm. The function returns a tuple of two integers $x$ and $y$. The function should return values for $x$ and $y$ such that $a \\cdot x + b \\cdot y = 1$. The values $x$ and $y$ must be ordered in the tuple the following way: `(x,y)` whereas `x`represents $x$ and `y` represents $y$. If the function is called as `extended_gcc(phi_N, e)` then $\\phi(N) \\cdot x + e \\cdot y = 1$ has to hold for the returned values `(x, y)`.\n",
    "\n",
    "**Hint: Mind the order of the returned values!**"
   ]
  },
  {
   "cell_type": "code",
   "execution_count": 9,
   "metadata": {
    "deletable": false,
    "jupyter": {
     "outputs_hidden": false
    },
    "nbgrader": {
     "cell_type": "code",
     "checksum": "74f7c102963128fc3f0fbfdc8dccc5a1",
     "grade": false,
     "grade_id": "cell-bd764e5a9532a9c5",
     "locked": false,
     "schema_version": 3,
     "solution": true,
     "task": false
    },
    "pycharm": {
     "name": "#%%\n"
    }
   },
   "outputs": [],
   "source": [
    "def extended_gcd(a: int, b: int) -> tuple[int, int]:\n",
    "    # YOUR CODE HERE\n",
    "    if (b > a):\n",
    "        (_, x, y) = extended_gcd_recursive(b, a)\n",
    "        return (x, y)\n",
    "    elif b == 0:\n",
    "        # gcd of (a, 0) is a for any a\n",
    "        return (1, 0)\n",
    "    else:\n",
    "        (_, x, y) = extended_gcd_recursive(a, b)\n",
    "        return (x, y)\n",
    "        \n",
    "def extended_gcd_recursive(a: int, b: int) -> tuple[int, int, int]:\n",
    "    if b == 0:\n",
    "        # gcd(a, 0) has coefficients (1, 0) with a = 1*a + 0*b\n",
    "        return (a, 1, 0)\n",
    "    else:\n",
    "        gcd, x, y = extended_gcd_recursive(b, a % b)\n",
    "        # gcd(a, b) = gcd(b, a % b) = b*x + (a % b)*y\n",
    "        return (gcd, y, x - (a // b) * y)   \n",
    "    "
   ]
  },
  {
   "cell_type": "code",
   "execution_count": 10,
   "metadata": {
    "deletable": false,
    "editable": false,
    "nbgrader": {
     "cell_type": "code",
     "checksum": "481d0025c8251f0898fd11ee628878b4",
     "grade": false,
     "grade_id": "cell-77152aa97e171df9",
     "locked": true,
     "schema_version": 3,
     "solution": false,
     "task": false
    }
   },
   "outputs": [
    {
     "name": "stdout",
     "output_type": "stream",
     "text": [
      "(-9, 47)\n",
      "(15, -61)\n",
      "(-5, 16)\n"
     ]
    }
   ],
   "source": [
    "### PLAYGROUND\n",
    "# You can use this cell to test out your implementation. Everything in this cell will be ignored during grading.\n",
    "\n",
    "print(extended_gcd(240, 46))\n",
    "print(extended_gcd(240, 59))\n",
    "print(extended_gcd(131,41))"
   ]
  },
  {
   "cell_type": "code",
   "execution_count": 11,
   "metadata": {
    "deletable": false,
    "editable": false,
    "nbgrader": {
     "cell_type": "code",
     "checksum": "e996317ba54637f7f2041ab3432aa1d1",
     "grade": true,
     "grade_id": "cell-5729c496a4426494",
     "locked": true,
     "points": 0,
     "schema_version": 3,
     "solution": false,
     "task": false
    }
   },
   "outputs": [],
   "source": [
    "# This test just checks the output format of your solution\n",
    "\n",
    "res = extended_gcd(240, 46)\n",
    "assert type(res) == tuple\n",
    "assert len(res) == 2\n",
    "assert type(res[0] == int)\n",
    "assert type(res[1] == int)"
   ]
  },
  {
   "cell_type": "code",
   "execution_count": 12,
   "metadata": {
    "deletable": false,
    "editable": false,
    "jupyter": {
     "outputs_hidden": false
    },
    "nbgrader": {
     "cell_type": "code",
     "checksum": "64f53197338be479cf82714c6e77e725",
     "grade": true,
     "grade_id": "cell-906b941a4579fc9d",
     "locked": true,
     "points": 2,
     "schema_version": 3,
     "solution": false,
     "task": false
    },
    "pycharm": {
     "name": "#%%\n"
    }
   },
   "outputs": [],
   "source": [
    "# Even this cell seems empty, it contains automatic tests. Please do not remove this cell and just ignore it."
   ]
  },
  {
   "attachments": {},
   "cell_type": "markdown",
   "metadata": {
    "collapsed": false,
    "deletable": false,
    "editable": false,
    "jupyter": {
     "outputs_hidden": false
    },
    "nbgrader": {
     "cell_type": "markdown",
     "checksum": "c0210bb9bddd4dcf1c84c39586d02e3f",
     "grade": false,
     "grade_id": "cell-ccda5bed56b3af30",
     "locked": true,
     "schema_version": 3,
     "solution": false,
     "task": false
    },
    "pycharm": {
     "name": "#%% md\n"
    }
   },
   "source": [
    "### Task 1.4  (2.5 points)\n",
    "\n",
    "To streamline the process of key generation, we want to put it all together. For this we want a single function that takes two primes $p$ and $q$ and outputs the public and private key as a tuple $(e,d,N)$.\n",
    "\n",
    "Implement the function `generate_rsa_key(p: int, q:int) -> tuple[int, int, int]`. The arguments `x` and `y` are the two primes. The function has to return a valid RSA key generated using the two arguments as the primes $x$ and $y$. The output format has to be a tuple of the format `(e,d,N)`.\n",
    "\n",
    "**Hint: You need to take care of the fact that `d`, as a result of the extended Euclidean algorithm, may be negative.**"
   ]
  },
  {
   "cell_type": "code",
   "execution_count": 13,
   "metadata": {
    "deletable": false,
    "jupyter": {
     "outputs_hidden": false
    },
    "nbgrader": {
     "cell_type": "code",
     "checksum": "fc1524001f3ca1ece5bd535dd35264f6",
     "grade": false,
     "grade_id": "cell-08466f93539c5b04",
     "locked": false,
     "schema_version": 3,
     "solution": true,
     "task": false
    },
    "pycharm": {
     "name": "#%%\n"
    }
   },
   "outputs": [],
   "source": [
    "def generate_rsa_key(p: int, q: int) -> tuple[int, int, int]:\n",
    "    n = p * q\n",
    "    phi_n = (p-1) * (q-1)\n",
    "    e = get_e(phi_n)\n",
    "    (_, d) = extended_gcd(phi_n, e)\n",
    "    if d < 0:\n",
    "        d += phi_n\n",
    "    return (e, d, n)\n",
    "    "
   ]
  },
  {
   "cell_type": "code",
   "execution_count": 14,
   "metadata": {
    "deletable": false,
    "editable": false,
    "nbgrader": {
     "cell_type": "code",
     "checksum": "51eaed8019bde677feb9d99e6100ebd8",
     "grade": false,
     "grade_id": "cell-0caabe8ee0300911",
     "locked": true,
     "schema_version": 3,
     "solution": false,
     "task": false
    }
   },
   "outputs": [
    {
     "name": "stdout",
     "output_type": "stream",
     "text": [
      "(7, 43, 77)\n"
     ]
    }
   ],
   "source": [
    "### PLAYGROUND\n",
    "# You can use this cell to test out your implementation. Everything in this cell will be ignored during grading.\n",
    "\n",
    "print(generate_rsa_key(7, 11))"
   ]
  },
  {
   "cell_type": "code",
   "execution_count": 15,
   "metadata": {
    "deletable": false,
    "editable": false,
    "nbgrader": {
     "cell_type": "code",
     "checksum": "2fc567224e0c967032c6eb101c2e9649",
     "grade": true,
     "grade_id": "cell-404f8782b2eeb726",
     "locked": true,
     "points": 0,
     "schema_version": 3,
     "solution": false,
     "task": false
    }
   },
   "outputs": [],
   "source": [
    "# This test just checks the output format of your solution\n",
    "\n",
    "res = generate_rsa_key(7, 11)\n",
    "assert type(res) == tuple\n",
    "assert len(res) == 3\n",
    "assert type(res[0] == int)\n",
    "assert type(res[1] == int)\n",
    "assert type(res[2] == int)"
   ]
  },
  {
   "cell_type": "code",
   "execution_count": 16,
   "metadata": {
    "deletable": false,
    "editable": false,
    "jupyter": {
     "outputs_hidden": false
    },
    "nbgrader": {
     "cell_type": "code",
     "checksum": "6b9b2cc98247d29cbba2ff2e725866e3",
     "grade": true,
     "grade_id": "cell-23358fd60dde5a88",
     "locked": true,
     "points": 2.5,
     "schema_version": 3,
     "solution": false,
     "task": false
    },
    "pycharm": {
     "name": "#%%\n"
    }
   },
   "outputs": [],
   "source": [
    "# Even this cell seems empty, it contains automatic tests. Please do not remove this cell and just ignore it."
   ]
  },
  {
   "attachments": {},
   "cell_type": "markdown",
   "metadata": {
    "collapsed": false,
    "deletable": false,
    "editable": false,
    "jupyter": {
     "outputs_hidden": false
    },
    "nbgrader": {
     "cell_type": "markdown",
     "checksum": "cbeef67d5afc97ce4d6b0097ef4baec8",
     "grade": false,
     "grade_id": "cell-87492734eb4df901",
     "locked": true,
     "schema_version": 3,
     "solution": false,
     "task": false
    },
    "pycharm": {
     "name": "#%% md\n"
    }
   },
   "source": [
    "### Task 1.5  (1 point)\n",
    "\n",
    "As we have valid key pairs, it is now time to test them out. For this, we have to implement the encryption and decryption first.\n",
    "\n",
    "So implement the functions `rsa_enc(message: int, e: int, N: int) -> int` and `rsa_dec(cipher: int, d: int, N: int) -> int`.\n",
    "\n",
    "Regarding the encryption, the arguments `e` and `N` of the function `rsa_enc(message: int, e: int, N: int) -> int` represent the public key, as multiple times discussed in the previous tasks. The argument `message` represents the message to be encrypted using the given key. This message is in an integer format and is not a human-readable string. Just assume it to be some message as an integer and process it as discussed in the lecture. Further, it always holds that $message < N$. This function has to encrypt the given `message` with the given public key `e` and `N`.\n",
    "\n",
    "The function `rsa_dec(cipher: int, d: int, N: int) -> int` works similarly, but has to decrypt the message against using the private key. The private key is represented by `d` and `N`. The encrypted message is delivered as the argument `cipher`."
   ]
  },
  {
   "cell_type": "code",
   "execution_count": 17,
   "metadata": {
    "deletable": false,
    "jupyter": {
     "outputs_hidden": false
    },
    "nbgrader": {
     "cell_type": "code",
     "checksum": "ab9ee0b9d79a44286692638fb32c3cba",
     "grade": false,
     "grade_id": "cell-823532c0146d08ed",
     "locked": false,
     "schema_version": 3,
     "solution": true,
     "task": false
    },
    "pycharm": {
     "name": "#%%\n"
    }
   },
   "outputs": [],
   "source": [
    "def rsa_enc(message: int, e: int, N: int) -> int:\n",
    "    return pow(message, e) % N"
   ]
  },
  {
   "cell_type": "code",
   "execution_count": 18,
   "metadata": {
    "deletable": false,
    "editable": false,
    "nbgrader": {
     "cell_type": "code",
     "checksum": "d7e06315240843e2dd394a6c58b99931",
     "grade": false,
     "grade_id": "cell-7f2960d86b3956bb",
     "locked": true,
     "schema_version": 3,
     "solution": false,
     "task": false
    }
   },
   "outputs": [],
   "source": [
    "### PLAYGROUND\n",
    "# You can use this cell to test out your implementation. Everything in this cell will be ignored during grading."
   ]
  },
  {
   "cell_type": "code",
   "execution_count": 19,
   "metadata": {
    "deletable": false,
    "editable": false,
    "nbgrader": {
     "cell_type": "code",
     "checksum": "7fa761f6504c31af32278dfdb65adf10",
     "grade": true,
     "grade_id": "cell-dbbf5b75521397be",
     "locked": true,
     "points": 0,
     "schema_version": 3,
     "solution": false,
     "task": false
    }
   },
   "outputs": [
    {
     "name": "stdout",
     "output_type": "stream",
     "text": [
      "72\n"
     ]
    }
   ],
   "source": [
    "# This test just checks the output format of your solution\n",
    "\n",
    "res = rsa_enc(51, 7, 77)\n",
    "assert type(res) == int\n",
    "print(res)"
   ]
  },
  {
   "cell_type": "code",
   "execution_count": 20,
   "metadata": {
    "deletable": false,
    "editable": false,
    "jupyter": {
     "outputs_hidden": false
    },
    "nbgrader": {
     "cell_type": "code",
     "checksum": "7762072f2334e93f43967464eb6e54bb",
     "grade": true,
     "grade_id": "cell-edaa1b6a9a666192",
     "locked": true,
     "points": 0.5,
     "schema_version": 3,
     "solution": false,
     "task": false
    },
    "pycharm": {
     "name": "#%%\n"
    }
   },
   "outputs": [],
   "source": [
    "# Even this cell seems empty, it contains automatic tests. Please do not remove this cell and just ignore it."
   ]
  },
  {
   "cell_type": "code",
   "execution_count": 21,
   "metadata": {
    "deletable": false,
    "nbgrader": {
     "cell_type": "code",
     "checksum": "0c0cddd7c59a67eb2783c79cbedbe403",
     "grade": false,
     "grade_id": "cell-7273774abe30305d",
     "locked": false,
     "schema_version": 3,
     "solution": true,
     "task": false
    }
   },
   "outputs": [],
   "source": [
    "def rsa_dec(cipher: int, d: int, N: int) -> int:\n",
    "    # YOUR CODE HERE\n",
    "    return pow(cipher, d) % N"
   ]
  },
  {
   "cell_type": "code",
   "execution_count": 22,
   "metadata": {
    "deletable": false,
    "editable": false,
    "nbgrader": {
     "cell_type": "code",
     "checksum": "937cfa9af667cae0a89b666645b2367b",
     "grade": false,
     "grade_id": "cell-3b4d4cd2926327cb",
     "locked": true,
     "schema_version": 3,
     "solution": false,
     "task": false
    }
   },
   "outputs": [],
   "source": [
    "### PLAYGROUND\n",
    "# You can use this cell to test out your implementation. Everything in this cell will be ignored during grading."
   ]
  },
  {
   "cell_type": "code",
   "execution_count": 23,
   "metadata": {
    "deletable": false,
    "editable": false,
    "nbgrader": {
     "cell_type": "code",
     "checksum": "91bcd9b12f7cad1c4ba2d01806082105",
     "grade": true,
     "grade_id": "cell-00f5c1a773881bc1",
     "locked": true,
     "points": 0,
     "schema_version": 3,
     "solution": false,
     "task": false
    }
   },
   "outputs": [
    {
     "name": "stdout",
     "output_type": "stream",
     "text": [
      "51\n"
     ]
    }
   ],
   "source": [
    "# This test just checks the output format of your solution\n",
    "\n",
    "res = rsa_dec(72, 43, 77)\n",
    "assert type(res) == int\n",
    "print(res)"
   ]
  },
  {
   "cell_type": "code",
   "execution_count": 24,
   "metadata": {
    "deletable": false,
    "editable": false,
    "jupyter": {
     "outputs_hidden": false
    },
    "nbgrader": {
     "cell_type": "code",
     "checksum": "2db063f6be04f022d36f88d48922f5d6",
     "grade": true,
     "grade_id": "cell-553ebac2c42ea3e3",
     "locked": true,
     "points": 0.5,
     "schema_version": 3,
     "solution": false,
     "task": false
    },
    "pycharm": {
     "name": "#%%\n"
    }
   },
   "outputs": [],
   "source": [
    "# Even this cell seems empty, it contains automatic tests. Please do not remove this cell and just ignore it."
   ]
  },
  {
   "attachments": {},
   "cell_type": "markdown",
   "metadata": {
    "deletable": false,
    "editable": false,
    "nbgrader": {
     "cell_type": "markdown",
     "checksum": "236c713f38a1196ba0973d025f534fd8",
     "grade": false,
     "grade_id": "cell-6c75d54279fad35d",
     "locked": true,
     "schema_version": 3,
     "solution": false,
     "task": false
    }
   },
   "source": [
    "## 2. Efficient RSA (2.5 points)\n",
    "\n",
    "As we have implemented an RSA key generation and the respective encryption and decryption, we now turn towards an RSA implementation that is way more efficient in handling large prime numbers. In this task, we will use the right-to-left binary method that was introduced in the lecture to allow for more efficient binary exponentiation. If you can't remember the details, take a look at the lecture slides again.\n",
    "\n",
    "### Task 2.1 (2 points)\n",
    "\n",
    "Implement the function `binary_exp(b: int, e: int, m: int) -> int` that implements the more efficient binary exponentiation. The argument `b` denotes the base, `e` the exponent, and `m` the modulus. The function has to return the result of the computation as an int."
   ]
  },
  {
   "cell_type": "code",
   "execution_count": 25,
   "metadata": {
    "deletable": false,
    "jupyter": {
     "outputs_hidden": false
    },
    "nbgrader": {
     "cell_type": "code",
     "checksum": "73ee412934026ce280cee9341925f3d7",
     "grade": false,
     "grade_id": "cell-631fb56043ad0551",
     "locked": false,
     "schema_version": 3,
     "solution": true,
     "task": false
    },
    "pycharm": {
     "name": "#%%\n"
    }
   },
   "outputs": [],
   "source": [
    "def binary_exp(b: int, e: int, m: int) -> int:\n",
    "    binary_e = bin(e)[2:]\n",
    "    res = 1\n",
    "    for i in binary_e:\n",
    "        res = (res * res) % m\n",
    "        if i == '1':\n",
    "            res = (res * b) % m\n",
    "    return res"
   ]
  },
  {
   "cell_type": "code",
   "execution_count": 26,
   "metadata": {
    "deletable": false,
    "editable": false,
    "nbgrader": {
     "cell_type": "code",
     "checksum": "70f3a8bdc7c0b886d5744fe28c473085",
     "grade": false,
     "grade_id": "cell-41d94ef071df8bab",
     "locked": true,
     "schema_version": 3,
     "solution": false,
     "task": false
    }
   },
   "outputs": [
    {
     "name": "stdout",
     "output_type": "stream",
     "text": [
      "6\n"
     ]
    }
   ],
   "source": [
    "### PLAYGROUND\n",
    "# You can use this cell to test out your implementation. Everything in this cell will be ignored during grading.\n",
    "print(binary_exp(2, 5, 13))"
   ]
  },
  {
   "cell_type": "code",
   "execution_count": 27,
   "metadata": {
    "deletable": false,
    "editable": false,
    "nbgrader": {
     "cell_type": "code",
     "checksum": "87b2e139c2f4b3a5a8b10e5a082a24c8",
     "grade": true,
     "grade_id": "cell-5f02b4a6b96f9afd",
     "locked": true,
     "points": 0,
     "schema_version": 3,
     "solution": false,
     "task": false
    }
   },
   "outputs": [],
   "source": [
    "# This test just checks the output format of your solution\n",
    "\n",
    "res = binary_exp(72, 43, 77)\n",
    "assert type(res) == int\n",
    "assert res == 51"
   ]
  },
  {
   "cell_type": "code",
   "execution_count": 28,
   "metadata": {
    "deletable": false,
    "editable": false,
    "jupyter": {
     "outputs_hidden": false
    },
    "nbgrader": {
     "cell_type": "code",
     "checksum": "23d363ef2064ae01eb3bd14ae8d7933d",
     "grade": true,
     "grade_id": "cell-552bcb4f7bc895f4",
     "locked": true,
     "points": 2,
     "schema_version": 3,
     "solution": false,
     "task": false
    },
    "pycharm": {
     "name": "#%%\n"
    }
   },
   "outputs": [],
   "source": [
    "# Even this cell seems empty, it contains automatic tests. Please do not remove this cell and just ignore it."
   ]
  },
  {
   "cell_type": "markdown",
   "metadata": {
    "collapsed": false,
    "deletable": false,
    "editable": false,
    "jupyter": {
     "outputs_hidden": false
    },
    "nbgrader": {
     "cell_type": "markdown",
     "checksum": "d872f5f1bfbcd718f5be2e50fe5c0fa4",
     "grade": false,
     "grade_id": "cell-cad7a17d30348418",
     "locked": true,
     "schema_version": 3,
     "solution": false,
     "task": false
    },
    "pycharm": {
     "name": "#%% md\n"
    }
   },
   "source": [
    "### Task 2.2 (0.5 points)\n",
    "\n",
    "Now, we want to use this more efficient implementation within our RSA encryption and decryption. So you have to reimplement the encryption and decryption using this more efficient approach.\n",
    "\n",
    "Implement the functions `rsa_enc_eff(message: int, e: int, N: int) -> int` and `rsa_dec_eff(cipher:int, d: int, N: int) -> int`. These functions have the same arguments and returns as in Task 1.5. However, you have to use the more efficient implementation `binary_exp(b: int, e: int, m: int) -> int` of the previous task."
   ]
  },
  {
   "cell_type": "code",
   "execution_count": 29,
   "metadata": {
    "deletable": false,
    "jupyter": {
     "outputs_hidden": false
    },
    "nbgrader": {
     "cell_type": "code",
     "checksum": "e9878bb68c4c477f67e8f6b2f6c5ac7c",
     "grade": false,
     "grade_id": "cell-dff06b726854ef72",
     "locked": false,
     "schema_version": 3,
     "solution": true,
     "task": false
    },
    "pycharm": {
     "name": "#%%\n"
    }
   },
   "outputs": [],
   "source": [
    "def rsa_enc_eff(m, e, N):\n",
    "    # YOUR CODE HERE\n",
    "    return binary_exp(m, e, N)"
   ]
  },
  {
   "cell_type": "code",
   "execution_count": 30,
   "metadata": {
    "deletable": false,
    "nbgrader": {
     "cell_type": "code",
     "checksum": "f52d6f8ca6ecb7c2df41c7e1ec45a596",
     "grade": false,
     "grade_id": "cell-48a5e48c626bca2c",
     "locked": false,
     "schema_version": 3,
     "solution": true,
     "task": false
    }
   },
   "outputs": [],
   "source": [
    "def rsa_dec_eff(m, d, N):\n",
    "    # YOUR CODE HERE\n",
    "    return binary_exp(m, d, N)"
   ]
  },
  {
   "cell_type": "code",
   "execution_count": 31,
   "metadata": {
    "deletable": false,
    "editable": false,
    "nbgrader": {
     "cell_type": "code",
     "checksum": "9048e778b757e321de86262b40a5715d",
     "grade": false,
     "grade_id": "cell-dd11d605d63484e1",
     "locked": true,
     "schema_version": 3,
     "solution": false,
     "task": false
    }
   },
   "outputs": [],
   "source": [
    "### PLAYGROUND\n",
    "# You can use this cell to test out your implementation. Everything in this cell will be ignored during grading."
   ]
  },
  {
   "cell_type": "code",
   "execution_count": 32,
   "metadata": {
    "deletable": false,
    "editable": false,
    "nbgrader": {
     "cell_type": "code",
     "checksum": "e1e7e50921332aff0fe23dd8c4529f9d",
     "grade": true,
     "grade_id": "cell-169a89faf1833aeb",
     "locked": true,
     "points": 0,
     "schema_version": 3,
     "solution": false,
     "task": false
    }
   },
   "outputs": [],
   "source": [
    "# This test just checks your solution\n",
    "\n",
    "res = rsa_enc_eff(155, 5, 73827113627)\n",
    "assert type(res) == int\n",
    "reres = rsa_enc_eff(res, 59061256109, 73827113627)\n",
    "assert reres == 155"
   ]
  },
  {
   "cell_type": "code",
   "execution_count": 33,
   "metadata": {
    "deletable": false,
    "editable": false,
    "jupyter": {
     "outputs_hidden": false
    },
    "nbgrader": {
     "cell_type": "code",
     "checksum": "6f109479e2148a5f66af15a1f9cf6c30",
     "grade": true,
     "grade_id": "cell-076c752a460df6ba",
     "locked": true,
     "points": 0.5,
     "schema_version": 3,
     "solution": false,
     "task": false
    },
    "pycharm": {
     "name": "#%%\n"
    }
   },
   "outputs": [],
   "source": [
    "# Even this cell seems empty, it contains automatic tests. Please do not remove this cell and just ignore it."
   ]
  },
  {
   "attachments": {},
   "cell_type": "markdown",
   "metadata": {
    "collapsed": false,
    "deletable": false,
    "editable": false,
    "jupyter": {
     "outputs_hidden": false
    },
    "nbgrader": {
     "cell_type": "markdown",
     "checksum": "59675c99d137bb5000770535f898439b",
     "grade": false,
     "grade_id": "cell-917b95d4833866bb",
     "locked": true,
     "schema_version": 3,
     "solution": false,
     "task": false
    },
    "pycharm": {
     "name": "#%% md\n"
    }
   },
   "source": [
    "## 3. Backdoors on RSA (3 points)\n",
    "\n",
    "### Task 3.1 (2 points)\n",
    "\n",
    "As we took care about encrypting and decrypting stuff, now it is time to do some more interesting and fun stuff. What would an assignment be without breaking something? While RSA today is considered secure, one thing that we can still do is: backdoors! In the following task, we will take a look at RSA backdoor construction. \n",
    "\n",
    "The backdoor is part of the RSA key pair generation by fixing one of the two prime numbers needed to generate the RSA key. Your task now is to exploit an RSA key that was created with a naive backdoor. \n",
    "\n",
    "Implement the function `decrypt_naive_backdoor(cipher: int, p: int, e: int, N: int) -> int` which decrypts a cipher text with the help of a fixed prime number, as described in the lecture. The arguments are:\n",
    "- `cipher`: cipher text to be attacked\n",
    "- `p`: the fixed prime that was used during the key generation\n",
    "- `e`, `N`: the public key\n",
    "\n",
    "The function has to return the decrypted plain text as an int.\n",
    "\n",
    "You can use the functions previously implemented by you in task 2 and disregard anything about padding. Use the `### PLAYGROUND` cell to debug your own implementation and the provided format check cell to test its proper functioning.\n",
    "\n",
    "*Hint: Remember that the public key `(e, N)` is known by potentially anyone!*"
   ]
  },
  {
   "cell_type": "code",
   "execution_count": 61,
   "metadata": {
    "deletable": false,
    "jupyter": {
     "outputs_hidden": false
    },
    "nbgrader": {
     "cell_type": "code",
     "checksum": "52659d28751661b99a721ec2ffdd4689",
     "grade": false,
     "grade_id": "cell-2426b514ec8e43fe",
     "locked": false,
     "schema_version": 3,
     "solution": true,
     "task": false
    },
    "pycharm": {
     "name": "#%%\n"
    }
   },
   "outputs": [],
   "source": [
    "def decrypt_naive_backdoor(cipher: int, p: int, e: int, N: int) -> int:\n",
    "    q = N // p  \n",
    "    phi = (p - 1) * (q - 1)\n",
    "    d = compute_d(e, phi)\n",
    "    decrypted = binary_exp(cipher, d, N)\n",
    "    return decrypted\n",
    "\n",
    "#e*d mod N = 1\n",
    "def compute_d(e, phi):\n",
    "    _, x = extended_gcd(e, phi)\n",
    "    return x % phi"
   ]
  },
  {
   "cell_type": "code",
   "execution_count": 62,
   "metadata": {
    "deletable": false,
    "editable": false,
    "nbgrader": {
     "cell_type": "code",
     "checksum": "219ed1082c626a7310d93d66a390956c",
     "grade": false,
     "grade_id": "cell-eaf73513d53fca7d",
     "locked": true,
     "schema_version": 3,
     "solution": false,
     "task": false
    }
   },
   "outputs": [
    {
     "name": "stdout",
     "output_type": "stream",
     "text": [
      "7\n"
     ]
    }
   ],
   "source": [
    "### PLAYGROUND\n",
    "# You can use this cell to test out your implementation. Everything in this cell will be ignored during grading.\n",
    "p = 3\n",
    "q = 5\n",
    "N = p*q\n",
    "message = 7\n",
    "phi = 8\n",
    "e = 3\n",
    "d = 3\n",
    "encrypted_message = rsa_enc(message, e, N)\n",
    "print(decrypt_naive_backdoor(encrypted_message, p, e, N))"
   ]
  },
  {
   "cell_type": "code",
   "execution_count": 63,
   "metadata": {
    "deletable": false,
    "editable": false,
    "jupyter": {
     "outputs_hidden": false
    },
    "nbgrader": {
     "cell_type": "code",
     "checksum": "8d6d04320637e83a7d459942e0bcc62d",
     "grade": true,
     "grade_id": "cell-e1a38cf1e3bab007",
     "locked": true,
     "points": 0,
     "schema_version": 3,
     "solution": false,
     "task": false
    },
    "pycharm": {
     "name": "#%%\n"
    }
   },
   "outputs": [
    {
     "name": "stdout",
     "output_type": "stream",
     "text": [
      "123\n",
      "123\n",
      "123\n",
      "123\n",
      "123\n",
      "123\n",
      "123\n",
      "123\n",
      "123\n",
      "123\n"
     ]
    }
   ],
   "source": [
    "# This test just checks your solution\n",
    "\n",
    "some_prime_numbers = [92119, 92143, 92153, 92173, 92177, 92179, 92189, 92203, 92219, 92221]\n",
    "fixed_prime = 92227 # Set by the manufacturer\n",
    "\n",
    "my_message = 123\n",
    "\n",
    "for q in some_prime_numbers:\n",
    "    (e, d, N) = generate_rsa_key(fixed_prime, q)\n",
    "    c = rsa_enc_eff(my_message, e, N)\n",
    "    plain_mess = decrypt_naive_backdoor(c, fixed_prime, e, N)\n",
    "    assert type(plain_mess) == int\n",
    "    assert plain_mess == 123\n",
    "    print(plain_mess)"
   ]
  },
  {
   "cell_type": "code",
   "execution_count": null,
   "metadata": {
    "deletable": false,
    "editable": false,
    "jupyter": {
     "outputs_hidden": false
    },
    "nbgrader": {
     "cell_type": "code",
     "checksum": "23520196125d3439881c16eb8a5d282e",
     "grade": true,
     "grade_id": "cell-3c19222836673eed",
     "locked": true,
     "points": 2,
     "schema_version": 3,
     "solution": false,
     "task": false
    },
    "pycharm": {
     "name": "#%%\n"
    }
   },
   "outputs": [],
   "source": [
    "# Even this cell seems empty, it contains automatic tests. Please do not remove this cell and just ignore it."
   ]
  },
  {
   "attachments": {},
   "cell_type": "markdown",
   "metadata": {
    "collapsed": false,
    "deletable": false,
    "editable": false,
    "jupyter": {
     "outputs_hidden": false
    },
    "nbgrader": {
     "cell_type": "markdown",
     "checksum": "15760c38b557b051270f869ca10e3626",
     "grade": false,
     "grade_id": "cell-455dbae15539e955",
     "locked": true,
     "schema_version": 3,
     "solution": false,
     "task": false
    },
    "pycharm": {
     "name": "#%% md\n"
    }
   },
   "source": [
    "### Task 3.2 (1 point)\n",
    "\n",
    "We now take a look at the same backdoor construction, but this time we do not have any knowledge about the fixed prime. However, we were able to intercept two messages encrypted with two different public keys, both generated with the same backdoor with the same fixed prime. Your task is now to break the backdoor and find the correct plain texts.\n",
    "\n",
    "The two intercepted public keys are `(e1, N1)` and `(e2, N2)`. The two intercepted cipher texts are `c1` and `c2` which are encrypted with `(e1, N1)` and `(e2, N2)` respectively.\n",
    "\n",
    "Implement the function `break_naive_backdoor(e1: int, N1: int, c1: int, e2: int, N2: int, c2: int) -> int`. The arguments of the function are:\n",
    "- `e1`, `N1`: first public key\n",
    "- `c1`: first cipher text\n",
    "- `e1`, `N1`: first public key\n",
    "- `c1`: first cipher text\n",
    "  \n",
    "The function has to return the decryption of both cipher texts `c1` and `c2` as a tuple `(plain1, plain2)` whereas `plain1` is the plain text corresponding to the decryption of `c1` and `plain2` the plain text corresponding to the decryption of `c2`.\n",
    "\n",
    "Use the `### PLAYGROUND` cell to debug and play with your implementation, and the provided test cell to actually test the proper function of your implementation."
   ]
  },
  {
   "cell_type": "code",
   "execution_count": 64,
   "metadata": {
    "deletable": false,
    "jupyter": {
     "outputs_hidden": false
    },
    "nbgrader": {
     "cell_type": "code",
     "checksum": "9c2ec6c610f4c551c75c4e97010b3873",
     "grade": false,
     "grade_id": "cell-532c1f83abda2819",
     "locked": false,
     "schema_version": 3,
     "solution": true,
     "task": false
    },
    "pycharm": {
     "name": "#%%\n"
    }
   },
   "outputs": [],
   "source": [
    "def break_naive_backdoor(e1: int, N1: int, c1: int, e2: int, N2: int, c2: int) -> tuple[int, int]:\n",
    "    # YOUR CODE HERE\n",
    "    backdoor_prime = gcd(N1, N2)\n",
    "    plain1 = decrypt_naive_backdoor(c1, backdoor_prime, e1, N1)\n",
    "    plain2 = decrypt_naive_backdoor(c2, backdoor_prime, e2, N2)\n",
    "    return (plain1, plain2)"
   ]
  },
  {
   "cell_type": "code",
   "execution_count": null,
   "metadata": {
    "deletable": false,
    "editable": false,
    "nbgrader": {
     "cell_type": "code",
     "checksum": "cd1ea88ea766a8f0164c39812d0bf600",
     "grade": false,
     "grade_id": "cell-0f6a0663d21e43b2",
     "locked": true,
     "schema_version": 3,
     "solution": false,
     "task": false
    }
   },
   "outputs": [],
   "source": [
    "### PLAYGROUND\n",
    "# You can use this cell to test out your implementation. Everything in this cell will be ignored during grading."
   ]
  },
  {
   "cell_type": "code",
   "execution_count": 65,
   "metadata": {
    "deletable": false,
    "editable": false,
    "jupyter": {
     "outputs_hidden": false
    },
    "nbgrader": {
     "cell_type": "code",
     "checksum": "1a94bdc4e9ec4f9a8fe7fba547faf7a5",
     "grade": true,
     "grade_id": "cell-f4e52dfafc749e84",
     "locked": true,
     "points": 0,
     "schema_version": 3,
     "solution": false,
     "task": false
    },
    "pycharm": {
     "name": "#%%\n"
    }
   },
   "outputs": [
    {
     "name": "stdout",
     "output_type": "stream",
     "text": [
      "(1024, 999)\n",
      "(1024, 999)\n",
      "(1024, 999)\n",
      "(1024, 999)\n",
      "(1024, 999)\n"
     ]
    }
   ],
   "source": [
    "# This test just checks your solution\n",
    "\n",
    "some_prime_numbers = [92119, 92143, 92153, 92173, 92177, 92179, 92189, 92203, 92219, 92221]\n",
    "fixed_prime = 92227 # Set by the manufacturer\n",
    "\n",
    "my_message = 1024\n",
    "my_message2 = 999\n",
    "\n",
    "test_cases = len(some_prime_numbers)//2\n",
    "for q1, q2 in zip(some_prime_numbers[:test_cases], some_prime_numbers[test_cases:]):\n",
    "    # The two public keys\n",
    "    (e1, _, N1) = generate_rsa_key(fixed_prime, q1)\n",
    "    (e2, _, N2) = generate_rsa_key(fixed_prime, q2)\n",
    "    # The two cipher texts\n",
    "    c1 = rsa_enc_eff(my_message, e1, N1)\n",
    "    c2 = rsa_enc_eff(my_message2, e2, N2)\n",
    "    res = break_naive_backdoor(e1, N1, c1, e2, N2, c2)\n",
    "    assert type(res) == tuple\n",
    "    assert len(res) == 2\n",
    "    assert type(res[0]) == int\n",
    "    assert res[0] == 1024\n",
    "    assert type(res[1]) == int\n",
    "    assert res[1] == 999\n",
    "    print(res)"
   ]
  },
  {
   "cell_type": "code",
   "execution_count": 69,
   "metadata": {
    "deletable": false,
    "editable": false,
    "jupyter": {
     "outputs_hidden": false
    },
    "nbgrader": {
     "cell_type": "code",
     "checksum": "951c02dc4d4810471bc7c51e63c52769",
     "grade": true,
     "grade_id": "cell-d1c5d09184a7311c",
     "locked": true,
     "points": 1,
     "schema_version": 3,
     "solution": false,
     "task": false
    },
    "pycharm": {
     "name": "#%%\n"
    }
   },
   "outputs": [
    {
     "data": {
      "text/plain": [
       "(-2, 5)"
      ]
     },
     "execution_count": 69,
     "metadata": {},
     "output_type": "execute_result"
    }
   ],
   "source": [
    "# Even this cell seems empty, it contains automatic tests. Please do not remove this cell and just ignore it.\n",
    "extended_gcd(72, 29)\n",
    "#rsa_dec_eff(5, 22, 91)"
   ]
  },
  {
   "cell_type": "markdown",
   "metadata": {
    "deletable": false,
    "editable": false,
    "nbgrader": {
     "cell_type": "markdown",
     "checksum": "022d744e496c1868c1a26048b50a280e",
     "grade": false,
     "grade_id": "cell-dd7aaeaf7846c851",
     "locked": true,
     "schema_version": 3,
     "solution": false,
     "task": false
    }
   },
   "source": [
    "## 4. General Questions\n",
    "\n",
    "This task is now focused on written answers regarding RSA and asymmetric cryptography.\n",
    "\n",
    "### Task 4.1 - Advantages and Disadvantages of Asymmetric Cryptography (1 Points)\n",
    "\n",
    "Think about asymmetric cryptography in general. There are quite a lot of differences in comparison to symmetric cryptography. However, both are being used for encryption and integrity protection.\n",
    "\n",
    "**Name** at least one advantage and one disadvantage of asymmetric cryptography in regard to encrypting messages and authenticating them."
   ]
  },
  {
   "cell_type": "markdown",
   "metadata": {
    "deletable": false,
    "nbgrader": {
     "cell_type": "markdown",
     "checksum": "984d25092551c95aff7d82b293d9f42f",
     "grade": true,
     "grade_id": "cell-a4fe0bb2018b840e",
     "locked": false,
     "points": 1,
     "schema_version": 3,
     "solution": true,
     "task": false
    }
   },
   "source": [
    "Advantage: An arbitrary amount of entites can communicate with the receiver using the same key without making the communication available to other public key holders. In symmetric encryption, everyone who knows the key can use it to decrypt messages that were encrypted with this key.\n",
    "\n",
    "Disadvanatage: The private key holder cannot communicate securely with a public key holder because the public key holder does not know how to decrypt the message. In a symmetric key setting, both sides can communicate equally."
   ]
  },
  {
   "cell_type": "markdown",
   "metadata": {
    "deletable": false,
    "editable": false,
    "nbgrader": {
     "cell_type": "markdown",
     "checksum": "ca54efe333ccea7eb85f217c799a0af6",
     "grade": false,
     "grade_id": "cell-44aafaeec2bce029",
     "locked": true,
     "schema_version": 3,
     "solution": false,
     "task": false
    }
   },
   "source": [
    "### Task 4.2 - Digital Signatures and Forgery (2 Points)\n",
    "\n",
    "Asymmetric cryptography is often used to create signatures on messages or other important information. However, these signatures can also be attacked. There are different kinds of results of attacks.\n",
    "\n",
    "**Name** two different results on attacks on digital signatures and **explain** what the attacker is able to do."
   ]
  },
  {
   "cell_type": "markdown",
   "metadata": {
    "deletable": false,
    "nbgrader": {
     "cell_type": "markdown",
     "checksum": "6c72900080adb4d301d66f4c0d82be89",
     "grade": true,
     "grade_id": "cell-3a31ee4b5bb04899",
     "locked": false,
     "points": 2,
     "schema_version": 3,
     "solution": true,
     "task": false
    }
   },
   "source": [
    "Two possible attacks against digital signatures are:\n",
    "+ An **existential forgery** attack, where we use the design of a digital signature scheme to forge a valid message-signature pair based on previously observed/obtained message-signature pairs\\\n",
    "  In comparison to some other attack types (like below), the attacker _cannot_ construct valid signatures for _arbitrary_ messages of their choice, but can just construct a valid message-signature pair based on some message-signature pairs they observed previously, _not regarding_ whether the forged message \"makes any sense\"\n",
    "+ A **total break** of a signature scheme; such an attack is the worst-case scenario for any signature scheme, as here, the attacker can (partially) recover the _private (!)_ signature key, meaning they can forge valid signatures for messages _at will_, thereby impersonating the \"original communication party\" the private key belonged to\\\n",
    "  Such an attack is most often a result of a _very poor implementation_ of an otherwise secure digital signature scheme, like e.g. _reusing_ the same $k$ in the DSA signature scheme"
   ]
  },
  {
   "cell_type": "markdown",
   "metadata": {
    "deletable": false,
    "editable": false,
    "nbgrader": {
     "cell_type": "markdown",
     "checksum": "d506b21e9219320a6849fc967a3a0c6e",
     "grade": false,
     "grade_id": "cell-e5f44a374a70793a",
     "locked": true,
     "schema_version": 3,
     "solution": false,
     "task": false
    }
   },
   "source": [
    "### Task 4.3 - RSA Signatures (2 Points)\n",
    "\n",
    "Now, we consider RSA signatures in general. \n",
    "Why is the hash of the message instead of the message itself signed? **Name** two reasons."
   ]
  },
  {
   "cell_type": "markdown",
   "metadata": {
    "deletable": false,
    "nbgrader": {
     "cell_type": "markdown",
     "checksum": "215e6fcf93724e96ac26c1c1d96ffa79",
     "grade": true,
     "grade_id": "cell-384e09d9ea74dcad",
     "locked": false,
     "points": 2,
     "schema_version": 3,
     "solution": true,
     "task": false
    }
   },
   "source": [
    "+ Signing _just the message_ itself (instead of the hash) **would be insecure**, as it leaves the door open for an **existential forgery attack** (as explored in the lecture): If the attacker (via eavesdropping) has observed some message-signature pair $(m, s)$ (where $s = m^d mod N$ for some private key $(d, N)$), he can forge the _valid (!)_ message-signature pair $(m', s)$ where $m' = s^e mod N$ (which they just need the _public key_ $(e, N)$ for)\\\n",
    "  A (cryptographic) hash function makes this not possible, as a cryptographic hash function is _pre-image resistant_, meaning that given a signature $s$, we can _not feasibly guess_ a message $m$ that will pass the verification (i.e. $h(m)^e = s$)\n",
    "+ As RSA has a modulus $N$, all messages $m$ wanting to be signed with RSA need to satisfy $m < N$, meaning **especially longer messages** are fully barred from being signed this way; a hash function in this context can be used to \"shorten the message\"/guarantee that the range of the hash function are values $< N$, thereby allowing for messages of arbitrary length to be signed"
   ]
  },
  {
   "cell_type": "markdown",
   "metadata": {
    "deletable": false,
    "editable": false,
    "nbgrader": {
     "cell_type": "markdown",
     "checksum": "f4468fea38eabd1741222f9647f0305e",
     "grade": false,
     "grade_id": "cell-c94dcbfba4d5bec5",
     "locked": true,
     "schema_version": 3,
     "solution": false,
     "task": false
    }
   },
   "source": [
    "## 5. Exam Example Tasks (0.5 points)\n",
    "\n",
    "> Note: This task is awarded with 0.5 points only if it has been seriously addressed, regardless of whether the answer is correct.\n",
    "\n",
    "### Task 5.1\n",
    "\n",
    "Assume the following public RSA key: The public modulus is $N := 91 = 7 \\cdot 13$ and the public exponent is $e := 29$.\n",
    "Decrypt the cipher text $c = 5$ and show your steps.\n"
   ]
  },
  {
   "cell_type": "markdown",
   "metadata": {
    "deletable": false,
    "nbgrader": {
     "cell_type": "markdown",
     "checksum": "e8ac08a7e6fbeb9f7dbcbb0f78ce59eb",
     "grade": true,
     "grade_id": "cell-b69625d60c5e12d1",
     "locked": false,
     "points": 0.5,
     "schema_version": 3,
     "solution": true,
     "task": false
    }
   },
   "source": [
    "Let p be the plaintext. We know that p = e^d mode N. We also know that phi(N) = 6 * 12 = 72. We can determine d by using the extended euclidian algorithm, calculating the gcd of 72 and 29. The extended euclidian algorithm yiels d = 5. Thus, p = 5^5 mod 91 = 17."
   ]
  },
  {
   "cell_type": "markdown",
   "metadata": {
    "deletable": false,
    "editable": false,
    "nbgrader": {
     "cell_type": "markdown",
     "checksum": "9817414d045d00b60d61a3c6fa17fa54",
     "grade": false,
     "grade_id": "cell-aa1b243f42348f13",
     "locked": true,
     "schema_version": 3,
     "solution": false,
     "task": false
    }
   },
   "source": [
    "### Task 5.2\n",
    "\n",
    "Assume the following scenario, where RSA is used for encryption: The attacker is given two messages $m_1$ and $m_2$ and the encryption $c$ of one of the two messages, i.e., either $E(m_1) = c$ or $E(m_2) = c$. **Decide** for the following scenarios whether the attacker can determine with a probability greater than $\\frac{1}{2}$ which message $m_i$ corresponds to the cipher text $c$ (this property is called *semantic security*). Justify your answer.\n",
    "\n",
    "#### a)\n",
    "\n",
    "Plain RSA: We use $E(m) := m^e mod N$ without OAEP."
   ]
  },
  {
   "cell_type": "markdown",
   "metadata": {
    "deletable": false,
    "nbgrader": {
     "cell_type": "markdown",
     "checksum": "2af06ee152cda6ae0d83296b6dd7f502",
     "grade": true,
     "grade_id": "cell-5dfd1e9fc2b95a56",
     "locked": false,
     "points": 0,
     "schema_version": 3,
     "solution": true,
     "task": false
    }
   },
   "source": [
    "Because we do not use OAEP, the attacker can determine the right plain text with a probability greater than $\\frac{1}{2}$. Since e and N are part of the public key, the attacker can simply calculate E(m1) and E(m2) and check which encryption matches."
   ]
  },
  {
   "cell_type": "markdown",
   "metadata": {
    "deletable": false,
    "editable": false,
    "nbgrader": {
     "cell_type": "markdown",
     "checksum": "a977b3657733b0e79c6e46ea6401b756",
     "grade": false,
     "grade_id": "cell-ad59746e492d569f",
     "locked": true,
     "schema_version": 3,
     "solution": false,
     "task": false
    }
   },
   "source": [
    "#### b)\n",
    "\n",
    "What happens if the *seed* is replaced by $h(m)$ where $h$ is a hash function?"
   ]
  },
  {
   "cell_type": "markdown",
   "metadata": {
    "deletable": false,
    "nbgrader": {
     "cell_type": "markdown",
     "checksum": "5126cd30482f80edfdd9d5b5fdebf27b",
     "grade": true,
     "grade_id": "cell-3cfcae0d6a41272b",
     "locked": false,
     "points": 0,
     "schema_version": 3,
     "solution": true,
     "task": false
    }
   },
   "source": [
    "If the hash function is known, this does not make a difference again, because the attacker can simply calculate $h(m)$."
   ]
  },
  {
   "cell_type": "markdown",
   "metadata": {
    "deletable": false,
    "editable": false,
    "nbgrader": {
     "cell_type": "markdown",
     "checksum": "371ea09a9c4a68cf7f3a1a7947a3fbd5",
     "grade": false,
     "grade_id": "cell-e8dcf986ae49b570",
     "locked": true,
     "schema_version": 3,
     "solution": false,
     "task": false
    }
   },
   "source": [
    "#### c)\n",
    "\n",
    "What happens if we use OAEP but replace seed with the current (unix) time stamp (in seconds)?"
   ]
  },
  {
   "cell_type": "markdown",
   "metadata": {
    "deletable": false,
    "nbgrader": {
     "cell_type": "markdown",
     "checksum": "c1418e9e0317adb8d6a7111708812f30",
     "grade": true,
     "grade_id": "cell-9ddaf5e50ebe6669",
     "locked": false,
     "points": 0,
     "schema_version": 3,
     "solution": true,
     "task": false
    }
   },
   "source": [
    "This is probably better than the other two approaches, because the attacker might not know the exact time at which the message was send, however, since we use seconds and we might be able to assume that the message was created not too long ago, there are only so many possible values that the attacker could just try out. Thus, this is not a great encyption."
   ]
  },
  {
   "attachments": {},
   "cell_type": "markdown",
   "metadata": {
    "deletable": false,
    "editable": false,
    "nbgrader": {
     "cell_type": "markdown",
     "checksum": "43afc1f76a84b26fca5cda8ca7b284d1",
     "grade": false,
     "grade_id": "cell-99595cd2a207420b",
     "locked": true,
     "schema_version": 3,
     "solution": false,
     "task": false
    }
   },
   "source": [
    "## 6. Feedback (0.5 points)\n",
    "\n",
    "> Note: This task is awarded with 0.5 points only if there is feedback in any form to this exercise. It is also okay to state what was especially nice or rewarding. Literally just writing \"anything\" is not enough. Any feedback will improve the assignments.\n",
    "\n",
    "And yet another assignment done by you, great! Since we want to know how it went and how we might improve the exercises, we include the following task. Here, you can write constructive feedback! You even get 0.5 points for it if you write anything. But don't worry, we do not grade the content itself!"
   ]
  },
  {
   "cell_type": "markdown",
   "metadata": {
    "deletable": false,
    "nbgrader": {
     "cell_type": "markdown",
     "checksum": "c3c003bb56c7f01742483aed203e9b77",
     "grade": true,
     "grade_id": "cell-8c9734025e54c686",
     "locked": false,
     "points": 0.5,
     "schema_version": 3,
     "solution": true,
     "task": false
    }
   },
   "source": [
    "This exercise was really nice: We especially enjoyed the exercises regarding the backdoors, but also the \"theoretical\"/text-based tasks in contrast to \"just programming\". "
   ]
  }
 ],
 "metadata": {
  "kernelspec": {
   "display_name": "Python 3",
   "language": "python",
   "name": "python3"
  },
  "language_info": {
   "codemirror_mode": {
    "name": "ipython",
    "version": 3
   },
   "file_extension": ".py",
   "mimetype": "text/x-python",
   "name": "python",
   "nbconvert_exporter": "python",
   "pygments_lexer": "ipython3",
   "version": "3.10.11"
  }
 },
 "nbformat": 4,
 "nbformat_minor": 4
}
